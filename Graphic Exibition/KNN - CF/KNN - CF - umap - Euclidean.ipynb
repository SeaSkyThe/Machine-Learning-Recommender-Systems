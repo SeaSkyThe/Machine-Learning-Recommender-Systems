{
 "cells": [
  {
   "cell_type": "code",
   "execution_count": 1,
   "id": "aa464b9c",
   "metadata": {
    "ExecuteTime": {
     "end_time": "2021-10-20T16:35:47.092415Z",
     "start_time": "2021-10-20T16:35:47.079412Z"
    }
   },
   "outputs": [],
   "source": [
    "# CONSTANTES COLLABORATIVE FILTERING\n",
    "\n",
    "# CAMINHOS\n",
    "\n",
    "# \n",
    "PATH_TO_FULL_CF_FILE = \"../../preprocessed-data/CF/data_cf.pkl\"\n",
    "\n",
    "PATH_TO_MOVIES_CF_FILE = \"../../preprocessed-data/CF/movies_cf.pkl\"\n",
    "\n",
    "PATH_TO_RATINGS_CF_FILE = \"../../preprocessed-data/CF/ratings_cf.pkl\"\n",
    "\n",
    "# DataFrames Names\n",
    "\n",
    "# data_cf = arquivo completo \n",
    "# movies_cf = arquivos de filmes\n",
    "# ratings_cf = arquivos de ratings\n",
    "\n",
    "# KNN\n",
    "N_NEIGHBORS = 11"
   ]
  },
  {
   "cell_type": "code",
   "execution_count": 2,
   "id": "f680c221",
   "metadata": {
    "ExecuteTime": {
     "end_time": "2021-10-20T16:35:51.632239Z",
     "start_time": "2021-10-20T16:35:47.438069Z"
    }
   },
   "outputs": [],
   "source": [
    "# Importando bibliotecas necessárias\n",
    "import pandas as pd\n",
    "pd.set_option(\"display.max_rows\", 25)\n",
    "import numpy as np\n",
    "import matplotlib.pyplot as plt\n",
    "import matplotlib.lines as mlines\n",
    "import seaborn as sns\n",
    "\n",
    "import sys\n",
    "\n",
    "# Importando garbage collector\n",
    "import gc\n",
    "\n",
    "# Importando bibliotecas para o sistema de recomendação\n",
    "import scipy.sparse as sparse # Matriz esparsa (csr_matrix)\n",
    "\n",
    "# Importando sklearn\n",
    "import sklearn\n",
    "from sklearn.neighbors import NearestNeighbors\n",
    "\n",
    "# Importando Regular Expression operations\n",
    "import re"
   ]
  },
  {
   "cell_type": "markdown",
   "id": "504f7172",
   "metadata": {},
   "source": [
    "# 1 - Preparação dos dados para Collaborative Filtering"
   ]
  },
  {
   "cell_type": "code",
   "execution_count": 3,
   "id": "409d136b",
   "metadata": {
    "ExecuteTime": {
     "end_time": "2021-10-20T16:35:58.187426Z",
     "start_time": "2021-10-20T16:35:58.174423Z"
    }
   },
   "outputs": [],
   "source": [
    "# Definindo Função que carrega os arquivos da pasta CF\n",
    "def load_cf_files(full_file=True, movie_file=False, ratings_file=False):\n",
    "    if(full_file):\n",
    "        # Carregando o arquivo pré processado completo\n",
    "        data_cf = pd.read_pickle(PATH_TO_FULL_CF_FILE)\n",
    "        data_cf = data_cf[[\"movieId\", \"title\", \"userId\", \"rating\"]] # Reajustando ordem das colunas\n",
    "        \n",
    "        print(\"Arquivo completo: Carregado com sucesso!\")\n",
    "    else:\n",
    "        print(\"Arquivo completo: Não foi carregado, verifique os parâmetros para ver se essa era a intenção!\")\n",
    "        \n",
    "    if(movie_file):\n",
    "        # Carregando arquivo de filmes\n",
    "        movies_cf = pd.read_pickle(PATH_TO_MOVIES_CF_FILE)\n",
    "        print(\"Arquivo de filmes: Carregado com sucesso!\")\n",
    "    else:\n",
    "        print(\"Arquivo de filmes: Não foi carregado, verifique os parâmetros para ver se essa era a intenção!\")\n",
    "        \n",
    "    if(ratings_file):\n",
    "        ratings_cf = pd.read_pickle(PATH_TO_RATINGS_CF_FILE)\n",
    "        print(\"Arquivo de ratings: Carregado com sucesso!\")\n",
    "    else:\n",
    "        print(\"Arquivo de ratings: Não foi carregado, verifique os parâmetros para ver se essa era a intenção!\")\n",
    "        \n",
    "    #definindo retornos\n",
    "    if(\"data_cf\" in locals()):\n",
    "        if(\"movies_cf\" in locals()):\n",
    "            if(\"ratings_cf\" in locals()):\n",
    "                return data_cf, movies_cf, ratings_cf\n",
    "            else:\n",
    "                return data_cf, movies_cf\n",
    "        else:\n",
    "            return data_cf\n",
    "    elif(\"movies_cf\" in locals()):\n",
    "        if(\"ratings_cf\" in locals()):\n",
    "            return movies_cf, ratings_cf\n",
    "        else:\n",
    "            return movies_cf\n",
    "    elif(\"ratings_cf\" in locals()):\n",
    "        return ratings_cf\n",
    "    \n",
    "    else:\n",
    "        return None"
   ]
  },
  {
   "cell_type": "code",
   "execution_count": 4,
   "id": "4433a192",
   "metadata": {
    "ExecuteTime": {
     "end_time": "2021-10-20T16:36:07.401233Z",
     "start_time": "2021-10-20T16:35:59.214246Z"
    }
   },
   "outputs": [
    {
     "name": "stdout",
     "output_type": "stream",
     "text": [
      "Arquivo completo: Carregado com sucesso!\n",
      "Arquivo de filmes: Carregado com sucesso!\n",
      "Arquivo de ratings: Não foi carregado, verifique os parâmetros para ver se essa era a intenção!\n"
     ]
    }
   ],
   "source": [
    "# Chamando função de carregar os arquivos\n",
    "data_cf, movies_cf= load_cf_files(full_file=True, movie_file=True, ratings_file=False)"
   ]
  },
  {
   "cell_type": "code",
   "execution_count": 5,
   "id": "a1bd73cf",
   "metadata": {
    "ExecuteTime": {
     "end_time": "2021-10-20T16:36:07.417236Z",
     "start_time": "2021-10-20T16:36:07.402233Z"
    }
   },
   "outputs": [],
   "source": [
    "# CONSTANTES CONTENT BASED\n",
    "\n",
    "# CAMINHOS\n",
    "\n",
    "PATH_TO_FULL_CB_FILE = \"../preprocessed-data/CB/data_cb.pkl\"\n",
    "\n",
    "PATH_TO_MOVIES_CB_FILE = \"../preprocessed-data/CB/movies_cb.pkl\"\n",
    "\n",
    "PATH_TO_RATINGS_CB_FILE = \"../preprocessed-data/CB/ratings_cb.pkl\"\n",
    "\n",
    "PATH_TO_RATINGS_INFOS_CB_FILE = \"../preprocessed-data/CB/ratings_info_cb.pkl\"\n",
    "\n",
    "PATH_TO_TAG_RELEVANCE_GROUPED_CB_FILE = \"../preprocessed-data/CB/tag_relevance_grouped_cb.pkl\"\n",
    "\n",
    "PATH_TO_TAG_RELEVANCE_CB_FILE = \"../preprocessed-data/CB/tag_relevance_cb.pkl\"\n",
    "\n",
    "PATH_TO_TAGS_PROCESSED_CB_FILE = \"../preprocessed-data/CB/tags_processed_cb.pkl\"\n",
    "\n",
    "# DataFrames Names\n",
    "\n",
    "# data_cb = arquivo completo \n",
    "# movies_cb = arquivos de filmes\n",
    "# ratings_cb = arquivos de ratings\n",
    "# ratings_infos_cb = arquivos de informações sobre os ratings\n",
    "# tag_relevance_grouped_cb = relevancia de tags após o agrupamento\n",
    "# tag_relevance_cb = relevancia de tags original\n",
    "# tags_processed_cb = tags todas juntas em uma coluna e processadas pelo nltk"
   ]
  },
  {
   "cell_type": "code",
   "execution_count": 6,
   "id": "2fb381f3",
   "metadata": {
    "ExecuteTime": {
     "end_time": "2021-10-20T16:36:07.433239Z",
     "start_time": "2021-10-20T16:36:07.418235Z"
    }
   },
   "outputs": [],
   "source": [
    "def load_cb_files(full=True, movies=False, ratings=False, ratings_infos=False ,relevance_grouped=False, relevance=False, tags_processed=False):\n",
    "    data_cb = None\n",
    "    movies_cb = None \n",
    "    ratings_cb = None\n",
    "    ratings_infos_cb = None\n",
    "    tag_relevance_grouped_cb = None\n",
    "    tag_relevance_cb = None\n",
    "    tags_processed_cb = None\n",
    "    \n",
    "    # Caso se queira carregar o completo\n",
    "    if(full):\n",
    "        data_cb = pd.read_pickle(PATH_TO_FULL_CB_FILE)\n",
    "        print(\"Arquivo completo: Carregado com sucesso!\")\n",
    "    else:\n",
    "        print(\"Arquivo completo: Não foi carregado, verifique se era o que desejava.\")\n",
    "    \n",
    "    # Caso queira-se carregar o arquivo de filmes\n",
    "    if(movies):\n",
    "        movies_cb = pd.read_pickle(PATH_TO_MOVIES_CB_FILE)\n",
    "        print(\"Arquivo movies: Carregado com sucesso!\")\n",
    "    else:\n",
    "        print(\"Arquivo movies: Não foi carregado, verifique se era o que desejava.\")\n",
    "        \n",
    "    if(ratings):\n",
    "        ratings_cb = pd.read_pickle(PATH_TO_RATINGS_CB_FILE)\n",
    "        print(\"Arquivo ratings: Carregado com sucesso!\")\n",
    "    else:\n",
    "        print(\"Arquivo ratings: Não foi carregado, verifique se era o que desejava.\")\n",
    "    \n",
    "    if(ratings_infos):\n",
    "        ratings_infos_cb = pd.read_pickle(PATH_TO_RATINGS_INFOS_CB_FILE)\n",
    "        print(\"Arquivo ratings infos: Carregado com sucesso!\")\n",
    "    else:\n",
    "        print(\"Arquivo ratings infos: Não foi carregado, verifique se era o que desejava.\")\n",
    "        \n",
    "    if(relevance_grouped):\n",
    "        tag_relevance_grouped_cb = pd.read_pickle(PATH_TO_TAG_RELEVANCE_GROUPED_CB_FILE)\n",
    "        print(\"Arquivo relevance grouped: Carregado com sucesso!\")\n",
    "    else:\n",
    "        print(\"Arquivo relevance grouped: Não foi carregado, verifique se era o que desejava.\")\n",
    "    \n",
    "    if(relevance):\n",
    "        tag_relevance_cb = pd.read_pickle(PATH_TO_TAG_RELEVANCE_CB_FILE)\n",
    "        print(\"Arquivo relevance: Carregado com sucesso!\")\n",
    "    else:\n",
    "        print(\"Arquivo relevance: Não foi carregado, verifique se era o que desejava.\")\n",
    "        \n",
    "    if(tags_processed):\n",
    "        tags_processed_cb = pd.read_pickle(PATH_TO_TAGS_PROCESSED_CB_FILE)\n",
    "        print(\"Arquivo tags processed: Carregado com sucesso!\")\n",
    "    else:\n",
    "        print(\"Arquivo tags processed: Não foi carregado, verifique se era o que desejava.\")\n",
    "        \n",
    "        \n",
    "    return data_cb, movies_cb, ratings_cb, ratings_infos_cb, tag_relevance_grouped_cb, tag_relevance_cb, tags_processed_cb\n",
    "    "
   ]
  },
  {
   "cell_type": "code",
   "execution_count": 7,
   "id": "f3e061f0",
   "metadata": {
    "ExecuteTime": {
     "end_time": "2021-10-20T16:36:11.708766Z",
     "start_time": "2021-10-20T16:36:07.435240Z"
    }
   },
   "outputs": [
    {
     "name": "stdout",
     "output_type": "stream",
     "text": [
      "Arquivo completo: Não foi carregado, verifique se era o que desejava.\n",
      "Arquivo movies: Não foi carregado, verifique se era o que desejava.\n",
      "Arquivo ratings: Carregado com sucesso!\n",
      "Arquivo ratings infos: Carregado com sucesso!\n",
      "Arquivo relevance grouped: Não foi carregado, verifique se era o que desejava.\n",
      "Arquivo relevance: Não foi carregado, verifique se era o que desejava.\n",
      "Arquivo tags processed: Não foi carregado, verifique se era o que desejava.\n"
     ]
    }
   ],
   "source": [
    "data_cb, movies_cb, ratings_cb, ratings_infos_cb, tag_relevance_grouped_cb, tag_relevance_cb, tags_processed_cb = load_cb_files(full=False, movies=False, ratings=True, ratings_infos=True, tags_processed=False)"
   ]
  },
  {
   "cell_type": "markdown",
   "id": "364593c3",
   "metadata": {
    "ExecuteTime": {
     "end_time": "2021-10-07T18:17:36.447418Z",
     "start_time": "2021-10-07T18:17:36.433415Z"
    }
   },
   "source": [
    "### 1.1 - Problemas do Collaborative Filtering:\n",
    "<ul>\n",
    "    <li>Esparsidade</li>\n",
    "    <li>Cold Start</li>\n",
    "</ul>\n",
    "\n",
    "#### Técnicas possíveis:\n",
    "<ul>\n",
    "    <li><b>Algoritmos não probabilisticos:</b></li>\n",
    "    <li>User-based nearest neighbor</li>\n",
    "    <li>Item-based nearest neighbor</li>\n",
    "    <li>Reducing dimensionality</li>\n",
    "</ul>\n",
    "\n",
    "<ul>\n",
    "    <li><b>Algoritmos probabilisticos:</b></li>\n",
    "    <li>Bayesian-network model</li>\n",
    "    <li>Expectation-minimization</li>\n",
    "</ul>\n",
    "\n",
    "\n",
    "Ver: https://pub.towardsai.net/recommendation-system-in-depth-tutorial-with-python-for-netflix-using-collaborative-filtering-533ff8a0e444"
   ]
  },
  {
   "cell_type": "markdown",
   "id": "a02dcf0e",
   "metadata": {},
   "source": [
    "### 1.2 - Criando uma estrutura de matriz esparsa com o dataframe"
   ]
  },
  {
   "cell_type": "code",
   "execution_count": 8,
   "id": "80388f0e",
   "metadata": {
    "ExecuteTime": {
     "end_time": "2021-10-20T16:36:16.401505Z",
     "start_time": "2021-10-20T16:36:16.390503Z"
    }
   },
   "outputs": [],
   "source": [
    "# Usando o dataframe para criar uma matriz esparsa que contenha todos os filmes\n",
    "def create_sparse_matrix(df):\n",
    "    sparse_matrix = sparse.csr_matrix((df[\"rating\"], (df[\"userId\"], df[\"movieId\"])))\n",
    "    \n",
    "    return sparse_matrix"
   ]
  },
  {
   "cell_type": "code",
   "execution_count": 9,
   "id": "69f8c5c6",
   "metadata": {
    "ExecuteTime": {
     "end_time": "2021-10-20T16:36:17.167545Z",
     "start_time": "2021-10-20T16:36:17.142540Z"
    }
   },
   "outputs": [
    {
     "data": {
      "text/html": [
       "<div>\n",
       "<style scoped>\n",
       "    .dataframe tbody tr th:only-of-type {\n",
       "        vertical-align: middle;\n",
       "    }\n",
       "\n",
       "    .dataframe tbody tr th {\n",
       "        vertical-align: top;\n",
       "    }\n",
       "\n",
       "    .dataframe thead th {\n",
       "        text-align: right;\n",
       "    }\n",
       "</style>\n",
       "<table border=\"1\" class=\"dataframe\">\n",
       "  <thead>\n",
       "    <tr style=\"text-align: right;\">\n",
       "      <th></th>\n",
       "      <th>movieId</th>\n",
       "      <th>average rating</th>\n",
       "      <th>rating count</th>\n",
       "      <th>weighted rating</th>\n",
       "    </tr>\n",
       "  </thead>\n",
       "  <tbody>\n",
       "    <tr>\n",
       "      <th>0</th>\n",
       "      <td>1</td>\n",
       "      <td>3.893708</td>\n",
       "      <td>57309</td>\n",
       "      <td>3.887824</td>\n",
       "    </tr>\n",
       "    <tr>\n",
       "      <th>1</th>\n",
       "      <td>2</td>\n",
       "      <td>3.251527</td>\n",
       "      <td>24228</td>\n",
       "      <td>3.248508</td>\n",
       "    </tr>\n",
       "    <tr>\n",
       "      <th>2</th>\n",
       "      <td>3</td>\n",
       "      <td>3.142028</td>\n",
       "      <td>11804</td>\n",
       "      <td>3.139640</td>\n",
       "    </tr>\n",
       "    <tr>\n",
       "      <th>3</th>\n",
       "      <td>4</td>\n",
       "      <td>2.853547</td>\n",
       "      <td>2523</td>\n",
       "      <td>2.884188</td>\n",
       "    </tr>\n",
       "    <tr>\n",
       "      <th>4</th>\n",
       "      <td>5</td>\n",
       "      <td>3.058434</td>\n",
       "      <td>11714</td>\n",
       "      <td>3.058875</td>\n",
       "    </tr>\n",
       "    <tr>\n",
       "      <th>...</th>\n",
       "      <td>...</td>\n",
       "      <td>...</td>\n",
       "      <td>...</td>\n",
       "      <td>...</td>\n",
       "    </tr>\n",
       "    <tr>\n",
       "      <th>59042</th>\n",
       "      <td>209157</td>\n",
       "      <td>1.500000</td>\n",
       "      <td>1</td>\n",
       "      <td>3.067578</td>\n",
       "    </tr>\n",
       "    <tr>\n",
       "      <th>59043</th>\n",
       "      <td>209159</td>\n",
       "      <td>3.000000</td>\n",
       "      <td>1</td>\n",
       "      <td>3.071202</td>\n",
       "    </tr>\n",
       "    <tr>\n",
       "      <th>59044</th>\n",
       "      <td>209163</td>\n",
       "      <td>4.500000</td>\n",
       "      <td>1</td>\n",
       "      <td>3.074825</td>\n",
       "    </tr>\n",
       "    <tr>\n",
       "      <th>59045</th>\n",
       "      <td>209169</td>\n",
       "      <td>3.000000</td>\n",
       "      <td>1</td>\n",
       "      <td>3.071202</td>\n",
       "    </tr>\n",
       "    <tr>\n",
       "      <th>59046</th>\n",
       "      <td>209171</td>\n",
       "      <td>3.000000</td>\n",
       "      <td>1</td>\n",
       "      <td>3.071202</td>\n",
       "    </tr>\n",
       "  </tbody>\n",
       "</table>\n",
       "<p>59047 rows × 4 columns</p>\n",
       "</div>"
      ],
      "text/plain": [
       "       movieId  average rating  rating count  weighted rating\n",
       "0            1        3.893708         57309         3.887824\n",
       "1            2        3.251527         24228         3.248508\n",
       "2            3        3.142028         11804         3.139640\n",
       "3            4        2.853547          2523         2.884188\n",
       "4            5        3.058434         11714         3.058875\n",
       "...        ...             ...           ...              ...\n",
       "59042   209157        1.500000             1         3.067578\n",
       "59043   209159        3.000000             1         3.071202\n",
       "59044   209163        4.500000             1         3.074825\n",
       "59045   209169        3.000000             1         3.071202\n",
       "59046   209171        3.000000             1         3.071202\n",
       "\n",
       "[59047 rows x 4 columns]"
      ]
     },
     "execution_count": 9,
     "metadata": {},
     "output_type": "execute_result"
    }
   ],
   "source": [
    "ratings_infos_cb"
   ]
  },
  {
   "cell_type": "code",
   "execution_count": 10,
   "id": "c874f3b1",
   "metadata": {
    "ExecuteTime": {
     "end_time": "2021-10-20T16:36:18.950601Z",
     "start_time": "2021-10-20T16:36:18.935598Z"
    }
   },
   "outputs": [
    {
     "data": {
      "text/html": [
       "<div>\n",
       "<style scoped>\n",
       "    .dataframe tbody tr th:only-of-type {\n",
       "        vertical-align: middle;\n",
       "    }\n",
       "\n",
       "    .dataframe tbody tr th {\n",
       "        vertical-align: top;\n",
       "    }\n",
       "\n",
       "    .dataframe thead th {\n",
       "        text-align: right;\n",
       "    }\n",
       "</style>\n",
       "<table border=\"1\" class=\"dataframe\">\n",
       "  <thead>\n",
       "    <tr style=\"text-align: right;\">\n",
       "      <th></th>\n",
       "      <th>userId</th>\n",
       "      <th>movieId</th>\n",
       "      <th>rating</th>\n",
       "    </tr>\n",
       "  </thead>\n",
       "  <tbody>\n",
       "    <tr>\n",
       "      <th>0</th>\n",
       "      <td>1</td>\n",
       "      <td>296</td>\n",
       "      <td>5.0</td>\n",
       "    </tr>\n",
       "    <tr>\n",
       "      <th>1</th>\n",
       "      <td>1</td>\n",
       "      <td>306</td>\n",
       "      <td>3.5</td>\n",
       "    </tr>\n",
       "    <tr>\n",
       "      <th>2</th>\n",
       "      <td>1</td>\n",
       "      <td>307</td>\n",
       "      <td>5.0</td>\n",
       "    </tr>\n",
       "    <tr>\n",
       "      <th>3</th>\n",
       "      <td>1</td>\n",
       "      <td>665</td>\n",
       "      <td>5.0</td>\n",
       "    </tr>\n",
       "    <tr>\n",
       "      <th>4</th>\n",
       "      <td>1</td>\n",
       "      <td>899</td>\n",
       "      <td>3.5</td>\n",
       "    </tr>\n",
       "    <tr>\n",
       "      <th>...</th>\n",
       "      <td>...</td>\n",
       "      <td>...</td>\n",
       "      <td>...</td>\n",
       "    </tr>\n",
       "    <tr>\n",
       "      <th>25000090</th>\n",
       "      <td>162541</td>\n",
       "      <td>50872</td>\n",
       "      <td>4.5</td>\n",
       "    </tr>\n",
       "    <tr>\n",
       "      <th>25000091</th>\n",
       "      <td>162541</td>\n",
       "      <td>55768</td>\n",
       "      <td>2.5</td>\n",
       "    </tr>\n",
       "    <tr>\n",
       "      <th>25000092</th>\n",
       "      <td>162541</td>\n",
       "      <td>56176</td>\n",
       "      <td>2.0</td>\n",
       "    </tr>\n",
       "    <tr>\n",
       "      <th>25000093</th>\n",
       "      <td>162541</td>\n",
       "      <td>58559</td>\n",
       "      <td>4.0</td>\n",
       "    </tr>\n",
       "    <tr>\n",
       "      <th>25000094</th>\n",
       "      <td>162541</td>\n",
       "      <td>63876</td>\n",
       "      <td>5.0</td>\n",
       "    </tr>\n",
       "  </tbody>\n",
       "</table>\n",
       "<p>25000095 rows × 3 columns</p>\n",
       "</div>"
      ],
      "text/plain": [
       "          userId  movieId  rating\n",
       "0              1      296     5.0\n",
       "1              1      306     3.5\n",
       "2              1      307     5.0\n",
       "3              1      665     5.0\n",
       "4              1      899     3.5\n",
       "...          ...      ...     ...\n",
       "25000090  162541    50872     4.5\n",
       "25000091  162541    55768     2.5\n",
       "25000092  162541    56176     2.0\n",
       "25000093  162541    58559     4.0\n",
       "25000094  162541    63876     5.0\n",
       "\n",
       "[25000095 rows x 3 columns]"
      ]
     },
     "execution_count": 10,
     "metadata": {},
     "output_type": "execute_result"
    }
   ],
   "source": [
    "ratings_cb"
   ]
  },
  {
   "cell_type": "markdown",
   "id": "10bc287a",
   "metadata": {},
   "source": [
    "#### Agrupando pelo usuário, para sabermos quantos filmes cada usuário avaliou"
   ]
  },
  {
   "cell_type": "code",
   "execution_count": 11,
   "id": "41e12d53",
   "metadata": {
    "ExecuteTime": {
     "end_time": "2021-10-20T16:36:21.434945Z",
     "start_time": "2021-10-20T16:36:20.622540Z"
    }
   },
   "outputs": [
    {
     "data": {
      "text/html": [
       "<div>\n",
       "<style scoped>\n",
       "    .dataframe tbody tr th:only-of-type {\n",
       "        vertical-align: middle;\n",
       "    }\n",
       "\n",
       "    .dataframe tbody tr th {\n",
       "        vertical-align: top;\n",
       "    }\n",
       "\n",
       "    .dataframe thead th {\n",
       "        text-align: right;\n",
       "    }\n",
       "</style>\n",
       "<table border=\"1\" class=\"dataframe\">\n",
       "  <thead>\n",
       "    <tr style=\"text-align: right;\">\n",
       "      <th></th>\n",
       "      <th>rating_count</th>\n",
       "    </tr>\n",
       "    <tr>\n",
       "      <th>userId</th>\n",
       "      <th></th>\n",
       "    </tr>\n",
       "  </thead>\n",
       "  <tbody>\n",
       "    <tr>\n",
       "      <th>1</th>\n",
       "      <td>70</td>\n",
       "    </tr>\n",
       "    <tr>\n",
       "      <th>2</th>\n",
       "      <td>184</td>\n",
       "    </tr>\n",
       "    <tr>\n",
       "      <th>3</th>\n",
       "      <td>656</td>\n",
       "    </tr>\n",
       "    <tr>\n",
       "      <th>4</th>\n",
       "      <td>242</td>\n",
       "    </tr>\n",
       "    <tr>\n",
       "      <th>5</th>\n",
       "      <td>101</td>\n",
       "    </tr>\n",
       "    <tr>\n",
       "      <th>...</th>\n",
       "      <td>...</td>\n",
       "    </tr>\n",
       "    <tr>\n",
       "      <th>162537</th>\n",
       "      <td>101</td>\n",
       "    </tr>\n",
       "    <tr>\n",
       "      <th>162538</th>\n",
       "      <td>154</td>\n",
       "    </tr>\n",
       "    <tr>\n",
       "      <th>162539</th>\n",
       "      <td>47</td>\n",
       "    </tr>\n",
       "    <tr>\n",
       "      <th>162540</th>\n",
       "      <td>88</td>\n",
       "    </tr>\n",
       "    <tr>\n",
       "      <th>162541</th>\n",
       "      <td>182</td>\n",
       "    </tr>\n",
       "  </tbody>\n",
       "</table>\n",
       "<p>162541 rows × 1 columns</p>\n",
       "</div>"
      ],
      "text/plain": [
       "        rating_count\n",
       "userId              \n",
       "1                 70\n",
       "2                184\n",
       "3                656\n",
       "4                242\n",
       "5                101\n",
       "...              ...\n",
       "162537           101\n",
       "162538           154\n",
       "162539            47\n",
       "162540            88\n",
       "162541           182\n",
       "\n",
       "[162541 rows x 1 columns]"
      ]
     },
     "execution_count": 11,
     "metadata": {},
     "output_type": "execute_result"
    }
   ],
   "source": [
    "user_count_rating = pd.DataFrame(ratings_cb.groupby(\"userId\").count()[\"rating\"])\n",
    "\n",
    "user_count_rating.rename(columns = {'rating':'rating_count'}, inplace = True)\n",
    "\n",
    "user_count_rating"
   ]
  },
  {
   "cell_type": "markdown",
   "id": "86e9555d",
   "metadata": {},
   "source": [
    "#### Mostrando Ratings Info CB"
   ]
  },
  {
   "cell_type": "code",
   "execution_count": 12,
   "id": "3a058aff",
   "metadata": {
    "ExecuteTime": {
     "end_time": "2021-10-20T16:36:23.149543Z",
     "start_time": "2021-10-20T16:36:23.126538Z"
    }
   },
   "outputs": [
    {
     "data": {
      "text/html": [
       "<div>\n",
       "<style scoped>\n",
       "    .dataframe tbody tr th:only-of-type {\n",
       "        vertical-align: middle;\n",
       "    }\n",
       "\n",
       "    .dataframe tbody tr th {\n",
       "        vertical-align: top;\n",
       "    }\n",
       "\n",
       "    .dataframe thead th {\n",
       "        text-align: right;\n",
       "    }\n",
       "</style>\n",
       "<table border=\"1\" class=\"dataframe\">\n",
       "  <thead>\n",
       "    <tr style=\"text-align: right;\">\n",
       "      <th></th>\n",
       "      <th>movieId</th>\n",
       "      <th>average rating</th>\n",
       "      <th>rating_count</th>\n",
       "      <th>weighted rating</th>\n",
       "    </tr>\n",
       "  </thead>\n",
       "  <tbody>\n",
       "    <tr>\n",
       "      <th>0</th>\n",
       "      <td>1</td>\n",
       "      <td>3.893708</td>\n",
       "      <td>57309</td>\n",
       "      <td>3.887824</td>\n",
       "    </tr>\n",
       "    <tr>\n",
       "      <th>1</th>\n",
       "      <td>2</td>\n",
       "      <td>3.251527</td>\n",
       "      <td>24228</td>\n",
       "      <td>3.248508</td>\n",
       "    </tr>\n",
       "    <tr>\n",
       "      <th>2</th>\n",
       "      <td>3</td>\n",
       "      <td>3.142028</td>\n",
       "      <td>11804</td>\n",
       "      <td>3.139640</td>\n",
       "    </tr>\n",
       "    <tr>\n",
       "      <th>3</th>\n",
       "      <td>4</td>\n",
       "      <td>2.853547</td>\n",
       "      <td>2523</td>\n",
       "      <td>2.884188</td>\n",
       "    </tr>\n",
       "    <tr>\n",
       "      <th>4</th>\n",
       "      <td>5</td>\n",
       "      <td>3.058434</td>\n",
       "      <td>11714</td>\n",
       "      <td>3.058875</td>\n",
       "    </tr>\n",
       "    <tr>\n",
       "      <th>...</th>\n",
       "      <td>...</td>\n",
       "      <td>...</td>\n",
       "      <td>...</td>\n",
       "      <td>...</td>\n",
       "    </tr>\n",
       "    <tr>\n",
       "      <th>59042</th>\n",
       "      <td>209157</td>\n",
       "      <td>1.500000</td>\n",
       "      <td>1</td>\n",
       "      <td>3.067578</td>\n",
       "    </tr>\n",
       "    <tr>\n",
       "      <th>59043</th>\n",
       "      <td>209159</td>\n",
       "      <td>3.000000</td>\n",
       "      <td>1</td>\n",
       "      <td>3.071202</td>\n",
       "    </tr>\n",
       "    <tr>\n",
       "      <th>59044</th>\n",
       "      <td>209163</td>\n",
       "      <td>4.500000</td>\n",
       "      <td>1</td>\n",
       "      <td>3.074825</td>\n",
       "    </tr>\n",
       "    <tr>\n",
       "      <th>59045</th>\n",
       "      <td>209169</td>\n",
       "      <td>3.000000</td>\n",
       "      <td>1</td>\n",
       "      <td>3.071202</td>\n",
       "    </tr>\n",
       "    <tr>\n",
       "      <th>59046</th>\n",
       "      <td>209171</td>\n",
       "      <td>3.000000</td>\n",
       "      <td>1</td>\n",
       "      <td>3.071202</td>\n",
       "    </tr>\n",
       "  </tbody>\n",
       "</table>\n",
       "<p>59047 rows × 4 columns</p>\n",
       "</div>"
      ],
      "text/plain": [
       "       movieId  average rating  rating_count  weighted rating\n",
       "0            1        3.893708         57309         3.887824\n",
       "1            2        3.251527         24228         3.248508\n",
       "2            3        3.142028         11804         3.139640\n",
       "3            4        2.853547          2523         2.884188\n",
       "4            5        3.058434         11714         3.058875\n",
       "...        ...             ...           ...              ...\n",
       "59042   209157        1.500000             1         3.067578\n",
       "59043   209159        3.000000             1         3.071202\n",
       "59044   209163        4.500000             1         3.074825\n",
       "59045   209169        3.000000             1         3.071202\n",
       "59046   209171        3.000000             1         3.071202\n",
       "\n",
       "[59047 rows x 4 columns]"
      ]
     },
     "execution_count": 12,
     "metadata": {},
     "output_type": "execute_result"
    }
   ],
   "source": [
    "movie_count_rating = ratings_infos_cb.copy()\n",
    "movie_count_rating.rename(columns = {'rating count':'rating_count'}, inplace = True)\n",
    "movie_count_rating"
   ]
  },
  {
   "cell_type": "markdown",
   "id": "5b93f832",
   "metadata": {},
   "source": [
    "#### Visualizando a quantidade de ratings dos filmes"
   ]
  },
  {
   "cell_type": "code",
   "execution_count": 13,
   "id": "3f1cf4a7",
   "metadata": {
    "ExecuteTime": {
     "end_time": "2021-10-20T16:36:25.056816Z",
     "start_time": "2021-10-20T16:36:24.766548Z"
    }
   },
   "outputs": [
    {
     "data": {
      "text/plain": [
       "Text(0, 0.5, 'Number of Ratings')"
      ]
     },
     "execution_count": 13,
     "metadata": {},
     "output_type": "execute_result"
    },
    {
     "data": {
      "image/png": "[encoded data removed]",
      "text/plain": [
       "<Figure size 1152x576 with 1 Axes>"
      ]
     },
     "metadata": {
      "needs_background": "light"
     },
     "output_type": "display_data"
    }
   ],
   "source": [
    "movie_count_rating_graph = movie_count_rating.copy()\n",
    "movie_count_rating_graph.drop('weighted rating', axis=1, inplace=True)\n",
    "movie_count_rating_graph.drop('average rating', axis=1, inplace=True)\n",
    "movie_count_rating_graph.drop('movieId', axis=1, inplace=True)\n",
    "ax = movie_count_rating_graph.sort_values('rating_count', ascending=False).reset_index(drop=True).plot(figsize=(16,8), title='Rating Frequency of All Movies', fontsize=12)\n",
    "\n",
    "ax.set_xlabel('Movie ID')\n",
    "ax.set_ylabel('Number of Ratings')"
   ]
  },
  {
   "cell_type": "markdown",
   "id": "182c3f65",
   "metadata": {},
   "source": [
    "### 1.3 - Criando um modelo simples utilizando o KNN -  CF - Item Based"
   ]
  },
  {
   "cell_type": "markdown",
   "id": "e0d78914",
   "metadata": {},
   "source": [
    "#### Removendo usuários \"inativos\""
   ]
  },
  {
   "cell_type": "code",
   "execution_count": 14,
   "id": "a03f1a5c",
   "metadata": {
    "ExecuteTime": {
     "end_time": "2021-10-20T17:29:42.059976Z",
     "start_time": "2021-10-20T17:29:41.968953Z"
    }
   },
   "outputs": [
    {
     "name": "stdout",
     "output_type": "stream",
     "text": [
      "Shape of original ratings data:  (162541, 1)\n",
      "Shape of ratings data after dropping inactive users:  (102492, 1)\n"
     ]
    },
    {
     "data": {
      "text/html": [
       "<div>\n",
       "<style scoped>\n",
       "    .dataframe tbody tr th:only-of-type {\n",
       "        vertical-align: middle;\n",
       "    }\n",
       "\n",
       "    .dataframe tbody tr th {\n",
       "        vertical-align: top;\n",
       "    }\n",
       "\n",
       "    .dataframe thead th {\n",
       "        text-align: right;\n",
       "    }\n",
       "</style>\n",
       "<table border=\"1\" class=\"dataframe\">\n",
       "  <thead>\n",
       "    <tr style=\"text-align: right;\">\n",
       "      <th></th>\n",
       "      <th>rating_count</th>\n",
       "    </tr>\n",
       "    <tr>\n",
       "      <th>userId</th>\n",
       "      <th></th>\n",
       "    </tr>\n",
       "  </thead>\n",
       "  <tbody>\n",
       "    <tr>\n",
       "      <th>1</th>\n",
       "      <td>70</td>\n",
       "    </tr>\n",
       "    <tr>\n",
       "      <th>2</th>\n",
       "      <td>184</td>\n",
       "    </tr>\n",
       "    <tr>\n",
       "      <th>3</th>\n",
       "      <td>656</td>\n",
       "    </tr>\n",
       "    <tr>\n",
       "      <th>4</th>\n",
       "      <td>242</td>\n",
       "    </tr>\n",
       "    <tr>\n",
       "      <th>5</th>\n",
       "      <td>101</td>\n",
       "    </tr>\n",
       "    <tr>\n",
       "      <th>...</th>\n",
       "      <td>...</td>\n",
       "    </tr>\n",
       "    <tr>\n",
       "      <th>162536</th>\n",
       "      <td>79</td>\n",
       "    </tr>\n",
       "    <tr>\n",
       "      <th>162537</th>\n",
       "      <td>101</td>\n",
       "    </tr>\n",
       "    <tr>\n",
       "      <th>162538</th>\n",
       "      <td>154</td>\n",
       "    </tr>\n",
       "    <tr>\n",
       "      <th>162540</th>\n",
       "      <td>88</td>\n",
       "    </tr>\n",
       "    <tr>\n",
       "      <th>162541</th>\n",
       "      <td>182</td>\n",
       "    </tr>\n",
       "  </tbody>\n",
       "</table>\n",
       "<p>102492 rows × 1 columns</p>\n",
       "</div>"
      ],
      "text/plain": [
       "        rating_count\n",
       "userId              \n",
       "1                 70\n",
       "2                184\n",
       "3                656\n",
       "4                242\n",
       "5                101\n",
       "...              ...\n",
       "162536            79\n",
       "162537           101\n",
       "162538           154\n",
       "162540            88\n",
       "162541           182\n",
       "\n",
       "[102492 rows x 1 columns]"
      ]
     },
     "execution_count": 14,
     "metadata": {},
     "output_type": "execute_result"
    }
   ],
   "source": [
    "# FILMES ATIVOS = FILMES COM UMA QUANTIDADE MINIMA DE RATINGS\n",
    "\n",
    "# Como os dados são bem vazios, vamos pegar filtrar uma quantidade desses dados, utilizaremos apenas os usuários com mais de 50 ratings.\n",
    "\n",
    "users_ratings_threshold = 50\n",
    "active_users = list(set(user_count_rating.query(\"rating_count >= @users_ratings_threshold\").index))\n",
    "\n",
    "print('Shape of original ratings data: ', user_count_rating.shape)\n",
    "\n",
    "user_count_rating_drop = user_count_rating[user_count_rating.index.isin(active_users)]\n",
    "print('Shape of ratings data after dropping inactive users: ', user_count_rating_drop.shape)\n",
    "\n",
    "user_count_rating_drop"
   ]
  },
  {
   "cell_type": "markdown",
   "id": "67c96683",
   "metadata": {},
   "source": [
    "#### Removendo filmes \"inativos\""
   ]
  },
  {
   "cell_type": "code",
   "execution_count": 15,
   "id": "5b4359ba",
   "metadata": {
    "ExecuteTime": {
     "end_time": "2021-10-20T17:29:45.524981Z",
     "start_time": "2021-10-20T17:29:45.465181Z"
    }
   },
   "outputs": [
    {
     "name": "stdout",
     "output_type": "stream",
     "text": [
      "Shape of original ratings data:  (59047, 4)\n",
      "Shape of ratings data after dropping inactive movies:  (18430, 4)\n"
     ]
    },
    {
     "data": {
      "text/html": [
       "<div>\n",
       "<style scoped>\n",
       "    .dataframe tbody tr th:only-of-type {\n",
       "        vertical-align: middle;\n",
       "    }\n",
       "\n",
       "    .dataframe tbody tr th {\n",
       "        vertical-align: top;\n",
       "    }\n",
       "\n",
       "    .dataframe thead th {\n",
       "        text-align: right;\n",
       "    }\n",
       "</style>\n",
       "<table border=\"1\" class=\"dataframe\">\n",
       "  <thead>\n",
       "    <tr style=\"text-align: right;\">\n",
       "      <th></th>\n",
       "      <th>movieId</th>\n",
       "      <th>average rating</th>\n",
       "      <th>rating_count</th>\n",
       "      <th>weighted rating</th>\n",
       "    </tr>\n",
       "  </thead>\n",
       "  <tbody>\n",
       "    <tr>\n",
       "      <th>0</th>\n",
       "      <td>1</td>\n",
       "      <td>3.893708</td>\n",
       "      <td>57309</td>\n",
       "      <td>3.887824</td>\n",
       "    </tr>\n",
       "    <tr>\n",
       "      <th>1</th>\n",
       "      <td>2</td>\n",
       "      <td>3.251527</td>\n",
       "      <td>24228</td>\n",
       "      <td>3.248508</td>\n",
       "    </tr>\n",
       "    <tr>\n",
       "      <th>2</th>\n",
       "      <td>3</td>\n",
       "      <td>3.142028</td>\n",
       "      <td>11804</td>\n",
       "      <td>3.139640</td>\n",
       "    </tr>\n",
       "    <tr>\n",
       "      <th>3</th>\n",
       "      <td>4</td>\n",
       "      <td>2.853547</td>\n",
       "      <td>2523</td>\n",
       "      <td>2.884188</td>\n",
       "    </tr>\n",
       "    <tr>\n",
       "      <th>4</th>\n",
       "      <td>5</td>\n",
       "      <td>3.058434</td>\n",
       "      <td>11714</td>\n",
       "      <td>3.058875</td>\n",
       "    </tr>\n",
       "    <tr>\n",
       "      <th>...</th>\n",
       "      <td>...</td>\n",
       "      <td>...</td>\n",
       "      <td>...</td>\n",
       "      <td>...</td>\n",
       "    </tr>\n",
       "    <tr>\n",
       "      <th>58394</th>\n",
       "      <td>206805</td>\n",
       "      <td>3.190000</td>\n",
       "      <td>50</td>\n",
       "      <td>3.084185</td>\n",
       "    </tr>\n",
       "    <tr>\n",
       "      <th>58411</th>\n",
       "      <td>206845</td>\n",
       "      <td>3.250000</td>\n",
       "      <td>42</td>\n",
       "      <td>3.087862</td>\n",
       "    </tr>\n",
       "    <tr>\n",
       "      <th>58576</th>\n",
       "      <td>207309</td>\n",
       "      <td>3.216216</td>\n",
       "      <td>37</td>\n",
       "      <td>3.083283</td>\n",
       "    </tr>\n",
       "    <tr>\n",
       "      <th>58607</th>\n",
       "      <td>207405</td>\n",
       "      <td>3.730769</td>\n",
       "      <td>39</td>\n",
       "      <td>3.128269</td>\n",
       "    </tr>\n",
       "    <tr>\n",
       "      <th>58727</th>\n",
       "      <td>207830</td>\n",
       "      <td>3.372727</td>\n",
       "      <td>55</td>\n",
       "      <td>3.106789</td>\n",
       "    </tr>\n",
       "  </tbody>\n",
       "</table>\n",
       "<p>18430 rows × 4 columns</p>\n",
       "</div>"
      ],
      "text/plain": [
       "       movieId  average rating  rating_count  weighted rating\n",
       "0            1        3.893708         57309         3.887824\n",
       "1            2        3.251527         24228         3.248508\n",
       "2            3        3.142028         11804         3.139640\n",
       "3            4        2.853547          2523         2.884188\n",
       "4            5        3.058434         11714         3.058875\n",
       "...        ...             ...           ...              ...\n",
       "58394   206805        3.190000            50         3.084185\n",
       "58411   206845        3.250000            42         3.087862\n",
       "58576   207309        3.216216            37         3.083283\n",
       "58607   207405        3.730769            39         3.128269\n",
       "58727   207830        3.372727            55         3.106789\n",
       "\n",
       "[18430 rows x 4 columns]"
      ]
     },
     "execution_count": 15,
     "metadata": {},
     "output_type": "execute_result"
    }
   ],
   "source": [
    "# FILMES ATIVOS = FILMES COM UMA QUANTIDADE MINIMA DE RATINGS\n",
    "\n",
    "# Como os dados são bem vazios, vamos pegar filtrar uma quantidade desses dados, utilizaremos apenas os filmes com mais de 200.\n",
    "movies_ratings_threshold = 20\n",
    "active_movies = list(set(movie_count_rating.query(\"rating_count >= @movies_ratings_threshold\").movieId))\n",
    "\n",
    "print('Shape of original ratings data: ', movie_count_rating.shape)\n",
    "\n",
    "movie_count_rating_drop = movie_count_rating[movie_count_rating.movieId.isin(active_movies)]\n",
    "print('Shape of ratings data after dropping inactive movies: ', movie_count_rating_drop.shape)\n",
    "\n",
    "movie_count_rating_drop"
   ]
  },
  {
   "cell_type": "code",
   "execution_count": 16,
   "id": "f9051360",
   "metadata": {
    "ExecuteTime": {
     "end_time": "2021-10-20T19:17:44.863340Z",
     "start_time": "2021-10-20T19:17:41.995872Z"
    }
   },
   "outputs": [],
   "source": [
    "# Pegando de data_cf apenas as colunas correspondentes aos filmes ativos e aos usuarios ativos\n",
    "data_cf_active = data_cf[data_cf.movieId.isin(active_movies)]\n",
    "data_cf_active = data_cf_active[data_cf_active.userId.isin(active_users)]\n",
    "\n",
    "# Criando a user_movie_matrix\n",
    "movie_user_matrix = create_sparse_matrix(data_cf_active).transpose()\n",
    "\n",
    "movie_user_matrix = movie_user_matrix.tocsr()\n"
   ]
  },
  {
   "cell_type": "code",
   "execution_count": 17,
   "id": "99567d56",
   "metadata": {
    "ExecuteTime": {
     "end_time": "2021-10-20T19:17:44.879344Z",
     "start_time": "2021-10-20T19:17:44.865341Z"
    }
   },
   "outputs": [
    {
     "name": "stdout",
     "output_type": "stream",
     "text": [
      "Numero de avaliações nos filmes selecionados:  22921076\n",
      "Numero de avaliações total:  25000095\n"
     ]
    }
   ],
   "source": [
    "print(\"Numero de avaliações nos filmes selecionados: \", data_cf_active.shape[0])\n",
    "print(\"Numero de avaliações total: \", data_cf.shape[0])"
   ]
  },
  {
   "cell_type": "code",
   "execution_count": 26,
   "id": "c683a7cd",
   "metadata": {
    "ExecuteTime": {
     "end_time": "2021-10-20T19:17:44.959362Z",
     "start_time": "2021-10-20T19:17:44.881344Z"
    }
   },
   "outputs": [
    {
     "data": {
      "text/plain": [
       "NearestNeighbors(metric='euclidean', n_neighbors=11)"
      ]
     },
     "execution_count": 26,
     "metadata": {},
     "output_type": "execute_result"
    }
   ],
   "source": [
    "# Criando o modelo knn\n",
    "knn_cf = NearestNeighbors(n_neighbors=N_NEIGHBORS, algorithm='auto', metric='euclidean') # temos que mexer nos parâmetros posteriormente\n",
    "# Treinando                                                                                                                                                      do com os dados \n",
    "knn_cf.fit(movie_user_matrix)"
   ]
  },
  {
   "cell_type": "code",
   "execution_count": 28,
   "id": "36ee2a6a",
   "metadata": {},
   "outputs": [
    {
     "name": "stdout",
     "output_type": "stream",
     "text": [
      "  (1, 2)\t3.5\n",
      "  (1, 3)\t4.0\n",
      "  (1, 4)\t3.0\n",
      "  (1, 5)\t4.0\n",
      "  (1, 8)\t4.0\n",
      "  (1, 10)\t3.5\n",
      "  (1, 12)\t4.0\n",
      "  (1, 13)\t4.0\n",
      "  (1, 18)\t3.0\n",
      "  (1, 36)\t5.0\n",
      "  (1, 43)\t4.0\n",
      "  (1, 47)\t2.0\n",
      "  (1, 50)\t4.0\n",
      "  (1, 57)\t4.0\n",
      "  (1, 64)\t4.0\n",
      "  (1, 66)\t3.0\n",
      "  (1, 67)\t3.0\n",
      "  (1, 69)\t3.0\n",
      "  (1, 75)\t5.0\n",
      "  (1, 82)\t4.0\n",
      "  (1, 86)\t5.0\n",
      "  (1, 93)\t5.0\n",
      "  (1, 95)\t5.0\n",
      "  (1, 96)\t5.0\n",
      "  (1, 98)\t5.0\n",
      "  :\t:\n",
      "  (207830, 74608)\t3.5\n",
      "  (207830, 76916)\t2.5\n",
      "  (207830, 84146)\t3.0\n",
      "  (207830, 86570)\t3.5\n",
      "  (207830, 87441)\t4.0\n",
      "  (207830, 90785)\t4.0\n",
      "  (207830, 91400)\t4.0\n",
      "  (207830, 94239)\t4.0\n",
      "  (207830, 95998)\t3.5\n",
      "  (207830, 96408)\t3.0\n",
      "  (207830, 97074)\t2.5\n",
      "  (207830, 116275)\t3.0\n",
      "  (207830, 116544)\t3.0\n",
      "  (207830, 116843)\t3.5\n",
      "  (207830, 121308)\t4.5\n",
      "  (207830, 132358)\t2.0\n",
      "  (207830, 132596)\t3.0\n",
      "  (207830, 138037)\t3.0\n",
      "  (207830, 139435)\t2.5\n",
      "  (207830, 143568)\t3.5\n",
      "  (207830, 144301)\t3.5\n",
      "  (207830, 148647)\t3.0\n",
      "  (207830, 154088)\t4.0\n",
      "  (207830, 154546)\t4.0\n",
      "  (207830, 158109)\t4.0\n"
     ]
    }
   ],
   "source": [
    "print(movie_user_matrix)"
   ]
  },
  {
   "cell_type": "code",
   "execution_count": 29,
   "id": "bfca7558",
   "metadata": {
    "ExecuteTime": {
     "end_time": "2021-10-20T19:17:47.309231Z",
     "start_time": "2021-10-20T19:17:47.292228Z"
    }
   },
   "outputs": [],
   "source": [
    "# criando função que gera recomendações basedo em um filme - utilizando um modelo KNN\n",
    "def get_recommendations_cf(movie_name, model, data, printable=True): #nome do filme, modelo\n",
    "    # Pegando o Id do filme que tenha o nome passado\n",
    "    movieId = data.loc[data[\"title\"] == movie_name][\"movieId\"].values[0]\n",
    "    \n",
    "    distances, suggestions = model.kneighbors(movie_user_matrix.getrow(movieId).todense().tolist(), n_neighbors=N_NEIGHBORS)\n",
    "    \n",
    "    if(printable):\n",
    "        for i in range(0, len(distances.flatten())):\n",
    "            if(i == 0):\n",
    "                print('Recomendações para {0} (ID: {1}): \\n '.format(movie_name, movieId))\n",
    "            else:\n",
    "                #caso sejam geradas menos que N_NEIGHBORS recomendações, exibem-se apenas as geradas\n",
    "                if(np.size(data.loc[data[\"movieId\"] == suggestions.flatten()[i]][\"title\"].values) > 0 and np.size(data.loc[data[\"movieId\"] == suggestions.flatten()[i]][\"movieId\"].values[0]) > 0):\n",
    "                    print('{0}: {1} (ID: {2}), com distância de {3}: '.format(i, data.loc[data[\"movieId\"] == suggestions.flatten()[i]][\"title\"].values[0], data.loc[data[\"movieId\"] == suggestions.flatten()[i]][\"movieId\"].values[0], distances.flatten()[i]))\n",
    "    \n",
    "    return distances, suggestions"
   ]
  },
  {
   "cell_type": "code",
   "execution_count": 30,
   "id": "cc744dc7",
   "metadata": {
    "ExecuteTime": {
     "end_time": "2021-10-20T19:17:47.510340Z",
     "start_time": "2021-10-20T19:17:47.499338Z"
    }
   },
   "outputs": [],
   "source": [
    "# Função para pesquisar o nome correto do filme\n",
    "def search_movies(search_word, data):\n",
    "    return data[data.title.str.contains(search_word, flags=re.IGNORECASE)]\n",
    "    #return movies_cf[movies_cf.movieId == 3561]"
   ]
  },
  {
   "cell_type": "code",
   "execution_count": 31,
   "id": "3b55bdd4",
   "metadata": {
    "ExecuteTime": {
     "end_time": "2021-10-20T19:18:04.071199Z",
     "start_time": "2021-10-20T19:17:49.020054Z"
    }
   },
   "outputs": [
    {
     "data": {
      "text/html": [
       "<div>\n",
       "<style scoped>\n",
       "    .dataframe tbody tr th:only-of-type {\n",
       "        vertical-align: middle;\n",
       "    }\n",
       "\n",
       "    .dataframe tbody tr th {\n",
       "        vertical-align: top;\n",
       "    }\n",
       "\n",
       "    .dataframe thead th {\n",
       "        text-align: right;\n",
       "    }\n",
       "</style>\n",
       "<table border=\"1\" class=\"dataframe\">\n",
       "  <thead>\n",
       "    <tr style=\"text-align: right;\">\n",
       "      <th></th>\n",
       "      <th>movieId</th>\n",
       "      <th>title</th>\n",
       "      <th>userId</th>\n",
       "      <th>rating</th>\n",
       "    </tr>\n",
       "  </thead>\n",
       "  <tbody>\n",
       "    <tr>\n",
       "      <th>24238273</th>\n",
       "      <td>131252</td>\n",
       "      <td>Forklift Driver Klaus: The First Day on the Job</td>\n",
       "      <td>118678</td>\n",
       "      <td>5.0</td>\n",
       "    </tr>\n",
       "    <tr>\n",
       "      <th>24238274</th>\n",
       "      <td>131252</td>\n",
       "      <td>Forklift Driver Klaus: The First Day on the Job</td>\n",
       "      <td>121089</td>\n",
       "      <td>3.5</td>\n",
       "    </tr>\n",
       "    <tr>\n",
       "      <th>24238275</th>\n",
       "      <td>131252</td>\n",
       "      <td>Forklift Driver Klaus: The First Day on the Job</td>\n",
       "      <td>121221</td>\n",
       "      <td>4.0</td>\n",
       "    </tr>\n",
       "    <tr>\n",
       "      <th>24238276</th>\n",
       "      <td>131252</td>\n",
       "      <td>Forklift Driver Klaus: The First Day on the Job</td>\n",
       "      <td>132651</td>\n",
       "      <td>2.5</td>\n",
       "    </tr>\n",
       "    <tr>\n",
       "      <th>24238277</th>\n",
       "      <td>131252</td>\n",
       "      <td>Forklift Driver Klaus: The First Day on the Job</td>\n",
       "      <td>134045</td>\n",
       "      <td>4.0</td>\n",
       "    </tr>\n",
       "    <tr>\n",
       "      <th>24238278</th>\n",
       "      <td>131252</td>\n",
       "      <td>Forklift Driver Klaus: The First Day on the Job</td>\n",
       "      <td>135672</td>\n",
       "      <td>3.5</td>\n",
       "    </tr>\n",
       "    <tr>\n",
       "      <th>24238279</th>\n",
       "      <td>131252</td>\n",
       "      <td>Forklift Driver Klaus: The First Day on the Job</td>\n",
       "      <td>136296</td>\n",
       "      <td>3.0</td>\n",
       "    </tr>\n",
       "    <tr>\n",
       "      <th>24238280</th>\n",
       "      <td>131252</td>\n",
       "      <td>Forklift Driver Klaus: The First Day on the Job</td>\n",
       "      <td>138804</td>\n",
       "      <td>3.5</td>\n",
       "    </tr>\n",
       "    <tr>\n",
       "      <th>24238281</th>\n",
       "      <td>131252</td>\n",
       "      <td>Forklift Driver Klaus: The First Day on the Job</td>\n",
       "      <td>139913</td>\n",
       "      <td>4.0</td>\n",
       "    </tr>\n",
       "    <tr>\n",
       "      <th>24238282</th>\n",
       "      <td>131252</td>\n",
       "      <td>Forklift Driver Klaus: The First Day on the Job</td>\n",
       "      <td>140659</td>\n",
       "      <td>4.5</td>\n",
       "    </tr>\n",
       "    <tr>\n",
       "      <th>24238283</th>\n",
       "      <td>131252</td>\n",
       "      <td>Forklift Driver Klaus: The First Day on the Job</td>\n",
       "      <td>141092</td>\n",
       "      <td>4.0</td>\n",
       "    </tr>\n",
       "    <tr>\n",
       "      <th>24238284</th>\n",
       "      <td>131252</td>\n",
       "      <td>Forklift Driver Klaus: The First Day on the Job</td>\n",
       "      <td>142801</td>\n",
       "      <td>5.0</td>\n",
       "    </tr>\n",
       "    <tr>\n",
       "      <th>24238285</th>\n",
       "      <td>131252</td>\n",
       "      <td>Forklift Driver Klaus: The First Day on the Job</td>\n",
       "      <td>146281</td>\n",
       "      <td>4.5</td>\n",
       "    </tr>\n",
       "    <tr>\n",
       "      <th>24238286</th>\n",
       "      <td>131252</td>\n",
       "      <td>Forklift Driver Klaus: The First Day on the Job</td>\n",
       "      <td>147677</td>\n",
       "      <td>2.5</td>\n",
       "    </tr>\n",
       "    <tr>\n",
       "      <th>24238287</th>\n",
       "      <td>131252</td>\n",
       "      <td>Forklift Driver Klaus: The First Day on the Job</td>\n",
       "      <td>149554</td>\n",
       "      <td>4.0</td>\n",
       "    </tr>\n",
       "    <tr>\n",
       "      <th>24238288</th>\n",
       "      <td>131252</td>\n",
       "      <td>Forklift Driver Klaus: The First Day on the Job</td>\n",
       "      <td>150636</td>\n",
       "      <td>3.5</td>\n",
       "    </tr>\n",
       "    <tr>\n",
       "      <th>24238289</th>\n",
       "      <td>131252</td>\n",
       "      <td>Forklift Driver Klaus: The First Day on the Job</td>\n",
       "      <td>154044</td>\n",
       "      <td>4.0</td>\n",
       "    </tr>\n",
       "    <tr>\n",
       "      <th>24238290</th>\n",
       "      <td>131252</td>\n",
       "      <td>Forklift Driver Klaus: The First Day on the Job</td>\n",
       "      <td>154861</td>\n",
       "      <td>3.5</td>\n",
       "    </tr>\n",
       "    <tr>\n",
       "      <th>24238291</th>\n",
       "      <td>131252</td>\n",
       "      <td>Forklift Driver Klaus: The First Day on the Job</td>\n",
       "      <td>157958</td>\n",
       "      <td>5.0</td>\n",
       "    </tr>\n",
       "    <tr>\n",
       "      <th>24238292</th>\n",
       "      <td>131252</td>\n",
       "      <td>Forklift Driver Klaus: The First Day on the Job</td>\n",
       "      <td>161542</td>\n",
       "      <td>2.5</td>\n",
       "    </tr>\n",
       "  </tbody>\n",
       "</table>\n",
       "</div>"
      ],
      "text/plain": [
       "          movieId                                            title  userId  \\\n",
       "24238273   131252  Forklift Driver Klaus: The First Day on the Job  118678   \n",
       "24238274   131252  Forklift Driver Klaus: The First Day on the Job  121089   \n",
       "24238275   131252  Forklift Driver Klaus: The First Day on the Job  121221   \n",
       "24238276   131252  Forklift Driver Klaus: The First Day on the Job  132651   \n",
       "24238277   131252  Forklift Driver Klaus: The First Day on the Job  134045   \n",
       "24238278   131252  Forklift Driver Klaus: The First Day on the Job  135672   \n",
       "24238279   131252  Forklift Driver Klaus: The First Day on the Job  136296   \n",
       "24238280   131252  Forklift Driver Klaus: The First Day on the Job  138804   \n",
       "24238281   131252  Forklift Driver Klaus: The First Day on the Job  139913   \n",
       "24238282   131252  Forklift Driver Klaus: The First Day on the Job  140659   \n",
       "24238283   131252  Forklift Driver Klaus: The First Day on the Job  141092   \n",
       "24238284   131252  Forklift Driver Klaus: The First Day on the Job  142801   \n",
       "24238285   131252  Forklift Driver Klaus: The First Day on the Job  146281   \n",
       "24238286   131252  Forklift Driver Klaus: The First Day on the Job  147677   \n",
       "24238287   131252  Forklift Driver Klaus: The First Day on the Job  149554   \n",
       "24238288   131252  Forklift Driver Klaus: The First Day on the Job  150636   \n",
       "24238289   131252  Forklift Driver Klaus: The First Day on the Job  154044   \n",
       "24238290   131252  Forklift Driver Klaus: The First Day on the Job  154861   \n",
       "24238291   131252  Forklift Driver Klaus: The First Day on the Job  157958   \n",
       "24238292   131252  Forklift Driver Klaus: The First Day on the Job  161542   \n",
       "\n",
       "          rating  \n",
       "24238273     5.0  \n",
       "24238274     3.5  \n",
       "24238275     4.0  \n",
       "24238276     2.5  \n",
       "24238277     4.0  \n",
       "24238278     3.5  \n",
       "24238279     3.0  \n",
       "24238280     3.5  \n",
       "24238281     4.0  \n",
       "24238282     4.5  \n",
       "24238283     4.0  \n",
       "24238284     5.0  \n",
       "24238285     4.5  \n",
       "24238286     2.5  \n",
       "24238287     4.0  \n",
       "24238288     3.5  \n",
       "24238289     4.0  \n",
       "24238290     3.5  \n",
       "24238291     5.0  \n",
       "24238292     2.5  "
      ]
     },
     "execution_count": 31,
     "metadata": {},
     "output_type": "execute_result"
    }
   ],
   "source": [
    "# Setando um tamanho de coluna, para ver o nome completo dos filmes\n",
    "pd.set_option('display.max_colwidth', 500)\n",
    "# Pesquisando filmes\n",
    "search_movies(\"Klaus\", data=data_cf_active).tail(20)"
   ]
  },
  {
   "cell_type": "markdown",
   "id": "4ef2ff4a",
   "metadata": {},
   "source": [
    "# AUXILIO TEMPORARIO DE PESQUISA DE FILME"
   ]
  },
  {
   "cell_type": "code",
   "execution_count": 32,
   "id": "3cf9c673",
   "metadata": {
    "ExecuteTime": {
     "end_time": "2021-10-20T19:37:46.816841Z",
     "start_time": "2021-10-20T19:37:46.764819Z"
    }
   },
   "outputs": [
    {
     "data": {
      "text/html": [
       "<div>\n",
       "<style scoped>\n",
       "    .dataframe tbody tr th:only-of-type {\n",
       "        vertical-align: middle;\n",
       "    }\n",
       "\n",
       "    .dataframe tbody tr th {\n",
       "        vertical-align: top;\n",
       "    }\n",
       "\n",
       "    .dataframe thead th {\n",
       "        text-align: right;\n",
       "    }\n",
       "</style>\n",
       "<table border=\"1\" class=\"dataframe\">\n",
       "  <thead>\n",
       "    <tr style=\"text-align: right;\">\n",
       "      <th></th>\n",
       "      <th>movieId</th>\n",
       "      <th>average rating</th>\n",
       "      <th>rating_count</th>\n",
       "      <th>weighted rating</th>\n",
       "    </tr>\n",
       "  </thead>\n",
       "  <tbody>\n",
       "    <tr>\n",
       "      <th>11684</th>\n",
       "      <td>53916</td>\n",
       "      <td>3.500000</td>\n",
       "      <td>20</td>\n",
       "      <td>3.091172</td>\n",
       "    </tr>\n",
       "    <tr>\n",
       "      <th>15983</th>\n",
       "      <td>84471</td>\n",
       "      <td>3.500000</td>\n",
       "      <td>20</td>\n",
       "      <td>3.091172</td>\n",
       "    </tr>\n",
       "    <tr>\n",
       "      <th>44149</th>\n",
       "      <td>173541</td>\n",
       "      <td>3.500000</td>\n",
       "      <td>20</td>\n",
       "      <td>3.091172</td>\n",
       "    </tr>\n",
       "    <tr>\n",
       "      <th>34113</th>\n",
       "      <td>148701</td>\n",
       "      <td>3.500000</td>\n",
       "      <td>20</td>\n",
       "      <td>3.091172</td>\n",
       "    </tr>\n",
       "    <tr>\n",
       "      <th>17787</th>\n",
       "      <td>93022</td>\n",
       "      <td>3.500000</td>\n",
       "      <td>20</td>\n",
       "      <td>3.091172</td>\n",
       "    </tr>\n",
       "    <tr>\n",
       "      <th>...</th>\n",
       "      <td>...</td>\n",
       "      <td>...</td>\n",
       "      <td>...</td>\n",
       "      <td>...</td>\n",
       "    </tr>\n",
       "    <tr>\n",
       "      <th>522</th>\n",
       "      <td>527</td>\n",
       "      <td>4.247579</td>\n",
       "      <td>60411</td>\n",
       "      <td>4.239593</td>\n",
       "    </tr>\n",
       "    <tr>\n",
       "      <th>1190</th>\n",
       "      <td>1221</td>\n",
       "      <td>4.261759</td>\n",
       "      <td>34188</td>\n",
       "      <td>4.247550</td>\n",
       "    </tr>\n",
       "    <tr>\n",
       "      <th>49</th>\n",
       "      <td>50</td>\n",
       "      <td>4.284353</td>\n",
       "      <td>55366</td>\n",
       "      <td>4.275372</td>\n",
       "    </tr>\n",
       "    <tr>\n",
       "      <th>840</th>\n",
       "      <td>858</td>\n",
       "      <td>4.324336</td>\n",
       "      <td>52498</td>\n",
       "      <td>4.314556</td>\n",
       "    </tr>\n",
       "    <tr>\n",
       "      <th>314</th>\n",
       "      <td>318</td>\n",
       "      <td>4.413576</td>\n",
       "      <td>81482</td>\n",
       "      <td>4.406807</td>\n",
       "    </tr>\n",
       "  </tbody>\n",
       "</table>\n",
       "<p>6163 rows × 4 columns</p>\n",
       "</div>"
      ],
      "text/plain": [
       "       movieId  average rating  rating_count  weighted rating\n",
       "11684    53916        3.500000            20         3.091172\n",
       "15983    84471        3.500000            20         3.091172\n",
       "44149   173541        3.500000            20         3.091172\n",
       "34113   148701        3.500000            20         3.091172\n",
       "17787    93022        3.500000            20         3.091172\n",
       "...        ...             ...           ...              ...\n",
       "522        527        4.247579         60411         4.239593\n",
       "1190      1221        4.261759         34188         4.247550\n",
       "49          50        4.284353         55366         4.275372\n",
       "840        858        4.324336         52498         4.314556\n",
       "314        318        4.413576         81482         4.406807\n",
       "\n",
       "[6163 rows x 4 columns]"
      ]
     },
     "execution_count": 32,
     "metadata": {},
     "output_type": "execute_result"
    }
   ],
   "source": [
    "movie_count_rating_drop[movie_count_rating_drop[\"average rating\"] >= 3.5].sort_values(by=\"weighted rating\", ascending=True)"
   ]
  },
  {
   "cell_type": "code",
   "execution_count": 93,
   "id": "34b555bc",
   "metadata": {
    "ExecuteTime": {
     "end_time": "2021-10-20T19:37:51.284267Z",
     "start_time": "2021-10-20T19:37:51.212560Z"
    }
   },
   "outputs": [
    {
     "data": {
      "text/html": [
       "<div>\n",
       "<style scoped>\n",
       "    .dataframe tbody tr th:only-of-type {\n",
       "        vertical-align: middle;\n",
       "    }\n",
       "\n",
       "    .dataframe tbody tr th {\n",
       "        vertical-align: top;\n",
       "    }\n",
       "\n",
       "    .dataframe thead th {\n",
       "        text-align: right;\n",
       "    }\n",
       "</style>\n",
       "<table border=\"1\" class=\"dataframe\">\n",
       "  <thead>\n",
       "    <tr style=\"text-align: right;\">\n",
       "      <th></th>\n",
       "      <th>movieId</th>\n",
       "      <th>title</th>\n",
       "      <th>userId</th>\n",
       "      <th>rating</th>\n",
       "    </tr>\n",
       "  </thead>\n",
       "  <tbody>\n",
       "    <tr>\n",
       "      <th>15153244</th>\n",
       "      <td>4262</td>\n",
       "      <td>Scarface</td>\n",
       "      <td>3</td>\n",
       "      <td>4.5</td>\n",
       "    </tr>\n",
       "    <tr>\n",
       "      <th>15153245</th>\n",
       "      <td>4262</td>\n",
       "      <td>Scarface</td>\n",
       "      <td>18</td>\n",
       "      <td>3.0</td>\n",
       "    </tr>\n",
       "    <tr>\n",
       "      <th>15153246</th>\n",
       "      <td>4262</td>\n",
       "      <td>Scarface</td>\n",
       "      <td>40</td>\n",
       "      <td>4.5</td>\n",
       "    </tr>\n",
       "    <tr>\n",
       "      <th>15153247</th>\n",
       "      <td>4262</td>\n",
       "      <td>Scarface</td>\n",
       "      <td>80</td>\n",
       "      <td>4.0</td>\n",
       "    </tr>\n",
       "    <tr>\n",
       "      <th>15153248</th>\n",
       "      <td>4262</td>\n",
       "      <td>Scarface</td>\n",
       "      <td>95</td>\n",
       "      <td>4.5</td>\n",
       "    </tr>\n",
       "    <tr>\n",
       "      <th>...</th>\n",
       "      <td>...</td>\n",
       "      <td>...</td>\n",
       "      <td>...</td>\n",
       "      <td>...</td>\n",
       "    </tr>\n",
       "    <tr>\n",
       "      <th>15168138</th>\n",
       "      <td>4262</td>\n",
       "      <td>Scarface</td>\n",
       "      <td>162495</td>\n",
       "      <td>1.0</td>\n",
       "    </tr>\n",
       "    <tr>\n",
       "      <th>15168140</th>\n",
       "      <td>4262</td>\n",
       "      <td>Scarface</td>\n",
       "      <td>162501</td>\n",
       "      <td>3.5</td>\n",
       "    </tr>\n",
       "    <tr>\n",
       "      <th>15168141</th>\n",
       "      <td>4262</td>\n",
       "      <td>Scarface</td>\n",
       "      <td>162512</td>\n",
       "      <td>4.0</td>\n",
       "    </tr>\n",
       "    <tr>\n",
       "      <th>15168142</th>\n",
       "      <td>4262</td>\n",
       "      <td>Scarface</td>\n",
       "      <td>162516</td>\n",
       "      <td>3.5</td>\n",
       "    </tr>\n",
       "    <tr>\n",
       "      <th>15168143</th>\n",
       "      <td>4262</td>\n",
       "      <td>Scarface</td>\n",
       "      <td>162533</td>\n",
       "      <td>4.5</td>\n",
       "    </tr>\n",
       "  </tbody>\n",
       "</table>\n",
       "<p>14250 rows × 4 columns</p>\n",
       "</div>"
      ],
      "text/plain": [
       "          movieId     title  userId  rating\n",
       "15153244     4262  Scarface       3     4.5\n",
       "15153245     4262  Scarface      18     3.0\n",
       "15153246     4262  Scarface      40     4.5\n",
       "15153247     4262  Scarface      80     4.0\n",
       "15153248     4262  Scarface      95     4.5\n",
       "...           ...       ...     ...     ...\n",
       "15168138     4262  Scarface  162495     1.0\n",
       "15168140     4262  Scarface  162501     3.5\n",
       "15168141     4262  Scarface  162512     4.0\n",
       "15168142     4262  Scarface  162516     3.5\n",
       "15168143     4262  Scarface  162533     4.5\n",
       "\n",
       "[14250 rows x 4 columns]"
      ]
     },
     "execution_count": 93,
     "metadata": {},
     "output_type": "execute_result"
    }
   ],
   "source": [
    "data_cf_active[data_cf_active.movieId == 4262]"
   ]
  },
  {
   "cell_type": "code",
   "execution_count": 91,
   "id": "140f05ac",
   "metadata": {},
   "outputs": [
    {
     "data": {
      "text/html": [
       "<div>\n",
       "<style scoped>\n",
       "    .dataframe tbody tr th:only-of-type {\n",
       "        vertical-align: middle;\n",
       "    }\n",
       "\n",
       "    .dataframe tbody tr th {\n",
       "        vertical-align: top;\n",
       "    }\n",
       "\n",
       "    .dataframe thead th {\n",
       "        text-align: right;\n",
       "    }\n",
       "</style>\n",
       "<table border=\"1\" class=\"dataframe\">\n",
       "  <thead>\n",
       "    <tr style=\"text-align: right;\">\n",
       "      <th></th>\n",
       "      <th>movieId</th>\n",
       "      <th>average rating</th>\n",
       "      <th>rating_count</th>\n",
       "      <th>weighted rating</th>\n",
       "    </tr>\n",
       "  </thead>\n",
       "  <tbody>\n",
       "    <tr>\n",
       "      <th>33539</th>\n",
       "      <td>147002</td>\n",
       "      <td>3.000000</td>\n",
       "      <td>20</td>\n",
       "      <td>3.068077</td>\n",
       "    </tr>\n",
       "    <tr>\n",
       "      <th>44193</th>\n",
       "      <td>173629</td>\n",
       "      <td>3.250000</td>\n",
       "      <td>20</td>\n",
       "      <td>3.079625</td>\n",
       "    </tr>\n",
       "    <tr>\n",
       "      <th>33543</th>\n",
       "      <td>147010</td>\n",
       "      <td>3.850000</td>\n",
       "      <td>20</td>\n",
       "      <td>3.107338</td>\n",
       "    </tr>\n",
       "    <tr>\n",
       "      <th>44215</th>\n",
       "      <td>173673</td>\n",
       "      <td>3.900000</td>\n",
       "      <td>20</td>\n",
       "      <td>3.109648</td>\n",
       "    </tr>\n",
       "    <tr>\n",
       "      <th>15484</th>\n",
       "      <td>81681</td>\n",
       "      <td>3.275000</td>\n",
       "      <td>20</td>\n",
       "      <td>3.080779</td>\n",
       "    </tr>\n",
       "    <tr>\n",
       "      <th>...</th>\n",
       "      <td>...</td>\n",
       "      <td>...</td>\n",
       "      <td>...</td>\n",
       "      <td>...</td>\n",
       "    </tr>\n",
       "    <tr>\n",
       "      <th>1154</th>\n",
       "      <td>1183</td>\n",
       "      <td>3.619542</td>\n",
       "      <td>14748</td>\n",
       "      <td>3.604609</td>\n",
       "    </tr>\n",
       "    <tr>\n",
       "      <th>171</th>\n",
       "      <td>173</td>\n",
       "      <td>2.555360</td>\n",
       "      <td>14758</td>\n",
       "      <td>2.569407</td>\n",
       "    </tr>\n",
       "    <tr>\n",
       "      <th>1233</th>\n",
       "      <td>1266</td>\n",
       "      <td>3.994798</td>\n",
       "      <td>14802</td>\n",
       "      <td>3.969732</td>\n",
       "    </tr>\n",
       "    <tr>\n",
       "      <th>4158</th>\n",
       "      <td>4262</td>\n",
       "      <td>3.937383</td>\n",
       "      <td>14900</td>\n",
       "      <td>3.914026</td>\n",
       "    </tr>\n",
       "    <tr>\n",
       "      <th>3374</th>\n",
       "      <td>3471</td>\n",
       "      <td>3.777763</td>\n",
       "      <td>14984</td>\n",
       "      <td>3.758815</td>\n",
       "    </tr>\n",
       "  </tbody>\n",
       "</table>\n",
       "<p>18110 rows × 4 columns</p>\n",
       "</div>"
      ],
      "text/plain": [
       "       movieId  average rating  rating_count  weighted rating\n",
       "33539   147002        3.000000            20         3.068077\n",
       "44193   173629        3.250000            20         3.079625\n",
       "33543   147010        3.850000            20         3.107338\n",
       "44215   173673        3.900000            20         3.109648\n",
       "15484    81681        3.275000            20         3.080779\n",
       "...        ...             ...           ...              ...\n",
       "1154      1183        3.619542         14748         3.604609\n",
       "171        173        2.555360         14758         2.569407\n",
       "1233      1266        3.994798         14802         3.969732\n",
       "4158      4262        3.937383         14900         3.914026\n",
       "3374      3471        3.777763         14984         3.758815\n",
       "\n",
       "[18110 rows x 4 columns]"
      ]
     },
     "execution_count": 91,
     "metadata": {},
     "output_type": "execute_result"
    }
   ],
   "source": [
    "movie_count_rating_drop[movie_count_rating_drop[\"rating_count\"] <= 15000].sort_values(by=\"rating_count\", ascending=True)"
   ]
  },
  {
   "cell_type": "code",
   "execution_count": 35,
   "id": "7b4eace3",
   "metadata": {
    "ExecuteTime": {
     "end_time": "2021-10-20T19:18:06.211191Z",
     "start_time": "2021-10-20T19:18:04.136216Z"
    }
   },
   "outputs": [
    {
     "data": {
      "text/plain": [
       "movieId     18430\n",
       "title       17757\n",
       "userId     102492\n",
       "rating         10\n",
       "dtype: int64"
      ]
     },
     "execution_count": 35,
     "metadata": {},
     "output_type": "execute_result"
    }
   ],
   "source": [
    "data_cf_active.nunique()"
   ]
  },
  {
   "cell_type": "markdown",
   "id": "0dfd649c",
   "metadata": {},
   "source": [
    "# FIM DO AUXILIO TEMPORARIO"
   ]
  },
  {
   "cell_type": "code",
   "execution_count": 36,
   "id": "4fbf7d86",
   "metadata": {
    "ExecuteTime": {
     "end_time": "2021-10-20T19:18:06.227194Z",
     "start_time": "2021-10-20T19:18:06.212191Z"
    }
   },
   "outputs": [],
   "source": [
    "#Voltando a coluna ao normal \n",
    "pd.set_option('display.max_colwidth', 50)"
   ]
  },
  {
   "cell_type": "code",
   "execution_count": 94,
   "id": "caf71a7e",
   "metadata": {
    "ExecuteTime": {
     "end_time": "2021-10-20T19:38:00.272717Z",
     "start_time": "2021-10-20T19:37:57.035977Z"
    }
   },
   "outputs": [
    {
     "name": "stdout",
     "output_type": "stream",
     "text": [
      "Recomendações para Scarface (ID: 4262): \n",
      " \n",
      "1: Boyz N the Hood (ID: 6796), com distância de 467.3408820122631: \n",
      "2: Escape from Alcatraz (ID: 8340), com distância de 468.30198590225945: \n",
      "3: Wall Street (ID: 4007), com distância de 470.86993957992263: \n",
      "4: History of Violence, A (ID: 37733), com distância de 471.1899829155964: \n",
      "5: Narc (ID: 5959), com distância de 471.2700924098621: \n",
      "6: Mean Streets (ID: 8042), com distância de 471.5045068713554: \n",
      "7: Dirty Harry (ID: 4855), com distância de 471.87259933164165: \n",
      "8: Commando (ID: 6664), com distância de 471.92610650397376: \n",
      "9: Layer Cake (ID: 27831), com distância de 472.6433644937798: \n",
      "10: Warriors, The (ID: 7802), com distância de 472.8839709696238: \n"
     ]
    }
   ],
   "source": [
    "movieName = \"Scarface\"\n",
    "# Pegando recomendações\n",
    "a, b = get_recommendations_cf(movieName, knn_cf, data_cf_active)"
   ]
  },
  {
   "cell_type": "markdown",
   "id": "4d7efba2",
   "metadata": {},
   "source": [
    "## 1.4 Utilizando umap para exibir os agrupamentos"
   ]
  },
  {
   "cell_type": "code",
   "execution_count": 38,
   "id": "0a5f3188",
   "metadata": {
    "ExecuteTime": {
     "end_time": "2021-10-20T19:18:12.170975Z",
     "start_time": "2021-10-20T19:18:12.163973Z"
    }
   },
   "outputs": [],
   "source": [
    "import matplotlib.pyplot as plt\n",
    "import seaborn as sns\n",
    "import matplotlib.pyplot as plt\n",
    "\n",
    "from mpl_toolkits.axes_grid1.inset_locator import zoomed_inset_axes\n",
    "from mpl_toolkits.axes_grid1.inset_locator import mark_inset\n",
    "\n",
    "%matplotlib inline\n",
    "\n",
    "import umap\n",
    "import umap.plot"
   ]
  },
  {
   "cell_type": "code",
   "execution_count": 39,
   "id": "33d256b9",
   "metadata": {
    "ExecuteTime": {
     "end_time": "2021-10-20T19:18:12.552062Z",
     "start_time": "2021-10-20T19:18:12.540061Z"
    }
   },
   "outputs": [],
   "source": [
    "# Tirando uma amostra\n",
    "N = 2000 #numero de FILMES na amostra \n",
    "sample_indexes = np.random.choice(np.arange(movie_user_matrix.shape[0]),N, replace=False)\n",
    "# Pegando a amostra\n",
    "sample = movie_user_matrix[sample_indexes]"
   ]
  },
  {
   "cell_type": "code",
   "execution_count": 40,
   "id": "1bb57b92",
   "metadata": {
    "ExecuteTime": {
     "end_time": "2021-10-20T19:18:13.772985Z",
     "start_time": "2021-10-20T19:18:13.754982Z"
    }
   },
   "outputs": [],
   "source": [
    "#caso queira restar a variavel\n",
    "\n",
    "#%reset_selective trans\n",
    "#%reset"
   ]
  },
  {
   "cell_type": "code",
   "execution_count": 41,
   "id": "0a115b85",
   "metadata": {
    "ExecuteTime": {
     "end_time": "2021-10-20T19:24:54.726064Z",
     "start_time": "2021-10-20T19:18:14.747951Z"
    }
   },
   "outputs": [
    {
     "name": "stdout",
     "output_type": "stream",
     "text": [
      "Wall time: 6min 37s\n"
     ]
    }
   ],
   "source": [
    "%%time\n",
    "trans = umap.UMAP(n_neighbors=N_NEIGHBORS, random_state=64, metric='euclidean').fit(movie_user_matrix)"
   ]
  },
  {
   "cell_type": "code",
   "execution_count": 42,
   "id": "8fca9fdf",
   "metadata": {
    "ExecuteTime": {
     "end_time": "2021-10-20T16:44:40.431919Z",
     "start_time": "2021-10-20T16:44:40.417911Z"
    }
   },
   "outputs": [
    {
     "data": {
      "text/html": [
       "<style>div.output_scroll { height: 80em; }</style>"
      ],
      "text/plain": [
       "<IPython.core.display.HTML object>"
      ]
     },
     "metadata": {},
     "output_type": "display_data"
    }
   ],
   "source": [
    "from IPython.core.display import display, HTML\n",
    "display(HTML(\"<style>div.output_scroll { height: 80em; }</style>\"))"
   ]
  },
  {
   "cell_type": "code",
   "execution_count": 96,
   "id": "51e45bbd",
   "metadata": {
    "ExecuteTime": {
     "end_time": "2021-10-20T19:41:08.226359Z",
     "start_time": "2021-10-20T19:41:07.804985Z"
    }
   },
   "outputs": [
    {
     "data": {
      "image/png": "[encoded data removed]",
      "text/plain": [
       "<Figure size 1008x720 with 2 Axes>"
      ]
     },
     "metadata": {
      "needs_background": "light"
     },
     "output_type": "display_data"
    }
   ],
   "source": [
    "def plotKNN():\n",
    "    # pegando a lista de recomendações\n",
    "    recommendations_ids = b.flatten()\n",
    "    averageRating = movie_count_rating_drop[movie_count_rating_drop['movieId'] == recommendations_ids[0]]['average rating']\n",
    "    numRatings = movie_count_rating_drop[movie_count_rating_drop['movieId'] == recommendations_ids[0]]['rating_count']\n",
    "    fig, ax = plt.subplots(figsize=(14, 10))\n",
    "\n",
    "    # AREA DO GRAFICO BASE\n",
    "    #mostrando os valores normais\n",
    "    ax.scatter(trans.embedding_[:, 0], trans.embedding_[:, 1], s=5, facecolors='black', cmap='Spectral', alpha=0.15, linewidths=1)\n",
    "    #mostrando filme pedido pelo usuario\n",
    "    ax.scatter(trans.embedding_[:, 0][recommendations_ids[0]], trans.embedding_[:, 1][recommendations_ids[0]], s=5, c='blue', cmap='Spectral', alpha=0.7)\n",
    "    #mostrando filmes recomendados\n",
    "    ax.scatter(trans.embedding_[:, 0][recommendations_ids[1:]], trans.embedding_[:, 1][recommendations_ids[1:]], s=5, c='red', cmap='Spectral', alpha=0.7)\n",
    "    ax.set(title='KNN' + ' - Recomendações para ' + movieName + ' - Numero de Ratings: ' + str(numRatings.values[0]) +' - Nota Média: ' +  str(averageRating.values[0]))\n",
    "    \n",
    "#   ax.set_xlim(2.1962, 12)\n",
    "#   ax.set_ylim(2.1962, 12)\n",
    "    ax.set_xlim(0, 20)\n",
    "    ax.set_ylim(-10, 15)\n",
    "    # verificando se os pontos gerados são nan, se for, é impossivel exibir essas recomendações graficamente\n",
    "    if(np.isnan(trans.embedding_[:, 0][recommendations_ids]).all() and np.isnan(trans.embedding_[:, 1][recommendations_ids]).all()):\n",
    "        print(\"Não foi possivel gerar o gráfico para as recomendações de {0}, por favor tente outro filme.\\n\" .format(movieName))\n",
    "        return\n",
    "    \n",
    "    # mostrando legenda\n",
    "    colors_list =  ['blue', 'red', 'green', 'yellow', 'magenta', 'brown', 'orange', 'black', 'indigo', 'chocolate', 'turquoise']\n",
    "    legend_list = []\n",
    "    # filme\n",
    "    filme_pesquisado = mlines.Line2D([],[], linestyle='None', color='blue', marker=\"*\", markersize=15,\n",
    "                                     label=list(data_cf_active[data_cf_active.movieId == recommendations_ids[0]].title)[0])\n",
    "    legend_list.append(filme_pesquisado)\n",
    "    \n",
    "    for i in range(1, 11):\n",
    "        filme_recomendado = mlines.Line2D([],[], linestyle='None', color=colors_list[i], marker=\".\", markersize=13,\n",
    "                                       label=list(data_cf_active[data_cf_active.movieId == recommendations_ids[i]].title)[0])\n",
    "    \n",
    "        legend_list.append(filme_recomendado)\n",
    "        \n",
    "    ax.legend(handles=legend_list)\n",
    "    \n",
    "    \n",
    "    #================================================================================================================\n",
    "    # AREA DO ZOOM\n",
    "    axins = zoomed_inset_axes(ax, 2, loc=3) # zoom = 8\n",
    "    #axins.set(title='Recomendações para ' + movieName)\n",
    "    #mostrando os valores normais\n",
    "    axins.scatter(trans.embedding_[:, 0], trans.embedding_[:, 1], s=3, facecolors='grey', cmap='Spectral', alpha=0.6, linewidths=0.7)\n",
    "    \n",
    "    \n",
    "    #mostrando filme pedido pelo usuario\n",
    "    axins.scatter(trans.embedding_[:, 0][recommendations_ids[0]], trans.embedding_[:, 1][recommendations_ids[0]], s=20, c='blue', cmap='Spectral', alpha=1, marker=\"*\")\n",
    "    \n",
    "    #mostrando todos os filmes recomendados - essa linha abaixo pode ser comentada\n",
    "    axins.scatter(trans.embedding_[:, 0][recommendations_ids[1:]], trans.embedding_[:, 1][recommendations_ids[1:]], s=5, c='red', cmap='Spectral', alpha=1)\n",
    "   \n",
    "    #mostrando os filmes 1 ao 10\n",
    "    for i in range(1, 11):\n",
    "        axins.scatter(trans.embedding_[:, 0][recommendations_ids[i]], trans.embedding_[:, 1][recommendations_ids[i]], s=5, c=colors_list[i], cmap='Spectral', alpha=1)\n",
    "    \n",
    "    \n",
    "    #setando os limites do plot do zoom - min e max de cada axis + um offset\n",
    "    offset = 0.2\n",
    "\n",
    "    axins.set_xlim(np.nanmin(trans.embedding_[:, 0][recommendations_ids]) - offset, np.nanmax(trans.embedding_[:, 0][recommendations_ids]) + offset)\n",
    "    axins.set_ylim(np.nanmin(trans.embedding_[:, 1][recommendations_ids]) - offset, np.nanmax(trans.embedding_[:, 1][recommendations_ids]) + offset)\n",
    "\n",
    "\n",
    "    plt.xticks(visible=False)  # Not present ticks\n",
    "    plt.yticks(visible=False)\n",
    "    #\n",
    "    ## draw a bbox of the region of the inset axes in the parent axes and\n",
    "    ## connecting lines between the bbox and the inset axes area\n",
    "    mark_inset(ax, axins, loc1=2, loc2=4, fc=\"none\", ec=\"0.3\")\n",
    "\n",
    "    plt.draw()\n",
    "    plt.show()\n",
    "    \n",
    "\n",
    "plotKNN()"
   ]
  },
  {
   "cell_type": "code",
   "execution_count": 38,
   "id": "0043837c",
   "metadata": {
    "ExecuteTime": {
     "end_time": "2021-10-20T19:00:58.009823Z",
     "start_time": "2021-10-20T19:00:57.042605Z"
    }
   },
   "outputs": [
    {
     "name": "stdout",
     "output_type": "stream",
     "text": [
      "204364\n"
     ]
    }
   ],
   "source": [
    "count1 = 0\n",
    "for x, y in trans.embedding_:\n",
    "    if(x >= 2.1962 or y >= 2.1962):\n",
    "        count1 += 1\n",
    "print(count1)"
   ]
  },
  {
   "cell_type": "code",
   "execution_count": 362,
   "id": "2e612f7e",
   "metadata": {
    "ExecuteTime": {
     "end_time": "2021-10-20T19:15:20.572535Z",
     "start_time": "2021-10-20T19:15:19.835230Z"
    }
   },
   "outputs": [
    {
     "name": "stdout",
     "output_type": "stream",
     "text": [
      "176220\n"
     ]
    }
   ],
   "source": [
    "count2 = 0\n",
    "for x, y in trans.embedding_:\n",
    "    if(x < 2.1962 or y < 2.1962 ):\n",
    "        count2 += 1\n",
    "print(count2)"
   ]
  },
  {
   "cell_type": "code",
   "execution_count": 301,
   "id": "cac5a711",
   "metadata": {
    "ExecuteTime": {
     "end_time": "2021-10-20T18:56:57.861373Z",
     "start_time": "2021-10-20T18:56:55.778738Z"
    }
   },
   "outputs": [
    {
     "data": {
      "text/plain": [
       "movieId     32720\n",
       "title       31208\n",
       "userId     102492\n",
       "rating         10\n",
       "dtype: int64"
      ]
     },
     "execution_count": 301,
     "metadata": {},
     "output_type": "execute_result"
    }
   ],
   "source": [
    "data_cf_active.nunique()"
   ]
  },
  {
   "cell_type": "code",
   "execution_count": 365,
   "id": "7cb54e34",
   "metadata": {
    "ExecuteTime": {
     "end_time": "2021-10-20T19:15:51.989296Z",
     "start_time": "2021-10-20T19:15:51.980293Z"
    }
   },
   "outputs": [
    {
     "name": "stdout",
     "output_type": "stream",
     "text": [
      "(208940, 2)\n"
     ]
    },
    {
     "data": {
      "text/plain": [
       "<208940x208940 sparse matrix of type '<class 'numpy.float32'>'\n",
       "\twith 2824068 stored elements in Compressed Sparse Row format>"
      ]
     },
     "execution_count": 365,
     "metadata": {},
     "output_type": "execute_result"
    }
   ],
   "source": [
    "print(trans.embedding_.shape)\n",
    "\n",
    "trans.graph_\n"
   ]
  },
  {
   "cell_type": "code",
   "execution_count": 366,
   "id": "eaf570f4",
   "metadata": {
    "ExecuteTime": {
     "end_time": "2021-10-20T19:15:53.484087Z",
     "start_time": "2021-10-20T19:15:53.476084Z"
    }
   },
   "outputs": [
    {
     "data": {
      "text/plain": [
       "<208940x162542 sparse matrix of type '<class 'numpy.float64'>'\n",
       "\twith 23054035 stored elements in Compressed Sparse Column format>"
      ]
     },
     "execution_count": 366,
     "metadata": {},
     "output_type": "execute_result"
    }
   ],
   "source": [
    "movie_user_matrix"
   ]
  },
  {
   "cell_type": "code",
   "execution_count": 348,
   "id": "ed6eb5c9",
   "metadata": {
    "ExecuteTime": {
     "end_time": "2021-10-20T19:07:45.977953Z",
     "start_time": "2021-10-20T19:07:45.946948Z"
    }
   },
   "outputs": [
    {
     "data": {
      "text/plain": [
       "(array([  1706,   1740,   1764,   1774,   2619,   3904,  35681,  39048,\n",
       "         62213,  74473,  77951,  87689,  93923,  94218,  95425,  96755,\n",
       "         97730,  99260, 102807, 105040, 120950, 122234, 126554, 129005,\n",
       "        131148, 132454, 134829, 135603, 135797, 136363, 138458, 139034,\n",
       "        140295, 140325, 140559, 140707, 141367, 142384, 142817, 143115,\n",
       "        143233, 144068, 144552, 145388, 146372, 146374, 146384, 146400,\n",
       "        147436, 148052, 148168, 148438, 148484, 149588, 150352, 150876,\n",
       "        151973, 152041, 152828, 152898, 153937, 155133, 155994, 157593,\n",
       "        157771, 157995, 159207, 161028, 162666, 162814, 163470, 164001,\n",
       "        164707, 164743, 166954, 167412, 167424, 167806, 168000, 168030,\n",
       "        168952, 169096, 169114, 169524, 169592, 169726, 169854, 169872,\n",
       "        171457, 171555, 171947, 172681, 172829, 173677, 174459, 174669,\n",
       "        177091, 177263, 181365, 182223, 182673, 182813, 182893, 183375,\n",
       "        183805, 184289, 184479, 185767, 186207, 187517, 188335, 188353,\n",
       "        193805, 196503, 198067, 199219, 200038, 201300, 201652, 202497,\n",
       "        206959, 207343, 208295], dtype=int64),)"
      ]
     },
     "execution_count": 348,
     "metadata": {},
     "output_type": "execute_result"
    }
   ],
   "source": [
    "np.where(umap.utils.disconnected_vertices(trans) == True)"
   ]
  },
  {
   "cell_type": "code",
   "execution_count": 359,
   "id": "12caf348",
   "metadata": {
    "ExecuteTime": {
     "end_time": "2021-10-20T19:13:37.664950Z",
     "start_time": "2021-10-20T19:13:37.659949Z"
    }
   },
   "outputs": [
    {
     "data": {
      "text/plain": [
       "(23054035, 4)"
      ]
     },
     "execution_count": 359,
     "metadata": {},
     "output_type": "execute_result"
    }
   ],
   "source": [
    "data_cf_active.shape"
   ]
  },
  {
   "cell_type": "code",
   "execution_count": 90,
   "id": "3f7febfa",
   "metadata": {},
   "outputs": [
    {
     "name": "stdout",
     "output_type": "stream",
     "text": [
      "[ 527  593  590  150  110 2028  318  377  457  356  480]\n",
      "  (0, 3)\t4.0\n",
      "  (0, 5)\t5.0\n",
      "  (0, 8)\t4.0\n",
      "  (0, 9)\t5.0\n",
      "  (0, 10)\t4.5\n",
      "  (0, 12)\t4.0\n",
      "  (0, 13)\t4.5\n",
      "  (0, 18)\t4.0\n",
      "  (0, 19)\t4.0\n",
      "  (0, 20)\t5.0\n",
      "  (0, 23)\t5.0\n",
      "  (0, 25)\t5.0\n",
      "  (0, 31)\t3.0\n",
      "  (0, 36)\t4.0\n",
      "  (0, 37)\t4.5\n",
      "  (0, 38)\t3.5\n",
      "  (0, 40)\t4.0\n",
      "  (0, 43)\t3.5\n",
      "  (0, 50)\t4.5\n",
      "  (0, 57)\t4.5\n",
      "  (0, 59)\t4.5\n",
      "  (0, 62)\t4.5\n",
      "  (0, 66)\t3.0\n",
      "  (0, 69)\t5.0\n",
      "  (0, 70)\t3.5\n",
      "  :\t:\n",
      "  (0, 162482)\t3.5\n",
      "  (0, 162484)\t3.0\n",
      "  (0, 162485)\t4.0\n",
      "  (0, 162486)\t4.0\n",
      "  (0, 162488)\t4.0\n",
      "  (0, 162489)\t4.0\n",
      "  (0, 162491)\t3.0\n",
      "  (0, 162492)\t5.0\n",
      "  (0, 162493)\t5.0\n",
      "  (0, 162495)\t3.0\n",
      "  (0, 162499)\t4.5\n",
      "  (0, 162501)\t5.0\n",
      "  (0, 162507)\t5.0\n",
      "  (0, 162509)\t3.0\n",
      "  (0, 162510)\t4.0\n",
      "  (0, 162513)\t4.5\n",
      "  (0, 162515)\t4.0\n",
      "  (0, 162516)\t5.0\n",
      "  (0, 162519)\t5.0\n",
      "  (0, 162524)\t4.0\n",
      "  (0, 162528)\t4.0\n",
      "  (0, 162529)\t5.0\n",
      "  (0, 162537)\t5.0\n",
      "  (0, 162538)\t4.5\n",
      "  (0, 162541)\t4.0\n"
     ]
    },
    {
     "data": {
      "text/html": [
       "<div>\n",
       "<style scoped>\n",
       "    .dataframe tbody tr th:only-of-type {\n",
       "        vertical-align: middle;\n",
       "    }\n",
       "\n",
       "    .dataframe tbody tr th {\n",
       "        vertical-align: top;\n",
       "    }\n",
       "\n",
       "    .dataframe thead th {\n",
       "        text-align: right;\n",
       "    }\n",
       "</style>\n",
       "<table border=\"1\" class=\"dataframe\">\n",
       "  <thead>\n",
       "    <tr style=\"text-align: right;\">\n",
       "      <th></th>\n",
       "      <th>movieId</th>\n",
       "      <th>title</th>\n",
       "      <th>userId</th>\n",
       "      <th>rating</th>\n",
       "    </tr>\n",
       "  </thead>\n",
       "  <tbody>\n",
       "    <tr>\n",
       "      <th>4019036</th>\n",
       "      <td>593</td>\n",
       "      <td>Silence of the Lambs, The</td>\n",
       "      <td>3</td>\n",
       "      <td>4.0</td>\n",
       "    </tr>\n",
       "    <tr>\n",
       "      <th>4019037</th>\n",
       "      <td>593</td>\n",
       "      <td>Silence of the Lambs, The</td>\n",
       "      <td>5</td>\n",
       "      <td>5.0</td>\n",
       "    </tr>\n",
       "    <tr>\n",
       "      <th>4019040</th>\n",
       "      <td>593</td>\n",
       "      <td>Silence of the Lambs, The</td>\n",
       "      <td>8</td>\n",
       "      <td>4.0</td>\n",
       "    </tr>\n",
       "    <tr>\n",
       "      <th>4019041</th>\n",
       "      <td>593</td>\n",
       "      <td>Silence of the Lambs, The</td>\n",
       "      <td>9</td>\n",
       "      <td>5.0</td>\n",
       "    </tr>\n",
       "    <tr>\n",
       "      <th>4019042</th>\n",
       "      <td>593</td>\n",
       "      <td>Silence of the Lambs, The</td>\n",
       "      <td>10</td>\n",
       "      <td>4.5</td>\n",
       "    </tr>\n",
       "    <tr>\n",
       "      <th>...</th>\n",
       "      <td>...</td>\n",
       "      <td>...</td>\n",
       "      <td>...</td>\n",
       "      <td>...</td>\n",
       "    </tr>\n",
       "    <tr>\n",
       "      <th>4093158</th>\n",
       "      <td>593</td>\n",
       "      <td>Silence of the Lambs, The</td>\n",
       "      <td>162528</td>\n",
       "      <td>4.0</td>\n",
       "    </tr>\n",
       "    <tr>\n",
       "      <th>4093159</th>\n",
       "      <td>593</td>\n",
       "      <td>Silence of the Lambs, The</td>\n",
       "      <td>162529</td>\n",
       "      <td>5.0</td>\n",
       "    </tr>\n",
       "    <tr>\n",
       "      <th>4093160</th>\n",
       "      <td>593</td>\n",
       "      <td>Silence of the Lambs, The</td>\n",
       "      <td>162537</td>\n",
       "      <td>5.0</td>\n",
       "    </tr>\n",
       "    <tr>\n",
       "      <th>4093161</th>\n",
       "      <td>593</td>\n",
       "      <td>Silence of the Lambs, The</td>\n",
       "      <td>162538</td>\n",
       "      <td>4.5</td>\n",
       "    </tr>\n",
       "    <tr>\n",
       "      <th>4093162</th>\n",
       "      <td>593</td>\n",
       "      <td>Silence of the Lambs, The</td>\n",
       "      <td>162541</td>\n",
       "      <td>4.0</td>\n",
       "    </tr>\n",
       "  </tbody>\n",
       "</table>\n",
       "<p>58744 rows × 4 columns</p>\n",
       "</div>"
      ],
      "text/plain": [
       "         movieId                      title  userId  rating\n",
       "4019036      593  Silence of the Lambs, The       3     4.0\n",
       "4019037      593  Silence of the Lambs, The       5     5.0\n",
       "4019040      593  Silence of the Lambs, The       8     4.0\n",
       "4019041      593  Silence of the Lambs, The       9     5.0\n",
       "4019042      593  Silence of the Lambs, The      10     4.5\n",
       "...          ...                        ...     ...     ...\n",
       "4093158      593  Silence of the Lambs, The  162528     4.0\n",
       "4093159      593  Silence of the Lambs, The  162529     5.0\n",
       "4093160      593  Silence of the Lambs, The  162537     5.0\n",
       "4093161      593  Silence of the Lambs, The  162538     4.5\n",
       "4093162      593  Silence of the Lambs, The  162541     4.0\n",
       "\n",
       "[58744 rows x 4 columns]"
      ]
     },
     "execution_count": 90,
     "metadata": {},
     "output_type": "execute_result"
    }
   ],
   "source": [
    "print(b.flatten())\n",
    "\n",
    "print(movie_user_matrix[593])\n",
    "\n",
    "data_cf_active[data_cf_active.movieId == 593].sort_values(by=\"userId\", ascending=True)"
   ]
  },
  {
   "cell_type": "code",
   "execution_count": 79,
   "id": "45f8117e",
   "metadata": {},
   "outputs": [
    {
     "data": {
      "text/plain": [
       "array([ 527,  593,  590,  150,  110, 2028,  318,  377,  457,  356,  480],\n",
       "      dtype=int64)"
      ]
     },
     "execution_count": 79,
     "metadata": {},
     "output_type": "execute_result"
    }
   ],
   "source": []
  },
  {
   "cell_type": "markdown",
   "id": "f353cc90",
   "metadata": {},
   "source": [
    "# todo: comparar graficos feitos com data_cf e data_cf_active"
   ]
  }
 ],
 "metadata": {
  "kernelspec": {
   "display_name": "Python 3 (ipykernel)",
   "language": "python",
   "name": "python3"
  },
  "language_info": {
   "codemirror_mode": {
    "name": "ipython",
    "version": 3
   },
   "file_extension": ".py",
   "mimetype": "text/x-python",
   "name": "python",
   "nbconvert_exporter": "python",
   "pygments_lexer": "ipython3",
   "version": "3.8.12"
  }
 },
 "nbformat": 4,
 "nbformat_minor": 5
}
