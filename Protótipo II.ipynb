{
 "cells": [
  {
   "cell_type": "markdown",
   "id": "4ccfa187",
   "metadata": {},
   "source": [
    "## Protótipo II - Sistema de recomendação baseado em modelos de <i>Machine Learning</i>"
   ]
  },
  {
   "cell_type": "markdown",
   "id": "e84d2b4e",
   "metadata": {},
   "source": [
    "Nesse notebook, continuamos o desenvolvimento do TCC acerca do tema acima, aqui iremos pegar os arquivos .pkl criados e trabalharmos um pouco mais no processamento e organização dos dados ali presentes."
   ]
  },
  {
   "cell_type": "code",
   "execution_count": 4,
   "id": "3c66e93b",
   "metadata": {
    "ExecuteTime": {
     "end_time": "2021-07-12T18:08:08.588341Z",
     "start_time": "2021-07-12T18:08:08.573337Z"
    }
   },
   "outputs": [],
   "source": [
    "# CONSTANTES COLLABORATIVE FILTERING\n",
    "\n",
    "# CAMINHOS\n",
    "\n",
    "# \n",
    "PATH_TO_FULL_CF_FILE = \"preprocessed-data/CF/data_cf.pkl\"\n",
    "\n",
    "PATH_TO_MOVIES_CF_FILE = \"preprocessed-data/CF/movies_cf.pkl\"\n",
    "\n",
    "PATH_TO_RATINGS_CF_FILE = \"preprocessed-data/CF/ratings_cf.pkl\"\n",
    "\n",
    "# DataFrames Names\n",
    "\n",
    "# data_cf = arquivo completo \n",
    "# movies_cf = arquivos de filmes\n",
    "# ratings_cf = arquivos de ratings\n",
    "\n",
    "# KNN\n",
    "N_NEIGHBORS = 10"
   ]
  },
  {
   "cell_type": "code",
   "execution_count": 5,
   "id": "2ab0c069",
   "metadata": {
    "ExecuteTime": {
     "end_time": "2021-07-12T18:08:08.791349Z",
     "start_time": "2021-07-12T18:08:08.771346Z"
    }
   },
   "outputs": [],
   "source": [
    "# Importando bibliotecas necessárias\n",
    "import pandas as pd\n",
    "pd.set_option(\"display.max_rows\", 25)\n",
    "import numpy as np\n",
    "import matplotlib.pyplot as plt\n",
    "import seaborn as sns\n",
    "\n",
    "import sys\n",
    "\n",
    "# Importando garbage collector\n",
    "import gc\n",
    "\n",
    "# Importando bibliotecas para o sistema de recomendação\n",
    "import scipy.sparse as sparse # Matriz esparsa (csr_matrix)\n",
    "\n",
    "# Importando sklearn\n",
    "import sklearn\n",
    "from sklearn.neighbors import NearestNeighbors\n",
    "\n",
    "# Importando Regular Expression operations\n",
    "import re"
   ]
  },
  {
   "cell_type": "markdown",
   "id": "b2cf7a5a",
   "metadata": {},
   "source": [
    "# 1 - Preparação dos dados para Collaborative Filtering"
   ]
  },
  {
   "cell_type": "markdown",
   "id": "3d6fde2f",
   "metadata": {},
   "source": [
    "#### Trabalharemos aqui com a criação da matriz filme x usuário da melhor maneira possível."
   ]
  },
  {
   "cell_type": "code",
   "execution_count": 77,
   "id": "c1023049",
   "metadata": {
    "ExecuteTime": {
     "end_time": "2021-07-12T18:08:09.524778Z",
     "start_time": "2021-07-12T18:08:09.499772Z"
    }
   },
   "outputs": [],
   "source": [
    "# Definindo Função que carrega os arquivos\n",
    "def load_cf_files(full_file=True, movie_file=False, ratings_file=False):\n",
    "    if(full_file):\n",
    "        # Carregando o arquivo pré processado completo\n",
    "        data_cf = pd.read_pickle(PATH_TO_FULL_CF_FILE)\n",
    "        data_cf = data_cf[[\"movieId\", \"title\", \"userId\", \"rating\"]] # Reajustando ordem das colunas\n",
    "        \n",
    "        print(\"Arquivo completo: Carregado com sucesso!\")\n",
    "    else:\n",
    "        print(\"Arquivo completo: Não foi carregado, verifique os parâmetros para ver se essa era a intenção!\")\n",
    "        \n",
    "    if(movie_file):\n",
    "        # Carregando arquivo de filmes\n",
    "        movies_cf = pd.read_pickle(PATH_TO_MOVIES_CF_FILE)\n",
    "        print(\"Arquivo de filmes: Carregado com sucesso!\")\n",
    "    else:\n",
    "        print(\"Arquivo de filmes: Não foi carregado, verifique os parâmetros para ver se essa era a intenção!\")\n",
    "        \n",
    "    if(ratings_file):\n",
    "        ratings_cf = pd.read_pickle(PATH_TO_RATINGS_CF_FILE)\n",
    "        print(\"Arquivo de ratings: Carregado com sucesso!\")\n",
    "    else:\n",
    "        print(\"Arquivo de ratings: Não foi carregado, verifique os parâmetros para ver se essa era a intenção!\")\n",
    "        \n",
    "    #definindo retornos\n",
    "    if(\"data_cf\" in locals()):\n",
    "        if(\"movies_cf\" in locals()):\n",
    "            if(\"ratings_cf\" in locals()):\n",
    "                return data_cf, movies_cf, ratings_cf\n",
    "            else:\n",
    "                return data_cf, movies_cf\n",
    "        else:\n",
    "            return data_cf\n",
    "    elif(\"movies_cf\" in locals()):\n",
    "        if(\"ratings_cf\" in locals()):\n",
    "            return movies_cf, ratings_cf\n",
    "        else:\n",
    "            return movies_cf\n",
    "    elif(\"ratings_cf\" in locals()):\n",
    "        return ratings_cf\n",
    "    \n",
    "    else:\n",
    "        return None"
   ]
  },
  {
   "cell_type": "code",
   "execution_count": 78,
   "id": "01d1fd72",
   "metadata": {
    "ExecuteTime": {
     "end_time": "2021-07-12T18:08:13.160525Z",
     "start_time": "2021-07-12T18:08:11.043850Z"
    }
   },
   "outputs": [
    {
     "name": "stdout",
     "output_type": "stream",
     "text": [
      "Arquivo completo: Carregado com sucesso!\n",
      "Arquivo de filmes: Carregado com sucesso!\n",
      "Arquivo de ratings: Não foi carregado, verifique os parâmetros para ver se essa era a intenção!\n"
     ]
    }
   ],
   "source": [
    "# Chamando função de carregar os arquivos\n",
    "data_cf, movies_cf = load_cf_files(full_file=True, movie_file=True, ratings_file=False)"
   ]
  },
  {
   "cell_type": "code",
   "execution_count": 79,
   "id": "8d353ad2",
   "metadata": {
    "ExecuteTime": {
     "end_time": "2021-07-12T18:08:13.346566Z",
     "start_time": "2021-07-12T18:08:13.183529Z"
    },
    "scrolled": true
   },
   "outputs": [
    {
     "data": {
      "text/html": [
       "<div>\n",
       "<style scoped>\n",
       "    .dataframe tbody tr th:only-of-type {\n",
       "        vertical-align: middle;\n",
       "    }\n",
       "\n",
       "    .dataframe tbody tr th {\n",
       "        vertical-align: top;\n",
       "    }\n",
       "\n",
       "    .dataframe thead th {\n",
       "        text-align: right;\n",
       "    }\n",
       "</style>\n",
       "<table border=\"1\" class=\"dataframe\">\n",
       "  <thead>\n",
       "    <tr style=\"text-align: right;\">\n",
       "      <th></th>\n",
       "      <th>movieId</th>\n",
       "      <th>title</th>\n",
       "      <th>userId</th>\n",
       "      <th>rating</th>\n",
       "    </tr>\n",
       "  </thead>\n",
       "  <tbody>\n",
       "    <tr>\n",
       "      <th>25000090</th>\n",
       "      <td>209157</td>\n",
       "      <td>We</td>\n",
       "      <td>119571</td>\n",
       "      <td>1.5</td>\n",
       "    </tr>\n",
       "    <tr>\n",
       "      <th>25000091</th>\n",
       "      <td>209159</td>\n",
       "      <td>Window of the Soul</td>\n",
       "      <td>115835</td>\n",
       "      <td>3.0</td>\n",
       "    </tr>\n",
       "    <tr>\n",
       "      <th>25000092</th>\n",
       "      <td>209163</td>\n",
       "      <td>Bad Poems</td>\n",
       "      <td>6964</td>\n",
       "      <td>4.5</td>\n",
       "    </tr>\n",
       "    <tr>\n",
       "      <th>25000093</th>\n",
       "      <td>209169</td>\n",
       "      <td>A Girl Thing</td>\n",
       "      <td>119571</td>\n",
       "      <td>3.0</td>\n",
       "    </tr>\n",
       "    <tr>\n",
       "      <th>25000094</th>\n",
       "      <td>209171</td>\n",
       "      <td>Women of Devil's Island</td>\n",
       "      <td>119571</td>\n",
       "      <td>3.0</td>\n",
       "    </tr>\n",
       "  </tbody>\n",
       "</table>\n",
       "</div>"
      ],
      "text/plain": [
       "          movieId                    title  userId  rating\n",
       "25000090   209157                       We  119571     1.5\n",
       "25000091   209159       Window of the Soul  115835     3.0\n",
       "25000092   209163                Bad Poems    6964     4.5\n",
       "25000093   209169             A Girl Thing  119571     3.0\n",
       "25000094   209171  Women of Devil's Island  119571     3.0"
      ]
     },
     "execution_count": 79,
     "metadata": {},
     "output_type": "execute_result"
    }
   ],
   "source": [
    "data_cf.tail()"
   ]
  },
  {
   "cell_type": "markdown",
   "id": "1f700e66",
   "metadata": {},
   "source": [
    "#### Analisando um pouco o arquivo de filmes e o completo"
   ]
  },
  {
   "cell_type": "code",
   "execution_count": 80,
   "id": "9e1a651a",
   "metadata": {
    "ExecuteTime": {
     "end_time": "2021-07-12T18:08:22.919463Z",
     "start_time": "2021-07-12T18:08:19.363774Z"
    }
   },
   "outputs": [
    {
     "name": "stdout",
     "output_type": "stream",
     "text": [
      "            movieId        userId        rating\n",
      "count  2.500010e+07  2.500010e+07  2.500010e+07\n",
      "mean   2.138798e+04  8.118928e+04  3.533854e+00\n",
      "std    3.919886e+04  4.679172e+04  1.060744e+00\n",
      "min    1.000000e+00  1.000000e+00  5.000000e-01\n",
      "25%    1.196000e+03  4.051000e+04  3.000000e+00\n",
      "50%    2.947000e+03  8.091400e+04  3.500000e+00\n",
      "75%    8.623000e+03  1.215570e+05  4.000000e+00\n",
      "max    2.091710e+05  1.625410e+05  5.000000e+00\n",
      "\n",
      "\n",
      "\n",
      "Forrest Gump                          81491\n",
      "Shawshank Redemption, The             81482\n",
      "Pulp Fiction                          79672\n",
      "Silence of the Lambs, The             74127\n",
      "Matrix, The                           72674\n",
      "                                      ...  \n",
      "Young Billy Young                         1\n",
      "I Promessi sposi - Secondo il Trio        1\n",
      "Woman Basketball Player No. 5             1\n",
      "First Round Down                          1\n",
      "H3 - Halloween Horror Hostel              1\n",
      "Name: title, Length: 55463, dtype: int64\n"
     ]
    }
   ],
   "source": [
    "# Informações gerais sobre o arquivo completo\n",
    "print(data_cf.describe())\n",
    "print(\"\\n\\n\")\n",
    "print(data_cf['title'].value_counts())"
   ]
  },
  {
   "cell_type": "markdown",
   "id": "cb004c8c",
   "metadata": {},
   "source": [
    "#### Podemos notar acima que, alguns filmes tem apenas 1 avaliação, o que pode complicar na comparação, devemos removê-los?"
   ]
  },
  {
   "cell_type": "code",
   "execution_count": 81,
   "id": "14226c2f",
   "metadata": {
    "ExecuteTime": {
     "end_time": "2021-07-12T18:08:24.874753Z",
     "start_time": "2021-07-12T18:08:22.921465Z"
    }
   },
   "outputs": [
    {
     "data": {
      "text/html": [
       "<div>\n",
       "<style scoped>\n",
       "    .dataframe tbody tr th:only-of-type {\n",
       "        vertical-align: middle;\n",
       "    }\n",
       "\n",
       "    .dataframe tbody tr th {\n",
       "        vertical-align: top;\n",
       "    }\n",
       "\n",
       "    .dataframe thead th {\n",
       "        text-align: right;\n",
       "    }\n",
       "</style>\n",
       "<table border=\"1\" class=\"dataframe\">\n",
       "  <thead>\n",
       "    <tr style=\"text-align: right;\">\n",
       "      <th></th>\n",
       "      <th>title</th>\n",
       "      <th>movieId</th>\n",
       "      <th>rating count</th>\n",
       "    </tr>\n",
       "  </thead>\n",
       "  <tbody>\n",
       "    <tr>\n",
       "      <th>0</th>\n",
       "      <td>Toy Story</td>\n",
       "      <td>1</td>\n",
       "      <td>57309</td>\n",
       "    </tr>\n",
       "    <tr>\n",
       "      <th>1</th>\n",
       "      <td>Jumanji</td>\n",
       "      <td>2</td>\n",
       "      <td>24228</td>\n",
       "    </tr>\n",
       "    <tr>\n",
       "      <th>2</th>\n",
       "      <td>Grumpier Old Men</td>\n",
       "      <td>3</td>\n",
       "      <td>11804</td>\n",
       "    </tr>\n",
       "    <tr>\n",
       "      <th>3</th>\n",
       "      <td>Waiting to Exhale</td>\n",
       "      <td>4</td>\n",
       "      <td>2523</td>\n",
       "    </tr>\n",
       "    <tr>\n",
       "      <th>4</th>\n",
       "      <td>Father of the Bride Part II</td>\n",
       "      <td>5</td>\n",
       "      <td>11714</td>\n",
       "    </tr>\n",
       "  </tbody>\n",
       "</table>\n",
       "</div>"
      ],
      "text/plain": [
       "                         title  movieId  rating count\n",
       "0                    Toy Story        1         57309\n",
       "1                      Jumanji        2         24228\n",
       "2             Grumpier Old Men        3         11804\n",
       "3            Waiting to Exhale        4          2523\n",
       "4  Father of the Bride Part II        5         11714"
      ]
     },
     "execution_count": 81,
     "metadata": {},
     "output_type": "execute_result"
    }
   ],
   "source": [
    "# Mostrando filmes com menos de X votos\n",
    "cpy = movies_cf.copy()\n",
    "\n",
    "rating_count = pd.DataFrame(data_cf.groupby(\"movieId\").count()[\"rating\"])\n",
    "rating_count.reset_index(inplace=True)\n",
    "rating_count.rename(columns={\"rating\": \"rating count\"},inplace=True)\n",
    "\n",
    "res = cpy.merge(rating_count)\n",
    "\n",
    "res.head()"
   ]
  },
  {
   "cell_type": "code",
   "execution_count": 82,
   "id": "e36cddd1",
   "metadata": {
    "ExecuteTime": {
     "end_time": "2021-07-12T18:08:24.905761Z",
     "start_time": "2021-07-12T18:08:24.875754Z"
    }
   },
   "outputs": [
    {
     "name": "stdout",
     "output_type": "stream",
     "text": [
      "6.0\n"
     ]
    },
    {
     "data": {
      "text/html": [
       "<div>\n",
       "<style scoped>\n",
       "    .dataframe tbody tr th:only-of-type {\n",
       "        vertical-align: middle;\n",
       "    }\n",
       "\n",
       "    .dataframe tbody tr th {\n",
       "        vertical-align: top;\n",
       "    }\n",
       "\n",
       "    .dataframe thead th {\n",
       "        text-align: right;\n",
       "    }\n",
       "</style>\n",
       "<table border=\"1\" class=\"dataframe\">\n",
       "  <thead>\n",
       "    <tr style=\"text-align: right;\">\n",
       "      <th></th>\n",
       "      <th>title</th>\n",
       "      <th>movieId</th>\n",
       "      <th>rating count</th>\n",
       "    </tr>\n",
       "  </thead>\n",
       "  <tbody>\n",
       "    <tr>\n",
       "      <th>1759</th>\n",
       "      <td>Ratchet</td>\n",
       "      <td>1847</td>\n",
       "      <td>1</td>\n",
       "    </tr>\n",
       "    <tr>\n",
       "      <th>3462</th>\n",
       "      <td>Stacy's Knights</td>\n",
       "      <td>3561</td>\n",
       "      <td>1</td>\n",
       "    </tr>\n",
       "    <tr>\n",
       "      <th>5793</th>\n",
       "      <td>Soap Girl</td>\n",
       "      <td>5905</td>\n",
       "      <td>1</td>\n",
       "    </tr>\n",
       "    <tr>\n",
       "      <th>8461</th>\n",
       "      <td>B.F.'s Daughter</td>\n",
       "      <td>25935</td>\n",
       "      <td>1</td>\n",
       "    </tr>\n",
       "    <tr>\n",
       "      <th>8522</th>\n",
       "      <td>All at Sea</td>\n",
       "      <td>26016</td>\n",
       "      <td>1</td>\n",
       "    </tr>\n",
       "    <tr>\n",
       "      <th>...</th>\n",
       "      <td>...</td>\n",
       "      <td>...</td>\n",
       "      <td>...</td>\n",
       "    </tr>\n",
       "    <tr>\n",
       "      <th>59042</th>\n",
       "      <td>We</td>\n",
       "      <td>209157</td>\n",
       "      <td>1</td>\n",
       "    </tr>\n",
       "    <tr>\n",
       "      <th>59043</th>\n",
       "      <td>Window of the Soul</td>\n",
       "      <td>209159</td>\n",
       "      <td>1</td>\n",
       "    </tr>\n",
       "    <tr>\n",
       "      <th>59044</th>\n",
       "      <td>Bad Poems</td>\n",
       "      <td>209163</td>\n",
       "      <td>1</td>\n",
       "    </tr>\n",
       "    <tr>\n",
       "      <th>59045</th>\n",
       "      <td>A Girl Thing</td>\n",
       "      <td>209169</td>\n",
       "      <td>1</td>\n",
       "    </tr>\n",
       "    <tr>\n",
       "      <th>59046</th>\n",
       "      <td>Women of Devil's Island</td>\n",
       "      <td>209171</td>\n",
       "      <td>1</td>\n",
       "    </tr>\n",
       "  </tbody>\n",
       "</table>\n",
       "<p>10298 rows × 3 columns</p>\n",
       "</div>"
      ],
      "text/plain": [
       "                         title  movieId  rating count\n",
       "1759                   Ratchet     1847             1\n",
       "3462           Stacy's Knights     3561             1\n",
       "5793                 Soap Girl     5905             1\n",
       "8461           B.F.'s Daughter    25935             1\n",
       "8522                All at Sea    26016             1\n",
       "...                        ...      ...           ...\n",
       "59042                       We   209157             1\n",
       "59043       Window of the Soul   209159             1\n",
       "59044                Bad Poems   209163             1\n",
       "59045             A Girl Thing   209169             1\n",
       "59046  Women of Devil's Island   209171             1\n",
       "\n",
       "[10298 rows x 3 columns]"
      ]
     },
     "execution_count": 82,
     "metadata": {},
     "output_type": "execute_result"
    }
   ],
   "source": [
    "# Exibindo\n",
    "X = rating_count[\"rating count\"].quantile(0.50) # 90% dos filmes da lista tem pelo menos essa quantidade de votos\n",
    "\n",
    "print(X)\n",
    "\n",
    "res[res[\"rating count\"] == 1]"
   ]
  },
  {
   "cell_type": "code",
   "execution_count": 83,
   "id": "88df3483",
   "metadata": {
    "ExecuteTime": {
     "end_time": "2021-07-12T18:08:26.970221Z",
     "start_time": "2021-07-12T18:08:24.906761Z"
    }
   },
   "outputs": [
    {
     "data": {
      "text/plain": [
       "title\n",
       "Forrest Gump                                        81491\n",
       "Shawshank Redemption, The                           81482\n",
       "Pulp Fiction                                        79672\n",
       "Silence of the Lambs, The                           74127\n",
       "Matrix, The                                         72674\n",
       "                                                    ...  \n",
       "L'uccello migratore                                     1\n",
       "L'opéra de quat'sous                                    1\n",
       "L'onorata famiglia                                      1\n",
       "L'oeuvre au noir                                        1\n",
       "\"BLOW THE NIGHT!\" Let's Spend the Night Together        1\n",
       "Length: 55463, dtype: int64"
      ]
     },
     "execution_count": 83,
     "metadata": {},
     "output_type": "execute_result"
    }
   ],
   "source": [
    "data_cf.value_counts(\"title\")"
   ]
  },
  {
   "cell_type": "markdown",
   "id": "43711964",
   "metadata": {},
   "source": [
    "#### Vamos verificar agora ocorrências de filmes com títulos em linguas diferentes de inglês e removê-los."
   ]
  },
  {
   "cell_type": "code",
   "execution_count": 84,
   "id": "b3f030b2",
   "metadata": {
    "ExecuteTime": {
     "end_time": "2021-07-12T18:08:31.082139Z",
     "start_time": "2021-07-12T18:08:26.971222Z"
    }
   },
   "outputs": [
    {
     "data": {
      "text/plain": [
       "Amelie (Fabuleux destin d'Amélie Poulain, Le)              34320\n",
       "Léon: The Professional (a.k.a. The Professional) (Léon)    33680\n",
       "WALL·E                                                     27374\n",
       "Life Is Beautiful (La Vita è bella)                        23976\n",
       "Alien³ (a.k.a. Alien 3)                                    13783\n",
       "                                                           ...  \n",
       "Komisarz Blond i Oko sprawiedliwości                           1\n",
       "Мышонок Пик                                                    1\n",
       "Dzień dobry, kocham cię!                                       1\n",
       "Krakonoš a lyžníci                                             1\n",
       "Attack of La Niña                                              1\n",
       "Name: title, Length: 2322, dtype: int64"
      ]
     },
     "execution_count": 84,
     "metadata": {},
     "output_type": "execute_result"
    }
   ],
   "source": [
    "# Mostrando filmes que contem caracteres não ascii no titulo\n",
    "data_cf[data_cf[\"title\"].map(lambda x: not x.isascii())][\"title\"].value_counts()"
   ]
  },
  {
   "cell_type": "markdown",
   "id": "d98ef35c",
   "metadata": {},
   "source": [
    "### 1.1 - Problemas do Collaborative Filtering:\n",
    "<ul>\n",
    "    <li>Esparsidade</li>\n",
    "    <li>Cold Start</li>\n",
    "</ul>\n",
    "\n",
    "#### Técnicas possíveis:\n",
    "<ul>\n",
    "    <li><b>Algoritmos não probabilisticos:</b></li>\n",
    "    <li>User-based nearest neighbor</li>\n",
    "    <li>Item-based nearest neighbor</li>\n",
    "    <li>Reducing dimensionality</li>\n",
    "</ul>\n",
    "\n",
    "<ul>\n",
    "    <li><b>Algoritmos probabilisticos:</b></li>\n",
    "    <li>Bayesian-network model</li>\n",
    "    <li>Expectation-minimization</li>\n",
    "</ul>\n",
    "\n",
    "\n",
    "Ver: https://pub.towardsai.net/recommendation-system-in-depth-tutorial-with-python-for-netflix-using-collaborative-filtering-533ff8a0e444"
   ]
  },
  {
   "cell_type": "markdown",
   "id": "39c53cb1",
   "metadata": {},
   "source": [
    "### 1.2 - Criando uma estrutura de matriz esparsa com o dataframe"
   ]
  },
  {
   "cell_type": "code",
   "execution_count": 85,
   "id": "a1c2c7ee",
   "metadata": {
    "ExecuteTime": {
     "end_time": "2021-07-12T18:09:00.801666Z",
     "start_time": "2021-07-12T18:09:00.148415Z"
    }
   },
   "outputs": [],
   "source": [
    "# Usando o dataframe para criar uma matriz esparsa que contenha todos os filmes\n",
    "def create_sparse_matrix(df):\n",
    "    sparse_matrix = sparse.csr_matrix((df[\"rating\"], (df[\"userId\"], df[\"movieId\"])))\n",
    "    \n",
    "    return sparse_matrix\n",
    "\n",
    "# a matriz gerada é uma User x Movie, queremos Movie x User, então fazemos a transposta\n",
    "user_movie_matrix = create_sparse_matrix(data_cf).transpose()"
   ]
  },
  {
   "cell_type": "markdown",
   "id": "5e34ffac",
   "metadata": {
    "ExecuteTime": {
     "end_time": "2021-06-14T20:39:46.153413Z",
     "start_time": "2021-06-14T20:39:46.145410Z"
    }
   },
   "source": [
    "### 1.3 - Criando um modelo simples utilizando o KNN -  CF - Item Based"
   ]
  },
  {
   "cell_type": "code",
   "execution_count": 86,
   "id": "fc384c5c",
   "metadata": {
    "ExecuteTime": {
     "end_time": "2021-07-12T18:09:01.693783Z",
     "start_time": "2021-07-12T18:09:01.149659Z"
    }
   },
   "outputs": [
    {
     "data": {
      "text/plain": [
       "NearestNeighbors(metric='cosine', n_neighbors=10)"
      ]
     },
     "execution_count": 86,
     "metadata": {},
     "output_type": "execute_result"
    }
   ],
   "source": [
    "# Criando o modelo knn\n",
    "knn_cf = NearestNeighbors(n_neighbors=N_NEIGHBORS, algorithm='auto', metric='cosine') # temos que mexer nos parâmetros posteriormente\n",
    "\n",
    "knn_cf.fit(user_movie_matrix)"
   ]
  },
  {
   "cell_type": "code",
   "execution_count": 97,
   "id": "845a4730",
   "metadata": {
    "ExecuteTime": {
     "end_time": "2021-07-12T18:11:05.849480Z",
     "start_time": "2021-07-12T18:11:05.843478Z"
    }
   },
   "outputs": [],
   "source": [
    "# criando função que gera recomendações basedo em um filme - utilizando um modelo KNN\n",
    "def get_recommendations_cf(movie_name, model): #nome do filme, modelo\n",
    "    # Pegando o Id do filme que tenha o nome passado\n",
    "    movieId = data_cf.loc[data_cf[\"title\"] == movie_name][\"movieId\"].values[0]\n",
    "    \n",
    "    distances, suggestions = model.kneighbors(user_movie_matrix.getrow(movieId).todense().tolist(), n_neighbors=N_NEIGHBORS)\n",
    "    \n",
    "    for i in range(0, len(distances.flatten())):\n",
    "        if(i == 0):\n",
    "            print('Recomendações para {0}: \\n'.format(movie_name))\n",
    "        else:\n",
    "            print('{0}: {1}, com distância de {2}:'.format(i, data_cf.loc[data_cf[\"movieId\"] == suggestions.flatten()[i]][\"title\"].values[0], distances.flatten()[i]))\n",
    "    \n",
    "    return distances, suggestions"
   ]
  },
  {
   "cell_type": "code",
   "execution_count": 98,
   "id": "081ce274",
   "metadata": {
    "ExecuteTime": {
     "end_time": "2021-07-12T18:11:06.209915Z",
     "start_time": "2021-07-12T18:11:06.194911Z"
    }
   },
   "outputs": [],
   "source": [
    "# Função para pesquisar o nome correto do filme\n",
    "def search_movies_cf(search_word):\n",
    "    return movies_cf[movies_cf.title.str.contains(search_word, flags=re.IGNORECASE)]"
   ]
  },
  {
   "cell_type": "code",
   "execution_count": 99,
   "id": "8be5c9d3",
   "metadata": {
    "ExecuteTime": {
     "end_time": "2021-07-12T18:11:06.525093Z",
     "start_time": "2021-07-12T18:11:06.475080Z"
    }
   },
   "outputs": [
    {
     "data": {
      "text/html": [
       "<div>\n",
       "<style scoped>\n",
       "    .dataframe tbody tr th:only-of-type {\n",
       "        vertical-align: middle;\n",
       "    }\n",
       "\n",
       "    .dataframe tbody tr th {\n",
       "        vertical-align: top;\n",
       "    }\n",
       "\n",
       "    .dataframe thead th {\n",
       "        text-align: right;\n",
       "    }\n",
       "</style>\n",
       "<table border=\"1\" class=\"dataframe\">\n",
       "  <thead>\n",
       "    <tr style=\"text-align: right;\">\n",
       "      <th></th>\n",
       "      <th>title</th>\n",
       "      <th>movieId</th>\n",
       "    </tr>\n",
       "  </thead>\n",
       "  <tbody>\n",
       "    <tr>\n",
       "      <th>5241</th>\n",
       "      <td>Spider-Man</td>\n",
       "      <td>5349</td>\n",
       "    </tr>\n",
       "    <tr>\n",
       "      <th>7923</th>\n",
       "      <td>Spider-Man 2</td>\n",
       "      <td>8636</td>\n",
       "    </tr>\n",
       "    <tr>\n",
       "      <th>11561</th>\n",
       "      <td>Spider-Man 3</td>\n",
       "      <td>52722</td>\n",
       "    </tr>\n",
       "    <tr>\n",
       "      <th>14527</th>\n",
       "      <td>Spider-Man: The Ultimate Villain Showdown</td>\n",
       "      <td>76709</td>\n",
       "    </tr>\n",
       "    <tr>\n",
       "      <th>18241</th>\n",
       "      <td>Amazing Spider-Man, The</td>\n",
       "      <td>95510</td>\n",
       "    </tr>\n",
       "    <tr>\n",
       "      <th>21454</th>\n",
       "      <td>The Amazing Spider-Man 2</td>\n",
       "      <td>110553</td>\n",
       "    </tr>\n",
       "    <tr>\n",
       "      <th>25074</th>\n",
       "      <td>Untitled Spider-Man Reboot</td>\n",
       "      <td>122926</td>\n",
       "    </tr>\n",
       "    <tr>\n",
       "      <th>56890</th>\n",
       "      <td>Spider-Man: Into the Spider-Verse</td>\n",
       "      <td>195159</td>\n",
       "    </tr>\n",
       "    <tr>\n",
       "      <th>59844</th>\n",
       "      <td>Spider-Man: Far from Home</td>\n",
       "      <td>201773</td>\n",
       "    </tr>\n",
       "  </tbody>\n",
       "</table>\n",
       "</div>"
      ],
      "text/plain": [
       "                                           title  movieId\n",
       "5241                                  Spider-Man     5349\n",
       "7923                                Spider-Man 2     8636\n",
       "11561                               Spider-Man 3    52722\n",
       "14527  Spider-Man: The Ultimate Villain Showdown    76709\n",
       "18241                    Amazing Spider-Man, The    95510\n",
       "21454                   The Amazing Spider-Man 2   110553\n",
       "25074                 Untitled Spider-Man Reboot   122926\n",
       "56890          Spider-Man: Into the Spider-Verse   195159\n",
       "59844                  Spider-Man: Far from Home   201773"
      ]
     },
     "execution_count": 99,
     "metadata": {},
     "output_type": "execute_result"
    }
   ],
   "source": [
    "# Setando um tamanho de coluna, para ver o nome completo dos filmes\n",
    "pd.set_option('display.max_colwidth', 500)\n",
    "# Pesquisando filmes\n",
    "search_movies_cf(\"Spider-Man\")"
   ]
  },
  {
   "cell_type": "code",
   "execution_count": 100,
   "id": "b0a1e0ff",
   "metadata": {
    "ExecuteTime": {
     "end_time": "2021-07-12T18:11:06.919477Z",
     "start_time": "2021-07-12T18:11:06.915476Z"
    }
   },
   "outputs": [],
   "source": [
    "#Voltando a coluna ao normal \n",
    "pd.set_option('display.max_colwidth', 50)"
   ]
  },
  {
   "cell_type": "code",
   "execution_count": 101,
   "id": "e6341012",
   "metadata": {
    "ExecuteTime": {
     "end_time": "2021-07-12T18:11:09.054056Z",
     "start_time": "2021-07-12T18:11:07.387387Z"
    }
   },
   "outputs": [
    {
     "name": "stdout",
     "output_type": "stream",
     "text": [
      "Recomendações para Spider-Man 2: \n",
      "\n",
      "1: Spider-Man, com distância de 0.30051949781903664:\n",
      "2: X2: X-Men United, com distância de 0.38035866481375724:\n",
      "3: Pirates of the Caribbean: The Curse of the Black Pearl, com distância de 0.44583045604832083:\n",
      "4: X-Men, com distância de 0.45347815941142156:\n",
      "5: Incredibles, The, com distância de 0.45585894066206556:\n",
      "6: Shrek 2, com distância de 0.4564660168298432:\n",
      "7: Batman Begins, com distância de 0.45717348204712305:\n",
      "8: Star Wars: Episode III - Revenge of the Sith, com distância de 0.46928468125362977:\n",
      "9: Finding Nemo, com distância de 0.4844064554284505:\n"
     ]
    }
   ],
   "source": [
    "# Pegando recomendações\n",
    "a, b = get_recommendations_cf(\"Spider-Man 2\", knn_cf)"
   ]
  },
  {
   "cell_type": "code",
   "execution_count": null,
   "id": "a6f80c79",
   "metadata": {},
   "outputs": [],
   "source": []
  },
  {
   "cell_type": "markdown",
   "id": "16940e34",
   "metadata": {},
   "source": [
    "## Ideia: Se o filme tiver menos que X votos, utilizar exclusivamente Content-Based, caso contrario, fazemos a abordagem entrelaçada."
   ]
  },
  {
   "cell_type": "markdown",
   "id": "20489787",
   "metadata": {},
   "source": [
    "# 2 - Preparação dos dados para Content-Based"
   ]
  },
  {
   "cell_type": "code",
   "execution_count": 6,
   "id": "27d5abe6",
   "metadata": {
    "ExecuteTime": {
     "end_time": "2021-07-12T16:26:24.109483Z",
     "start_time": "2021-07-12T16:26:24.096480Z"
    }
   },
   "outputs": [],
   "source": [
    "# CONSTANTES CONTENT BASED\n",
    "\n",
    "# CAMINHOS\n",
    "\n",
    "PATH_TO_FULL_CB_FILE = \"preprocessed-data/CB/data_cb.pkl\"\n",
    "\n",
    "PATH_TO_MOVIES_CB_FILE = \"preprocessed-data/CB/movies_cb.pkl\"\n",
    "\n",
    "PATH_TO_RATINGS_CB_FILE = \"preprocessed-data/CB/ratings_cb.pkl\"\n",
    "\n",
    "PATH_TO_RATINGS_INFOS_CB_FILE = \"preprocessed-data/CB/ratings_info_cb.pkl\"\n",
    "\n",
    "PATH_TO_TAG_RELEVANCE_GROUPED_CB_FILE = \"preprocessed-data/CB/tag_relevance_grouped_cb.pkl\"\n",
    "\n",
    "PATH_TO_TAG_RELEVANCE_CB_FILE = \"preprocessed-data/CB/tag_relevance_cb.pkl\"\n",
    "\n",
    "PATH_TO_TAGS_PROCESSED_CB_FILE = \"preprocessed-data/CB/tags_processed_cb.pkl\"\n",
    "\n",
    "# DataFrames Names\n",
    "\n",
    "# data_cb = arquivo completo \n",
    "# movies_cb = arquivos de filmes\n",
    "# ratings_cb = arquivos de ratings\n",
    "# ratings_infos_cb = arquivos de informações sobre os ratings\n",
    "# tag_relevance_grouped_cb = relevancia de tags após o agrupamento\n",
    "# tag_relevance_cb = relevancia de tags original\n",
    "# tags_processed_cb = tags todas juntas em uma coluna e processadas pelo nltk"
   ]
  },
  {
   "cell_type": "code",
   "execution_count": 7,
   "id": "58553e97",
   "metadata": {
    "ExecuteTime": {
     "end_time": "2021-07-12T16:26:25.048387Z",
     "start_time": "2021-07-12T16:26:25.034385Z"
    }
   },
   "outputs": [],
   "source": [
    "def load_cb_files(full=True, movies=False, ratings=False, ratings_infos=False ,relevance_grouped=False, relevance=False, tags_processed=False):\n",
    "    data_cb = None\n",
    "    movies_cb = None \n",
    "    ratings_cb = None\n",
    "    ratings_infos_cb = None\n",
    "    tag_relevance_grouped_cb = None\n",
    "    tag_relevance_cb = None\n",
    "    tags_processed_cb = None\n",
    "    \n",
    "    # Caso se queira carregar o completo\n",
    "    if(full):\n",
    "        data_cb = pd.read_pickle(PATH_TO_FULL_CB_FILE)\n",
    "        print(\"Arquivo completo: Carregado com sucesso!\")\n",
    "    else:\n",
    "        print(\"Arquivo completo: Não foi carregado, verifique se era o que desejava.\")\n",
    "    \n",
    "    # Caso queira-se carregar o arquivo de filmes\n",
    "    if(movies):\n",
    "        movies_cb = pd.read_pickle(PATH_TO_MOVIES_CB_FILE)\n",
    "        print(\"Arquivo movies: Carregado com sucesso!\")\n",
    "    else:\n",
    "        print(\"Arquivo movies: Não foi carregado, verifique se era o que desejava.\")\n",
    "        \n",
    "    if(ratings):\n",
    "        ratings_cb = pd.read_pickle(PATH_TO_RATINGS_CB_FILE)\n",
    "        print(\"Arquivo ratings: Carregado com sucesso!\")\n",
    "    else:\n",
    "        print(\"Arquivo ratings: Não foi carregado, verifique se era o que desejava.\")\n",
    "    \n",
    "    if(ratings_infos):\n",
    "        ratings_infos_cb = pd.read_pickle(PATH_TO_RATINGS_INFOS_CB_FILE)\n",
    "        print(\"Arquivo ratings infos: Carregado com sucesso!\")\n",
    "    else:\n",
    "        print(\"Arquivo ratings infos: Não foi carregado, verifique se era o que desejava.\")\n",
    "        \n",
    "    if(relevance_grouped):\n",
    "        tag_relevance_grouped_cb = pd.read_pickle(PATH_TO_TAG_RELEVANCE_GROUPED_CB_FILE)\n",
    "        print(\"Arquivo relevance grouped: Carregado com sucesso!\")\n",
    "    else:\n",
    "        print(\"Arquivo relevance grouped: Não foi carregado, verifique se era o que desejava.\")\n",
    "    \n",
    "    if(relevance):\n",
    "        tag_relevance_cb = pd.read_pickle(PATH_TO_TAG_RELEVANCE_CB_FILE)\n",
    "        print(\"Arquivo relevance: Carregado com sucesso!\")\n",
    "    else:\n",
    "        print(\"Arquivo relevance: Não foi carregado, verifique se era o que desejava.\")\n",
    "        \n",
    "    if(tags_processed):\n",
    "        tags_processed_cb = pd.read_pickle(PATH_TO_TAGS_PROCESSED_CB_FILE)\n",
    "        print(\"Arquivo tags processed: Carregado com sucesso!\")\n",
    "    else:\n",
    "        print(\"Arquivo tags processed: Não foi carregado, verifique se era o que desejava.\")\n",
    "        \n",
    "        \n",
    "    return data_cb, movies_cb, ratings_cb, ratings_infos_cb, tag_relevance_grouped_cb, tag_relevance_cb, tags_processed_cb\n",
    "    "
   ]
  },
  {
   "cell_type": "code",
   "execution_count": 8,
   "id": "7256cef4",
   "metadata": {
    "ExecuteTime": {
     "end_time": "2021-07-12T16:26:29.314497Z",
     "start_time": "2021-07-12T16:26:26.113232Z"
    }
   },
   "outputs": [
    {
     "name": "stdout",
     "output_type": "stream",
     "text": [
      "Arquivo completo: Carregado com sucesso!\n",
      "Arquivo movies: Carregado com sucesso!\n",
      "Arquivo ratings: Não foi carregado, verifique se era o que desejava.\n",
      "Arquivo ratings infos: Carregado com sucesso!\n",
      "Arquivo relevance grouped: Não foi carregado, verifique se era o que desejava.\n",
      "Arquivo relevance: Não foi carregado, verifique se era o que desejava.\n",
      "Arquivo tags processed: Carregado com sucesso!\n"
     ]
    }
   ],
   "source": [
    "data_cb, movies_cb, ratings_cb, ratings_infos_cb, tag_relevance_grouped_cb, tag_relevance_cb, tags_processed_cb = load_cb_files(full=True, movies=True, ratings_infos=True, tags_processed=True)"
   ]
  },
  {
   "cell_type": "code",
   "execution_count": 9,
   "id": "f124adb5",
   "metadata": {
    "ExecuteTime": {
     "end_time": "2021-07-12T16:26:29.329504Z",
     "start_time": "2021-07-12T16:26:29.315497Z"
    }
   },
   "outputs": [
    {
     "data": {
      "text/html": [
       "<div>\n",
       "<style scoped>\n",
       "    .dataframe tbody tr th:only-of-type {\n",
       "        vertical-align: middle;\n",
       "    }\n",
       "\n",
       "    .dataframe tbody tr th {\n",
       "        vertical-align: top;\n",
       "    }\n",
       "\n",
       "    .dataframe thead th {\n",
       "        text-align: right;\n",
       "    }\n",
       "</style>\n",
       "<table border=\"1\" class=\"dataframe\">\n",
       "  <thead>\n",
       "    <tr style=\"text-align: right;\">\n",
       "      <th></th>\n",
       "      <th>movieId</th>\n",
       "      <th>title</th>\n",
       "      <th>genres</th>\n",
       "    </tr>\n",
       "  </thead>\n",
       "  <tbody>\n",
       "    <tr>\n",
       "      <th>62418</th>\n",
       "      <td>209157</td>\n",
       "      <td>We (2018)</td>\n",
       "      <td>[Drama]</td>\n",
       "    </tr>\n",
       "    <tr>\n",
       "      <th>62419</th>\n",
       "      <td>209159</td>\n",
       "      <td>Window of the Soul (2001)</td>\n",
       "      <td>[Documentary]</td>\n",
       "    </tr>\n",
       "    <tr>\n",
       "      <th>62420</th>\n",
       "      <td>209163</td>\n",
       "      <td>Bad Poems (2018)</td>\n",
       "      <td>[Comedy, Drama]</td>\n",
       "    </tr>\n",
       "    <tr>\n",
       "      <th>62421</th>\n",
       "      <td>209169</td>\n",
       "      <td>A Girl Thing (2001)</td>\n",
       "      <td>[(no genres listed)]</td>\n",
       "    </tr>\n",
       "    <tr>\n",
       "      <th>62422</th>\n",
       "      <td>209171</td>\n",
       "      <td>Women of Devil's Island (1962)</td>\n",
       "      <td>[Action, Adventure, Drama]</td>\n",
       "    </tr>\n",
       "  </tbody>\n",
       "</table>\n",
       "</div>"
      ],
      "text/plain": [
       "       movieId                           title                      genres\n",
       "62418   209157                       We (2018)                     [Drama]\n",
       "62419   209159       Window of the Soul (2001)               [Documentary]\n",
       "62420   209163                Bad Poems (2018)             [Comedy, Drama]\n",
       "62421   209169             A Girl Thing (2001)        [(no genres listed)]\n",
       "62422   209171  Women of Devil's Island (1962)  [Action, Adventure, Drama]"
      ]
     },
     "execution_count": 9,
     "metadata": {},
     "output_type": "execute_result"
    }
   ],
   "source": [
    "movies_cb.tail()"
   ]
  },
  {
   "cell_type": "code",
   "execution_count": 10,
   "id": "5e91c2e0",
   "metadata": {
    "ExecuteTime": {
     "end_time": "2021-07-12T16:26:29.345505Z",
     "start_time": "2021-07-12T16:26:29.331501Z"
    }
   },
   "outputs": [
    {
     "data": {
      "text/html": [
       "<div>\n",
       "<style scoped>\n",
       "    .dataframe tbody tr th:only-of-type {\n",
       "        vertical-align: middle;\n",
       "    }\n",
       "\n",
       "    .dataframe tbody tr th {\n",
       "        vertical-align: top;\n",
       "    }\n",
       "\n",
       "    .dataframe thead th {\n",
       "        text-align: right;\n",
       "    }\n",
       "</style>\n",
       "<table border=\"1\" class=\"dataframe\">\n",
       "  <thead>\n",
       "    <tr style=\"text-align: right;\">\n",
       "      <th></th>\n",
       "      <th>movieId</th>\n",
       "      <th>average rating</th>\n",
       "      <th>rating count</th>\n",
       "      <th>weighted rating</th>\n",
       "    </tr>\n",
       "  </thead>\n",
       "  <tbody>\n",
       "    <tr>\n",
       "      <th>59042</th>\n",
       "      <td>209157</td>\n",
       "      <td>1.5</td>\n",
       "      <td>1</td>\n",
       "      <td>3.067578</td>\n",
       "    </tr>\n",
       "    <tr>\n",
       "      <th>59043</th>\n",
       "      <td>209159</td>\n",
       "      <td>3.0</td>\n",
       "      <td>1</td>\n",
       "      <td>3.071202</td>\n",
       "    </tr>\n",
       "    <tr>\n",
       "      <th>59044</th>\n",
       "      <td>209163</td>\n",
       "      <td>4.5</td>\n",
       "      <td>1</td>\n",
       "      <td>3.074825</td>\n",
       "    </tr>\n",
       "    <tr>\n",
       "      <th>59045</th>\n",
       "      <td>209169</td>\n",
       "      <td>3.0</td>\n",
       "      <td>1</td>\n",
       "      <td>3.071202</td>\n",
       "    </tr>\n",
       "    <tr>\n",
       "      <th>59046</th>\n",
       "      <td>209171</td>\n",
       "      <td>3.0</td>\n",
       "      <td>1</td>\n",
       "      <td>3.071202</td>\n",
       "    </tr>\n",
       "  </tbody>\n",
       "</table>\n",
       "</div>"
      ],
      "text/plain": [
       "       movieId  average rating  rating count  weighted rating\n",
       "59042   209157             1.5             1         3.067578\n",
       "59043   209159             3.0             1         3.071202\n",
       "59044   209163             4.5             1         3.074825\n",
       "59045   209169             3.0             1         3.071202\n",
       "59046   209171             3.0             1         3.071202"
      ]
     },
     "execution_count": 10,
     "metadata": {},
     "output_type": "execute_result"
    }
   ],
   "source": [
    "ratings_infos_cb.tail()"
   ]
  },
  {
   "cell_type": "markdown",
   "id": "a89fd019",
   "metadata": {
    "ExecuteTime": {
     "end_time": "2021-06-22T17:34:12.948887Z",
     "start_time": "2021-06-22T17:34:12.933885Z"
    }
   },
   "source": [
    "Olhando aqui o fim da lista de filmes e de informações de ratings, podemos notar que varios filmes não tem nenhum rating, e isso é importante de se lembrar mais para frente."
   ]
  },
  {
   "cell_type": "markdown",
   "id": "6545ac3e",
   "metadata": {},
   "source": [
    "## 2.1 - FOCANDO NOS GÊNEROS: Separando gêneros em colunas diferentes"
   ]
  },
  {
   "cell_type": "code",
   "execution_count": 11,
   "id": "9dba2855",
   "metadata": {
    "ExecuteTime": {
     "end_time": "2021-07-12T16:26:34.352294Z",
     "start_time": "2021-07-12T16:26:29.369510Z"
    }
   },
   "outputs": [],
   "source": [
    "movies_genres_separated_cb = movies_cb.copy()\n",
    "\n",
    "genres_list = []\n",
    "#Para cada linha no dataframe, iteramos pela lista de generos e colocamos 1 na coluna correspondente\n",
    "for index, row in movies_genres_separated_cb.iterrows():\n",
    "    for genre in row['genres']:\n",
    "        movies_genres_separated_cb.at[index, genre] = 1\n",
    "        if(not genre in genres_list):\n",
    "            genres_list.append(genre)\n",
    "            \n",
    "#Todos os valores não preenchidos se tornam 0\n",
    "movies_genres_separated_cb = movies_genres_separated_cb.fillna(0)"
   ]
  },
  {
   "cell_type": "code",
   "execution_count": 12,
   "id": "5b82e982",
   "metadata": {
    "ExecuteTime": {
     "end_time": "2021-07-12T16:26:34.384301Z",
     "start_time": "2021-07-12T16:26:34.353294Z"
    }
   },
   "outputs": [
    {
     "data": {
      "text/html": [
       "<div>\n",
       "<style scoped>\n",
       "    .dataframe tbody tr th:only-of-type {\n",
       "        vertical-align: middle;\n",
       "    }\n",
       "\n",
       "    .dataframe tbody tr th {\n",
       "        vertical-align: top;\n",
       "    }\n",
       "\n",
       "    .dataframe thead th {\n",
       "        text-align: right;\n",
       "    }\n",
       "</style>\n",
       "<table border=\"1\" class=\"dataframe\">\n",
       "  <thead>\n",
       "    <tr style=\"text-align: right;\">\n",
       "      <th></th>\n",
       "      <th>movieId</th>\n",
       "      <th>title</th>\n",
       "      <th>genres</th>\n",
       "      <th>year</th>\n",
       "      <th>Adventure</th>\n",
       "      <th>Animation</th>\n",
       "      <th>Children</th>\n",
       "      <th>Comedy</th>\n",
       "      <th>Fantasy</th>\n",
       "      <th>Romance</th>\n",
       "      <th>...</th>\n",
       "      <th>Horror</th>\n",
       "      <th>Mystery</th>\n",
       "      <th>Sci-Fi</th>\n",
       "      <th>IMAX</th>\n",
       "      <th>Documentary</th>\n",
       "      <th>War</th>\n",
       "      <th>Musical</th>\n",
       "      <th>Western</th>\n",
       "      <th>Film-Noir</th>\n",
       "      <th>(no genres listed)</th>\n",
       "    </tr>\n",
       "  </thead>\n",
       "  <tbody>\n",
       "    <tr>\n",
       "      <th>62418</th>\n",
       "      <td>209157</td>\n",
       "      <td>We</td>\n",
       "      <td>[Drama]</td>\n",
       "      <td>2018</td>\n",
       "      <td>0.0</td>\n",
       "      <td>0.0</td>\n",
       "      <td>0.0</td>\n",
       "      <td>0.0</td>\n",
       "      <td>0.0</td>\n",
       "      <td>0.0</td>\n",
       "      <td>...</td>\n",
       "      <td>0.0</td>\n",
       "      <td>0.0</td>\n",
       "      <td>0.0</td>\n",
       "      <td>0.0</td>\n",
       "      <td>0.0</td>\n",
       "      <td>0.0</td>\n",
       "      <td>0.0</td>\n",
       "      <td>0.0</td>\n",
       "      <td>0.0</td>\n",
       "      <td>0.0</td>\n",
       "    </tr>\n",
       "    <tr>\n",
       "      <th>62419</th>\n",
       "      <td>209159</td>\n",
       "      <td>Window of the Soul</td>\n",
       "      <td>[Documentary]</td>\n",
       "      <td>2001</td>\n",
       "      <td>0.0</td>\n",
       "      <td>0.0</td>\n",
       "      <td>0.0</td>\n",
       "      <td>0.0</td>\n",
       "      <td>0.0</td>\n",
       "      <td>0.0</td>\n",
       "      <td>...</td>\n",
       "      <td>0.0</td>\n",
       "      <td>0.0</td>\n",
       "      <td>0.0</td>\n",
       "      <td>0.0</td>\n",
       "      <td>1.0</td>\n",
       "      <td>0.0</td>\n",
       "      <td>0.0</td>\n",
       "      <td>0.0</td>\n",
       "      <td>0.0</td>\n",
       "      <td>0.0</td>\n",
       "    </tr>\n",
       "    <tr>\n",
       "      <th>62420</th>\n",
       "      <td>209163</td>\n",
       "      <td>Bad Poems</td>\n",
       "      <td>[Comedy, Drama]</td>\n",
       "      <td>2018</td>\n",
       "      <td>0.0</td>\n",
       "      <td>0.0</td>\n",
       "      <td>0.0</td>\n",
       "      <td>1.0</td>\n",
       "      <td>0.0</td>\n",
       "      <td>0.0</td>\n",
       "      <td>...</td>\n",
       "      <td>0.0</td>\n",
       "      <td>0.0</td>\n",
       "      <td>0.0</td>\n",
       "      <td>0.0</td>\n",
       "      <td>0.0</td>\n",
       "      <td>0.0</td>\n",
       "      <td>0.0</td>\n",
       "      <td>0.0</td>\n",
       "      <td>0.0</td>\n",
       "      <td>0.0</td>\n",
       "    </tr>\n",
       "    <tr>\n",
       "      <th>62421</th>\n",
       "      <td>209169</td>\n",
       "      <td>A Girl Thing</td>\n",
       "      <td>[(no genres listed)]</td>\n",
       "      <td>2001</td>\n",
       "      <td>0.0</td>\n",
       "      <td>0.0</td>\n",
       "      <td>0.0</td>\n",
       "      <td>0.0</td>\n",
       "      <td>0.0</td>\n",
       "      <td>0.0</td>\n",
       "      <td>...</td>\n",
       "      <td>0.0</td>\n",
       "      <td>0.0</td>\n",
       "      <td>0.0</td>\n",
       "      <td>0.0</td>\n",
       "      <td>0.0</td>\n",
       "      <td>0.0</td>\n",
       "      <td>0.0</td>\n",
       "      <td>0.0</td>\n",
       "      <td>0.0</td>\n",
       "      <td>1.0</td>\n",
       "    </tr>\n",
       "    <tr>\n",
       "      <th>62422</th>\n",
       "      <td>209171</td>\n",
       "      <td>Women of Devil's Island</td>\n",
       "      <td>[Action, Adventure, Drama]</td>\n",
       "      <td>1962</td>\n",
       "      <td>1.0</td>\n",
       "      <td>0.0</td>\n",
       "      <td>0.0</td>\n",
       "      <td>0.0</td>\n",
       "      <td>0.0</td>\n",
       "      <td>0.0</td>\n",
       "      <td>...</td>\n",
       "      <td>0.0</td>\n",
       "      <td>0.0</td>\n",
       "      <td>0.0</td>\n",
       "      <td>0.0</td>\n",
       "      <td>0.0</td>\n",
       "      <td>0.0</td>\n",
       "      <td>0.0</td>\n",
       "      <td>0.0</td>\n",
       "      <td>0.0</td>\n",
       "      <td>0.0</td>\n",
       "    </tr>\n",
       "  </tbody>\n",
       "</table>\n",
       "<p>5 rows × 24 columns</p>\n",
       "</div>"
      ],
      "text/plain": [
       "       movieId                    title                      genres  year  \\\n",
       "62418   209157                       We                     [Drama]  2018   \n",
       "62419   209159       Window of the Soul               [Documentary]  2001   \n",
       "62420   209163                Bad Poems             [Comedy, Drama]  2018   \n",
       "62421   209169             A Girl Thing        [(no genres listed)]  2001   \n",
       "62422   209171  Women of Devil's Island  [Action, Adventure, Drama]  1962   \n",
       "\n",
       "       Adventure  Animation  Children  Comedy  Fantasy  Romance  ...  Horror  \\\n",
       "62418        0.0        0.0       0.0     0.0      0.0      0.0  ...     0.0   \n",
       "62419        0.0        0.0       0.0     0.0      0.0      0.0  ...     0.0   \n",
       "62420        0.0        0.0       0.0     1.0      0.0      0.0  ...     0.0   \n",
       "62421        0.0        0.0       0.0     0.0      0.0      0.0  ...     0.0   \n",
       "62422        1.0        0.0       0.0     0.0      0.0      0.0  ...     0.0   \n",
       "\n",
       "       Mystery  Sci-Fi  IMAX  Documentary  War  Musical  Western  Film-Noir  \\\n",
       "62418      0.0     0.0   0.0          0.0  0.0      0.0      0.0        0.0   \n",
       "62419      0.0     0.0   0.0          1.0  0.0      0.0      0.0        0.0   \n",
       "62420      0.0     0.0   0.0          0.0  0.0      0.0      0.0        0.0   \n",
       "62421      0.0     0.0   0.0          0.0  0.0      0.0      0.0        0.0   \n",
       "62422      0.0     0.0   0.0          0.0  0.0      0.0      0.0        0.0   \n",
       "\n",
       "       (no genres listed)  \n",
       "62418                 0.0  \n",
       "62419                 0.0  \n",
       "62420                 0.0  \n",
       "62421                 1.0  \n",
       "62422                 0.0  \n",
       "\n",
       "[5 rows x 24 columns]"
      ]
     },
     "execution_count": 12,
     "metadata": {},
     "output_type": "execute_result"
    }
   ],
   "source": [
    "movies_genres_separated_cb.tail()"
   ]
  },
  {
   "cell_type": "markdown",
   "id": "735ff342",
   "metadata": {
    "ExecuteTime": {
     "end_time": "2021-06-22T17:38:44.001063Z",
     "start_time": "2021-06-22T17:38:43.994061Z"
    }
   },
   "source": [
    "### 2.1.1 - Renomeando a coluna \"(no genres listed)\" para \"None\", para ficar mais legivel e mais facil de acessar."
   ]
  },
  {
   "cell_type": "code",
   "execution_count": 13,
   "id": "c5ad3c0f",
   "metadata": {
    "ExecuteTime": {
     "end_time": "2021-07-12T16:27:08.909136Z",
     "start_time": "2021-07-12T16:27:08.885130Z"
    }
   },
   "outputs": [
    {
     "data": {
      "text/html": [
       "<div>\n",
       "<style scoped>\n",
       "    .dataframe tbody tr th:only-of-type {\n",
       "        vertical-align: middle;\n",
       "    }\n",
       "\n",
       "    .dataframe tbody tr th {\n",
       "        vertical-align: top;\n",
       "    }\n",
       "\n",
       "    .dataframe thead th {\n",
       "        text-align: right;\n",
       "    }\n",
       "</style>\n",
       "<table border=\"1\" class=\"dataframe\">\n",
       "  <thead>\n",
       "    <tr style=\"text-align: right;\">\n",
       "      <th></th>\n",
       "      <th>movieId</th>\n",
       "      <th>title</th>\n",
       "      <th>genres</th>\n",
       "      <th>year</th>\n",
       "      <th>Adventure</th>\n",
       "      <th>Animation</th>\n",
       "      <th>Children</th>\n",
       "      <th>Comedy</th>\n",
       "      <th>Fantasy</th>\n",
       "      <th>Romance</th>\n",
       "      <th>...</th>\n",
       "      <th>Horror</th>\n",
       "      <th>Mystery</th>\n",
       "      <th>Sci-Fi</th>\n",
       "      <th>IMAX</th>\n",
       "      <th>Documentary</th>\n",
       "      <th>War</th>\n",
       "      <th>Musical</th>\n",
       "      <th>Western</th>\n",
       "      <th>Film-Noir</th>\n",
       "      <th>None</th>\n",
       "    </tr>\n",
       "  </thead>\n",
       "  <tbody>\n",
       "    <tr>\n",
       "      <th>62418</th>\n",
       "      <td>209157</td>\n",
       "      <td>We</td>\n",
       "      <td>[Drama]</td>\n",
       "      <td>2018</td>\n",
       "      <td>0.0</td>\n",
       "      <td>0.0</td>\n",
       "      <td>0.0</td>\n",
       "      <td>0.0</td>\n",
       "      <td>0.0</td>\n",
       "      <td>0.0</td>\n",
       "      <td>...</td>\n",
       "      <td>0.0</td>\n",
       "      <td>0.0</td>\n",
       "      <td>0.0</td>\n",
       "      <td>0.0</td>\n",
       "      <td>0.0</td>\n",
       "      <td>0.0</td>\n",
       "      <td>0.0</td>\n",
       "      <td>0.0</td>\n",
       "      <td>0.0</td>\n",
       "      <td>0.0</td>\n",
       "    </tr>\n",
       "    <tr>\n",
       "      <th>62419</th>\n",
       "      <td>209159</td>\n",
       "      <td>Window of the Soul</td>\n",
       "      <td>[Documentary]</td>\n",
       "      <td>2001</td>\n",
       "      <td>0.0</td>\n",
       "      <td>0.0</td>\n",
       "      <td>0.0</td>\n",
       "      <td>0.0</td>\n",
       "      <td>0.0</td>\n",
       "      <td>0.0</td>\n",
       "      <td>...</td>\n",
       "      <td>0.0</td>\n",
       "      <td>0.0</td>\n",
       "      <td>0.0</td>\n",
       "      <td>0.0</td>\n",
       "      <td>1.0</td>\n",
       "      <td>0.0</td>\n",
       "      <td>0.0</td>\n",
       "      <td>0.0</td>\n",
       "      <td>0.0</td>\n",
       "      <td>0.0</td>\n",
       "    </tr>\n",
       "    <tr>\n",
       "      <th>62420</th>\n",
       "      <td>209163</td>\n",
       "      <td>Bad Poems</td>\n",
       "      <td>[Comedy, Drama]</td>\n",
       "      <td>2018</td>\n",
       "      <td>0.0</td>\n",
       "      <td>0.0</td>\n",
       "      <td>0.0</td>\n",
       "      <td>1.0</td>\n",
       "      <td>0.0</td>\n",
       "      <td>0.0</td>\n",
       "      <td>...</td>\n",
       "      <td>0.0</td>\n",
       "      <td>0.0</td>\n",
       "      <td>0.0</td>\n",
       "      <td>0.0</td>\n",
       "      <td>0.0</td>\n",
       "      <td>0.0</td>\n",
       "      <td>0.0</td>\n",
       "      <td>0.0</td>\n",
       "      <td>0.0</td>\n",
       "      <td>0.0</td>\n",
       "    </tr>\n",
       "    <tr>\n",
       "      <th>62421</th>\n",
       "      <td>209169</td>\n",
       "      <td>A Girl Thing</td>\n",
       "      <td>[(no genres listed)]</td>\n",
       "      <td>2001</td>\n",
       "      <td>0.0</td>\n",
       "      <td>0.0</td>\n",
       "      <td>0.0</td>\n",
       "      <td>0.0</td>\n",
       "      <td>0.0</td>\n",
       "      <td>0.0</td>\n",
       "      <td>...</td>\n",
       "      <td>0.0</td>\n",
       "      <td>0.0</td>\n",
       "      <td>0.0</td>\n",
       "      <td>0.0</td>\n",
       "      <td>0.0</td>\n",
       "      <td>0.0</td>\n",
       "      <td>0.0</td>\n",
       "      <td>0.0</td>\n",
       "      <td>0.0</td>\n",
       "      <td>1.0</td>\n",
       "    </tr>\n",
       "    <tr>\n",
       "      <th>62422</th>\n",
       "      <td>209171</td>\n",
       "      <td>Women of Devil's Island</td>\n",
       "      <td>[Action, Adventure, Drama]</td>\n",
       "      <td>1962</td>\n",
       "      <td>1.0</td>\n",
       "      <td>0.0</td>\n",
       "      <td>0.0</td>\n",
       "      <td>0.0</td>\n",
       "      <td>0.0</td>\n",
       "      <td>0.0</td>\n",
       "      <td>...</td>\n",
       "      <td>0.0</td>\n",
       "      <td>0.0</td>\n",
       "      <td>0.0</td>\n",
       "      <td>0.0</td>\n",
       "      <td>0.0</td>\n",
       "      <td>0.0</td>\n",
       "      <td>0.0</td>\n",
       "      <td>0.0</td>\n",
       "      <td>0.0</td>\n",
       "      <td>0.0</td>\n",
       "    </tr>\n",
       "  </tbody>\n",
       "</table>\n",
       "<p>5 rows × 24 columns</p>\n",
       "</div>"
      ],
      "text/plain": [
       "       movieId                    title                      genres  year  \\\n",
       "62418   209157                       We                     [Drama]  2018   \n",
       "62419   209159       Window of the Soul               [Documentary]  2001   \n",
       "62420   209163                Bad Poems             [Comedy, Drama]  2018   \n",
       "62421   209169             A Girl Thing        [(no genres listed)]  2001   \n",
       "62422   209171  Women of Devil's Island  [Action, Adventure, Drama]  1962   \n",
       "\n",
       "       Adventure  Animation  Children  Comedy  Fantasy  Romance  ...  Horror  \\\n",
       "62418        0.0        0.0       0.0     0.0      0.0      0.0  ...     0.0   \n",
       "62419        0.0        0.0       0.0     0.0      0.0      0.0  ...     0.0   \n",
       "62420        0.0        0.0       0.0     1.0      0.0      0.0  ...     0.0   \n",
       "62421        0.0        0.0       0.0     0.0      0.0      0.0  ...     0.0   \n",
       "62422        1.0        0.0       0.0     0.0      0.0      0.0  ...     0.0   \n",
       "\n",
       "       Mystery  Sci-Fi  IMAX  Documentary  War  Musical  Western  Film-Noir  \\\n",
       "62418      0.0     0.0   0.0          0.0  0.0      0.0      0.0        0.0   \n",
       "62419      0.0     0.0   0.0          1.0  0.0      0.0      0.0        0.0   \n",
       "62420      0.0     0.0   0.0          0.0  0.0      0.0      0.0        0.0   \n",
       "62421      0.0     0.0   0.0          0.0  0.0      0.0      0.0        0.0   \n",
       "62422      0.0     0.0   0.0          0.0  0.0      0.0      0.0        0.0   \n",
       "\n",
       "       None  \n",
       "62418   0.0  \n",
       "62419   0.0  \n",
       "62420   0.0  \n",
       "62421   1.0  \n",
       "62422   0.0  \n",
       "\n",
       "[5 rows x 24 columns]"
      ]
     },
     "execution_count": 13,
     "metadata": {},
     "output_type": "execute_result"
    }
   ],
   "source": [
    "movies_genres_separated_cb.rename({\"(no genres listed)\":\"None\"}, axis=1, inplace=True)\n",
    "\n",
    "movies_genres_separated_cb.tail()"
   ]
  },
  {
   "cell_type": "code",
   "execution_count": 14,
   "id": "ba3e2fab",
   "metadata": {
    "ExecuteTime": {
     "end_time": "2021-07-12T16:27:13.158988Z",
     "start_time": "2021-07-12T16:27:13.139982Z"
    }
   },
   "outputs": [],
   "source": [
    "# Backup do dataset com a lista de generos ainda incluida\n",
    "movies_genres_separated = movies_genres_separated_cb.copy()"
   ]
  },
  {
   "cell_type": "code",
   "execution_count": 15,
   "id": "90c57f89",
   "metadata": {
    "ExecuteTime": {
     "end_time": "2021-07-12T16:27:15.919268Z",
     "start_time": "2021-07-12T16:27:15.899265Z"
    }
   },
   "outputs": [
    {
     "data": {
      "text/plain": [
       "0        [Adventure, Animation, Children, Comedy, Fantasy]\n",
       "1                           [Adventure, Children, Fantasy]\n",
       "2                                        [Comedy, Romance]\n",
       "3                                 [Comedy, Drama, Romance]\n",
       "4                                                 [Comedy]\n",
       "                               ...                        \n",
       "62418                                              [Drama]\n",
       "62419                                        [Documentary]\n",
       "62420                                      [Comedy, Drama]\n",
       "62421                                 [(no genres listed)]\n",
       "62422                           [Action, Adventure, Drama]\n",
       "Name: genres, Length: 62423, dtype: object"
      ]
     },
     "execution_count": 15,
     "metadata": {},
     "output_type": "execute_result"
    }
   ],
   "source": [
    "# removendo coluna de generos\n",
    "movies_genres_separated_cb.pop(\"genres\")"
   ]
  },
  {
   "cell_type": "code",
   "execution_count": 16,
   "id": "3021a0e4",
   "metadata": {
    "ExecuteTime": {
     "end_time": "2021-07-12T16:27:19.353382Z",
     "start_time": "2021-07-12T16:27:19.324372Z"
    }
   },
   "outputs": [
    {
     "data": {
      "text/html": [
       "<div>\n",
       "<style scoped>\n",
       "    .dataframe tbody tr th:only-of-type {\n",
       "        vertical-align: middle;\n",
       "    }\n",
       "\n",
       "    .dataframe tbody tr th {\n",
       "        vertical-align: top;\n",
       "    }\n",
       "\n",
       "    .dataframe thead th {\n",
       "        text-align: right;\n",
       "    }\n",
       "</style>\n",
       "<table border=\"1\" class=\"dataframe\">\n",
       "  <thead>\n",
       "    <tr style=\"text-align: right;\">\n",
       "      <th></th>\n",
       "      <th>movieId</th>\n",
       "      <th>title</th>\n",
       "      <th>year</th>\n",
       "      <th>Adventure</th>\n",
       "      <th>Animation</th>\n",
       "      <th>Children</th>\n",
       "      <th>Comedy</th>\n",
       "      <th>Fantasy</th>\n",
       "      <th>Romance</th>\n",
       "      <th>Drama</th>\n",
       "      <th>...</th>\n",
       "      <th>Horror</th>\n",
       "      <th>Mystery</th>\n",
       "      <th>Sci-Fi</th>\n",
       "      <th>IMAX</th>\n",
       "      <th>Documentary</th>\n",
       "      <th>War</th>\n",
       "      <th>Musical</th>\n",
       "      <th>Western</th>\n",
       "      <th>Film-Noir</th>\n",
       "      <th>None</th>\n",
       "    </tr>\n",
       "  </thead>\n",
       "  <tbody>\n",
       "    <tr>\n",
       "      <th>0</th>\n",
       "      <td>1</td>\n",
       "      <td>Toy Story</td>\n",
       "      <td>1995</td>\n",
       "      <td>1.0</td>\n",
       "      <td>1.0</td>\n",
       "      <td>1.0</td>\n",
       "      <td>1.0</td>\n",
       "      <td>1.0</td>\n",
       "      <td>0.0</td>\n",
       "      <td>0.0</td>\n",
       "      <td>...</td>\n",
       "      <td>0.0</td>\n",
       "      <td>0.0</td>\n",
       "      <td>0.0</td>\n",
       "      <td>0.0</td>\n",
       "      <td>0.0</td>\n",
       "      <td>0.0</td>\n",
       "      <td>0.0</td>\n",
       "      <td>0.0</td>\n",
       "      <td>0.0</td>\n",
       "      <td>0.0</td>\n",
       "    </tr>\n",
       "    <tr>\n",
       "      <th>1</th>\n",
       "      <td>2</td>\n",
       "      <td>Jumanji</td>\n",
       "      <td>1995</td>\n",
       "      <td>1.0</td>\n",
       "      <td>0.0</td>\n",
       "      <td>1.0</td>\n",
       "      <td>0.0</td>\n",
       "      <td>1.0</td>\n",
       "      <td>0.0</td>\n",
       "      <td>0.0</td>\n",
       "      <td>...</td>\n",
       "      <td>0.0</td>\n",
       "      <td>0.0</td>\n",
       "      <td>0.0</td>\n",
       "      <td>0.0</td>\n",
       "      <td>0.0</td>\n",
       "      <td>0.0</td>\n",
       "      <td>0.0</td>\n",
       "      <td>0.0</td>\n",
       "      <td>0.0</td>\n",
       "      <td>0.0</td>\n",
       "    </tr>\n",
       "    <tr>\n",
       "      <th>2</th>\n",
       "      <td>3</td>\n",
       "      <td>Grumpier Old Men</td>\n",
       "      <td>1995</td>\n",
       "      <td>0.0</td>\n",
       "      <td>0.0</td>\n",
       "      <td>0.0</td>\n",
       "      <td>1.0</td>\n",
       "      <td>0.0</td>\n",
       "      <td>1.0</td>\n",
       "      <td>0.0</td>\n",
       "      <td>...</td>\n",
       "      <td>0.0</td>\n",
       "      <td>0.0</td>\n",
       "      <td>0.0</td>\n",
       "      <td>0.0</td>\n",
       "      <td>0.0</td>\n",
       "      <td>0.0</td>\n",
       "      <td>0.0</td>\n",
       "      <td>0.0</td>\n",
       "      <td>0.0</td>\n",
       "      <td>0.0</td>\n",
       "    </tr>\n",
       "    <tr>\n",
       "      <th>3</th>\n",
       "      <td>4</td>\n",
       "      <td>Waiting to Exhale</td>\n",
       "      <td>1995</td>\n",
       "      <td>0.0</td>\n",
       "      <td>0.0</td>\n",
       "      <td>0.0</td>\n",
       "      <td>1.0</td>\n",
       "      <td>0.0</td>\n",
       "      <td>1.0</td>\n",
       "      <td>1.0</td>\n",
       "      <td>...</td>\n",
       "      <td>0.0</td>\n",
       "      <td>0.0</td>\n",
       "      <td>0.0</td>\n",
       "      <td>0.0</td>\n",
       "      <td>0.0</td>\n",
       "      <td>0.0</td>\n",
       "      <td>0.0</td>\n",
       "      <td>0.0</td>\n",
       "      <td>0.0</td>\n",
       "      <td>0.0</td>\n",
       "    </tr>\n",
       "    <tr>\n",
       "      <th>4</th>\n",
       "      <td>5</td>\n",
       "      <td>Father of the Bride Part II</td>\n",
       "      <td>1995</td>\n",
       "      <td>0.0</td>\n",
       "      <td>0.0</td>\n",
       "      <td>0.0</td>\n",
       "      <td>1.0</td>\n",
       "      <td>0.0</td>\n",
       "      <td>0.0</td>\n",
       "      <td>0.0</td>\n",
       "      <td>...</td>\n",
       "      <td>0.0</td>\n",
       "      <td>0.0</td>\n",
       "      <td>0.0</td>\n",
       "      <td>0.0</td>\n",
       "      <td>0.0</td>\n",
       "      <td>0.0</td>\n",
       "      <td>0.0</td>\n",
       "      <td>0.0</td>\n",
       "      <td>0.0</td>\n",
       "      <td>0.0</td>\n",
       "    </tr>\n",
       "  </tbody>\n",
       "</table>\n",
       "<p>5 rows × 23 columns</p>\n",
       "</div>"
      ],
      "text/plain": [
       "   movieId                        title  year  Adventure  Animation  Children  \\\n",
       "0        1                    Toy Story  1995        1.0        1.0       1.0   \n",
       "1        2                      Jumanji  1995        1.0        0.0       1.0   \n",
       "2        3             Grumpier Old Men  1995        0.0        0.0       0.0   \n",
       "3        4            Waiting to Exhale  1995        0.0        0.0       0.0   \n",
       "4        5  Father of the Bride Part II  1995        0.0        0.0       0.0   \n",
       "\n",
       "   Comedy  Fantasy  Romance  Drama  ...  Horror  Mystery  Sci-Fi  IMAX  \\\n",
       "0     1.0      1.0      0.0    0.0  ...     0.0      0.0     0.0   0.0   \n",
       "1     0.0      1.0      0.0    0.0  ...     0.0      0.0     0.0   0.0   \n",
       "2     1.0      0.0      1.0    0.0  ...     0.0      0.0     0.0   0.0   \n",
       "3     1.0      0.0      1.0    1.0  ...     0.0      0.0     0.0   0.0   \n",
       "4     1.0      0.0      0.0    0.0  ...     0.0      0.0     0.0   0.0   \n",
       "\n",
       "   Documentary  War  Musical  Western  Film-Noir  None  \n",
       "0          0.0  0.0      0.0      0.0        0.0   0.0  \n",
       "1          0.0  0.0      0.0      0.0        0.0   0.0  \n",
       "2          0.0  0.0      0.0      0.0        0.0   0.0  \n",
       "3          0.0  0.0      0.0      0.0        0.0   0.0  \n",
       "4          0.0  0.0      0.0      0.0        0.0   0.0  \n",
       "\n",
       "[5 rows x 23 columns]"
      ]
     },
     "execution_count": 16,
     "metadata": {},
     "output_type": "execute_result"
    }
   ],
   "source": [
    "movies_genres_separated_cb.head()"
   ]
  },
  {
   "cell_type": "markdown",
   "id": "b02b2eb7",
   "metadata": {},
   "source": [
    "## 2.2 Criando o sistema de recomendação Content-Based - KNN"
   ]
  },
  {
   "cell_type": "markdown",
   "id": "0c367ca0",
   "metadata": {},
   "source": [
    "### 2.2.1 Utilizando generos e ano"
   ]
  },
  {
   "cell_type": "code",
   "execution_count": 17,
   "id": "c815e1fd",
   "metadata": {
    "ExecuteTime": {
     "end_time": "2021-07-12T16:27:24.934631Z",
     "start_time": "2021-07-12T16:27:24.900623Z"
    }
   },
   "outputs": [
    {
     "data": {
      "text/html": [
       "<div>\n",
       "<style scoped>\n",
       "    .dataframe tbody tr th:only-of-type {\n",
       "        vertical-align: middle;\n",
       "    }\n",
       "\n",
       "    .dataframe tbody tr th {\n",
       "        vertical-align: top;\n",
       "    }\n",
       "\n",
       "    .dataframe thead th {\n",
       "        text-align: right;\n",
       "    }\n",
       "</style>\n",
       "<table border=\"1\" class=\"dataframe\">\n",
       "  <thead>\n",
       "    <tr style=\"text-align: right;\">\n",
       "      <th></th>\n",
       "      <th>movieId</th>\n",
       "      <th>year</th>\n",
       "      <th>Adventure</th>\n",
       "      <th>Animation</th>\n",
       "      <th>Children</th>\n",
       "      <th>Comedy</th>\n",
       "      <th>Fantasy</th>\n",
       "      <th>Romance</th>\n",
       "      <th>Drama</th>\n",
       "      <th>Action</th>\n",
       "      <th>...</th>\n",
       "      <th>Horror</th>\n",
       "      <th>Mystery</th>\n",
       "      <th>Sci-Fi</th>\n",
       "      <th>IMAX</th>\n",
       "      <th>Documentary</th>\n",
       "      <th>War</th>\n",
       "      <th>Musical</th>\n",
       "      <th>Western</th>\n",
       "      <th>Film-Noir</th>\n",
       "      <th>None</th>\n",
       "    </tr>\n",
       "  </thead>\n",
       "  <tbody>\n",
       "    <tr>\n",
       "      <th>0</th>\n",
       "      <td>1</td>\n",
       "      <td>1995</td>\n",
       "      <td>1.0</td>\n",
       "      <td>1.0</td>\n",
       "      <td>1.0</td>\n",
       "      <td>1.0</td>\n",
       "      <td>1.0</td>\n",
       "      <td>0.0</td>\n",
       "      <td>0.0</td>\n",
       "      <td>0.0</td>\n",
       "      <td>...</td>\n",
       "      <td>0.0</td>\n",
       "      <td>0.0</td>\n",
       "      <td>0.0</td>\n",
       "      <td>0.0</td>\n",
       "      <td>0.0</td>\n",
       "      <td>0.0</td>\n",
       "      <td>0.0</td>\n",
       "      <td>0.0</td>\n",
       "      <td>0.0</td>\n",
       "      <td>0.0</td>\n",
       "    </tr>\n",
       "    <tr>\n",
       "      <th>1</th>\n",
       "      <td>2</td>\n",
       "      <td>1995</td>\n",
       "      <td>1.0</td>\n",
       "      <td>0.0</td>\n",
       "      <td>1.0</td>\n",
       "      <td>0.0</td>\n",
       "      <td>1.0</td>\n",
       "      <td>0.0</td>\n",
       "      <td>0.0</td>\n",
       "      <td>0.0</td>\n",
       "      <td>...</td>\n",
       "      <td>0.0</td>\n",
       "      <td>0.0</td>\n",
       "      <td>0.0</td>\n",
       "      <td>0.0</td>\n",
       "      <td>0.0</td>\n",
       "      <td>0.0</td>\n",
       "      <td>0.0</td>\n",
       "      <td>0.0</td>\n",
       "      <td>0.0</td>\n",
       "      <td>0.0</td>\n",
       "    </tr>\n",
       "    <tr>\n",
       "      <th>2</th>\n",
       "      <td>3</td>\n",
       "      <td>1995</td>\n",
       "      <td>0.0</td>\n",
       "      <td>0.0</td>\n",
       "      <td>0.0</td>\n",
       "      <td>1.0</td>\n",
       "      <td>0.0</td>\n",
       "      <td>1.0</td>\n",
       "      <td>0.0</td>\n",
       "      <td>0.0</td>\n",
       "      <td>...</td>\n",
       "      <td>0.0</td>\n",
       "      <td>0.0</td>\n",
       "      <td>0.0</td>\n",
       "      <td>0.0</td>\n",
       "      <td>0.0</td>\n",
       "      <td>0.0</td>\n",
       "      <td>0.0</td>\n",
       "      <td>0.0</td>\n",
       "      <td>0.0</td>\n",
       "      <td>0.0</td>\n",
       "    </tr>\n",
       "    <tr>\n",
       "      <th>3</th>\n",
       "      <td>4</td>\n",
       "      <td>1995</td>\n",
       "      <td>0.0</td>\n",
       "      <td>0.0</td>\n",
       "      <td>0.0</td>\n",
       "      <td>1.0</td>\n",
       "      <td>0.0</td>\n",
       "      <td>1.0</td>\n",
       "      <td>1.0</td>\n",
       "      <td>0.0</td>\n",
       "      <td>...</td>\n",
       "      <td>0.0</td>\n",
       "      <td>0.0</td>\n",
       "      <td>0.0</td>\n",
       "      <td>0.0</td>\n",
       "      <td>0.0</td>\n",
       "      <td>0.0</td>\n",
       "      <td>0.0</td>\n",
       "      <td>0.0</td>\n",
       "      <td>0.0</td>\n",
       "      <td>0.0</td>\n",
       "    </tr>\n",
       "    <tr>\n",
       "      <th>4</th>\n",
       "      <td>5</td>\n",
       "      <td>1995</td>\n",
       "      <td>0.0</td>\n",
       "      <td>0.0</td>\n",
       "      <td>0.0</td>\n",
       "      <td>1.0</td>\n",
       "      <td>0.0</td>\n",
       "      <td>0.0</td>\n",
       "      <td>0.0</td>\n",
       "      <td>0.0</td>\n",
       "      <td>...</td>\n",
       "      <td>0.0</td>\n",
       "      <td>0.0</td>\n",
       "      <td>0.0</td>\n",
       "      <td>0.0</td>\n",
       "      <td>0.0</td>\n",
       "      <td>0.0</td>\n",
       "      <td>0.0</td>\n",
       "      <td>0.0</td>\n",
       "      <td>0.0</td>\n",
       "      <td>0.0</td>\n",
       "    </tr>\n",
       "  </tbody>\n",
       "</table>\n",
       "<p>5 rows × 22 columns</p>\n",
       "</div>"
      ],
      "text/plain": [
       "   movieId  year  Adventure  Animation  Children  Comedy  Fantasy  Romance  \\\n",
       "0        1  1995        1.0        1.0       1.0     1.0      1.0      0.0   \n",
       "1        2  1995        1.0        0.0       1.0     0.0      1.0      0.0   \n",
       "2        3  1995        0.0        0.0       0.0     1.0      0.0      1.0   \n",
       "3        4  1995        0.0        0.0       0.0     1.0      0.0      1.0   \n",
       "4        5  1995        0.0        0.0       0.0     1.0      0.0      0.0   \n",
       "\n",
       "   Drama  Action  ...  Horror  Mystery  Sci-Fi  IMAX  Documentary  War  \\\n",
       "0    0.0     0.0  ...     0.0      0.0     0.0   0.0          0.0  0.0   \n",
       "1    0.0     0.0  ...     0.0      0.0     0.0   0.0          0.0  0.0   \n",
       "2    0.0     0.0  ...     0.0      0.0     0.0   0.0          0.0  0.0   \n",
       "3    1.0     0.0  ...     0.0      0.0     0.0   0.0          0.0  0.0   \n",
       "4    0.0     0.0  ...     0.0      0.0     0.0   0.0          0.0  0.0   \n",
       "\n",
       "   Musical  Western  Film-Noir  None  \n",
       "0      0.0      0.0        0.0   0.0  \n",
       "1      0.0      0.0        0.0   0.0  \n",
       "2      0.0      0.0        0.0   0.0  \n",
       "3      0.0      0.0        0.0   0.0  \n",
       "4      0.0      0.0        0.0   0.0  \n",
       "\n",
       "[5 rows x 22 columns]"
      ]
     },
     "execution_count": 17,
     "metadata": {},
     "output_type": "execute_result"
    }
   ],
   "source": [
    "# Removendo colunas \"inuteis\" para a criação da matriz\n",
    "movies_genres_separated_cb_cpy = movies_genres_separated_cb.copy()\n",
    "\n",
    "movies_genres_separated_cb_cpy.pop(\"title\")\n",
    "#movies_genres_separated_cb_cpy.pop(\"year\")\n",
    "\n",
    "movies_genres_separated_cb_cpy.head()"
   ]
  },
  {
   "cell_type": "code",
   "execution_count": 18,
   "id": "6cea9653",
   "metadata": {
    "ExecuteTime": {
     "end_time": "2021-07-12T16:27:28.639449Z",
     "start_time": "2021-07-12T16:27:28.611442Z"
    }
   },
   "outputs": [],
   "source": [
    "# Convertendo coluna Year para float\n",
    "movies_genres_separated_cb_cpy['year'] = movies_genres_separated_cb_cpy['year'].astype(float)"
   ]
  },
  {
   "cell_type": "code",
   "execution_count": 19,
   "id": "1a8ae2a0",
   "metadata": {
    "ExecuteTime": {
     "end_time": "2021-07-12T16:27:28.999364Z",
     "start_time": "2021-07-12T16:27:28.931347Z"
    }
   },
   "outputs": [],
   "source": [
    "# Criando matriz com o dataFrame acima\n",
    "movie_genres_matrix = pd.pivot_table(movies_genres_separated_cb_cpy, index = [\"movieId\"])"
   ]
  },
  {
   "cell_type": "code",
   "execution_count": 20,
   "id": "e2b3ce6c",
   "metadata": {
    "ExecuteTime": {
     "end_time": "2021-07-12T16:27:30.448338Z",
     "start_time": "2021-07-12T16:27:30.415331Z"
    }
   },
   "outputs": [
    {
     "data": {
      "text/html": [
       "<div>\n",
       "<style scoped>\n",
       "    .dataframe tbody tr th:only-of-type {\n",
       "        vertical-align: middle;\n",
       "    }\n",
       "\n",
       "    .dataframe tbody tr th {\n",
       "        vertical-align: top;\n",
       "    }\n",
       "\n",
       "    .dataframe thead th {\n",
       "        text-align: right;\n",
       "    }\n",
       "</style>\n",
       "<table border=\"1\" class=\"dataframe\">\n",
       "  <thead>\n",
       "    <tr style=\"text-align: right;\">\n",
       "      <th></th>\n",
       "      <th>Action</th>\n",
       "      <th>Adventure</th>\n",
       "      <th>Animation</th>\n",
       "      <th>Children</th>\n",
       "      <th>Comedy</th>\n",
       "      <th>Crime</th>\n",
       "      <th>Documentary</th>\n",
       "      <th>Drama</th>\n",
       "      <th>Fantasy</th>\n",
       "      <th>Film-Noir</th>\n",
       "      <th>...</th>\n",
       "      <th>IMAX</th>\n",
       "      <th>Musical</th>\n",
       "      <th>Mystery</th>\n",
       "      <th>None</th>\n",
       "      <th>Romance</th>\n",
       "      <th>Sci-Fi</th>\n",
       "      <th>Thriller</th>\n",
       "      <th>War</th>\n",
       "      <th>Western</th>\n",
       "      <th>year</th>\n",
       "    </tr>\n",
       "    <tr>\n",
       "      <th>movieId</th>\n",
       "      <th></th>\n",
       "      <th></th>\n",
       "      <th></th>\n",
       "      <th></th>\n",
       "      <th></th>\n",
       "      <th></th>\n",
       "      <th></th>\n",
       "      <th></th>\n",
       "      <th></th>\n",
       "      <th></th>\n",
       "      <th></th>\n",
       "      <th></th>\n",
       "      <th></th>\n",
       "      <th></th>\n",
       "      <th></th>\n",
       "      <th></th>\n",
       "      <th></th>\n",
       "      <th></th>\n",
       "      <th></th>\n",
       "      <th></th>\n",
       "      <th></th>\n",
       "    </tr>\n",
       "  </thead>\n",
       "  <tbody>\n",
       "    <tr>\n",
       "      <th>1</th>\n",
       "      <td>0.0</td>\n",
       "      <td>1.0</td>\n",
       "      <td>1.0</td>\n",
       "      <td>1.0</td>\n",
       "      <td>1.0</td>\n",
       "      <td>0.0</td>\n",
       "      <td>0.0</td>\n",
       "      <td>0.0</td>\n",
       "      <td>1.0</td>\n",
       "      <td>0.0</td>\n",
       "      <td>...</td>\n",
       "      <td>0.0</td>\n",
       "      <td>0.0</td>\n",
       "      <td>0.0</td>\n",
       "      <td>0.0</td>\n",
       "      <td>0.0</td>\n",
       "      <td>0.0</td>\n",
       "      <td>0.0</td>\n",
       "      <td>0.0</td>\n",
       "      <td>0.0</td>\n",
       "      <td>1995.0</td>\n",
       "    </tr>\n",
       "    <tr>\n",
       "      <th>2</th>\n",
       "      <td>0.0</td>\n",
       "      <td>1.0</td>\n",
       "      <td>0.0</td>\n",
       "      <td>1.0</td>\n",
       "      <td>0.0</td>\n",
       "      <td>0.0</td>\n",
       "      <td>0.0</td>\n",
       "      <td>0.0</td>\n",
       "      <td>1.0</td>\n",
       "      <td>0.0</td>\n",
       "      <td>...</td>\n",
       "      <td>0.0</td>\n",
       "      <td>0.0</td>\n",
       "      <td>0.0</td>\n",
       "      <td>0.0</td>\n",
       "      <td>0.0</td>\n",
       "      <td>0.0</td>\n",
       "      <td>0.0</td>\n",
       "      <td>0.0</td>\n",
       "      <td>0.0</td>\n",
       "      <td>1995.0</td>\n",
       "    </tr>\n",
       "    <tr>\n",
       "      <th>3</th>\n",
       "      <td>0.0</td>\n",
       "      <td>0.0</td>\n",
       "      <td>0.0</td>\n",
       "      <td>0.0</td>\n",
       "      <td>1.0</td>\n",
       "      <td>0.0</td>\n",
       "      <td>0.0</td>\n",
       "      <td>0.0</td>\n",
       "      <td>0.0</td>\n",
       "      <td>0.0</td>\n",
       "      <td>...</td>\n",
       "      <td>0.0</td>\n",
       "      <td>0.0</td>\n",
       "      <td>0.0</td>\n",
       "      <td>0.0</td>\n",
       "      <td>1.0</td>\n",
       "      <td>0.0</td>\n",
       "      <td>0.0</td>\n",
       "      <td>0.0</td>\n",
       "      <td>0.0</td>\n",
       "      <td>1995.0</td>\n",
       "    </tr>\n",
       "    <tr>\n",
       "      <th>4</th>\n",
       "      <td>0.0</td>\n",
       "      <td>0.0</td>\n",
       "      <td>0.0</td>\n",
       "      <td>0.0</td>\n",
       "      <td>1.0</td>\n",
       "      <td>0.0</td>\n",
       "      <td>0.0</td>\n",
       "      <td>1.0</td>\n",
       "      <td>0.0</td>\n",
       "      <td>0.0</td>\n",
       "      <td>...</td>\n",
       "      <td>0.0</td>\n",
       "      <td>0.0</td>\n",
       "      <td>0.0</td>\n",
       "      <td>0.0</td>\n",
       "      <td>1.0</td>\n",
       "      <td>0.0</td>\n",
       "      <td>0.0</td>\n",
       "      <td>0.0</td>\n",
       "      <td>0.0</td>\n",
       "      <td>1995.0</td>\n",
       "    </tr>\n",
       "    <tr>\n",
       "      <th>5</th>\n",
       "      <td>0.0</td>\n",
       "      <td>0.0</td>\n",
       "      <td>0.0</td>\n",
       "      <td>0.0</td>\n",
       "      <td>1.0</td>\n",
       "      <td>0.0</td>\n",
       "      <td>0.0</td>\n",
       "      <td>0.0</td>\n",
       "      <td>0.0</td>\n",
       "      <td>0.0</td>\n",
       "      <td>...</td>\n",
       "      <td>0.0</td>\n",
       "      <td>0.0</td>\n",
       "      <td>0.0</td>\n",
       "      <td>0.0</td>\n",
       "      <td>0.0</td>\n",
       "      <td>0.0</td>\n",
       "      <td>0.0</td>\n",
       "      <td>0.0</td>\n",
       "      <td>0.0</td>\n",
       "      <td>1995.0</td>\n",
       "    </tr>\n",
       "    <tr>\n",
       "      <th>...</th>\n",
       "      <td>...</td>\n",
       "      <td>...</td>\n",
       "      <td>...</td>\n",
       "      <td>...</td>\n",
       "      <td>...</td>\n",
       "      <td>...</td>\n",
       "      <td>...</td>\n",
       "      <td>...</td>\n",
       "      <td>...</td>\n",
       "      <td>...</td>\n",
       "      <td>...</td>\n",
       "      <td>...</td>\n",
       "      <td>...</td>\n",
       "      <td>...</td>\n",
       "      <td>...</td>\n",
       "      <td>...</td>\n",
       "      <td>...</td>\n",
       "      <td>...</td>\n",
       "      <td>...</td>\n",
       "      <td>...</td>\n",
       "      <td>...</td>\n",
       "    </tr>\n",
       "    <tr>\n",
       "      <th>209157</th>\n",
       "      <td>0.0</td>\n",
       "      <td>0.0</td>\n",
       "      <td>0.0</td>\n",
       "      <td>0.0</td>\n",
       "      <td>0.0</td>\n",
       "      <td>0.0</td>\n",
       "      <td>0.0</td>\n",
       "      <td>1.0</td>\n",
       "      <td>0.0</td>\n",
       "      <td>0.0</td>\n",
       "      <td>...</td>\n",
       "      <td>0.0</td>\n",
       "      <td>0.0</td>\n",
       "      <td>0.0</td>\n",
       "      <td>0.0</td>\n",
       "      <td>0.0</td>\n",
       "      <td>0.0</td>\n",
       "      <td>0.0</td>\n",
       "      <td>0.0</td>\n",
       "      <td>0.0</td>\n",
       "      <td>2018.0</td>\n",
       "    </tr>\n",
       "    <tr>\n",
       "      <th>209159</th>\n",
       "      <td>0.0</td>\n",
       "      <td>0.0</td>\n",
       "      <td>0.0</td>\n",
       "      <td>0.0</td>\n",
       "      <td>0.0</td>\n",
       "      <td>0.0</td>\n",
       "      <td>1.0</td>\n",
       "      <td>0.0</td>\n",
       "      <td>0.0</td>\n",
       "      <td>0.0</td>\n",
       "      <td>...</td>\n",
       "      <td>0.0</td>\n",
       "      <td>0.0</td>\n",
       "      <td>0.0</td>\n",
       "      <td>0.0</td>\n",
       "      <td>0.0</td>\n",
       "      <td>0.0</td>\n",
       "      <td>0.0</td>\n",
       "      <td>0.0</td>\n",
       "      <td>0.0</td>\n",
       "      <td>2001.0</td>\n",
       "    </tr>\n",
       "    <tr>\n",
       "      <th>209163</th>\n",
       "      <td>0.0</td>\n",
       "      <td>0.0</td>\n",
       "      <td>0.0</td>\n",
       "      <td>0.0</td>\n",
       "      <td>1.0</td>\n",
       "      <td>0.0</td>\n",
       "      <td>0.0</td>\n",
       "      <td>1.0</td>\n",
       "      <td>0.0</td>\n",
       "      <td>0.0</td>\n",
       "      <td>...</td>\n",
       "      <td>0.0</td>\n",
       "      <td>0.0</td>\n",
       "      <td>0.0</td>\n",
       "      <td>0.0</td>\n",
       "      <td>0.0</td>\n",
       "      <td>0.0</td>\n",
       "      <td>0.0</td>\n",
       "      <td>0.0</td>\n",
       "      <td>0.0</td>\n",
       "      <td>2018.0</td>\n",
       "    </tr>\n",
       "    <tr>\n",
       "      <th>209169</th>\n",
       "      <td>0.0</td>\n",
       "      <td>0.0</td>\n",
       "      <td>0.0</td>\n",
       "      <td>0.0</td>\n",
       "      <td>0.0</td>\n",
       "      <td>0.0</td>\n",
       "      <td>0.0</td>\n",
       "      <td>0.0</td>\n",
       "      <td>0.0</td>\n",
       "      <td>0.0</td>\n",
       "      <td>...</td>\n",
       "      <td>0.0</td>\n",
       "      <td>0.0</td>\n",
       "      <td>0.0</td>\n",
       "      <td>1.0</td>\n",
       "      <td>0.0</td>\n",
       "      <td>0.0</td>\n",
       "      <td>0.0</td>\n",
       "      <td>0.0</td>\n",
       "      <td>0.0</td>\n",
       "      <td>2001.0</td>\n",
       "    </tr>\n",
       "    <tr>\n",
       "      <th>209171</th>\n",
       "      <td>1.0</td>\n",
       "      <td>1.0</td>\n",
       "      <td>0.0</td>\n",
       "      <td>0.0</td>\n",
       "      <td>0.0</td>\n",
       "      <td>0.0</td>\n",
       "      <td>0.0</td>\n",
       "      <td>1.0</td>\n",
       "      <td>0.0</td>\n",
       "      <td>0.0</td>\n",
       "      <td>...</td>\n",
       "      <td>0.0</td>\n",
       "      <td>0.0</td>\n",
       "      <td>0.0</td>\n",
       "      <td>0.0</td>\n",
       "      <td>0.0</td>\n",
       "      <td>0.0</td>\n",
       "      <td>0.0</td>\n",
       "      <td>0.0</td>\n",
       "      <td>0.0</td>\n",
       "      <td>1962.0</td>\n",
       "    </tr>\n",
       "  </tbody>\n",
       "</table>\n",
       "<p>62423 rows × 21 columns</p>\n",
       "</div>"
      ],
      "text/plain": [
       "         Action  Adventure  Animation  Children  Comedy  Crime  Documentary  \\\n",
       "movieId                                                                       \n",
       "1           0.0        1.0        1.0       1.0     1.0    0.0          0.0   \n",
       "2           0.0        1.0        0.0       1.0     0.0    0.0          0.0   \n",
       "3           0.0        0.0        0.0       0.0     1.0    0.0          0.0   \n",
       "4           0.0        0.0        0.0       0.0     1.0    0.0          0.0   \n",
       "5           0.0        0.0        0.0       0.0     1.0    0.0          0.0   \n",
       "...         ...        ...        ...       ...     ...    ...          ...   \n",
       "209157      0.0        0.0        0.0       0.0     0.0    0.0          0.0   \n",
       "209159      0.0        0.0        0.0       0.0     0.0    0.0          1.0   \n",
       "209163      0.0        0.0        0.0       0.0     1.0    0.0          0.0   \n",
       "209169      0.0        0.0        0.0       0.0     0.0    0.0          0.0   \n",
       "209171      1.0        1.0        0.0       0.0     0.0    0.0          0.0   \n",
       "\n",
       "         Drama  Fantasy  Film-Noir  ...  IMAX  Musical  Mystery  None  \\\n",
       "movieId                             ...                                 \n",
       "1          0.0      1.0        0.0  ...   0.0      0.0      0.0   0.0   \n",
       "2          0.0      1.0        0.0  ...   0.0      0.0      0.0   0.0   \n",
       "3          0.0      0.0        0.0  ...   0.0      0.0      0.0   0.0   \n",
       "4          1.0      0.0        0.0  ...   0.0      0.0      0.0   0.0   \n",
       "5          0.0      0.0        0.0  ...   0.0      0.0      0.0   0.0   \n",
       "...        ...      ...        ...  ...   ...      ...      ...   ...   \n",
       "209157     1.0      0.0        0.0  ...   0.0      0.0      0.0   0.0   \n",
       "209159     0.0      0.0        0.0  ...   0.0      0.0      0.0   0.0   \n",
       "209163     1.0      0.0        0.0  ...   0.0      0.0      0.0   0.0   \n",
       "209169     0.0      0.0        0.0  ...   0.0      0.0      0.0   1.0   \n",
       "209171     1.0      0.0        0.0  ...   0.0      0.0      0.0   0.0   \n",
       "\n",
       "         Romance  Sci-Fi  Thriller  War  Western    year  \n",
       "movieId                                                   \n",
       "1            0.0     0.0       0.0  0.0      0.0  1995.0  \n",
       "2            0.0     0.0       0.0  0.0      0.0  1995.0  \n",
       "3            1.0     0.0       0.0  0.0      0.0  1995.0  \n",
       "4            1.0     0.0       0.0  0.0      0.0  1995.0  \n",
       "5            0.0     0.0       0.0  0.0      0.0  1995.0  \n",
       "...          ...     ...       ...  ...      ...     ...  \n",
       "209157       0.0     0.0       0.0  0.0      0.0  2018.0  \n",
       "209159       0.0     0.0       0.0  0.0      0.0  2001.0  \n",
       "209163       0.0     0.0       0.0  0.0      0.0  2018.0  \n",
       "209169       0.0     0.0       0.0  0.0      0.0  2001.0  \n",
       "209171       0.0     0.0       0.0  0.0      0.0  1962.0  \n",
       "\n",
       "[62423 rows x 21 columns]"
      ]
     },
     "execution_count": 20,
     "metadata": {},
     "output_type": "execute_result"
    }
   ],
   "source": [
    "# Mostrando matriz\n",
    "movie_genres_matrix"
   ]
  },
  {
   "cell_type": "code",
   "execution_count": 21,
   "id": "b1fba2cc",
   "metadata": {
    "ExecuteTime": {
     "end_time": "2021-07-12T16:27:34.183228Z",
     "start_time": "2021-07-12T16:27:34.148219Z"
    }
   },
   "outputs": [],
   "source": [
    "# Gerando matriz esparsa com a matriz acima\n",
    "sparse_matrix_cb = sparse.csr_matrix(movie_genres_matrix)"
   ]
  },
  {
   "cell_type": "code",
   "execution_count": 22,
   "id": "48d699bc",
   "metadata": {
    "ExecuteTime": {
     "end_time": "2021-07-12T16:27:35.352368Z",
     "start_time": "2021-07-12T16:27:35.348368Z"
    }
   },
   "outputs": [
    {
     "data": {
      "text/plain": [
       "NearestNeighbors(metric='cosine', n_neighbors=10)"
      ]
     },
     "execution_count": 22,
     "metadata": {},
     "output_type": "execute_result"
    }
   ],
   "source": [
    "# Criando o modelo knn\n",
    "knn_genres_cb = NearestNeighbors(n_neighbors=N_NEIGHBORS, algorithm='auto', metric='cosine') # temos que mexer nos parâmetros posteriormente\n",
    "\n",
    "knn_genres_cb.fit(sparse_matrix_cb)"
   ]
  },
  {
   "cell_type": "code",
   "execution_count": 23,
   "id": "4bc69c24",
   "metadata": {
    "ExecuteTime": {
     "end_time": "2021-07-12T16:27:38.849589Z",
     "start_time": "2021-07-12T16:27:38.843588Z"
    }
   },
   "outputs": [],
   "source": [
    "# procura filmes baseando-se nas bases de dados que contém os generos\n",
    "def search_movies_genres_cb(search_word):\n",
    "    return movies_cb[movies_cb.title.str.contains(search_word, flags=re.IGNORECASE)]"
   ]
  },
  {
   "cell_type": "code",
   "execution_count": 24,
   "id": "7fa32279",
   "metadata": {
    "ExecuteTime": {
     "end_time": "2021-07-12T16:27:39.415401Z",
     "start_time": "2021-07-12T16:27:39.404400Z"
    }
   },
   "outputs": [],
   "source": [
    "# criando função que gera recomendações basedo em um filme - utilizando um modelo KNN - baseando-se nos generos\n",
    "def get_recommendations_genres_cb(movie_name, model): #nome do filme, modelo\n",
    "    # Pegando o Id do filme que tenha o nome passado\n",
    "    movieId = movies_cb.loc[movies_cb[\"title\"] == movie_name][\"movieId\"].values[0]\n",
    "    \n",
    "    index = movies_cb.loc[movies_cb[\"movieId\"] == movieId].index.values[0]\n",
    "    \n",
    "    distances, suggestions = model.kneighbors(sparse_matrix_cb.getrow(index).todense().tolist(), n_neighbors=N_NEIGHBORS)\n",
    "\n",
    "    for i in range(0, len(distances.flatten())):\n",
    "        if(i == 0):\n",
    "            print('Recomendações para {0}: \\n'.format(movie_name))\n",
    "        else:\n",
    "            print('{0}: {1}, com distância de {2}:'.format(i, movies_cb.loc[movies_cb.index == suggestions.flatten()[i]][\"title\"].values[0], distances.flatten()[i]))\n",
    "    \n",
    "    return distances, suggestions"
   ]
  },
  {
   "cell_type": "code",
   "execution_count": 25,
   "id": "5a5d32cb",
   "metadata": {
    "ExecuteTime": {
     "end_time": "2021-07-12T16:27:41.559410Z",
     "start_time": "2021-07-12T16:27:41.508399Z"
    }
   },
   "outputs": [
    {
     "data": {
      "text/html": [
       "<div>\n",
       "<style scoped>\n",
       "    .dataframe tbody tr th:only-of-type {\n",
       "        vertical-align: middle;\n",
       "    }\n",
       "\n",
       "    .dataframe tbody tr th {\n",
       "        vertical-align: top;\n",
       "    }\n",
       "\n",
       "    .dataframe thead th {\n",
       "        text-align: right;\n",
       "    }\n",
       "</style>\n",
       "<table border=\"1\" class=\"dataframe\">\n",
       "  <thead>\n",
       "    <tr style=\"text-align: right;\">\n",
       "      <th></th>\n",
       "      <th>movieId</th>\n",
       "      <th>title</th>\n",
       "      <th>genres</th>\n",
       "      <th>year</th>\n",
       "    </tr>\n",
       "  </thead>\n",
       "  <tbody>\n",
       "    <tr>\n",
       "      <th>5241</th>\n",
       "      <td>5349</td>\n",
       "      <td>Spider-Man</td>\n",
       "      <td>[Action, Adventure, Sci-Fi, Thriller]</td>\n",
       "      <td>2002</td>\n",
       "    </tr>\n",
       "    <tr>\n",
       "      <th>7923</th>\n",
       "      <td>8636</td>\n",
       "      <td>Spider-Man 2</td>\n",
       "      <td>[Action, Adventure, Sci-Fi, IMAX]</td>\n",
       "      <td>2004</td>\n",
       "    </tr>\n",
       "    <tr>\n",
       "      <th>11561</th>\n",
       "      <td>52722</td>\n",
       "      <td>Spider-Man 3</td>\n",
       "      <td>[Action, Adventure, Sci-Fi, Thriller, IMAX]</td>\n",
       "      <td>2007</td>\n",
       "    </tr>\n",
       "    <tr>\n",
       "      <th>14527</th>\n",
       "      <td>76709</td>\n",
       "      <td>Spider-Man: The Ultimate Villain Showdown</td>\n",
       "      <td>[Animation]</td>\n",
       "      <td>2002</td>\n",
       "    </tr>\n",
       "    <tr>\n",
       "      <th>18241</th>\n",
       "      <td>95510</td>\n",
       "      <td>Amazing Spider-Man, The</td>\n",
       "      <td>[Action, Adventure, Sci-Fi, IMAX]</td>\n",
       "      <td>2012</td>\n",
       "    </tr>\n",
       "    <tr>\n",
       "      <th>21454</th>\n",
       "      <td>110553</td>\n",
       "      <td>The Amazing Spider-Man 2</td>\n",
       "      <td>[Action, Sci-Fi, IMAX]</td>\n",
       "      <td>2014</td>\n",
       "    </tr>\n",
       "    <tr>\n",
       "      <th>25074</th>\n",
       "      <td>122926</td>\n",
       "      <td>Untitled Spider-Man Reboot</td>\n",
       "      <td>[Action, Adventure, Fantasy]</td>\n",
       "      <td>2017</td>\n",
       "    </tr>\n",
       "    <tr>\n",
       "      <th>56890</th>\n",
       "      <td>195159</td>\n",
       "      <td>Spider-Man: Into the Spider-Verse</td>\n",
       "      <td>[Action, Adventure, Animation, Sci-Fi]</td>\n",
       "      <td>2018</td>\n",
       "    </tr>\n",
       "    <tr>\n",
       "      <th>59844</th>\n",
       "      <td>201773</td>\n",
       "      <td>Spider-Man: Far from Home</td>\n",
       "      <td>[Action, Adventure, Sci-Fi]</td>\n",
       "      <td>2019</td>\n",
       "    </tr>\n",
       "  </tbody>\n",
       "</table>\n",
       "</div>"
      ],
      "text/plain": [
       "       movieId                                      title  \\\n",
       "5241      5349                                 Spider-Man   \n",
       "7923      8636                               Spider-Man 2   \n",
       "11561    52722                               Spider-Man 3   \n",
       "14527    76709  Spider-Man: The Ultimate Villain Showdown   \n",
       "18241    95510                    Amazing Spider-Man, The   \n",
       "21454   110553                   The Amazing Spider-Man 2   \n",
       "25074   122926                 Untitled Spider-Man Reboot   \n",
       "56890   195159          Spider-Man: Into the Spider-Verse   \n",
       "59844   201773                  Spider-Man: Far from Home   \n",
       "\n",
       "                                            genres  year  \n",
       "5241         [Action, Adventure, Sci-Fi, Thriller]  2002  \n",
       "7923             [Action, Adventure, Sci-Fi, IMAX]  2004  \n",
       "11561  [Action, Adventure, Sci-Fi, Thriller, IMAX]  2007  \n",
       "14527                                  [Animation]  2002  \n",
       "18241            [Action, Adventure, Sci-Fi, IMAX]  2012  \n",
       "21454                       [Action, Sci-Fi, IMAX]  2014  \n",
       "25074                 [Action, Adventure, Fantasy]  2017  \n",
       "56890       [Action, Adventure, Animation, Sci-Fi]  2018  \n",
       "59844                  [Action, Adventure, Sci-Fi]  2019  "
      ]
     },
     "execution_count": 25,
     "metadata": {},
     "output_type": "execute_result"
    }
   ],
   "source": [
    "# Setando um tamanho de coluna, para ver o nome completo dos filmes\n",
    "pd.set_option('display.max_colwidth', 500)\n",
    "\n",
    "search_movies_genres_cb(\"Spider-Man\")"
   ]
  },
  {
   "cell_type": "code",
   "execution_count": 26,
   "id": "2a1a0287",
   "metadata": {
    "ExecuteTime": {
     "end_time": "2021-07-12T16:27:43.299389Z",
     "start_time": "2021-07-12T16:27:43.292388Z"
    }
   },
   "outputs": [],
   "source": [
    "# Setando o tamanho de coluna de volta ao normal\n",
    "pd.set_option('display.max_colwidth', 50)"
   ]
  },
  {
   "cell_type": "code",
   "execution_count": 27,
   "id": "b1feffb8",
   "metadata": {
    "ExecuteTime": {
     "end_time": "2021-07-12T16:27:43.730921Z",
     "start_time": "2021-07-12T16:27:43.707915Z"
    }
   },
   "outputs": [
    {
     "name": "stdout",
     "output_type": "stream",
     "text": [
      "Recomendações para Spider-Man 2: \n",
      "\n",
      "1: Superman Returns, com distância de 4.950484466803573e-13:\n",
      "2: Star Wars: Episode II - Attack of the Clones, com distância de 4.970468481246826e-13:\n",
      "3: Star Trek, com distância de 3.0845326293160724e-12:\n",
      "4: Transformers: Revenge of the Fallen, com distância de 3.0845326293160724e-12:\n",
      "5: Avatar, com distância de 3.0845326293160724e-12:\n",
      "6: Tron: Legacy, com distância de 4.437561429426751e-12:\n",
      "7: John Carter, com distância de 7.87325760143176e-12:\n",
      "8: Avengers, The, com distância de 7.87325760143176e-12:\n",
      "9: Amazing Spider-Man, The, com distância de 7.87325760143176e-12:\n"
     ]
    }
   ],
   "source": [
    "a, b = get_recommendations_genres_cb(\"Spider-Man 2\", knn_genres_cb)"
   ]
  },
  {
   "cell_type": "markdown",
   "id": "7dddf9aa",
   "metadata": {},
   "source": [
    "### 2.2.2 Utilizando as tags para fazer um sistema de recomendação baseado na matriz TFidf"
   ]
  },
  {
   "cell_type": "code",
   "execution_count": 28,
   "id": "7100af65",
   "metadata": {
    "ExecuteTime": {
     "end_time": "2021-07-12T16:27:56.494458Z",
     "start_time": "2021-07-12T16:27:56.485456Z"
    }
   },
   "outputs": [
    {
     "data": {
      "text/html": [
       "<div>\n",
       "<style scoped>\n",
       "    .dataframe tbody tr th:only-of-type {\n",
       "        vertical-align: middle;\n",
       "    }\n",
       "\n",
       "    .dataframe tbody tr th {\n",
       "        vertical-align: top;\n",
       "    }\n",
       "\n",
       "    .dataframe thead th {\n",
       "        text-align: right;\n",
       "    }\n",
       "</style>\n",
       "<table border=\"1\" class=\"dataframe\">\n",
       "  <thead>\n",
       "    <tr style=\"text-align: right;\">\n",
       "      <th></th>\n",
       "      <th>movieId</th>\n",
       "      <th>tags</th>\n",
       "      <th>tags_processed</th>\n",
       "    </tr>\n",
       "  </thead>\n",
       "  <tbody>\n",
       "    <tr>\n",
       "      <th>0</th>\n",
       "      <td>1</td>\n",
       "      <td>owned imdb top 250 pixar pixar time travel chi...</td>\n",
       "      <td>imdb top pixar pixar time travel child comedy ...</td>\n",
       "    </tr>\n",
       "    <tr>\n",
       "      <th>1</th>\n",
       "      <td>2</td>\n",
       "      <td>robin williams time travel fantasy based on ch...</td>\n",
       "      <td>robin williams time travel fantasy base child ...</td>\n",
       "    </tr>\n",
       "    <tr>\n",
       "      <th>2</th>\n",
       "      <td>3</td>\n",
       "      <td>funny best friend duringcreditsstinger fishing...</td>\n",
       "      <td>funny best friend duringcreditsstinger fish ol...</td>\n",
       "    </tr>\n",
       "    <tr>\n",
       "      <th>3</th>\n",
       "      <td>4</td>\n",
       "      <td>based on novel or book chick flick divorce int...</td>\n",
       "      <td>base novel book chick flick divorce interracia...</td>\n",
       "    </tr>\n",
       "    <tr>\n",
       "      <th>4</th>\n",
       "      <td>5</td>\n",
       "      <td>aging baby confidence contraception daughter g...</td>\n",
       "      <td>age baby confidence contraception daughter gyn...</td>\n",
       "    </tr>\n",
       "  </tbody>\n",
       "</table>\n",
       "</div>"
      ],
      "text/plain": [
       "   movieId                                               tags  \\\n",
       "0        1  owned imdb top 250 pixar pixar time travel chi...   \n",
       "1        2  robin williams time travel fantasy based on ch...   \n",
       "2        3  funny best friend duringcreditsstinger fishing...   \n",
       "3        4  based on novel or book chick flick divorce int...   \n",
       "4        5  aging baby confidence contraception daughter g...   \n",
       "\n",
       "                                      tags_processed  \n",
       "0  imdb top pixar pixar time travel child comedy ...  \n",
       "1  robin williams time travel fantasy base child ...  \n",
       "2  funny best friend duringcreditsstinger fish ol...  \n",
       "3  base novel book chick flick divorce interracia...  \n",
       "4  age baby confidence contraception daughter gyn...  "
      ]
     },
     "execution_count": 28,
     "metadata": {},
     "output_type": "execute_result"
    }
   ],
   "source": [
    "# Carregando o arquivo que contém \n",
    "tags_processed_cb.head()"
   ]
  },
  {
   "cell_type": "markdown",
   "id": "7601432e",
   "metadata": {},
   "source": [
    "#### Criação de uma matriz palavras_chave x filmes"
   ]
  },
  {
   "cell_type": "markdown",
   "id": "4e9a3696",
   "metadata": {},
   "source": [
    "### PODE-SE FAZER APENAS COM A CONTAGEM DE OCORRENCIA DAS PALAVRAS."
   ]
  },
  {
   "cell_type": "code",
   "execution_count": 53,
   "id": "1d1c5fd8",
   "metadata": {
    "ExecuteTime": {
     "end_time": "2021-07-12T16:30:39.885156Z",
     "start_time": "2021-07-12T16:29:52.500038Z"
    }
   },
   "outputs": [
    {
     "name": "stdout",
     "output_type": "stream",
     "text": [
      "(45251, 32277)\n"
     ]
    }
   ],
   "source": [
    "from sklearn.feature_extraction.text import TfidfVectorizer\n",
    "tfidf = TfidfVectorizer(stop_words='english')\n",
    "tfidf_matrix = tfidf.fit_transform(tags_processed_cb[\"tags_processed\"].values.astype('U'))\n",
    "#tfidf_df = pd.DataFrame(tfidf_matrix.toarray(), index=tags_processed_cb.index.tolist())\n",
    "print(tfidf_matrix.shape)"
   ]
  },
  {
   "cell_type": "code",
   "execution_count": 54,
   "id": "d016784c",
   "metadata": {
    "ExecuteTime": {
     "end_time": "2021-07-12T16:30:39.933167Z",
     "start_time": "2021-07-12T16:30:39.892158Z"
    }
   },
   "outputs": [
    {
     "data": {
      "text/plain": [
       "['choreographed',\n",
       " 'choreographer',\n",
       " 'choreographic',\n",
       " 'choreography',\n",
       " 'chores',\n",
       " 'chorine',\n",
       " 'chorus',\n",
       " 'chosen',\n",
       " 'chou',\n",
       " 'chow']"
      ]
     },
     "execution_count": 54,
     "metadata": {},
     "output_type": "execute_result"
    }
   ],
   "source": [
    "tfidf.get_feature_names()[5000:5010]"
   ]
  },
  {
   "cell_type": "code",
   "execution_count": 55,
   "id": "f58ba240",
   "metadata": {
    "ExecuteTime": {
     "end_time": "2021-07-12T16:30:39.981178Z",
     "start_time": "2021-07-12T16:30:39.935168Z"
    }
   },
   "outputs": [],
   "source": [
    "# Verificando graficamente\n",
    "\n",
    "# Compress with SVD\n",
    "# from sklearn.decomposition import TruncatedSVD\n",
    "# svd = TruncatedSVD(n_components=700)\n",
    "# latent_matrix = svd.fit_transform(tfidf_matrix_cpy)\n",
    " \n",
    "# # plot var expalined to see what latent dimensions to use\n",
    "# explained = svd.explained_variance_ratio_.cumsum()\n",
    "# plt.plot(explained, '.-', ms = 16, color='red')\n",
    "# plt.xlabel('Singular value components', fontsize= 12)\n",
    "# plt.ylabel('Cumulative percent of variance', fontsize=12)        \n",
    "# plt.show()"
   ]
  },
  {
   "cell_type": "code",
   "execution_count": 56,
   "id": "06206c6a",
   "metadata": {
    "ExecuteTime": {
     "end_time": "2021-07-12T16:30:39.997182Z",
     "start_time": "2021-07-12T16:30:39.982178Z"
    }
   },
   "outputs": [
    {
     "data": {
      "text/plain": [
       "NearestNeighbors(metric='cosine', n_neighbors=10)"
      ]
     },
     "execution_count": 56,
     "metadata": {},
     "output_type": "execute_result"
    }
   ],
   "source": [
    "# Criando o modelo knn utilizando as tags\n",
    "knn_tags_cb = NearestNeighbors(n_neighbors=N_NEIGHBORS, algorithm='auto', metric='cosine') # temos que mexer nos parâmetros posteriormente\n",
    "\n",
    "knn_tags_cb.fit(tfidf_matrix)"
   ]
  },
  {
   "cell_type": "code",
   "execution_count": 57,
   "id": "13d018c9",
   "metadata": {
    "ExecuteTime": {
     "end_time": "2021-07-12T16:30:40.013185Z",
     "start_time": "2021-07-12T16:30:39.998183Z"
    }
   },
   "outputs": [],
   "source": [
    "# criando função que gera recomendações basedo em um filme - utilizando um modelo KNN - baseando-se nas tags\n",
    "def get_recommendations_tags_cb(movie_name, model): #nome do filme, modelo\n",
    "    # Pegando o Id do filme que tenha o nome passado\n",
    "    movieId = movies_cb.loc[movies_cb[\"title\"] == movie_name][\"movieId\"].values[0]\n",
    "    \n",
    "    index = movies_cb.loc[movies_cb[\"movieId\"] == movieId].index.values[0]\n",
    "    \n",
    "    distances, suggestions = model.kneighbors(tfidf_matrix.getrow(index).todense().tolist(), n_neighbors=N_NEIGHBORS)\n",
    "\n",
    "    for i in range(0, len(distances.flatten())):\n",
    "        if(i == 0):\n",
    "            print('Recomendações para {0}: \\n'.format(movie_name))\n",
    "        else:\n",
    "            print('{0}: {1}, com distância de {2}:'.format(i, movies_cb.loc[movies_cb.index == suggestions.flatten()[i]][\"title\"].values[0], distances.flatten()[i]))\n",
    "    \n",
    "    return distances, suggestions"
   ]
  },
  {
   "cell_type": "code",
   "execution_count": 58,
   "id": "a656e1d6",
   "metadata": {
    "ExecuteTime": {
     "end_time": "2021-07-12T16:30:40.125211Z",
     "start_time": "2021-07-12T16:30:40.015185Z"
    }
   },
   "outputs": [
    {
     "name": "stdout",
     "output_type": "stream",
     "text": [
      "Recomendações para Spider-Man 2: \n",
      "\n",
      "1: Stateside, com distância de 0.43413231440510947:\n",
      "2: 47 Ronin, The (Genroku Chûshingura), com distância de 0.4668735525384128:\n",
      "3: Symphony No. 42, com distância de 0.4923495317314386:\n",
      "4: Going Home, com distância de 0.5466584022331984:\n",
      "5: Secret Garden, The, com distância de 0.5468300241019454:\n",
      "6: Heat, The, com distância de 0.5530226005100427:\n",
      "7: Submarine X-1, com distância de 0.5600991413092565:\n",
      "8: Nothing Left Unsaid: Gloria Vanderbilt & Anderson Cooper, com distância de 0.5627528096766188:\n",
      "9: Chosen, com distância de 0.5737336287443238:\n",
      "\n",
      " [[ 7923  8281  8409 41548 33215  8479 19925 18740 40517 41918]]\n"
     ]
    }
   ],
   "source": [
    "a, b = get_recommendations_tags_cb(\"Spider-Man 2\", knn_tags_cb)\n",
    "\n",
    "print(\"\\n\", b)"
   ]
  },
  {
   "cell_type": "code",
   "execution_count": 59,
   "id": "de3eb704",
   "metadata": {
    "ExecuteTime": {
     "end_time": "2021-07-12T16:30:40.157216Z",
     "start_time": "2021-07-12T16:30:40.126210Z"
    }
   },
   "outputs": [
    {
     "data": {
      "text/html": [
       "<div>\n",
       "<style scoped>\n",
       "    .dataframe tbody tr th:only-of-type {\n",
       "        vertical-align: middle;\n",
       "    }\n",
       "\n",
       "    .dataframe tbody tr th {\n",
       "        vertical-align: top;\n",
       "    }\n",
       "\n",
       "    .dataframe thead th {\n",
       "        text-align: right;\n",
       "    }\n",
       "</style>\n",
       "<table border=\"1\" class=\"dataframe\">\n",
       "  <thead>\n",
       "    <tr style=\"text-align: right;\">\n",
       "      <th></th>\n",
       "      <th>movieId</th>\n",
       "      <th>average rating</th>\n",
       "      <th>rating count</th>\n",
       "      <th>weighted rating</th>\n",
       "    </tr>\n",
       "  </thead>\n",
       "  <tbody>\n",
       "    <tr>\n",
       "      <th>0</th>\n",
       "      <td>1</td>\n",
       "      <td>3.893708</td>\n",
       "      <td>57309</td>\n",
       "      <td>3.887824</td>\n",
       "    </tr>\n",
       "    <tr>\n",
       "      <th>1</th>\n",
       "      <td>2</td>\n",
       "      <td>3.251527</td>\n",
       "      <td>24228</td>\n",
       "      <td>3.248508</td>\n",
       "    </tr>\n",
       "    <tr>\n",
       "      <th>2</th>\n",
       "      <td>3</td>\n",
       "      <td>3.142028</td>\n",
       "      <td>11804</td>\n",
       "      <td>3.139640</td>\n",
       "    </tr>\n",
       "    <tr>\n",
       "      <th>3</th>\n",
       "      <td>4</td>\n",
       "      <td>2.853547</td>\n",
       "      <td>2523</td>\n",
       "      <td>2.884188</td>\n",
       "    </tr>\n",
       "    <tr>\n",
       "      <th>4</th>\n",
       "      <td>5</td>\n",
       "      <td>3.058434</td>\n",
       "      <td>11714</td>\n",
       "      <td>3.058875</td>\n",
       "    </tr>\n",
       "  </tbody>\n",
       "</table>\n",
       "</div>"
      ],
      "text/plain": [
       "   movieId  average rating  rating count  weighted rating\n",
       "0        1        3.893708         57309         3.887824\n",
       "1        2        3.251527         24228         3.248508\n",
       "2        3        3.142028         11804         3.139640\n",
       "3        4        2.853547          2523         2.884188\n",
       "4        5        3.058434         11714         3.058875"
      ]
     },
     "execution_count": 59,
     "metadata": {},
     "output_type": "execute_result"
    }
   ],
   "source": [
    "ratings_infos_cb.head()"
   ]
  },
  {
   "cell_type": "markdown",
   "id": "4b20fff1",
   "metadata": {},
   "source": [
    "### 2.2.2 Utilizando as tags para fazer um sistema de recomendação baseado na ocorrência e ausencia de tags"
   ]
  },
  {
   "cell_type": "code",
   "execution_count": 60,
   "id": "8d1db5ed",
   "metadata": {
    "ExecuteTime": {
     "end_time": "2021-07-12T16:30:40.411274Z",
     "start_time": "2021-07-12T16:30:40.160217Z"
    }
   },
   "outputs": [
    {
     "data": {
      "text/html": [
       "<div>\n",
       "<style scoped>\n",
       "    .dataframe tbody tr th:only-of-type {\n",
       "        vertical-align: middle;\n",
       "    }\n",
       "\n",
       "    .dataframe tbody tr th {\n",
       "        vertical-align: top;\n",
       "    }\n",
       "\n",
       "    .dataframe thead th {\n",
       "        text-align: right;\n",
       "    }\n",
       "</style>\n",
       "<table border=\"1\" class=\"dataframe\">\n",
       "  <thead>\n",
       "    <tr style=\"text-align: right;\">\n",
       "      <th></th>\n",
       "      <th>movieId</th>\n",
       "      <th>tags_processed</th>\n",
       "    </tr>\n",
       "  </thead>\n",
       "  <tbody>\n",
       "    <tr>\n",
       "      <th>0</th>\n",
       "      <td>1</td>\n",
       "      <td>[imdb, top, pixar, pixar, time, travel, child,...</td>\n",
       "    </tr>\n",
       "    <tr>\n",
       "      <th>1</th>\n",
       "      <td>2</td>\n",
       "      <td>[robin, williams, time, travel, fantasy, base,...</td>\n",
       "    </tr>\n",
       "    <tr>\n",
       "      <th>2</th>\n",
       "      <td>3</td>\n",
       "      <td>[funny, best, friend, duringcreditsstinger, fi...</td>\n",
       "    </tr>\n",
       "    <tr>\n",
       "      <th>3</th>\n",
       "      <td>4</td>\n",
       "      <td>[base, novel, book, chick, flick, divorce, int...</td>\n",
       "    </tr>\n",
       "    <tr>\n",
       "      <th>4</th>\n",
       "      <td>5</td>\n",
       "      <td>[age, baby, confidence, contraception, daughte...</td>\n",
       "    </tr>\n",
       "  </tbody>\n",
       "</table>\n",
       "</div>"
      ],
      "text/plain": [
       "   movieId                                     tags_processed\n",
       "0        1  [imdb, top, pixar, pixar, time, travel, child,...\n",
       "1        2  [robin, williams, time, travel, fantasy, base,...\n",
       "2        3  [funny, best, friend, duringcreditsstinger, fi...\n",
       "3        4  [base, novel, book, chick, flick, divorce, int...\n",
       "4        5  [age, baby, confidence, contraception, daughte..."
      ]
     },
     "execution_count": 60,
     "metadata": {},
     "output_type": "execute_result"
    }
   ],
   "source": [
    "# colocando as tags processadas em listas\n",
    "tags_list_df = tags_processed_cb.copy()\n",
    "\n",
    "tags_list_df['tags_processed'] = tags_list_df['tags_processed'].str.split(' ')\n",
    "\n",
    "tags_list_df.drop(\"tags\", inplace=True, axis=1)\n",
    "\n",
    "tags_list_df.head()"
   ]
  },
  {
   "cell_type": "code",
   "execution_count": 61,
   "id": "372bb5a8",
   "metadata": {
    "ExecuteTime": {
     "end_time": "2021-07-12T16:30:40.459285Z",
     "start_time": "2021-07-12T16:30:40.412273Z"
    }
   },
   "outputs": [
    {
     "data": {
      "text/html": [
       "<div>\n",
       "<style scoped>\n",
       "    .dataframe tbody tr th:only-of-type {\n",
       "        vertical-align: middle;\n",
       "    }\n",
       "\n",
       "    .dataframe tbody tr th {\n",
       "        vertical-align: top;\n",
       "    }\n",
       "\n",
       "    .dataframe thead th {\n",
       "        text-align: right;\n",
       "    }\n",
       "</style>\n",
       "<table border=\"1\" class=\"dataframe\">\n",
       "  <thead>\n",
       "    <tr style=\"text-align: right;\">\n",
       "      <th></th>\n",
       "      <th>movieId</th>\n",
       "    </tr>\n",
       "  </thead>\n",
       "  <tbody>\n",
       "    <tr>\n",
       "      <th>count</th>\n",
       "      <td>45251.000000</td>\n",
       "    </tr>\n",
       "    <tr>\n",
       "      <th>mean</th>\n",
       "      <td>106384.672206</td>\n",
       "    </tr>\n",
       "    <tr>\n",
       "      <th>std</th>\n",
       "      <td>62915.776571</td>\n",
       "    </tr>\n",
       "    <tr>\n",
       "      <th>min</th>\n",
       "      <td>1.000000</td>\n",
       "    </tr>\n",
       "    <tr>\n",
       "      <th>25%</th>\n",
       "      <td>55009.500000</td>\n",
       "    </tr>\n",
       "    <tr>\n",
       "      <th>50%</th>\n",
       "      <td>121797.000000</td>\n",
       "    </tr>\n",
       "    <tr>\n",
       "      <th>75%</th>\n",
       "      <td>159553.000000</td>\n",
       "    </tr>\n",
       "    <tr>\n",
       "      <th>max</th>\n",
       "      <td>209063.000000</td>\n",
       "    </tr>\n",
       "  </tbody>\n",
       "</table>\n",
       "</div>"
      ],
      "text/plain": [
       "             movieId\n",
       "count   45251.000000\n",
       "mean   106384.672206\n",
       "std     62915.776571\n",
       "min         1.000000\n",
       "25%     55009.500000\n",
       "50%    121797.000000\n",
       "75%    159553.000000\n",
       "max    209063.000000"
      ]
     },
     "execution_count": 61,
     "metadata": {},
     "output_type": "execute_result"
    }
   ],
   "source": [
    "tags_list_df.describe()"
   ]
  },
  {
   "cell_type": "markdown",
   "id": "2c11cede",
   "metadata": {},
   "source": [
    "#### AVISO: Não executar as duas células abaixo, apenas carregar o arquivo na posterior"
   ]
  },
  {
   "cell_type": "code",
   "execution_count": 52,
   "id": "855b6223",
   "metadata": {
    "ExecuteTime": {
     "end_time": "2021-07-09T15:54:45.804003Z",
     "start_time": "2021-07-09T15:53:37.487433Z"
    }
   },
   "outputs": [
    {
     "data": {
      "text/plain": [
       "32443"
      ]
     },
     "execution_count": 52,
     "metadata": {},
     "output_type": "execute_result"
    }
   ],
   "source": [
    "# fazendo uma lista de tags, para cada tag na lista de tags daquela linha, caso não esteja na lista, adicionamos.\n",
    "tags_list = []\n",
    "\n",
    "for index, row in tags_list_df.iterrows():\n",
    "    for tag in row['tags_processed']:\n",
    "        #tags_list_df.at[index, tag] = 1\n",
    "        if(not tag in tags_list):\n",
    "            tags_list.append(tag)\n",
    "\n",
    "len(tags_list)"
   ]
  },
  {
   "cell_type": "code",
   "execution_count": 53,
   "id": "6202125c",
   "metadata": {
    "ExecuteTime": {
     "end_time": "2021-07-09T15:55:29.727216Z",
     "start_time": "2021-07-09T15:55:29.665190Z"
    }
   },
   "outputs": [],
   "source": [
    "# salvando a lista de tags em um arquivo pickle\n",
    "import pickle\n",
    "with open('preprocessed-data/CB/movies_tags_matrix/processed_tags_list.pkl', 'w+b') as f:\n",
    "     pickle.dump(tags_list, f)"
   ]
  },
  {
   "cell_type": "code",
   "execution_count": 62,
   "id": "ca78296b",
   "metadata": {
    "ExecuteTime": {
     "end_time": "2021-07-12T16:32:08.861002Z",
     "start_time": "2021-07-12T16:32:08.653740Z"
    }
   },
   "outputs": [],
   "source": [
    "tags_list = pd.read_pickle('preprocessed-data/CB/movies_tags_matrix/processed_tags_list.pkl');"
   ]
  },
  {
   "cell_type": "code",
   "execution_count": 63,
   "id": "0c5315e4",
   "metadata": {
    "ExecuteTime": {
     "end_time": "2021-07-12T16:32:10.483724Z",
     "start_time": "2021-07-12T16:32:10.344733Z"
    }
   },
   "outputs": [
    {
     "name": "stdout",
     "output_type": "stream",
     "text": [
      "['imdb', 'top', 'pixar', 'time', 'travel', 'child', 'comedy', 'funny', 'witty', 'animation', 'computer', 'good', 'cartoon', 'chindren', 'friendship', 'bright', 'dare', 'rescue', 'fanciful', 'heroic', 'mission', 'humorous', 'light', 'rouse', 'toy', 'come', 'life', 'unlikely', 'warm', 'disney', 'boy', 'next', 'door', 'bully', 'friend', 'jealousy', 'martial', 'art', 'neighborhood', 'new', 'resourcefulness', 'rivalry', 'walkie', 'talkie', 'clever', 'tom', 'hank', 'fun', 'dolls', 'national', 'film', 'registry', 'adventure', 'animate', 'cgi', 'family', 'fantasy', 'classic', 'watch', 'action', 'figure', 'buzz', 'lightyear', 'cg', 'woody', 'nostalgic', 'tim', 'allen', 'childish', 'buddy', 'movie', 'ya', 'cute', 'story', 'voice', 'act', 'played', 'cowboy', 'dinosaur', 'animated', 'best', 'rotten', 'tomato', 'john', 'lasseter', 'soothe', 'kid', 'feature', 'leoni', 'star', 'excite', 'plot', 'line', 'touch', 'reissue', 'stereoscopic', 'every', 'see', 'entertainment', 'weekly', 'clv', 'rainy', 'day', 'watchlist', 'villian', 'hurt', 'itaege', 'animmation', 'avi', 'buy', 'hearted', 'whimsica', 'great', 'favorite', 'tumey', 'vhs', 'want', 'innovative', 'engage', 'first', 'joss', 'whedon', 'unny', 'usa', 'lot', 'heart', 'american', 'robin', 'williams', 'base', 'book', 'board', 'game', 'disappearance', 'giant', 'insect', 'home', 'recluse', 'bad', 'flick', 'scary', 'animal', 'magic', 'fiction', 'adapt', 'chris', 'van', 'allsburg', 'kirsten', 'dunst', 'jungle', 'monkey', 'childhood', 'recaptured', 'herd', 'joe', 'johnston', 'recapture', 'also', 'zathura', 'bc', 'lebbat', 'adaptation', 'dynamic', 'horrifying', 'horror', 'genre', 'duringcreditsstinger', 'fish', 'old', 'man', 'sequel', 'fever', 'moldy', 'jack', 'lemmon', 'walter', 'matthau', 'grun', 'run', 'comedinha', 'de', 'velhinhos', 'people', 'actually', 'howard', 'deutch', 'ann', 'margaret', 'burgess', 'meredith', 'daryl', 'hannah', 'soundtrack', 'sophia', 'loren', 'novel', 'chick', 'divorce', 'interracial', 'relationship', 'single', 'mother', 'revenge', 'character', 'age', 'baby', 'confidence', 'contraception', 'daughter', 'gynecologist', 'midlife', 'crisis', 'parent', 'pregnancy', 'steve', 'martin', 'wed', 'diane', 'keaton', 'wedding', 'realistic', 'suspense', 'al', 'pacino', 'atmospheric', 'bank', 'robbery', 'crime', 'robert', 'niro', 'tense', 'val', 'kilmer', 'job', 'dialogue', 'heist', 'long', 'los', 'angeles', 'michael', 'mann', 'visceral', 'bleak', 'slick', 'somber', 'betrayal', 'cat', 'mouse', 'chase', 'epic', 'criminal', 'mastermind', 'cult', 'detective', 'gang', 'honor', 'loner', 'murder', 'obsession', 'one', 'last', 'thief', 'recommendz', 'pick', 'gunfight', 'overrate', 'philosophy', 'natalie', 'portman', 'electronic', 'slow', 'pace', 'mine', 'cliched', 'dumbed', 'hollywoodization', 'lame', 'e', 'un', 'poc', 'lo', 'sempre', 'overrated', 'ashley', 'judd', 'bechdel', 'test', 'fail', 'ensemble', 'cast', 'police', 'acting', 'individualism', 'complex', 'setting', 'la', 'care', 'dvds', 'jon', 'voight', 'third', 'problem', 'v', 'authentic', 'nucleus', 'btaege', 'hd', 'mkv', 'ca', 'remember', 'synthesizer', 'understated', 'ever', 'netflix', 'queue', 'adultery', 'career', 'gun', 'professional', 'real', 'suicide', 'violent', 'need', 'mary', 'kircher', 'viviane', 'vives', 'bibliothek', 'dvd', 'vontatott', 'amazing', 'captivate', 'authenticity', 'amaze', 'teenage', 'girl', 'tragic', 'end', 'r', 'language', 'violence', 'tough', 'guy', 'remake', 'chauffeur', 'fusion', 'island', 'millionaire', 'paris', 'sibling', 'play', 'harrison', 'ford', 'romance', 'ugly', 'duckling', 'love', 'drama', 'find', 'greg', 'kinnear', 'julia', 'ormond', 'remadeas', 'sabrina', 'remakeof', 'maybe', 'better', 'original', 'breakout', 'nancy', 'marchand', 'mark', 'twain', 'peter', 'hewitt', 'author', 'library', 'system', 'explosive', 'hostage', 'terrorist', 'vice', 'president', 'damme', 'hyams', 'bond', 'gadget', 'secret', 'service', 'spy', 'virus', 'cossack', 'cuba', 'electromagnetic', 'pulse', 'falsely', 'accuse', 'kgb', 'red', 'army', 'satellite', 'identity', 'intelligence', 'special', 'car', 'petersburg', 'russia', 'bomb', 'james', 'pierce', 'brosnan', 'pseudo', 'rat', 'win', 'sean', 'bean', 'brosnon', 'tank', 'scene', 'caribbean', 'espionage', 'franchise', 'jam', 'latin', 'america', 'puerto', 'rico', 'dark', 'memorable', 'sexuality', 'famke', 'janssen', 'thriller', 'series', 'assassin', 'killer', 'protagonist', 'die', 'bungee', 'jump', 'stunt', 'hacker', 'emp', 'flash', 'freeze', 'death', 'stealth', 'helicopter', 'bob', 'ola', 'mtskaf', 'always', 'white', 'house', 'widower', 'wildlife', 'conservation', 'aaron', 'sorkin', 'politics', 'u', 'kung', 'fu', 'decent', 'annette', 'bening', 'ethic', 'performance', 'douglas', 'moral', 'rob', 'reiner', 'girlie', 'collection', 'screenwriter', 'dracula', 'spoof', 'mel', 'brook', 'gothic', 'leslie', 'nielsen', 'parody', 'farce', 'vampire', 'ei', 'muista', 'alaska', 'bear', 'attack', 'dog', 'sled', 'race', 'frozen', 'lake', 'goose', 'pet', 'wolf', 'horner', 'dogsled', 'sort', 'bore', 'talk', 'simon', 'well', 'biography', 'government', 'historical', 'presidential', 'election', 'watergate', 'scandal', 'corruption', 'true', 'oliver', 'stone', 'biographical', 'biopic', 'person', 'richard', 'nixon', 'cinematographer', 'richardson', 'political', 'opinion', 'anthony', 'hopkins', 'exotic', 'map', 'pirate', 'scalp', 'ship', 'treasure', 'big', 'budget', 'frank', 'langella', 'geena', 'davis', 'humor', 'sword', 'fight', 'hunt', 'mafia', 'scorsese', 'organize', 'deniro', 'gangster', 'pesci', 'vega', 'casino', 'drug', 'abuse', 'illegal', 'prostitution', 'overdose', 'poker', 'hysterical', 'wife', 'vegas', 'mob', 'sharon', 'rewatch', 'narrate', 'memasa', 'narrated', 'nudity', 'rear', 'indulgent', 'muddle', 'motivation', 'stylish', 'documentary', 'like', 'gamble', 'cannibalism', 'scorcese', 'development', 'excellent', 'masterpiece', 'pink', 'las', 'etaege', 'na', 'dysku', 'topless', 'brief', 'goodfellas', 'ii', 'british', 'jane', 'austen', 'century', 'hugh', 'grant', 'bowling', 'country', 'decorum', 'devon', 'horse', 'carriage', 'inheritance', 'military', 'officer', 'period', 'rainstorm', 'rural', 'set', 'servant', 'finland', 'alan', 'rickman', 'emma', 'thompson', 'emotional', 'kate', 'winslet', 'romantic', 'oscar', 'nominee', 'picture', 'shakespeare', 'costume', 'literature', 'fast', 'boring', 'nothing', 'happen', 'ang', 'lee', 'britain', 'courtship', 'heartbreak', 'laurie', 'imogen', 'stubbs', 'london', 'patriarchy', 'upper', 'class', 'english', 'regency', 'england', 'hulu', 'screenplay', 'heartwarming', 'piece', 'bgab', 'lrc', 'sven', 'list', 'trial', 'tribulation', 'ago', 'anthology', 'paced', 'gross', 'hotel', 'multiple', 'storyline', 'year', 'night', 'quentin', 'tarantino', 'rodriguez', 'role', 'roth', 'vomit', 'witchcraft', 'antonio', 'banderas', 'madonna', 'bet', 'hoodlum', 'room', 'eve', 'sperm', 'witch', 'woman', 'director', 'bruce', 'willis', 'jennifer', 'beals', 'short', 'alexandre', 'rockwell', 'allison', 'anders', 'awesome', 'combustible', 'edison', 'music', 'blasphemous', 'foul', 'salma', 'hayek', 'jim', 'carrey', 'silly', 'fav', 'callow', 'oedekerk', 'africa', 'bat', 'human', 'indigenous', 'goofy', 'stupid', 'hell', 'crazy', 'rhino', 'private', 'hilarious', 'simple', 'worst', 'spit', 'hehehe', 'dumb', 'kind', 'york', 'city', 'subway', 'train', 'joseph', 'ruben', 'worthwhile', 'hollywood', 'business', 'con', 'debt', 'miami', 'mobster', 'money', 'producer', 'foqam', 'elmore', 'leonard', 'travolta', 'satire', 'get', 'still', 'barry', 'sonnenfeld', 'insider', 'contrive', 'forgetable', 'gene', 'hackman', 'danny', 'devito', 'airport', 'escobar', 'plane', 'crash', 'stuntman', 'cowardliness', 'brutality', 'operation', 'protection', 'psychologist', 'psychology', 'serial', 'suspenseful', 'claustrophobic', 'holly', 'hunter', 'freeman', 'sigourney', 'weaver', 'agoraphobia', 'female', 'trauma', 'mystery', 'assassination', 'cia', 'competition', 'detroit', 'double', 'cross', 'hidden', 'camera', 'hitman', 'mexican', 'standoff', 'seattle', 'shootout', 'silencer', 'sniper', 'rifle', 'donner', 'sylvester', 'stallone', 'chess', 'contract', 'escape', 'explosion', 'festival', 'julianne', 'moore', 'twist', 'spain', 'strong', 'earnest', 'elegiac', 'poignant', 'reflective', 'tearjerking', 'albino', 'christ', 'allegory', 'dead', 'extrasensory', 'perception', 'faint', 'flicker', 'heal', 'power', 'hold', 'gunpoint', 'jacob', 'ladder', 'pale', 'psionic', 'shot', 'teacher', 'student', 'post', 'apocalyptic', 'victor', 'salva', 'controversial', 'inane', 'pretentious', 'outcast', 'teach', 'cheesy', 'lesson', 'empathy', 'nicolas', 'cage', 'alcoholism', 'intimate', 'melancholy', 'prostitute', 'lover', 'understate', 'alcohol', 'individual', 'sight', 'lovesickness', 'rage', 'hate', 'unsociability', 'depress', 'elisabeth', 'shue', 'existential', 'melancholic', 'self', 'destruction', 'addiction', 'favorites', 'annemari', 'drink', 'loneliness', 'drinking', 'actor', 'mike', 'figgis', 'haunt', 'nihilism', 'emily', 'procter', 'julian', 'sand', 'kim', 'adam', 'mariska', 'hargitay', 'valeria', 'golino', 'elizabeth', 'implausible', 'sad', 'enough', 'overact', 'moor', 'parker', 'playwright', 'shakespearean', 'photocopier', 'truth', 'pas', 'brendan', 'fraser', 'christina', 'ricci', 'demi', 'gaby', 'hoffman', 'janeane', 'garofalo', 'melanie', 'griffith', 'rita', 'wilson', 'rosie', 'sisterhood', 'song', 'thora', 'birch', 'retro', 'prospect', 'preferred', 'ciarán', 'hind', 'admiral', 'captain', 'napoleonic', 'war', 'flame', 'fiona', 'shaw', 'amanda', 'root', 'hinds', 'bland', 'fabulous', 'review', 'pam', 'roger', 'michell', 'nick', 'dear', 'dystopia', 'surreal', 'kidnap', 'steampunk', 'weird', 'fairytale', 'dreamlike', 'hallucinatory', 'stylize', 'whimsical', 'clone', 'dream', 'eye', 'strange', 'visual', 'clowny', 'jeunet', 'visually', 'appeal', 'stun', 'beautiful', 'santa', 'claus', 'dominique', 'pinon', 'marc', 'caro', 'ron', 'perlman', 'kidnapping', 'legenda', 'circus', 'deer', 'shit', 'orphan', 'nightmare', 'creepy', 'tweens', 'dwarf', 'freak', 'french', 'twin', 'awkward', 'skinut', 'cabaret', 'diva', 'mistress', 'shanghai', 'umbrella', 'uncle', 'zhang', 'yimou', 'inspirational', 'amusement', 'park', 'high', 'school', 'karate', 'naval', 'rap', 'education', 'michelle', 'pfeiffer', 'social', 'commentary', 'douchebags', 'emilio', 'kinda', 'nigga', 'poetry', 'professor', 'smith', 'cinema', 'change', 'highschool', 'asylum', 'biological', 'warfare', 'brad', 'pitt', 'complicate', 'future', 'mental', 'illness', 'loop', 'mindfuck', 'terry', 'gilliam', 'epidemic', 'practical', 'effect', 'cassandra', 'syndrom', 'lethal', 'philadelphia', 'schizophrenia', 'stockholm', 'syndrome', 'subterranean', 'paradox', 'agonize', 'inmate', 'institution', 'genetics', 'dystopic', 'world', 'imagination', 'biology', 'brilliant', 'hard', 'follow', 'marker', 'david', 'webb', 'annoy', 'reality', 'dystopian', 'science', 'jeffrey', 'scenario', 'complicated', 'memory', 'remain', 'nature', 'insanity', 'point', 'danger', 'reviewer', 'dislike', 'start', 'trust', 'le', 'sci', 'fi', 'fran', 'christopher', 'plummer', 'saturn', 'award', 'owned', 'deterministic', 'absurd', 'willlis', 'interest', 'orange', 'ponytail', 'ambiguous', 'design', 'madeleine', 'stowe', 'genius', 'disappointing', 'elaborate', 'melito', 'interesting', 'misfit', 'different', 'view', 'spend', 'hour', 'thinkig', 'imax', 'live', 'easily', 'confuse', 'title', 'farm', 'food', 'meaty', 'dvr', 'sheep', 'tale', 'pig', 'villain', 'nonexistent', 'hugo', 'weave', 'sweet', 'environmental', 'infantil', 'noonan', 'barnyard', 'afi', 'cheer', 'way', 'wholesome', 'conscientious', 'objector', 'independent', 'painter', 'polyamory', 'soldier', 'artist', 'biopics', 'entirely', 'compare', 'carrington', 'writer', 'bloomsbury', 'group', 'catholicism', 'religion', 'charity', 'court', 'case', 'penalty', 'row', 'sentence', 'despair', 'doom', 'electric', 'chair', 'forgiveness', 'injection', 'mercy', 'petition', 'prison', 'cell', 'rape', 'right', 'justice', 'socially', 'deprive', 'therapist', 'bible', 'christianity', 'intense', 'nun', 'susan', 'sarandon', 'emotion', 'deaf', 'penn', 'robbins', 'capital', 'punishment', 'courtroom', 'law', 'pena', 'muerte', 'actress', 'redemption', 'dilemma', 'uk', 'could', 'finish', 'movielens', 'pompadour', 'identical', 'matchmaking', 'sabotage', 'switch', 'place', 'andy', 'tennant', 'teen', 'quotable', 'paul', 'rudd', 'alicia', 'silverstone', 'brittany', 'murphy', 'amy', 'heckerling', 'donald', 'faison', 'teenager', 'updated', 'radiohead', 'fashion', 'stacey', 'dash', 'frivolous', 'viewing', 'quick', 'feel', 'sunny', 'slang', 'inspire', 'update', 'look', 'saw', 'ten', 'south', 'racism', 'darrell', 'roodt', 'king', 'ian', 'mckellen', 'loncraine', 'downey', 'jr', 'corrupt', 'african', 'armored', 'truck', 'loss', 'virginity', 'medic', 'kill', 'ptsd', 'revolutinoary', 'veteran', 'vietnam', 'monarchy', 'fountain', 'glove', 'medicine', 'spaniel', 'wealth', 'video', 'gore', 'hand', 'combat', 'monster', 'sorcerer', 'tournament', 'ridiculous', 'lambert', 'blood', 'fatality', 'anderson', 'alternate', 'dimension', 'graphic', 'ninja', 'theme', 'videogame', 'faithful', 'nostalgia', 'critic', 'gay', 'mockumentary', 'narcissistic', 'personality', 'disorder', 'hampshire', 'television', 'winter', 'medium', 'nicole', 'kidman', 'prefer', 'essential', 'suzanne', 'maretto', 'joaquin', 'phoenix', 'journalism', 'wayne', 'knight', 'advice', 'extramarital', 'affair', 'holiday', 'grandmother', 'marriage', 'proposal', 'married', 'couple', 'monogamy', 'quilt', 'vow', 'fincher', 'turn', 'disturb', 'investigation', 'kevin', 'spacey', 'morgan', 'philosophical', 'powerful', 'psychological', 'biblical', 'gloomy', 'grim', 'gruesome', 'menace', 'ominous', 'dealer', 'evisceration', 'immoderateness', 'insomnia', 'lust', 'impulsiveness', 'pension', 'pride', 'vanity', 'prophecy', 'envy', 'gluttony', 'greed', 'number', 'seven', 'sin', 'sloth', 'week', 'wrath', 'stuff', 'gwyneth', 'paltrow', 'disturbing', 'shock', 'surprise', 'favourite', 'gorgeous', 'cinematography', 'super', 'obvius', 'generally', 'crimes', 'leave', 'bfi', 'modern', 'writing', 'disgust', 'grotesque', 'policial', 'suitcase', 'creative', 'stereotype', 'divx', 'theater', 'gory', 'spannend', 'watched', 'wow', 'wonderful', 'must', 'painful', 'stuffed', 'fridge', 'pathology', 'sexual', 'assault', 'think', 'provoke', 'credit', 'predictable', 'stereotyped', 'mess', 'hopeless', 'noir', 'bradpitt', 'evil', 'dante', 'cynical', 'deadly', 'terrible', 'katottava', 'sidekick', 'tree', 'myth', 'folklore', 'colony', 'cultural', 'culture', 'clash', 'forbidden', 'gold', 'rush', 'indian', 'chief', 'settler', 'jamestown', 'virginia', 'land', 'claim', 'musical', 'musket', 'native', 'powhatan', 'princess', 'pug', 'shamanism', 'skinny', 'pocahontas', 'forbid', 'lead', 'renaissance', 'ogden', 'stiers', 'irene', 'bedard', 'kassir', 'judy', 'kuhn', 'gibson', 'russell', 'mean', 'accord', 'menken', 'relate', 'historically', 'inaccurate', 'score', 'eric', 'goldberg', 'gabriel', 'lesbian', 'lgbt', 'patricia', 'rozema', 'notable', 'interrogation', 'flashback', 'storytelling', 'whodunnit', 'conspiracy', 'script', 'tricky', 'benicio', 'del', 'toro', 'hungarian', 'relatives', 'theft', 'unexpected', 'support', 'dialog', 'bryan', 'singer', 'men', 'nonlinear', 'pete', 'postlethwaite', 'complot', 'mentiras', 'robo', 'caper', 'unreliable', 'narrator', 'club', 'meta', 'dull', 'mcquarrie', 'sa', 'den', 'kaiser', 'sose', 'keser', 'soze', 'flashbacks', 'smart', 'write', 'winner', 'web', 'lie', 'keyser', 'vintage', 'byrne', 'k', 'solve', 'rewatchable', 'black', 'humour', 'sensational', 'thriling', 'beginning', 'neo', 'intelligent', 'christine', 'estabrook', 'suzy', 'amis', 'fell', 'asleep', 'chazz', 'palminteri', 'pollak', 'losers', 'stephen', 'baldwin', 'unnecessary', 'commedy', 'academy', 'psychothriller', 'directly', 'screen', 'edgar', 'motion', 'adoption', 'adoptive', 'father', 'childlessness', 'birth', 'mira', 'sorvino', 'gianni', 'amelio', 'immigrant', 'soccer', 'sport', 'sloan', 'band', 'musician', 'baltimore', 'clan', 'conflict', 'generation', 'thanksgiving', 'dysfunctional', 'jodie', 'foster', 'lovable', 'amazon', 'fisherman', 'letter', 'poet', 'postman', 'primer', 'italian', 'bittersweet', 'scenery', 'beautifully', 'pablo', 'neruda', 'poets', 'radford', 'sicily', 'perrot', 'massimo', 'troisi', 'lepage', 'cupboard', 'parallel', 'puppet', 'oz', 'coogan', 'grieve', 'vigilante', 'schlesinger', 'beverly', 'ed', 'harris', 'kiefer', 'su', 'sally', 'field', 'apprentice', 'composer', 'disabled', 'mentor', 'tearful', 'classical', 'dewinter', 'glenne', 'headly', 'jay', 'thomas', 'olympia', 'dukakis', 'dreyfus', 'william', 'macy', 'sappy', 'herek', 'moving', 'deafness', 'hearing', 'impairment', 'lennon', 'cousin', 'date', 'hood', 'ghetto', 'wayans', 'brother', 'sandra', 'bullock', 'paint', 'seasickness', 'bill', 'bennett', 'biotope', 'pollution', 'vegetarian', 'golden', 'raspberry', 'polly', 'shore', 'jason', 'bloom', 'pauly', 'cliche', 'nuisance', 'virtual', 'bottom', 'cyberpunk', 'crap', 'estate', 'agent', 'triangle', 'menage', 'trois', 'southern', 'france', 'bisexual', 'full', 'frontal', 'queer', 'rapper', 'stoner', 'tucker', 'ice', 'cube', 'gary', 'gray', 'comment', 'wired', 'greatest', 'urban', 'george', 'clooney', 'stripper', 'robber', 'boa', 'constrictor', 'convenience', 'store', 'crucifix', 'dance', 'extreme', 'holy', 'water', 'situation', 'border', 'preacher', 'priest', 'recreational', 'vehicle', 'sheriff', 'showdown', 'siege', 'campy', 'unrealistic', 'bar', 'bikers', 'bouncer', 'cdon', 'frontier', 'mexico', 'motorhome', 'shop', 'road', 'pervert', 'planet', 'terror', 'sex', 'offender', 'snake', 'splatter', 'tattoo', 'whip', 'vampires', 'harvey', 'keitel', 'trejo', 'use', 'bloody', 'juliette', 'lewis', 'half', 'brawl', 'sexualize', 'sexualized', 'senseless', 'foot', 'fetish', 'cheech', 'marin', 'mix', 'mixed', 'damsel', 'distress', 'fbi', 'fugitive', 'grenade', 'launcher', 'handcuff', 'machine', 'garage', 'pizza', 'station', 'psychopath', 'rogue', 'russian', 'sadism', 'sadist', 'swat', 'team', 'underwater', 'lawyer', 'protect', 'eigeman', 'noah', 'baumbach', 'literate', 'talky', 'wistful', 'wry', 'college', 'criterion', 'underrated', 'take', 'unemotional', 'whit', 'stillman', 'meet', 'diner', 'boxer', 'jewish', 'foreign', 'opera', 'much', 'claude', 'lelouch', 'florist', 'poor', 'stalkerish', 'stuart', 'masterson', 'miner', 'alien', 'struggle', 'survival', 'philip', 'dick', 'robot', 'artificial', 'technological', 'singularity', 'enigmatic', 'performer', 'velvet', 'underground', 'loved', 'tragedy', 'nicholson', 'blackmail', 'juror', 'son', 'brian', 'celebration', 'goldfish', 'custom', 'tradition', 'establishment', 'tailor', 'tehran', 'jafar', 'panahi', 'lose', 'boat', 'bounty', 'coffin', 'denver', 'godmother', 'paranoia', 'colorado', 'underrate', 'noirish', 'hit', 'sacrifice', 'domestic', 'history', 'feminism', 'free', 'freedom', 'homosexuality', 'summer', 'mathematics', 'mentally', 'peasant', 'underdog', 'university', 'village', 'widow', 'marleen', 'gorris', 'mathematician', 'intellectual', 'toronto', 'racial', 'segregation', 'mississippi', 'reid', 'society', 'incest', 'naturalist', 'rich', 'scientist', 'victorian', 'byatt', 'haas', 'darwinism', 'compel', 'sail', 'diary', 'discipline', 'male', 'trip', 'squall', 'storm', 'sea', 'ridley', 'scott', 'cuban', 'missile', 'drown', 'ethan', 'embry', 'fraternity', 'melodramatic', 'ocean', 'ryan', 'phillippe', 'sailboat', 'shipwreck', 'zeljko', 'ivanek', 'educational', 'bos', 'fistfight', 'manager', 'orangutan', 'ken', 'kwapis', 'chimpanzee', 'rupert', 'everett', 'candid', 'crook', 'politician', 'nitrous', 'oxide', 'saturday', 'penelope', 'spheeris', 'farley', 'peril', 'elevator', 'governor', 'wrist', 'johnny', 'depp', 'booring', 'badham', 'walken', 'courtney', 'gloria', 'reuben', 'marsha', 'mason', 'rom', 'maffia', 'synchronic', 'amtrak', 'charles', 'dutton', 'w', 'hole', 'rollerblade', 'union', 'weak', 'housemaid', 'jekyll', 'hyde', 'laboratory', 'frears', 'malkovich', 'bang', 'grr', 'angela', 'bassett', 'wes', 'craven', 'unfunny', 'hometown', 'matt', 'dillon', 'relation', 'uma', 'thurman', 'ted', 'demme', 'lolita', 'desperation', 'reunion', 'small', 'town', 'believable', 'blossom', 'abandon', 'box', 'canyon', 'countdown', 'desert', 'humvee', 'major', 'nuclear', 'device', 'ranger', 'pilot', 'river', 'aircraft', 'forgettable', 'graham', 'yost', 'woo', 'pack', 'utah', 'boxing', 'air', 'force', 'christian', 'slater', 'gordon', 'production', 'scope', 'christmas', 'hamlet', 'kenneth', 'branagh', 'angry', 'bite', 'confrontational', 'arabian', 'boredom', 'breakdance', 'capture', 'skinhead', 'suburb', 'unemployment', 'xenophobia', 'gritty', 'miss', 'riot', 'com', 'documental', 'mathieu', 'kassovitz', 'pierre', 'aïm', 'saïd', 'taghmaoui', 'vincent', 'cassel', 'relevant', 'blanc', 'negre', 'current', 'grow', 'verlan', 'classique', 'cannes', 'directorial', 'debut', 'jude', 'narration', 'mayor', 'undercover', 'harold', 'becker', 'deadpan', 'go', 'quirky', 'burglar', 'escapade', 'barrier', 'laundry', 'maid', 'motel', 'nervous', 'breakdown', 'psychiatric', 'hospital', 'texas', 'murray', 'luke', 'owen', 'rent', 'tv', 'awry', 'castle', 'experiment', 'forensic', 'gunman', 'husband', 'golf', 'tax', 'sandler', 'barker', 'gon', 'clown', 'hayao', 'miyazaki', 'carl', 'weather', 'mcdonald', 'coordinator', 'elli', 'dennis', 'dugan', 'haha', 'hockey', 'player', 'course', 'tag', 'sophmoric', 'meryl', 'streep', 'deliberate', 'lyrical', 'sentimental', 'bridge', 'housewife', 'iowa', 'geographic', 'photographer', 'photography', 'passionate', 'clint', 'eastwood', 'fall', 'voodoo', 'muppets', 'curry', 'show', 'louis', 'stevenson', 'connolly', 'goelz', 'saunders', 'whitmire', 'billy', '', 'medieval', 'scotland', 'brutal', 'forceful', 'lavish', 'sweep', 'battle', 'false', 'highlands', 'idealism', 'enemy', 'independence', 'kilt', 'legend', 'revolt', 'revolution', 'scottish', 'highland', 'tyranny', 'united', 'kingdom', 'warfield', 'directing', 'factual', 'flashy', 'masturbatory', 'garbage', 'randall', 'wallace', 'breathtaking', 'hero', 'stick', 'patriotic', 'nice', 'grade', 'hair', 'style', 'téa', 'tribal', 'guerra', 'make', 'bravery', 'cavalry', 'charge', 'thrilling', 'thrill', 'heroism', 'stream', 'touching', 'patriotism', 'adult', 'part', 'quite', 'shocking', 'openly', 'bias', 'agains', 'shoking', 'bullshit', 'courage', 'faithfulness', 'loyalty', 'evangelical', 'inspiration', 'blue', 'rock', 'worthy', 'pompous', 'globe', 'highly', 'guilty', 'pleasure', 'lurid', 'obsessive', 'quest', 'paranoid', 'unrequited', 'alienation', 'misanthrope', 'taxi', 'postal', 'vigilantism', 'deconstructive', 'palm', 'mohawk', 'theatre', 'stress', 'driver', 'ideology', 'anomie', 'pedophilia', 'cybill', 'shepherd', 'boyle', 'bernard', 'herrmann', 'nyc', 'cameo', 'chapman', 'betamax', 'vigilatism', 'zassania', 'travis', 'bickle', 'quote', 'study', 'anti', 'insane', 'ohsoso', 'homophobia', 'theory', 'criticism', 'bronx', 'diamond', 'disable', 'arts', 'supermarket', 'jackie', 'chan', 'dummy', 'hong', 'kong', 'rutger', 'hauer', 'dub', 'choreography', 'stanley', 'tong', 'obscenity', 'india', 'cover', 'massachusetts', 'coal', 'bagpipe', 'mining', 'rating', 'canada', 'nova', 'scotia', 'mort', 'ransen', 'swap', 'comedie', 'etienne', 'chatiliez', 'auschwitz', 'burglary', 'fascism', 'interview', 'prejudice', 'rabbit', 'typhus', 'victim', 'holocaust', 'nazi', 'archive', 'footage', 'glenn', 'close', 'blair', 'shoah', 'germany', 'jew', 'wwii', 'bbc', 'produce', 'pg', 'poison', 'psychiatrist', 'step', 'cool', 'benjamin', 'ross', 'brooklyn', 'roommate', 'barbara', 'california', 'australia', 'hawaii', 'solar', 'paedophilia', 'pedophile', 'henry', 'czerny', 'casanova', 'chefin', 'lady', 'ladykiller', 'success', 'womanizer', 'encounter', 'mistaken', 'nocturnal', 'opposite', 'attract', 'urbane', 'smuggle', 'expiration', 'flight', 'attendant', 'girlfriend', 'pineapple', 'snack', 'shaky', 'cam', 'birthday', 'breakup', 'cop', 'foggy', 'ironic', 'jogging', 'jukebox', 'may', 'quickpick', 'shopping', 'stewardess', 'sunglass', 'ticket', 'scenic', 'takeshi', 'kaneshiro', 'wong', 'kar', 'wai', 'idiot', 'hongkong', 'chungking', 'mansion', 'faye', 'tony', 'leung', 'chiu', 'giuseppe', 'tornatore', 'ben', 'stiller', 'arquette', 'lsd', 'gratuitous', 'screwball', 'fitzgerald', 'fly', 'imaginative', 'magical', 'michel', 'negroponte', 'isolation', 'ireland', 'troop', 'callgirl', 'san', 'francisco', 'linda', 'fiorentino', 'flop', 'eszterhas', 'dominican', 'republic', 'emigration', 'spanish', 'craig', 'submarine', 'navy', 'ward', 'harland', 'patton', 'oswalt', 'kelsey', 'grammer', 'rebel', 'commander', 'renegade', 'crew', 'rusty', 'sub', 'dern', 'harry', 'dean', 'stanton', 'lauren', 'rip', 'torn', 'scheider', 'rappaport', 'evangelist', 'reporter', 'newsman', 'stockard', 'channing', 'crossdressing', 'drag', 'queen', 'florida', 'senator', 'dress', 'homosexual', 'azaria', 'nathan', 'lane', 'nichols', 'aux', 'folles', 'flamboyant', 'guatemala', 'hysteria', 'apparition', 'communism', 'miracle', 'mountain', 'virgin', 'irish', 'catholic', 'edward', 'burn', 'lawrence', 'badge', 'bust', 'lord', 'hangar', 'internal', 'loose', 'cannon', 'strip', 'witness', 'bay', 'jung', 'matrin', 'lawrecne', 'china', 'panda', 'poacher', 'cain', 'leonardo', 'dicaprio', 'basketball', 'friends', 'expel', 'masturbation', 'wahlberg', 'kalvert', 'heroin', 'process', 'bruno', 'kirby', 'ernie', 'hudson', 'lorraine', 'bracco', 'imperioli', 'liverpool', 'company', 'catchy', 'amnesia', 'cerebral', 'past', 'hal', 'hartley', 'space', 'program', 'astronaut', 'bacon', 'nasa', 'dramatic', 'apollo', 'cape', 'kennedy', 'disaster', 'houston', 'hypothermia', 'lunar', 'moon', 'rocket', 'spacecraft', 'accident', 'spaceman', 'accuracy', 'drive', 'outer', 'shadow', 'sinese', 'sinise', 'strand', 'comet', 'astronauts', 'catastrophe', 'avorrida', 'beast', 'content', 'formulaic', 'engineering', 'orbit', 'hanks', 'dmr', 'edit', 'sound', 'transcendent', 'trouble', 'shoot', 'weltraum', 'overcome', 'obstacle', 'management', 'paxton', 'liam', 'neeson', 'earthy', 'sweeping', 'mccardie', 'carter', 'burwell', 'jessica', 'lange', 'western', 'lili', 'taylor', 'dc', 'comic', 'superhero', 'beretta', 'break', 'neck', 'disfigurement', 'district', 'attorney', 'stair', 'gotham', 'knock', 'partner', 'riddle', 'rise', 'tie', 'tommy', 'batman', 'joel', 'schumacher', 'rubber', 'nipple', 'jones', 'trite', 'draw', 'barrymore', 'amateurism', 'alter', 'ego', 'beat', 'travesty', 'catherine', 'deneuve', 'page', 'jean', 'sorel', 'luis', 'satirical', 'sexy', 'brothel', 'dual', 'masochism', 'buñuel', 'strike', 'yves', 'laurent', 'wardrobe', 'etaegeshelf', 'bunuel', 'severine', 'serizy', 'bdsm', 'burma', 'doctor', 'rangoon', 'plotless', 'cigar', 'cigarette', 'corner', 'smoke', 'tobacco', 'minimalist', 'lille', 'fille', 'alligevel', 'ender', 'med', 'et', 'vildt', 'fedt', 'af', 'brooklin', 'som', 'er', 'lidt', 'direkte', 'og', 'klodset', 'sit', 'jarmusch', 'lou', 'reed', 'candy', 'afterlife', 'ghost', 'halloween', 'imaginary', 'mischievous', 'supernatural', 'ability', 'young', 'idle', 'silberling', 'boygirl', 'pusher', 'spike', 'starz', 'congo', 'gorilla', 'crichton', 'marshall', 'chricton', 'chain', 'command', 'denzel', 'washington', 'mutiny', 'carrier', 'embassy', 'launch', 'code', 'cold', 'sonar', 'torpedo', 'robards', 'viggo', 'mortensen', 'crimson', 'tide', 'clancy', 'irreverent', 'raunchy', 'netflixq', 'mind', 'fuck', 'zwigoff', 'qube', 'counterculture', 'ambush', 'bartender', 'bookstore', 'conceal', 'weapon', 'guitar', 'gunslinger', 'latinx', 'leg', 'brace', 'mariachi', 'buscemi', 'little', 'handsome', 'postmodernist', 'gfei', 'rame', 'euy', 'femmes', 'fatales', 'moody', 'jazz', 'cheadle', 'appearance', 'fine', 'behind', 'showtime', 'aqueduct', 'deception', 'dump', 'federal', 'reserve', 'say', 'lone', 'samuel', 'jackson', 'terrorism', 'jeremy', 'iron', 'solving', 'mcclane', 'vengeance', 'bmf', 'mctiernan', 'efficient', 'entertain', 'two', 'controversy', 'crystal', 'meth', 'drifter', 'eroticism', 'fellatio', 'punk', 'sever', 'head', 'shoplift', 'surrealism', 'threesome', 'voyeur', 'phashion', 'word', 'connection', 'camelot', 'excalibur', 'arthur', 'round', 'table', 'royalty', 'gere', 'connery', 'arthurian', 'whale', 'orca', 'geek', 'hack', 'sequence', 'internet', 'prank', 'angelina', 'jolie', 'rest', 'redford', 'cracker', 'jesse', 'bradford', 'jonny', 'miller', 'matthew', 'lillard', 'dorky', 'jillette', 'innacurrate', 'aid', 'hiv', 'positive', 'wall', 'cyberspace', 'cyborg', 'futuristic', 'product', 'placement', 'technology', 'brain', 'chip', 'courier', 'cyber', 'pharmaceutical', 'industry', 'transhumanism', 'keanu', 'reef', 'katsomattomat', 'kitano', 'rollins', 'longo', 'dina', 'meyer', 'dolph', 'lundgren', 'reeve', 'dna', 'frame', 'judge', 'prosthetic', 'limb', 'wrongly', 'prochnow', 'schneider', 'expect', 'jã', 'jurgen', 'android', 'really', 'interested', 'jurist', 'jury', 'duty', 'verdict', 'fortenberry', 'taco', 'youth', 'wild', 'puberty', 'indecent', 'chloã', 'sevigny', 'rosario', 'dawson', 'misogynistic', 'non', 'judgemental', 'teenagers', 'verite', 'harmony', 'korine', 'unique', 'justin', 'larry', 'clark', 'everything', 'skateboard', 'unflinching', 'alexe', 'filmmaker', 'keener', 'danielle', 'von', 'zerneck', 'dermot', 'mulroney', 'dicillo', 'indie', 'dinklage', 'fanatic', 'occult', 'resurrection', 'sect', 'wizard', 'clive', 'devil', 'huh', 'canadian', 'distopian', 'indy', 'psychotic', 'murderer', 'psychic', 'attempt', 'angst', 'askew', 'crude', 'silent', 'aftercreditsstinger', 'bandleader', 'coke', 'mall', 'slacker', 'shannen', 'doherty', 'mewes', 'kupienia', 'malos', 'tratos', 'affleck', 'materialism', 'unlikeble', 'shallow', 'karrin', 'dogma', 'jersey', 'ethnic', 'diversity', 'mighty', 'morphin', 'mmpr', 'sentai', 'tokusatsu', 'rec', 'retarted', 'grief', 'disk', 'mute', 'moscow', 'artsy', 'fonda', 'cheat', 'stalk', 'baker', 'northam', 'wendy', 'gazelle', 'praetorian', 'irwin', 'winkler', 'plain', 'simplistic', 'malware', 'trojan', 'wish', 'columbus', 'jeff', 'goldblum', 'joan', 'cusack', 'arnold', 'meh', 'spirit', 'librarian', 'party', 'librarians', 'charm', 'x', 'angel', 'archangel', 'menschheit', 'satan', 'slashy', 'jonossa', 'mia', 'farrow', 'unreal', 'allergy', 'chemical', 'sensitivity', 'mc', 'quarantine', 'retreat', 'stark', 'todd', 'haynes', 'effort', 'facebook', 'environment', 'debilitate', 'burning', 'puritan', 'nathaniel', 'hawthorne', 'oldman', 'dancer', 'falter', 'seduction', 'sexappeal', 'spanner', 'striptease', 'boob', 'ban', 'gina', 'gershon', 'erotic', 'excessive', 'coarseness', 'verhoeven', 'nakedness', 'kyle', 'maclachlan', 'exploitation', 'sexploitation', 'camp', 'fading', 'pool', 'showbusiness', 'capitalism', 'laden', 'smoking', 'auster', 'wang', 'newyork', 'forest', 'whitaker', 'recs', 'storylines', 'savannah', 'attraction', 'transformation', 'cocoon', 'decapitation', 'femme', 'fatale', 'genetic', 'instinct', 'telepathy', 'creature', 'contact', 'shape', 'shifter', 'donaldson', 'mating', 'reproduction', 'kingsley', 'natasha', 'henstridge', 'herta', 'ware', 'marg', 'helgenberger', 'empath', 'madsen', 'oil', 'restaurant', 'ralph', 'fiennes', 'cameron', 'sizemore', 'bodyguard', 'minidisc', 'pornography', 'kathryn', 'bigelow', 'junk', 'plex', 'frenetic', 'sweaty', 'consume', 'fichtner', 'provocative', 'near', 'suprisingly', 'chemistry', 'mystic', 'mechanic', 'normandy', 'breakthrough', 'gas', 'saturate', 'cry', 'evein', 'eastmancolor', 'groundbreaking', 'jacques', 'demy', 'legrand', 'fictional', 'away', 'precious', 'vday', 'anne', 'vernon', 'nino', 'castelnuovo', 'recitative', 'baseball', 'korean', 'martha', 'coolidge', 'league', 'thewlis', 'direction', 'homoerotic', 'subtext', 'transvestism', 'acceptance', 'midwest', 'fantastic', 'leguizamo', 'patrick', 'swayze', 'wesley', 'snipe', 'transsexual', 'appreciate', 'seal', 'pentagon', 'steven', 'seagal', 'geoff', 'nude', 'beach', 'turturro', 'keeve', 'grape', 'harvest', 'vineyard', 'dive', 'mutant', 'tanker', 'reluctant', 'apocalypse', 'smeat', 'gyrocopter', 'costner', 'alone', 'hopper', 'everybody', 'horrible', 'expensive', 'friday', 'extend', 'edition', 'newton', 'search', 'alternative', 'universe', 'calamity', 'eyesight', 'opium', 'sioux', 'hickok', 'gunfighters', 'west', 'scout', 'leader', 'cave', 'mistake', 'waterfall', 'beeman', 'colonel', 'communist', 'ussr', 'nikita', 'mikhalkov', 'albanian', 'macedonia', 'monk', 'awful', 'harrow', 'milcho', 'manchevski', 'conversation', 'vienna', 'linklater', 'subscription', 'abroad', 'twentysomething', 'vacation', 'austria', 'danube', 'soulmates', 'sunrise', 'traveller', 'walk', 'hawke', 'julie', 'delpy', 'languages', 'implication', 'unfinished', 'driven', 'fascinate', 'keep', 'realism', 'remind', 'thought', 'clunky', 'stiff', 'vcd', 'stand', 'back', 'crush', 'stupidity', 'elementary', 'stop', 'swan', 'tamra', 'funniest', 'low', 'babysitter', 'journey', 'homicide', 'whoopi', 'lib', 'horton', 'ignorance', 'hope', 'voyeurism', 'lovecraft', 'crampton', 'comb', 'minnie', 'pat', 'hillarious', 'rate', 'work', 'loser', 'monologue', 'salesclerk', 'roles', 'hilarity', 'even', 'suppose', 'today', 'juvenile', 'kai', 'jaksaa', 'kattoa', 'roi', 'whack', 'charmingly', 'amateurish', 'workplace', 'juan', 'patient', 'madness', 'marlon', 'brando', 'passion', 'employee', 'intrigue', 'harassment', 'vision', 'airplane', 'parachute', 'transport', 'prisoner', 'expectant', 'roman', 'polanski', 'chile', 'humiliation', 'marry', 'torture', 'abusive', 'alcoholic', 'anger', 'account', 'suspicion', 'kathy', 'bates', 'housekeeper', 'hackford', 'carer', 'feminist', 'hardship', 'leigh', 'journalist', 'maine', 'medication', 'vandalism', 'slapstick', 'infantile', 'madcap', 'aspen', 'clumsiness', 'defecation', 'endanger', 'specie', 'fire', 'foolish', 'suite', 'laxative', 'parakeet', 'pill', 'scooter', 'stepparent', 'stepchild', 'daniel', 'toilet', 'farrelly', 'slap', 'teri', 'garr', 'cook', 'cuisine', 'sense', 'tasteful', 'airline', 'buddhism', 'chef', 'christen', 'gathering', 'karaoke', 'hungry', 'rival', 'suitor', 'bella', 'sister', 'volleyball', 'tortilla', 'soup', 'eat', 'haunting', 'ending', 'tedious', 'remade', 'nightclub', 'unhappiness', 'oop', 'exrotic', 'singular', 'atom', 'egoyan', 'uncompromising', 'greenwood', 'mckellar', 'kirshner', 'twice', 'kinky', 'smuggler', 'rice', 'leather', 'burton', 'affectionate', 'gentle', 'celebrity', 'addict', 'fortune', 'teller', 'handgun', 'morphine', 'oddball', 'theremin', 'transsexuality', 'transvestite', 'trick', 'treat', 'landau', 'sarah', 'edith', 'wharton', 'eccentricity', 'underappreciated', 'lugosi', 'technically', 'youtube', 'charming', 'ada', 'tai', 'arlene', 'butterfield', 'gretchen', 'portser', 'patti', 'tippo', 'dramedy', 'dressing', 'wood', 'deal', 'fear', 'necklace', 'meg', 'countryside', 'kline', 'wine', 'winery', 'reno', 'kasdan', 'tasse', 'chocolat', 'dallas', 'referee', 'debra', 'winger', 'hbo', 'wilderness', 'pop', 'lima', 'koontz', 'reincarnation', 'brotherhood', 'dresden', 'eunuch', 'vocalists', 'backstage', 'fa', 'ganes', 'castration', 'laserdisc', 'chicago', 'poverty', 'inner', 'nba', 'isaiah', 'awaken', 'stylized', 'zealand', 'psychologic', 'merrison', 'lynskey', 'walsh', 'protag', 'adolescent', 'opposites', 'bizarre', 'sinbad', 'für', 'elise', 'nephew', 'beethoven', 'topic', 'overweight', 'brill', 'albert', 'einstein', 'halley', 'fred', 'schepisi', 'marilyn', 'monroe', 'cruise', 'pity', 'plantation', 'spooky', 'orleans', 'price', 'marinavista', 'rea', 'existentialism', 'undertone', 'neil', 'jordan', 'thandie', 'doll', 'whiney', 'historic', 'debase', 'mediocre', 'telephone', 'call', 'easygoing', 'ceasarean', 'fertility', 'gynaecology', 'andrew', 'schwarzenegger', 'pregnant', 'ivan', 'reitman', 'harvard', 'innocence', 'katzenbach', 'laurence', 'fishburne', 'wrongfully', 'acklund', 'gottlieb', 'merlin', 'oldie', 'goodie', 'scifi', 'darth', 'vader', 'skywalker', 'lucas', 'idea', 'fx', 'quality', 'episode', 'cut', 'know', 'inventive', 'sf', 'earl', 'jedi', 'nerdy', 'introduction', 'edge', 'seat', 'incredible', 'landscape', 'far', 'campbell', 'mythology', 'influence', 'archetypal', 'simply', 'carrie', 'fisher', 'galactic', 'influential', 'inspiring', 'hamill', 'yoda', 'empire', 'galaxy', 'hermit', 'lightsaber', 'rebellion', 'stormtrooper', 'totalitarianism', 'scyfy', 'versus', 'motivational', 'han', 'solo', 'feeling', 'speedy', 'amazaballs', 'potter', 'hitch', 'lightsabers', 'dreamy', 'akira', 'kurosawa', 'side', 'obi', 'wan', 'kenobi', 'uplifting', 'cosmos', 'oldschool', 'move', 'spielberg', 'hayden', 'christensen', 'harrisonford', 'jizz', 'pant', 'trilogy', 'popular', 'entertaining', 'critically', 'acclaim', 'alec', 'guinness', 'mysticism', 'saga', 'outdated', 'younger', 'audience', 'blockbuster', 'broing', 'buget', 'watershed', 'legendary', 'starship', 'riders', 'timeless', 'nerd', 'clean', 'chato', 'retrofit', 'apocolypse', 'blowyourmind', 'bewbs', 'suspensful', 'guiness', 'seminal', 'ok', 'lukeiamyourfather', 'influenced', 'starwars', 'spaceship', 'deep', 'let', 'starfighter', 'exciting', 'geeky', 'iconic', 'intergalactic', 'robots', 'cushing', 'prowse', 'denis', 'lawson', 'kenny', 'mayhew', 'emblematic', 'spaceflight', 'darthvader', 'instageek', 'fairy', 'chewbacca', 'leia', 'saber', 'millenium', 'falcon', 'fighter', 'wing', 'americana', 'intangled', 'visionary', 'yawnfest', 'leya', 'chubakka', 'warrior', 'noise', 'ahead', 'fandom', 'monomyth', 'spaceships', 'adventurous', 'hopeful', 'defines', 'cutting', 'save', 'operatic', 'pinnacle', 'alright', 'name', 'probably', 'introduce', 'sith', 'corny', 'define', 'solid', 'lens', 'successful', 'darkside', 'interstellar', 'endeavour', 'muchstories', 'congress', 'thing', 'six', 'midget', 'hot', 'goerge', 'intro', 'basically', 'opening', 'swordfights', 'janra', 'lazer', 'universum', 'anamorphic', 'cav', 'nope', 'almost', 'exhilarate', 'sabre', 'famous', 'wizards', 'homoroboerotica', 'blast', 'neard', 'spiriritual', 'poetic', 'breakthroughs', 'interplanetary', 'syfy', 'tell', 'sorcery', 'fan', 'epoch', 'exhilirating', 'masterful', 'simplific', 'dictatorship', 'revolutionary', 'movement', 'decoration', 'makeup', 'tight', 'trendsetter', 'exit', 'spectacular', 'sfx', 'hop', 'disappoint', 'prototype', 'duel', 'mystical', 'aesthetic', 'hat', 'clasic', 'enjoyable', 'begin', 'enjoy', 'ride', 'eponymous', 'assortment', 'baddie', 'sinister', 'master', 'comicon', 'despecialized', 'laser', 'homage', 'dependent', 'version', 'anime', 'puppets', 'soft', 'greek', 'bast', 'background', 'st', 'classicscifi', 'wincest', 'bleh', 'engrossing', 'cordial', 'astound', 'trek', 'lasers', 'wookies', 'hear', 'never', 'holylucas', 'fortress', 'guinnes', 'lasersword', 'georege', 'preposterous', 'slinge', 'blade', 'schematic', 'flat', 'control', 'huge', 'blow', 'zoomm', 'rivet', 'friendly', 'industrial', 'communication', 'auteurism', 'succesful', 'three', 'milius', 'fuckdisney', 'complete', 'terrestrial', 'waste', 'dogfight', 'throwback', 'since', 'generic', 'whole', 'orchestral', 'chalkboard', 'depression', 'desire', 'louisa', 'alcott', 'nightgown', 'bale', 'winona', 'ryder', 'litterature', 'gillian', 'armstrong', 'literary', 'attic', 'presume', 'schoolgirl', 'difference', 'rag', 'malet', 'eleanor', 'bron', 'cunningham', 'liesel', 'schwimmer', 'alfonso', 'cuarón', 'riches', 'cathartic', 'drab', 'harsh', 'loach', 'crissy', 'chabrol', 'nathalie', 'compassionate', 'downbeat', 'chocolate', 'cooking', 'recipe', 'exaggerate', 'arau', 'montana', 'zwick', 'aidan', 'quinn', 'older', 'prohibition', 'headquarter', 'instructor', 'payne', 'damon', 'boarding', 'karyn', 'parson', 'chola', 'cholo', 'east', 'member', 'hispanic', 'echo', 'state', 'building', 'ennio', 'morricone', 'custody', 'liberation', 'racist', 'worker', 'surrogate', 'gyllenhaal', 'nicholas', 'hytner', 'frankenstein', 'doyle', 'mad', 'cherie', 'lunghi', 'helena', 'bonham', 'darabont', 'shelley', 'steph', 'celia', 'imre', 'holm', 'cleese', 'brier', 'hulce', 'orr', 'dresser', 'hotline', 'nora', 'ephron', 'bummer', 'liev', 'schreiber', 'match', 'disctrict', 'heche', 'malcolm', 'mcdowell', 'treehouse', 'department', 'dylan', 'mcdermott', 'perkins', 'remar', 'attenborough', 'xmas', 'panavision', 'spherical', 'gregory', 'nava', 'alcatraz', 'mistreatment', 'public', 'defender', 'rocco', 'dan', 'employment', 'retirement', 'benton', 'newman', 'autism', 'feral', 'north', 'carolina', 'speech', 'therapy', 'remote', 'location', 'skinnydipping', 'disability', 'hallucination', 'fbb', 'muscle', 'sue', 'pyun', 'psychedelic', 'frantic', 'mass', 'sadistic', 'yellow', 'press', 'segment', 'partially', 'harrelson', 'grate', 'obnoxious', 'assassinos', 'por', 'natureza', 'rodney', 'dangerfield', 'teste', 'impulse', 'give', 'headache', 'italy', 'venice', 'bonnie', 'stevens', 'almeida', 'marissa', 'tomei', 'destiny', 'maori', 'approve', 'funeral', 'lack', 'rebellious', 'slum', 'welfare', 'auckland', 'tamahori', 'general', 'medical', 'research', 'serum', 'disease', 'wolfgang', 'petersen', 'dustin', 'ballhaus', 'rene', 'russo', 'dworet', 'roy', 'scientific', 'error', 'outbreak', 'sdf', 'luc', 'besson', 'unconventional', 'neighbor', 'somewhat', 'milk', 'assassins', 'dirty', 'beson', 'pedophilic', 'humane', 'atmosphere', 'cinéma', 'du', 'silas', 'marner', 'disambiguation', 'many', 'recutting', 'motive', 'estrangeinro', 'striking', 'uncut', 'regen', 'ellen', 'greene', 'pedo', 'questionable', 'distinct', 'direct', 'blossomi', 'naive', 'alpha', 'sanity', 'haircut', 'bathroom', 'bolt', 'cutter', 'champagne', 'refugee', 'immigration', 'arsonist', 'edgy', 'unusual', 'episodic', 'raw', 'reference', 'extremely', 'pointless', 'pulp', 'crass', 'midieval', 'scam', 'hire', 'accidental', 'briefcase', 'contest', 'heirloom', 'junkyard', 'kamikaze', 'massage', 'timeline', 'steal', 'transporter', 'empty', 'trashy', 'indebted', 'godard', 'meaning', 'narrative', 'achronological', 'disjoint', 'royal', 'cheese', 'sarcasm', 'unpredictable', 'mature', 'doyouspeakit', 'inglish', 'motherfucker', 'http', 'casual', 'intertwine', 'irony', 'sophisticated', 'offensive', 'random', 'needle', 'redundancy', 'worth', 'trend', 'quinten', 'order', 'rough', 'anal', 'hipster', 'ldschoolcool', 'sustain', 'organise', 'bukowski', 'include', 'monologues', 'metafiction', 'thoughtful', 'cinetmatography', 'perfect', 'colourful', 'palme', 'revival', 'trendy', 'gimp', 'tarantinocore', 'n', 'hardcore', 'tarrantino', 'macho', 'fate', 'quirkey', 'jules', 'interwoven', 'image', 'violently', 'culte', 'stoltz', 'hypertextual', 'bug', 'bollywood', 'straight', 'unecessary', 'contribution', 'exceptional', 'choice', 'incoherent', 'meaningless', 'surprising', 'emerson', 'build', 'quarter', 'pounder', 'asynchronus', 'avary', 'reason', 'fragment', 'winnfield', 'ambiguity', 'god', 'thump', 'aggressive', 'structure', 'spaghetti', 'ado', 'ving', 'rhames', 'diao', 'forth', 'quickly', 'wierdest', 'pan', 'auteur', 'tape', 'bondage', 'banter', 'converge', 'overated', 'l', 'afro', 'maria', 'medeiros', 'curse', 'scrub', 'mysterious', 'parcel', 'storage', 'milkshake', 'obfuscate', 'strangely', 'compelling', 'thug', 'cruel', 'sick', 'b', 'underworld', 'wire', 'pulpy', 'sophisticate', 'ontology', 'outrageous', 'superb', 'marcelus', 'moment', 'subculture', 'intersect', 'multilayered', 'disjointed', 'refine', 'face', 'dancing', 'panther', 'church', 'conservative', 'faith', 'clergy', 'dramon', 'molt', 'envellida', 'antonia', 'bird', 'carlyle', 'xian', 'second', 'worse', 'grace', 'wilkinson', 'fragen', 'manipulation', 'quiz', 'starter', 'paymer', 'scofield', 'morrow', 'phillips', 'illeana', 'arrange', 'kayo', 'hatta', 'toshirô', 'mifune', 'japan', 'toshiro', 'konfession', 'slaughter', 'palace', 'massacre', 'patrice', 'chéreau', 'auteuil', 'religious', 'duma', 'pistol', 'prairie', 'sam', 'raimi', 'crowe', 'keith', 'lance', 'henriksen', 'boone', 'junior', 'silvestri', 'tobin', 'bell', 'tucson', 'studio', 'heroine', 'deathbed', 'grandparent', 'grandchild', 'mannequin', 'poodle', 'sandwich', 'altman', 'cher', 'roberts', 'meditative', 'channel', 'geneva', 'eavesdrop', 'model', 'phone', 'coincidence', 'krzysztof', 'kieslowski', 'color', 'colour', 'spouse', 'pain', 'compose', 'bluish', 'swim', 'binoche', 'beauty', 'triumphant', 'humanistic', 'hairdresser', 'poland', 'frustration', 'kieślowski', 'ping', 'firework', 'ramis', 'franken', 'selkie', 'ancestor', 'wisdom', 'heritage', 'legends', 'selkies', 'living', 'sayles', 'folksy', 'panoramic', 'expert', 'llosa', 'androgyny', 'egyptian', 'egyptology', 'hieroglyph', 'invent', 'teleportation', 'timebomb', 'uprise', 'archaeology', 'egypt', 'wormhole', 'stargate', 'spader', 'kurt', 'rda', 'ancient', 'shank', 'jaye', 'davidson', 'pyramid', 'jb', 'ra', 'conlang', 'whiny', 'elf', 'pasquin', 'pole', 'krumholtz', 'reinhold', 'crewson', 'pretty', 'elves', 'christams', 'stephan', 'terrific', 'understand', 'okay', 'innocent', 'jail', 'delinquent', 'parole', 'wrongful', 'imprisonment', 'autonomy', 'halfway', 'determination', 'injustice', 'jailbreak', 'morality', 'adversiry', 'convict', 'happy', 'tenacity', 'accountant', 'wron', 'insincere', 'soppy', 'message', 'abcd', 'ali', 'della', 'libertã', 'alleged', 'antihero', 'viu', 'bankchiiting', 'event', 'believe', 'carcel', 'deceit', 'delight', 'dramat', 'elevate', 'encouragement', 'encourage', 'endurance', 'erlend', 'examines', 'frankly', 'watchable', 'expression', 'fri', 'gefaengnisfilm', 'grip', 'grub', 'hide', 'honesty', 'huida', 'ingenious', 'plan', 'rectify', 'institutionalization', 'integrity', 'scheme', 'justics', 'lonliness', 'negro', 'masterplan', 'meesa', 'melodrama', 'misterious', 'mistery', 'mor', 'might', 'obvious', 'oscarmissed', 'outsmarted', 'outstanding', 'overly', 'patience', 'penitentiary', 'perseverance', 'phenomenal', 'populistic', 'belief', 'preachy', 'incarserated', 'incomplete', 'term', 'serve', 'profound', 'purpose', 'rain', 'renewal', 'repair', 'repeat', 'resistance', 'hayworth', 'schmaltzy', 'singleness', 'slightly', 'spiritual', 'sueños', 'libertad', 'suprising', 'swear', 'condition', 'thilling', 'trigger', 'warn', 'uplift', 'vicissitude', 'sadler', '励志', '坚强', '奋斗', '扭曲', 'clarke', 'duncan', 'cant', 'performances', 'overcoming', 'prevail', 'outsmart', 'happiness', 'sadness', 'stunning', 'unite', 'adversity', 'wildly', 'borring', 'suck', 'macabre', 'sudden', 'faltering', 'body', 'distrust', 'edinburgh', 'grave', 'eccleston', 'ewan', 'mcgregor', 'stott', 'tumba', 'abierta', 'revolve', 'around', 'troublesome', 'cynism', 'havana', 'carlos', 'tabio', 'tomas', 'gutiérrez', 'alea', 'repression', 'huang', 'fourth', 'sydney', 'dowling', 'lampoon', 'chinese', 'civil', 'issue', 'maoism', 'originally', 'puppetry', 'separation', 'gong', 'li', 'gambling', 'joke', 'kangaroo', 'outback', 'artial', 'destroy', 'craptacular', 'lori', 'petty', 'naomi', 'watt', 'bestiality', 'iggy', 'prosthetics', 'rachel', 'talalay', 'watts', 'sophomoric', 'kick', 'main', 'choose', 'crypt', 'keeper', 'demon', 'jesus', 'key', 'ernest', 'dickerson', 'gilbert', 'adler', 'zane', 'explode', 'cabin', 'stewart', 'trekie', 'shatner', 'sttng', 'trekkie', 'roddenberry', 'brent', 'spiner', 'enterprise', 'guinan', 'jonathan', 'frakes', 'beloved', 'dy', 'pointlessly', 'ruin', 'ku', 'klux', 'klan', 'cundieff', 'bewusstlosigkeit', 'doppelgänger', 'carpenter', 'constance', 'forslund', 'karen', 'kahn', 'kirstie', 'alley', 'kozlowski', 'salenger', 'pippa', 'pearthree', 'spade', 'snl', 'alumnus', 'segal', 'dennehy', 'salesmen', 'austere', 'autumnal', 'chekhov', 'mamet', 'malle', 'within', 'anton', 'obesity', 'reilly', 'fair', 'bait', 'arnie', 'lasse', 'hallström', 'thankfully', 'uncorny', 'steenburgen', 'hedge', 'delivery', 'hologram', 'brett', 'coma', 'pullman', 'turteltaub', 'avuncular', 'unoriginal', 'ambition', 'nicy', 'pederast', 'audition', 'gap', 'mina', 'shum', 'australian', 'abba', 'upbeat', 'bath', 'become', 'empowerment', 'olympic', 'province', 'return', 'detail', 'cancer', 'bonding', 'borderline', 'hogan', 'wy', 'eccentric', 'discovery', 'lapaine', 'jeanie', 'drynan', 'grandison', 'toni', 'collette', 'kite', 'kiddos', 'dolphin', 'mascot', 'courteney', 'cox', 'transphobia', 'shadyac', 'tone', 'loc', 'physical', 'transgender', 'aborigine', 'glbt', 'terence', 'stamp', 'gender', 'elliott', 'reunite', 'estrange', 'subgenre', 'transvestites', 'pearce', 'disco', 'impersonation', 'impersonator', 'eyesore', 'along', 'boyfriend', 'hamburg', 'hofner', 'bass', 'photo', 'reeperbahn', 'elbe', 'sutcliffe', 'beatles', 'roll', 'relook', 'paralysis', 'sadomasochism', 'wheelchair', 'kristin', 'broadway', 'talent', 'miramax', 'supporting', 'rousing', 'bomber', 'coast', 'guard', 'colombia', 'cartel', 'traffic', 'infantry', 'insurgence', 'mercenary', 'phillip', 'noyce', 'suspance', 'magnuson', 'archer', 'willem', 'dafoe', 'scenes', 'joaquim', 'thiller', 'ops', 'principal', 'grisham', 'jessie', 'nelson', 'parenthood', 'street', 'goth', 'arson', 'guardian', 'bride', 'capacity', 'memories', 'resurgence', 'tissue', 'regeneration', 'transference', 'heavy', 'metal', 'crappy', 'alex', 'proyas', 'dariusz', 'wolski', 'brandon', 'rochelle', 'noire', 'tissit', 'daily', 'sitcom', 'halle', 'berry', 'goodman', 'rick', 'moranis', 'levant', 'prehistoric', 'seventy', 'revisionism', 'luck', 'saintly', 'fool', 'relationships', 'hippie', 'iq', 'wound', 'optimism', 'picaresque', 'amputee', 'impaired', 'alabama', 'handicapped', 'zemeckis', 'rolig', 'söt', 'unwitting', 'aspirational', 'shrimp', 'idiocy', 'responsibility', 'didactic', 'mawkish', 'engross', 'refresh', 'coming', 'terminal', 'jfk', 'pong', 'lifetime', 'co', 'tear', 'jerker', 'brillant', 'put', 'perspective', 'docudrama', 'optimistic', 'sixty', 'football', 'dense', 'tearjerker', 'woodstock', 'comdey', 'retard', 'conservatism', 'cliché', 'loosely', 'ç', 'lifelessons', 'cloy', 'simpleminded', 'impact', 'joyful', 'impressed', 'enthral', 'poorly', 'blend', 'zelig', 'ring', 'impared', 'forrest', 'gump', 'technique', 'ratä', 'boxoffice', 'mainstream', 'homey', 'wright', 'enjoyab', 'boomer', 'apple', 'lovestory', 'mitchel', 'weirdo', 'sincere', 'tit', 'innocense', 'lovely', 'naiveness', 'funy', 'contradictory', 'commitment', 'amarica', 'hippy', 'affirm', 'emotionally', 'material', 'another', 'bildungsroman', 'phylosophycal', 'endear', 'follower', 'runer', 'mykelti', 'williamson', 'concept', 'reactionary', 'fruitless', 'hateful', 'goblin', 'perfectionist', 'nearly', 'insightful', 'tolerable', 'uneven', 'bubba', 'lieutenant', 'bench', 'shoe', 'retardation', 'weirdly', 'moralistic', 'handicap', 'mast', 'lt', 'span', 'honest', 'variety', 'feelgood', 'doggedness', 'meaningful', 'sorrow', 'mom', 'respect', 'laidback', 'powerfulll', 'winston', 'groom', 'memphis', 'ga', 'bridegroom', 'bridesmaid', 'clumsy', 'fellow', 'snob', 'yuppie', 'rowan', 'atkinson', 'garath', 'newell', 'heartfelt', 'andie', 'macdowell', 'anna', 'chancellor', 'charlotte', 'coleman', 'bower', 'haig', 'fleet', 'athletic', 'scholarship', 'militant', 'resentment', 'eh', 'wakeup', 'rican', 'adversary', 'experience', 'newspaper', 'lottery', 'waitress', 'bergman', 'bridget', 'perez', 'tiger', 'rudyard', 'kipling', 'sommers', 'propaganda', 'ray', 'müller', 'filmmaking', 'german', 'ihq', 'zimmer', 'lion', 'broderick', 'allers', 'hans', 'minkoff', 'timon', 'pumba', 'gaskill', 'johnson', 'tzudiker', 'brenda', 'burny', 'mattinson', 'sander', 'vogler', 'gombert', 'francis', 'gleba', 'trousdale', 'scribner', 'mecchi', 'jenny', 'tripp', 'capobianco', 'ranft', 'jorgen', 'klubien', 'harkey', 'kirk', 'wise', 'leker', 'woolverton', 'lorna', 'kausler', 'miguel', 'noni', 'maki', 'thom', 'enriquez', 'sito', 'circle', 'personal', 'fratricide', 'plagarized', 'hereditary', 'leadership', 'ostensibly', 'sexism', 'promotion', 'satanically', 'baptism', 'dimensionalized', 'desenho', 'elton', 'animação', 'earth', 'hasty', 'bearable', 'visuals', 'simba', 'filme', 'da', 'minha', 'vida', 'beautifull', 'buddha', 'buddhist', 'siddhartha', 'tibet', 'arri', 'wiesendanger', 'bhutan', 'isaak', 'displace', 'colouring', 'bernardo', 'bertolucci', 'cameos', 'earthquake', 'fame', 'reboot', 'sleepwalk', 'freddy', 'krueger', 'possess', 'heather', 'langenkamp', 'englund', 'hansel', 'gretel', 'saxon', 'miko', 'hughes', 'morgue', 'oven', 'projectile', 'shaye', 'sleep', 'sleepwalking', 'stalker', 'stan', 'storyteller', 'tongue', 'tracy', 'middendorf', 'gaslighting', 'slasher', 'balloon', 'green', 'mockery', 'norse', 'corpal', 'cartoonish', 'diaz', 'sexist', 'mar', 'decline', 'yasbeck', 'reigert', 'laugh', 'till', 'mask', 'norway', 'wtf', 'chuck', 'entreteining', 'fresh', 'interpersonal', 'torment', 'suit', 'carey', 'outlaw', 'saloon', 'steamboat', 'alfred', 'molina', 'garner', 'riverboat', 'manhattan', 'writers', 'zaz', 'neilsen', 'tageszeitung', 'news', 'hitz', 'cabriolet', 'camcorder', 'cohabitant', 'unemployed', 'zahn', 'gen', 'chelsea', 'lagos', 'renee', 'zellweger', 'norfleet', 'swoosie', 'kurtz', 'graduation', 'bag', 'wyoming', 'lara', 'flynn', 'dahl', 'raft', 'magnify', 'glass', 'toothbrush', 'affluenza', 'petrie', 'macaulay', 'culkin', 'spoil', 'worrying', 'boston', 'idaho', 'rapid', 'deliverance', 'curtis', 'hanson', 'speed', 'plant', 'bus', 'highway', 'wooden', 'injury', 'jan', 'bont', 'reave', 'reaves', 'adrenaline', 'pump', 'sara', 'brussels', 'horseback', 'rid', 'jackhammer', 'mushroom', 'cloud', 'mundane', 'jamie', 'zidi', 'michaël', 'explodeytime', 'eliza', 'dushku', 'tia', 'carrere', 'thong', 'garcia', 'seymour', 'publisher', 'vermont', 'werewolf', 'werewolves', 'deputy', 'doc', 'holliday', 'wretch', 'wyatt', 'earp', 'quaid', 'dublin', 'middle', 'suri', 'krishnamma', 'homecoming', 'popularity', 'raoul', 'gérard', 'depardieu', 'angelo', 'gerard', 'tura', 'satana', 'rus', 'gospel', 'horrid', 'kylie', 'minogue', 'dictator', 'nation', 'souza', 'esperanto', 'basement', 'wind', 'yoga', 'priestley', 'cadillac', 'fatal', 'morocco', 'immortality', 'mako', 'immortal', 'lovecraftian', 'insurance', 'investigator', 'investigative', 'neill', 'carmen', 'jürgen', 'bull', 'rodeo', 'sg', 'perry', 'tupac', 'shakur', 'butler', 'guillotine', 'nanny', 'lloyd', 'adolescence', 'morally', 'counterintuitive', 'morbid', 'anjelica', 'huston', 'honey', 'pot', 'imposter', 'raul', 'playlist', 'countess', 'infidelity', 'geraldine', 'epoque', 'edwardian', 'rhode', 'radio', 'f', 'lehmann', 'alum', 'glaser', 'villiage', 'learn', 'sleeper', 'stakeout', 'staatsanwältin', 'blonde', 'repetitive', 'barcelona', 'expatriate', 'classy', 'europe', 'pep', 'munne', 'tushka', 'bergen', 'drawing', 'arkansas', 'hill', 'billionaire', 'hillbilly', 'hillbillies', 'carousel', 'counterfeit', 'roller', 'coaster', 'security', 'eddie', 'landis', 'mchattie', 'blindness', 'anarchist', 'belfast', 'capsize', 'concert', 'fireworks', 'headphone', 'orchestra', 'roulette', 'wheel', 'accent', 'nonsense', 'schlock', 'disposal', 'specialist', 'squad', 'shaquille', 'friedkin', 'nymphomaniac', 'affective', 'infection', 'invasion', 'emotionless', 'impostor', 'bojan', 'bazelli', 'doppelganger', 'captivity', 'surgeon', 'skip', 'peer', 'presssure', 'dice', 'molotow', 'cocktail', 'pitjors', 'criticada', 'dad', 'coffee', 'cake', 'resnick', 'calendar', 'marijuana', 'whitesell', 'guzmán', 'wash', 'release', 'adrian', 'pasdar', 'ángel', 'salazar', 'palma', 'ortiz', 'jorge', 'porcel', 'koepp', 'edwin', 'torres', 'pacinos', 'jinni', 'palance', 'bracelet', 'nevada', 'weiland', 'stern', 'lovitz', 'mick', 'climb', 'hijack', 'rocky', 'snow', 'wintry', 'renny', 'harlin', 'lithgow', 'kickass', 'extraterrestrial', 'aykroyd', 'coen', 'barron', 'akroyd', 'disguise', 'compulsive', 'split', 'torrential', 'downpour', 'dourif', 'lesley', 'warren', 'infra', 'jumper', 'cable', 'album', 'epilogue', 'rude', 'waiter', 'chevy', 'ritchie', 'gregg', 'champion', 'apoplectic', 'stroke', 'dunn', 'laura', 'linney', 'predictible', 'unsubtle', 'office', 'ordinary', 'satisfy', 'pressure', 'mcconaughey', 'rapp', 'milla', 'jovovich', 'cheerlead', 'livin', 'weed', 'graffiti', 'rory', 'cochrane', 'austin', 'tx', 'hangout', 'improvise', 'censorship', 'cryogenics', 'knit', 'museum', 'utopia', 'warden', 'cryonics', 'groovy', 'marco', 'brambilla', 'prophetic', 'antagonist', 'bratt', 'enforcement', 'sociopath', 'leary', 'surf', 'surfing', 'cowgirl', 'hitchhike', 'lbgt', 'beijing', 'courtesan', 'vocalist', 'cheung', 'fengyi', 'chen', 'kaige', 'peking', 'juxian', 'apology', 'lillian', 'finger', 'depiction', 'thematic', 'sing', 'tea', 'guilt', 'health', 'isabella', 'rossellini', 'weir', 'deirdre', 'hip', 'bum', 'homeless', 'alek', 'keshishian', 'homelessness', 'confrontation', 'grifter', 'liquor', 'roadhouse', 'solitary', 'irvin', 'gabrielle', 'anwar', 'fox', 'concierge', 'exam', 'firm', 'tennessee', 'wilford', 'brimley', 'beaten', 'courtoom', 'legal', 'garrick', 'jeanne', 'tripplehorn', 'busey', 'karina', 'lombard', 'lincoln', 'memorial', 'peabody', 'unbelievable', 'unnecessarily', 'wincer', 'richter', 'mule', 'boaz', 'yakin', 'runaway', 'manhunt', 'arm', 'marshal', 'veja', 'comfort', 'surveillance', 'credible', 'pharma', 'academia', 'apache', 'geronimo', 'studios', 'cuckold', 'hang', 'danson', 'teddy', 'difficult', 'prey', 'sailor', 'louisiana', 'asiaten', 'iraq', 'saddam', 'hussein', 'swordplay', 'charlie', 'sheen', 'abraham', 'onderbroekenlol', 'flauw', 'bloodiest', 'sleepover', 'cartographer', 'wales', 'sencilla', 'central', 'coup', 'paranormal', 'phenomenon', 'santiago', 'vanessa', 'redgrave', 'bernie', 'mac', 'boardroom', 'inventor', 'stock', 'market', 'collar', 'bros', 'corporate', 'hula', 'hoop', 'unsuccessful', 'nolte', 'apartment', 'eastward', 'antigueta', 'topica', 'sunday', 'ira', 'sheridan', 'gerry', 'conlon', 'trevor', 'alison', 'crosbie', 'britta', 'daly', 'jo', 'connor', 'carlisle', 'marie', 'nye', 'heron', 'rachael', 'saffron', 'burrow', 'tina', 'kellegher', 'turner', 'extraordinary', 'levinson', 'jere', 'colick', 'dinosaurs', 'brontosaurus', 'fence', 'jurassic', 'paleontology', 'triceratops', 'tyrannosaurus', 'rex', 'egg', 'cloning', 'dinnosaurs', 'popcorn', 'boooo', 'read', 'outage', 'delete', 'impossible', 'ml', 'â', 'example', 'syå', 'tem', 'fix', 'speilberg', 'deus', 'ex', 'machina', 'explanation', 'awe', 'jaw', 'drop', 'freaky', 'wonder', 'chaos', 'dominic', 'sena', 'judson', 'vaughn', 'levy', 'metcalfe', 'duchovny', 'junkie', 'vault', 'odds', 'memoir', 'autobiography', 'bellboy', 'canary', 'operator', 'epileptic', 'seizure', 'lock', 'marble', 'tuberculosis', 'soderberg', 'available', 'soderbergh', 'lassie', 'object', 'projectionist', 'leff', 'arnott', 'shane', 'zak', 'deconstruction', 'compareto', 'lapine', 'lightning', 'warner', 'anonymity', 'donor', 'gem', 'boarder', 'fraud', 'bancroft', 'gallagher', 'jonas', 'mccord', 'transplant', 'fay', 'geoffrey', 'whitton', 'crack', 'jada', 'pinkett', 'delinquency', 'covert', 'hijacking', 'nerve', 'goggles', 'ransom', 'unit', 'wmd', 'andreas', 'katsulas', 'baird', 'morton', 'platt', 'shaun', 'toub', 'smut', 'deceive', 'geisha', 'unsimulated', 'nagisa', 'ôshima', 'vistavision', 'japanese', 'paradoxically', 'dinner', 'secretary', 'sundance', 'grand', 'prize', 'bachelor', 'beckinsale', 'stage', 'bipolar', 'piano', 'symphony', 'alimony', 'unfaithfulness', 'fake', 'fierstein', 'sallly', 'transmisogyny', 'secretly', 'relative', 'disrespectful', 'transphobic', 'biting', 'desolate', 'manchester', 'stranger', 'blogger', 'classmate', 'growth', 'hilary', 'swank', 'babysitting', 'arsenio', 'trinidad', 'conrad', 'tower', 'ironside', 'morita', 'hawk', 'miagi', 'prom', 'liotta', 'gaylin', 'herley', 'prodigy', 'elijah', 'bender', 'nobility', 'tudor', 'woolf', 'elizabethan', 'tilda', 'swinton', 'criminologist', 'absent', 'griffin', 'lowther', 'hancock', 'abduction', 'susrprisingly', 'symbolism', 'discrimination', 'judiciary', 'lawsuit', 'pennsylvania', 'judicis', 'sobrevalorada', 'kilman', 'finley', 'roberta', 'maxwell', 'calla', 'wonderfull', 'mid', 'termination', 'activism', 'sign', 'strangeness', 'paquin', 'campion', 'introspective', 'attachment', 'singleton', 'maya', 'angelou', 'ellis', 'heinlein', 'robinson', 'counsel', 'employer', 'flower', 'kazuo', 'ishiguro', 'ivory', 'wierd', 'kenton', 'pretentiousness', 'blowup', 'advertising', 'commercial', 'kaserne', 'stau', 'penny', 'bulletproof', 'vest', 'parking', 'seppuku', 'whodunit', 'xenophobic', 'cornflakes', 'michigan', 'sanatorium', 'spa', 'policeman', 'robocop', 'weller', 'dekker', 'inferior', 'burke', 'arrow', 'borscht', 'belt', 'type', 'cary', 'elwes', 'whacked', 'dave', 'chappelle', 'hitwoman', 'medak', 'annabella', 'sciorra', 'cynicism', 'lena', 'olin', 'radicalism', 'supremacist', 'jacqueline', 'mckenzie', 'journal', 'souvenir', 'nunez', 'aspiration', 'astin', 'anspaugh', 'porn', 'nazis', 'heartbreaking', 'concentration', 'defense', 'factory', 'industrialist', 'persecution', 'krakow', 'manufacturer', 'embeth', 'davidtz', 'humanism', 'periodic', 'important', 'altruism', 'hitler', 'sagall', 'judaica', 'editing', 'warsaw', 'zaillian', 'keneally', 'neesan', 'humanist', 'survivor', 'holocast', 'sir', 'kinglsey', 'tought', 'amon', 'goeth', 'mustard', 'mvlc', 'beatrice', 'macola', 'caroline', 'goodall', 'malgorzata', 'gebel', 'redemptive', 'seinfeld', 'bathtub', 'savior', 'lista', 'schindler', 'ill', 'pitcher', 'hustler', 'mantegna', 'jodi', 'forget', 'mention', 'orphanage', 'menges', 'garden', 'yorkshire', 'maggie', 'hypochondria', 'agnieszka', 'holland', 'shut', 'infamy', 'motherly', 'perfection', 'atomic', 'hypnosis', 'invisibility', 'adaption', 'mulcahy', 'oxford', 'crumble', 'racy', 'cellist', 'fishing', 'fallibility', 'large', 'unlikeable', 'wait', 'blasphemy', 'painting', 'pastor', 'mountains', 'norman', 'lindsay', 'pose', 'artistic', 'redbox', 'blind', 'artists', 'sutherland', 'guare', 'fiancé', 'observation', 'deck', 'presenter', 'transmission', 'intolerable', 'ownable', 'cringeworthy', 'serendipity', 'vs', 'kitsch', 'landlord', 'tenant', 'berenger', 'androids', 'influencial', 'vangelis', 'eerie', 'amok', 'runner', 'tech', 'mortality', 'futuro', 'replicants', 'blaxploitation', 'rapist', 'pkd', 'replicant', 'slowness', 'unneseccary', 'contemporary', 'caricacatures', 'ridiculousness', 'cinematic', 'impanted', 'cronenweth', 'investment', 'unicorn', 'mindblowing', 'final', 'brion', 'olmos', 'joanna', 'cassidy', 'turkel', 'emmet', 'implant', 'sanderson', 'fugitives', 'p', 'distopia', 'confusing', 'mood', 'existentialist', 'liar', 'pancreas', 'rash', 'paulie', 'ax', 'butcher', 'schlamme', 'myers', 'observer', 'hoskins', 'mario', 'annabel', 'jankel', 'failure', 'c', 'g', 'h', 'nintendo', 'paraquedismo', 'sprung', 'françois', 'girard', 'prententious', 'catcher', 'rye', 'odd', 'pillow', 'scare', 'dude', 'merry', 'lantern', 'pumpkin', 'skeleton', 'seuss', 'claymation', 'elfman', 'selick', 'shadix', 'reubens', 'hickey', 'bend', 'absolute', 'pesadilla', 'ante', 'navidad', 'skellington', 'poem', 'musketeer', 'swashbuckler', 'anachronism', 'stir', 'tame', 'cowboys', 'arizona', 'actual', 'biehn', 'cosmatos', 'sheriffs', 'dana', 'delany', 'pacula', 'lisa', 'collins', 'beauchamp', 'owes', 'cocaine', 'elvis', 'iconography', 'gandolfini', 'genrally', 'dont', 'gangsterfilm', 'levine', 'vérité', 'campaign', 'clinton', 'hegedus', 'doob', 'dragon', 'maurice', 'willing', 'malone', 'ugliness', 'unsettle', 'solondz', 'matarazzo', 'unsettling', 'convertible', 'embezzlement', 'escort', 'volcano', 'transfer', 'guillermo', 'antique', 'invention', 'scarab', 'tycoon', 'clockwork', 'frederico', 'luppi', 'claudio', 'margarita', 'isabel', 'automaton', 'cosmetologist', 'pedro', 'almodovar', 'scheinman', 'semitism', 'bigotry', 'condom', 'fascist', 'reform', 'slingshot', 'socialism', 'spank', 'underwear', 'vagina', 'corporal', 'facsism', 'lina', 'wertmüller', 'recuperation', 'shenanigan', 'analysis', 'intervius', 'friedman', 'epstein', 'fascinating', 'autobiographical', 'motorcycle', 'vespa', 'nanni', 'moretti', 'argentina', 'betty', 'misogyny', 'barnes', 'florence', 'henderson', 'cole', 'mckean', 'booby', 'trap', 'precocious', 'suburban', 'invincible', 'latch', 'creativity', 'ups', 'pajama', 'heard', 'illogical', 'lez', 'sensual', 'launder', 'pottery', 'spiritism', 'unchain', 'melody', 'whoopie', 'ghana', 'jerry', 'zucker', 'recently', 'truly', 'madly', 'deeply', 'wellmade', 'seance', 'ditto', 'arab', 'carpet', 'genie', 'lamp', 'parrot', 'sultan', 'arabia', 'musker', 'clements', 'pimental', 'daan', 'jippes', 'rooney', 'fujii', 'ventura', 'rebecca', 'rees', 'rossio', 'prince', 'abubu', 'aladdin', 'djinn', 'cyborgs', 'catch', 'phrase', 'morph', 'shotgun', 'hamilton', 'terminator', 'furlong', 'governator', 'tension', 'digital', 'schwarzenneger', 'epatha', 'merkerson', 'swartzenegger', 'timetravel', 'hasta', 'vista', 'mayhem', 'liquid', 'form', 'indians', 'bison', 'buffalo', 'dakota', 'deserter', 'early', 'kansa', 'lakota', 'pawnee', 'tribe', 'imperialism', 'llarga', 'lynch', 'pile', 'revisionist', 'mcdonnell', 'extended', 'multilingual', 'wolves', 'basinger', 'joker', 'hall', 'serious', 'bookie', 'goodness', 'exellent', 'batmam', 'hannibal', 'lecter', 'menacing', 'rookie', 'confine', 'phychology', 'cannibal', 'moth', 'maniac', 'katso', 'sanna', 'lector', 'metamorphosis', 'anibal', 'lamb', 'silence', 'pyschopath', 'cannabalism', 'chill', 'psycothriller', 'tally', 'tak', 'fujimoto', 'asd', 'asdasd', 'worriesome', 'longing', 'jody', 'lotion', 'ehh', 'immersive', 'chianti', 'prequel', 'bugâ', 'aä', 'characè', 'indigestion', 'intriguing', 'psychopathy', 'suspence', 'psycho', 'triller', 'procedural', 'frighten', 'psycholgical', 'physiological', 'scar', 'pyschology', 'cup', 'exploratory', 'ligne', 'fuite', 'profiler', 'inteligent', 'fairly', 'j', 'clarice', 'starling', 'concatenate', 'unespected', 'wake', 'sometimes', 'screaming', 'uncomfortable', 'elegant', 'poster', 'traditional', 'candlelight', 'vigil', 'schneewittchen', 'und', 'sieben', 'zwerge', 'adriana', 'caselotti', 'stockwell', 'lucille', 'verne', 'pinto', 'colvig', 'atwell', 'innovator', 'gaston', 'cello', 'carnival', 'conscience', 'figaro', 'jackass', 'nose', 'pinocchio', 'sneeze', 'luske', 'judels', 'rub', 'cliff', 'frankie', 'darro', 'sharpsteen', 'brodie', 'marion', 'darlington', 'marionettes', 'catlett', 'dated', 'anvilicious', 'fariy', 'tail', 'marionette', 'pygmalion', 'cinderella', 'workaholic', 'hooker', 'favorate', 'unreflective', 'alexander', 'giacomo', 'bellamy', 'merger', 'acquisition', 'garry', 'client', 'yuri', 'mamin', 'righteous', 'steam', 'locomotive', 'borgnine', 'peckinpah', 'edmond', 'oates', 'holden', 'willaim', 'unwatchable', 'meander', 'tofu', 'harlem', 'bach', 'linz', 'durning', 'mae', 'whitman', 'hook', 'mirror', 'candyman', 'protégé', 'dealership', 'woodchipper', 'mcdormand', 'minnesota', 'horrify', 'sell', 'camerawork', 'irritate', 'minnsota', 'storemare', 'dry', 'oh', 'ja', 'yah', 'offbeat', 'salesman', 'unrelatable', 'debased', 'twisted', 'deakins', 'franciso', 'midnight', 'rotoscoping', 'badass', 'cenobite', 'engineer', 'pinhead', 'puzzle', 'hellraiser', 'aunt', 'gentleman', 'bronte', 'franco', 'zeffirelli', 'tubi', 'foreigner', 'switzerland', 'brusati', 'suspension', 'reitherman', 'atypical', 'chus', 'lampreave', 'rossy', 'madrid', 'novelist', 'almodóvar', 'bash', 'couturié', 'mountaineer', 'alpinism', 'werner', 'herzog', 'andré', 'téchiné', 'dating', 'burial', 'elitism', 'hypocrisy', 'stab', 'stacy', 'norton', 'bishop', 'pornographic', 'hoblit', 'biderman', 'shagan', 'diehl', 'everyone', 'unbelievably', 'regime', 'marxism', 'solidarity', 'orwell', 'answer', 'biracial', 'childbirth', 'matriarchy', 'cooper', 'gulf', 'bow', 'bisexuality', 'disparity', 'triangles', 'retiree', 'sautet', 'medal', 'praise', 'catharsis', 'prague', 'tgv', 'emmanuelle', 'beart', 'mole', 'please', 'estevez', 'iceland', 'friðrik', 'þór', 'friðriksson', 'anorexic', 'despot', 'dragonheart', 'gut', 'cohen', 'epico', 'sff', 'sentana', 'filmproduktion', 'trainer', 'mischief', 'forger', 'hitchcockian', 'alain', 'delon', 'rené', 'clément', 'wale', 'roald', 'fruit', 'veggie', 'karey', 'kirkpatrick', 'reese', 'witherspoon', 'alyssa', 'milano', 'foley', 'protective', 'steamy', 'kelly', 'makin', 'sketch', 'kitchen', 'anniversary', 'anarchic', 'belgrad', 'cellar', 'kusturica', 'emir', 'lazar', 'ristovski', 'miki', 'manojlovic', 'yugoslavia', 'goran', 'bregovic', 'unorthodox', 'bregović', 'seduces', 'bo', 'widerberg', 'malmö', 'sweden', 'chop', 'socky', 'kumite', 'mehrez', 'apu', 'help', 'misery', 'monsoon', 'railroad', 'satyajit', 'bengal', 'bibhutibhushan', 'bandyopadhyay', 'brahmin', 'broken', 'engagement', 'calcutta', 'kolkata', 'tastelessness', 'mallon', 'jjoel', 'hodgson', 'chicken', 'crossover', 'skunk', 'gonzales', 'bunny', 'pytka', 'interact', 'toon', 'distant', 'promiscuity', 'duran', 'cheesey', 'bare', 'breast', 'sexiness', 'undress', 'zero', 'gravity', 'tijuana', 'thornton', 'molly', 'ringwald', 'hickenlooper', 'strain', 'lemmy', 'caution', 'nouvelle', 'vague', 'wave', 'merde', 'dystopias', 'colonialism', 'spree', 'bertrand', 'tavernier', 'telescope', 'randal', 'kleiser', 'assist', 'elephant', 'margarethe', 'trotta', 'reversal', 'wreck', 'fraiser', 'ricki', 'shirley', 'mcclaine', 'peebles', 'samurai', 'norberto', 'barba', 'mandel', 'payback', 'owatonna', 'mn', 'jock', 'letterman', 'jacket', 'normal', 'cassavetes', 'energy', 'knuckle', 'himalaya', 'muay', 'thai', 'thailand', 'kickboxing', 'stowaway', 'joffe', 'connelly', 'grusin', 'floyd', 'mutrux', 'dexter', 'cent', 'headbanger', 'ouch', 'beguilement', 'decoy', 'veterinarian', 'cyrano', 'bergerac', 'oddly', 'amuse', 'dane', 'kitten', 'dickens', 'bartlett', 'debbie', 'gate', 'welker', 'brandis', 'kal', 'wixom', 'celtic', 'decerchio', 'baketball', 'shapiro', 'porpoise', 'pope', 'prosecution', 'alive', 'lethargic', 'robby', 'accurate', 'anticolonial', 'allegorical', 'spirituality', 'crispin', 'glover', 'exile', 'provence', 'rappeneau', 'gunshot', 'switchblade', 'poiré', 'clavier', 'construction', 'compilation', 'plasticine', 'gromit', 'aardman', 'karma', 'spell', 'newcomer', 'ritual', 'outsider', 'fairuza', 'balk', 'neve', 'tunney', 'wicca', 'skeet', 'ulrich', 'teens', 'fleming', 'promoter', 'reginald', 'hudlin', 'fry', 'lumley', 'stella', 'gibbon', 'classism', 'matriarch', 'blindfold', 'quay', 'confession', 'brainless', 'chit', 'chat', 'nic', 'zeus', 'butthole', 'weisberg', 'rosner', 'challange', 'reaper', 'undead', 'zombie', 'cemetery', 'interpretable', 'michele', 'soavi', 'ghoulish', 'impotence', 'motor', 'undertaker', 'tripe', 'niece', 'barn', 'climate', 'cow', 'metereologist', 'natural', 'oklahoma', 'chaser', 'tornado', 'twister', 'helen', 'unintentionally', 'total', 'tornadoes', 'electrical', 'obese', 'washer', 'pretending', 'spray', 'superherion', 'casablanca', 'lorre', 'lookalike', 'shell', 'manga', 'implantat', 'hybrid', 'eternal', 'mamoru', 'oshii', 'exposition', 'fanservice', 'fat', 'bethany', 'joy', 'lenz', 'franz', 'licht', 'gypsy', 'gipsy', 'weight', 'pie', 'friedberg', 'rustle', 'penguin', 'companion', 'racket', 'polonsky', 'astronomer', 'climatologist', 'cosmic', 'zoom', 'global', 'warming', 'greenhouse', 'nitrogen', 'observatory', 'dish', 'screwdriver', 'volkswagen', 'beetle', 'twohy', 'leon', 'rippy', 'silver', 'sheeny', 'polo', 'ally', 'mutual', 'assure', 'seller', 'kubrick', 'absurdism', 'doomsday', 'strategic', 'unreasonable', 'significant', 'pacing', 'btaegepriority', 'bodily', 'fluid', 'har', 'virkelig', 'nogle', 'sjove', 'ting', 'kørende', 'synes', 'mister', 'tempo', 'længden', 'desværre', 'beck', 'creley', 'keenan', 'wynn', 'slim', 'pickens', 'soviet', 'sterling', 'purity', 'essence', 'applicable', 'present', 'insanely', 'maddin', 'profile', 'jin', 'yong', 'jinyong', 'redux', 'wuxia', 'getdvd', 'freida', 'mock', 'stalingrad', 'vilsmaier', 'skull', 'jade', 'phantom', 'hiaasen', 'burt', 'reynolds', 'though', 'rejection', 'shy', 'tavern', 'coppola', 'exchange', 'lopez', 'warhol', 'serbia', 'senegal', 'djibril', 'diop', 'mambéty', 'peddler', 'kaboré', 'allan', 'poe', 'ferrari', 'turkey', 'rehabilitation', 'recover', 'irvine', 'welsh', 'junky', 'overrrated', 'puke', 'filmes', 'clássicos', 'macdonald', 'negative', 'portrayal', 'ewen', 'bremner', 'mckidd', 'glasgow', 'ufo', 'randy', 'july', 'area', 'aviation', 'invader', 'explosions', 'roland', 'emmerich', 'unimaginative', 'devlin', 'indiana', 'sucky', 'eua', 'reviewed', 'guitly', 'liv', 'tyler', 'weisz', 'sculpture', 'tuscany', 'range', 'downfall', 'snip', 'stalking', 'cathedral', 'notre', 'dame', 'bombast', 'deformity', 'inequality', 'reach', 'perversion', 'frenemies', 'formative', 'try', 'misunderstood', 'fare', 'interpretation', 'combover', 'inflatable', 'kingpin', 'lancaster', 'pa', 'favor', 'spangle', 'banner', 'bowl', 'farelly', 'pin', 'richman', 'amish', 'railgun', 'traitor', 'treason', 'chernuchin', 'puryear', 'walon', 'alligator', 'caan', 'contractor', 'backdoor', 'fewer', 'coburn', 'sherman', 'ale', 'fatphobia', 'oppression', 'inquisition', 'lucian', 'pintilie', 'yale', 'strom', 'flood', 'tunnel', 'architect', 'sergeant', 'graveyard', 'poltergeist', 'threat', 'lenta', 'impressive', 'binoculars', 'notebook', 'trachtenberg', 'tumor', 'telekinesis', 'clarivoyance', 'gerald', 'di', 'pego', 'duvall', 'kyra', 'sedgwick', 'substance', 'holofcener', 'broker', 'aniston', 'kkk', 'akiva', 'goldsman', 'caricature', 'wisecrack', 'fricker', 'mcgoohan', 'coin', 'minimal', 'wagon', 'tantrum', 'vulgarity', 'rohmer', 'polar', 'floppy', 'atlanta', 'fugative', 'dj', 'sanford', 'summery', 'vipper', 'jeg', 'satte', 'trin', 'op', 'efter', 'blev', 'hovedet', 'stor', 'det', 'en', 'flot', 'bikini', 'bavaria', 'nuremberg', 'sehr', 'colleague', 'cockroach', 'lodger', 'spekulant', 'cockroaches', 'payson', 'megan', 'bette', 'midler', 'goldie', 'hawn', 'raid', 'nigel', 'finch', 'brawley', 'donnie', 'ignon', 'cyril', 'hume', 'maibaum', 'hart', 'bochner', 'louise', 'fletcher', 'mercedes', 'deliquent', 'supply', 'hydrogen', 'lab', 'fuel', 'strength', 'shirt', 'curtain', 'mara', 'ferris', 'rhea', 'dhal', 'aristocratic', 'girly', 'gossip', 'cottage', 'mcgrath', 'viegla', 'jauka', 'era', 'crow', 'particularly', 'winer', 'photograph', 'ulcer', 'facial', 'surgery', 'franju', 'televangelist', 'yin', 'nucci', 'gardner', 'luca', 'vercovici', 'chieffo', 'dobson', 'zlotoff', 'grill', 'plissken', 'bicycle', 'anh', 'hung', 'tran', 'saigon', 'exhibit', 'vernissage', 'gallery', 'schnabel', 'bowie', 'basquiat', 'pleasant', 'rolf', 'heer', 'convention', 'keisuke', 'kinoshita', 'patriarch', 'puzo', 'evergreen', 'copolla', 'italians', 'length', 'decisive', 'im', 'offer', 'refuse', 'nostra', 'armin', 'rohde', 'joachim', 'wortmann', 'til', 'schweiger', 'cologne', 'diashow', 'sönke', 'malaysia', 'deceipt', 'trade', 'illiteracy', 'gillie', 'mackinnon', 'acted', 'trans', 'thelma', 'lana', 'wachowski', 'lilly', 'tilly', 'susie', 'slash', 'matrix', 'carpool', 'hiller', 'brunswick', 'kansas', 'frankfurt', 'sympathy', 'anthropologist', 'satisfactory', 'mutation', 'boing', 'moreau', 'distrubing', 'tivo', 'evans', 'blackout', 'nohun', 'acid', 'haley', 'osment', 'jewison', 'bullet', 'pleasence', 'nunn', 'vonnegut', 'schnitzler', 'max', 'ophüls', 'algerienkrieg', 'closet', 'andr', 'chin', 'hemingway', 'ingrid', 'katharine', 'hepburn', 'divorcee', 'fiancée', 'hangover', 'imminent', 'inebriate', 'quadrangle', 'remarriage', 'socialite', 'katherine', 'ruth', 'hussey', 'cukor', 'bourgeois', 'theatrical', 'weidler', 'chorus', 'diction', 'coach', 'flapper', 'morning', 'pearl', 'tap', 'comden', 'donen', 'kelley', 'snobbish', 'parfum', 'vincente', 'minnelli', 'ballet', 'antigos', 'gershwin', 'eiffel', 'magazine', 'audrey', 'astaire', 'mmswl', 'jewelry', 'window', 'gigolo', 'opportunism', 'facade', 'static', 'truman', 'capote', 'difficulty', 'blake', 'mod', 'digger', 'golightly', 'brazil', 'ebsen', 'peppard', 'balsam', 'mickey', 'neal', 'yellowface', 'vertigo', 'acrophobia', 'hitchcock', 'novak', 'pychological', 'zizek', 'scottie', 'ferguson', 'switching', 'bed', 'geddes', 'height', 'sequoia', 'helmore', 'amateur', 'sleuth', 'convalescence', 'homebound', 'nurse', 'hitcocks', 'judith', 'evelyn', 'raymond', 'burr', 'ritter', 'wendell', 'corey', 'inadvertently', 'muder', 'disturbia', 'jimmy', 'sjovt', 'ventede', 'på', 'objektet', 'ville', 'returne', 'gaze', 'hvilket', 'skete', 'sidst', 'morderen', 'opdager', 'bliver', 'beskuet', 'var', 'sgu', 'meget', 'fin', 'fint', 'vild', 'minder', 'om', 'teaterscene', 'helt', 'stiliseret', 'simpel', 'virker', 'næsten', 'bevidst', 'overbelyst', 'havde', 'lyst', 'udvise', 'forsoning', 'tendenser', 'kunne', 'ikke', 'strækkes', 'strakte', 'sig', 'anelse', 'langt', 'ud', 'anden', 'halvdel', 'filmen', 'kan', 'godt', 'lide', 'ham', 'der', 'spiller', 'hoved', 'rollen', 'må', 'generelt', 'sige', 'skuespillet', 'mere', 'nuanceret', 'huskede', 'breakupet', 'kæreste', 'stakkels', 'kvinde', 'faktisk', 'ret', 'rørerende', 'clothing', 'lonely', 'claudette', 'colbert', 'capra', 'brat', 'gable', 'loyal', 'jameson', 'roscoe', 'karns', 'delightful', 'pianist', 'yard', 'dangerous', 'jewel', 'lansbury', 'chevallier', 'boyer', 'ruttenberg', 'bobby', 'bourgeoisie', 'condemn', 'delirium', 'fog', 'nosey', 'porter', 'rogers', 'blore', 'sandrich', 'eva', 'saint', 'crop', 'duster', 'mount', 'rushmore', 'auction', 'lehman', 'royce', 'josephine', 'hutchinson', 'leo', 'carroll', 'pua', 'jovial', 'clerk', 'tennis', 'corporation', 'executive', 'wilder', 'mcmurray', 'maclaine', 'lovesick', 'macmurray', 'auld', 'lang', 'syne', 'evidence', 'filmaffinity', 'fruitcake', 'spat', 'valentine', 'sugar', 'logan', 'thoeren', 'five', 'yacht', 'alias', 'interpreter', 'behm', 'recruit', 'hitchcockesque', 'humphrey', 'bogart', 'nationalism', 'visa', 'curtiz', 'sidney', 'greenstreet', 'ambiance', 'unless', 'spot', 'villains', 'cafe', 'veidt', 'puglia', 'henreid', 'refugees', 'reich', 'statuette', 'dashiell', 'hammett', 'gunsel', 'partnership', 'barton', 'mclane', 'gladys', 'astor', 'maclane', 'hamari', 'elisha', 'maltese', 'screenwriting', 'aristocrat', 'guttersnipe', 'linguist', 'misogynist', 'tutor', 'wager', 'holloway', 'unconvincing', 'andrews', 'marni', 'source', 'pal', 'makeover', 'disapproval', 'playboy', 'peck', 'rome', 'zest', 'sightsee', 'heir', 'wyler', 'mono', 'barely', 'mostly', 'pretend', 'commoner', 'elevation', 'temple', 'garland', 'fiddle', 'missouri', 'straw', 'togetherness', 'quaint', 'ames', 'lulcille', 'bremer', 'drake', 'trolley', 'clock', 'scarecrow', 'sepia', 'tecnicolor', 'technicolor', 'fantanstical', 'dorothy', 'slipper', 'tin', 'toto', 'bert', 'lahr', 'bolger', 'combo', 'seealso', 'wizardofoz', 'vidor', 'something', 'brick', 'baum', 'rainbow', 'billie', 'ball', 'enduring', 'memeory', 'activate', 'vivien', 'luxury', 'vivian', 'freakin', 'olivia', 'dehavilland', 'irrational', 'havilland', 'rubbish', 'amazingly', 'carpetbagger', 'oppress', 'flaw', 'georgia', 'confederate', 'slavery', 'erich', 'stroheim', 'swanson', 'nut', 'narcissism', 'typewriter', 'guignol', 'kept', 'sardonic', 'paramount', 'knowledge', 'graet', 'norma', 'desmond', 'metafilm', 'swimming', 'collector', 'banker', 'capitalist', 'sleigh', 'orson', 'welles', 'cotten', 'expressionist', 'egotist', 'rosebud', 'comingore', 'coulouris', 'allmost', 'agnes', 'moorehead', 'magnate', 'without', 'conviction', 'snowglobe', 'snowman', 'toothache', 'randolph', 'hearst', 'xanadu', 'benign', 'chilly', 'evolution', 'jupiter', 'monolith', 'convolute', 'deco', 'ade', 'geia', 'relaxing', 'ape', 'humanity', 'relax', 'oppressive', 'unsworth', 'ai', 'breathe', 'exercise', 'polysemic', 'portray', 'overlong', 'symbolic', 'sleepy', 'sleek', 'somptuous', 'ligeti', 'strauss', 'sparse', 'value', 'dawn', 'creation', 'baffle', 'marlene', 'dietrich', 'milland', 'baxter', 'insecurity', 'mankiewicz', 'bitchy', 'psychodrama', 'margo', 'bettie', 'rule', 'fave', 'wikilens', 'crawford', 'fontaine', 'shearer', 'rosalind', 'salon', 'columnist', 'paulette', 'goddard', 'projector', 'nail', 'polish', 'phonograph', 'clare', 'booth', 'luce', 'temper', 'unseen', 'olivier', 'cornwall', 'devotion', 'monte', 'carlo', 'denny', 'daphne', 'maurier', 'dwell', 'captive', 'diplomat', 'editor', 'windmill', 'intoxication', 'rio', 'janeiro', 'staircase', 'leopoldine', 'konstantin', 'calhern', 'overbear', 'notorious', 'psychoanalysis', 'salvador', 'dali', 'overture', 'harrassment', 'deborah', 'kerr', 'mccarey', 'côte', 'picnic', 'riviera', 'roof', 'villa', 'monaco', 'rendezvous', 'spencer', 'ballerina', 'choreographer', 'cinemascope', 'cyd', 'charisse', 'triplet', 'ernst', 'lubitsch', 'greta', 'garbo', 'melvyn', 'fur', 'istanbul', 'ninotchka', 'bois', 'boulogne', 'rink', 'belle', 'époque', 'chevalier', 'debutante', 'drunkenness', 'repayment', 'lionheart', 'errol', 'keighley', 'archery', 'basil', 'rathbone', 'patric', 'knowles', 'zorro', 'rouben', 'mamoulian', 'tierney', 'portrait', 'clifton', 'otto', 'preminger', 'vera', 'caspary', 'forename', 'handheld', 'cane', 'bedroom', 'cad', 'seaside', 'solitude', 'depth', 'achieve', 'physicality', 'tcm', 'absolutely', 'himalayan', 'shangri', 'ronald', 'colman', 'ginger', 'designer', 'rapier', 'valet', 'ballroom', 'carole', 'felix', 'bressart', 'benny', 'lionel', 'atwill', 'maude', 'eburne', 'stack', 'ruman', 'heymann', 'ridge', 'wartime', 'justus', 'mayer', 'melchior', 'lengyel', 'eugene', 'pallette', 'powell', 'mowbray', 'alice', 'brady', 'gail', 'cava', 'mischa', 'auer', 'barbecue', 'beef', 'maryland', 'petrol', 'pony', 'ranch', 'cattle', 'sal', 'mineo', 'steinbeck', 'elia', 'kazan', 'myrna', 'loy', 'dyke', 'terrier', 'thin', 'snappy', 'convicted', 'execution', 'reprieve', 'rolltop', 'desk', 'front', 'alma', 'kruger', 'lockhart', 'hildy', 'asia', 'bullfight', 'steamship', 'niven', 'cantinflas', 'chinchón', 'sati', 'suttee', 'google', 'loan', 'newlywed', 'contraction', 'financial', 'panic', 'inexperienced', 'pray', 'bailey', 'smile', 'angelic', 'intervention', 'zuzu', 'petal', 'tediously', 'sacchrine', 'community', 'dam', 'disillusionment', 'expulsion', 'filibuster', 'idealist', 'senate', 'smear', 'walkout', 'buchman', 'kibbee', 'wonderfully', 'amusing', 'pro', 'democratic', 'temptress', 'madc', 'otherwise', 'bone', 'donation', 'leopard', 'paleontologist', 'zoo', 'hawkes', 'bring', 'mild', 'hawls', 'ruggles', 'huxley', 'extravagance', 'finance', 'honeymoon', 'reflection', 'sterility', 'dunne', 'minister', 'reverend', 'seamstress', 'burlesque', 'aspire', 'destitution', 'jilt', 'meltdown', 'saving', 'spurn', 'unwed', 'vitriol', 'cromwell', 'somerset', 'maugham', 'kuenstlerroman', 'archie', 'mayo', 'muni', 'aristocracy', 'grocer', 'shoeshine', 'busby', 'berkeley', 'kaye', 'koster', 'brunette', 'quaker', 'revolver', 'telegraph', 'bicker', 'palladium', 'memorization', 'posing', 'suspicious', 'godfrey', 'tearle', 'lucie', 'mannheim', 'peggy', 'ashcroft', 'donat', 'janus', 'milestone', 'romero', 'barricade', 'zombies', 'outta', 'gin', 'giraffe', 'hippopotamus', 'leech', 'methodist', 'missionary', 'moqukito', 'tanzania', 'ur', 'morley', 'forester', 'hepburrn', 'port', 'uranium', 'tennesse', 'unjustified', 'adjustment', 'burl', 'ives', 'carson', 'stanwyck', 'domain', 'broadcast', 'note', 'nyer', 'lanne', 'casbah', 'hedy', 'lamarr', 'ambulance', 'isonzo', 'labor', 'joshua', 'beer', 'earring', 'ecology', 'glider', 'shampoo', 'ballard', 'environmentalist', 'shower', 'ultralight', 'adoration', 'frigidity', 'intimacy', 'songwriter', 'alp', 'dying', 'organ', 'vorarlberg', 'ringo', 'lam', 'physic', 'feast', 'tucci', 'shalhoub', 'shalub', 'prima', 'pier', 'keystone', 'timpano', 'janney', 'whiskey', 'chance', 'latifah', 'lanier', 'takashi', 'bufford', 'argument', 'suicidal', 'charlize', 'theron', 'cherlize', 'aiello', 'herzfeld', 'cruttwell', 'carradine', 'mazursky', 'sooooo', 'bakery', 'emergency', 'ethical', 'tobolowsky', 'selby', 'heidi', 'kling', 'nordling', 'lieberman', 'goldman', 'knotts', 'conway', 'davy', 'crockett', 'frontiersman', 'esp', 'superstitious', 'hick', 'automobile', 'entrepreneur', 'racecar', 'toll', 'hackett', 'tomlinson', 'herbie', 'käfer', 'volkswagon', 'washburn', 'connors', 'mcguire', 'fes', 'octopus', 'hayley', 'mill', 'maureen', 'separate', 'swift', 'soooo', 'later', 'tween', 'wyman', 'karl', 'malden', 'olson', 'egan', 'duwayne', 'dunham', 'swiss', 'annakin', 'macarthur', 'landlady', 'suburbia', 'wristwatch', 'atlantis', 'nemo', 'squid', 'harpoon', 'scuba', 'fleischer', 'cephalopod', 'bobsleighing', 'jamaica', 'reggae', 'training', 'olympics', 'bobsled', 'malik', 'yoba', 'bobsledding', 'montage', 'stepmother', 'wilfred', 'enchant', 'helpless', 'clyde', 'geronimi', 'winnie', 'pooh', 'pinata', 'portuguese', 'duck', 'könig', 'wart', 'joust', 'schuster', 'crusade', 'folk', 'mercifulness', 'forced', 'islam', 'barrass', 'synnott', 'cresswell', 'keira', 'knightley', 'marrion', 'nottingham', 'catapult', 'chimney', 'glynis', 'manner', 'travers', 'supercalifragilisticexpialidocious', 'affection', 'ear', 'storch', 'suffer', 'kinney', 'elliotte', 'fable', 'drunk', 'exclusion', 'reddy', 'button', 'dale', 'singing', 'broom', 'roddy', 'mcdowall', 'churchman', 'card', 'miniaturization', 'chester', 'hatter', 'march', 'surullinen', 'berman', 'hitchhiker', 'bitch', 'decay', 'convent', 'governess', 'occupation', 'novice', 'salzburg', 'abbey', 'choir', 'haydn', 'formal', 'uniform', 'hammerstein', 'rodgers', 'anschluss', 'bla', 'bubbum', 'oversimplify', 'shaft', 'skyscraper', 'average', 'incompetent', 'asian', 'camraderie', 'leong', 'definitive', 'bedelia', 'nakatomi', 'yipikaye', 'fucker', 'roderick', 'thorp', 'jeb', 'botanist', 'chimp', 'lemonade', 'bald', 'nemesis', 'diabolize', 'infernal', 'lawn', 'mower', 'gimel', 'augment', 'greenwich', 'inspector', 'owner', 'anarchism', 'illegitimate', 'timothy', 'spall', 'reconciliation', 'secrets', 'record', 'label', 'muscial', 'picasso', 'brit', 'hettie', 'extraneous', 'modesty', 'council', 'parade', 'kenya', 'swahili', 'mortimer', 'kani', 'puri', 'goldsmith', 'kaf', 'cream', 'tricycle', 'hardy', 'grandfather', 'senility', 'tourist', 'havanna', 'claire', 'masquerade', 'lazy', 'baz', 'luhrmann', 'imagery', 'postmodern', 'danes', 'daines', 'someone', 'swinger', 'vince', 'gf', 'favreau', 'timing', 'doug', 'liman', 'swing', 'angelas', 'pub', 'lifelong', 'navajo', 'oncologist', 'alexandra', 'tydings', 'seda', 'jarre', 'leavitt', 'asquith', 'dmytryk', 'hallucinogenic', 'marlowe', 'sedation', 'tiki', 'unfaithful', 'chandler', 'macao', 'manitoba', 'esoteric', 'plotlines', 'fantastical', 'willy', 'wonka', 'oompa', 'loompas', 'protangonist', 'bucquoy', 'clayton', 'protaganist', 'govern', 'cyrogenics', 'marx', 'cosell', 'retrofuturist', 'neurotic', 'assume', 'barrel', 'barrister', 'cutical', 'scissors', 'excuse', 'gag', 'steamroller', 'stutter', 'yelling', 'zoophilia', 'palin', 'monty', 'python', 'aquarium', 'balcony', 'bethlehem', 'crucifixion', 'gladiator', 'jewry', 'sermon', 'irreligion', 'sacrilege', 'despite', 'englishhumor', 'sandal', 'montypython', 'extemelly', 'quoter', 'soprano', 'daredevil', 'suffrage', 'dunaway', 'beatty', 'badlands', 'draggy', 'viva', 'zinnemann', 'sturges', 'treacherous', 'jeopardy', 'visit', 'adul', 'warnervision', 'logic', 'complexity', 'abortion', 'catskill', 'resort', 'mambo', 'sensuality', 'unwanted', 'grey', 'privilege', 'cynthia', 'rhodes', 'razor', 'foreshadow', 'wrong', 'uneasy', 'alliance', 'warehouse', 'humourous', 'bleedin', 'prolong', 'imbd', 'guest', 'buschemi', 'baltz', 'melhor', 'todos', 'historia', 'inteira', 'dentro', 'um', 'platoon', 'vie', 'mcginley', 'pitjor', 'que', 'ses', 'altres', 'severity', 'defoe', 'corpse', 'mccarthy', 'silverman', 'cheap', 'kotcheff', 'setup', 'homestuck', 'kiser', 'joint', 'morrison', 'booze', 'exaggerated', 'transgendered', 'northern', 'unrest', 'genitalia', 'penis', 'orientation', 'miranda', 'tan', 'chinn', 'climax', 'imbalance', 'pakula', 'ethics', 'sophie', 'zawistowska', 'farewell', 'flowerpot', 'saucer', 'frog', 'homesickness', 'marine', 'langauage', 'inuendo', 'stranded', 'drew', 'bookkeeper', 'generosity', 'miser', 'scrooge', 'sickly', 'ebenezer', 'daytona', 'racing', 'nascar', 'asshole', 'jet', 'assignment', 'hostility', 'aerospace', 'playing', 'sky', 'testosterone', 'aerial', 'recruiting', 'tool', 'maker', 'testosteroney', 'sweetest', 'teeth', 'possibly', 'mcgillis', 'skerritt', 'authority', 'abandonment', 'address', 'flag', 'anguish', 'chested', 'breakfast', 'enter', 'breaking', 'clip', 'bullhorn', 'candelabra', 'candle', 'check', 'choke', 'cluck', 'temperature', 'compact', 'sock', 'bottle', 'tray', 'easter', 'furniture', 'sheet', 'grandson', 'greaser', 'gurney', 'handshake', 'headlight', 'henpecked', 'rod', 'hum', 'imitate', 'backus', 'detention', 'juvie', 'framed', 'puppy', 'kiss', 'knife', 'throat', 'lifesaver', 'listen', 'wear', 'apron', 'dedication', 'overprotective', 'peanut', 'butter', 'peep', 'planetarium', 'siren', 'promise', 'psychotronic', 'pursuit', 'constellation', 'ladd', 'orion', 'plato', 'sagitarius', 'taurus', 'remove', 'dirt', 'insignia', 'locker', 'destructiveness', 'shame', 'chest', 'tire', 'stairway', 'surround', 'taunt', 'throw', 'turnstile', 'underage', 'upside', 'hose', 'whitewall', 'emasculation', 'via', 'bulb', 'overdramatic', 'corn', 'ant', 'grasshopper', 'nuridsany', 'pérennou', 'microworld', 'ashtray', 'jaco', 'dormael', 'businessman', 'mongoloid', 'recovery', 'calista', 'flockhart', 'dianne', 'wiest', 'directiorial', 'meeting', 'sobriety', 'dependency', 'judgment', 'vulgar', 'milo', 'forman', 'grit', 'excellence', 'partly', 'flynt', 'keg', 'pbs', 'cutler', 'consultant', 'pb', 'republican', 'rydell', 'dabney', 'clouseau', 'ate', 'jong', 'deepsea', 'thalassophobia', 'burmester', 'mastrantonio', 'lengthy', 'plastic', 'behead', 'leprosy', 'lighthouse', 'automatic', 'atrocious', 'adrienne', 'barbeau', 'cleef', 'wasteland', 'newswoman', 'shapeshifting', 'horrorklassiker', 'werwolf', 'avarice', 'berri', 'petit', 'montand', 'agriculture', 'farming', 'hunchback', 'béart', 'ticky', 'holgado', 'brach', 'marcel', 'pagnol', 'speiser', 'cadet', 'burstyn', 'zieff', 'chapter', 'grail', 'reception', 'irreverant', 'monthy', 'doune', 'lancelot', 'chivalry', 'ni', 'eccentic', 'ruiz', 'warms', 'dryfoos', 'ski', 'snowboard', 'disrespect', 'muhammad', 'summit', 'zaire', 'vibrant', 'gast', 'telecontrol', 'clay', 'cosy', 'penguins', 'vigne', 'lure', 'soul', 'svankmajer', 'werker', 'basehart', 'treasury', 'vittorio', 'sica', 'feud', 'gdansk', 'kaschubia', 'suffocation', 'toxication', 'otherness', 'vertically', 'challenge', 'drum', 'aznavour', 'olbrychski', 'bennent', 'volker', 'schlöndorff', 'katharina', 'thalbach', 'marek', 'walczewski', 'adorf', 'wojciech', 'pszoniak', 'seitz', 'günter', 'grass', 'carrière', 'unicycle', 'delusion', 'schizophrenic', 'lowe', 'nursery', 'quotation', 'lycanthrope', 'airstream', 'trailer', 'kopple', 'rhee', 'centre', 'international', 'palermo', 'decadent', 'delicatessen', 'gaultier', 'mirren', 'despise', 'gambon', 'bohringer', 'greenaway', 'antiga', 'palo', 'chicote', 'pero', 'peli', 'symmetry', 'mimica', 'janitor', 'postwar', 'sewer', 'would', 'funnier', 'toston', 'brasil', 'unforgettable', 'svart', 'lookalikes', 'springlike', 'cowardice', 'wwi', 'masterpeace', 'trench', 'cobb', 'bayonet', 'ideal', 'estafa', 'track', 'angelica', 'nior', 'chelsom', 'tara', 'irsh', 'cairo', 'expedition', 'landmine', 'clearer', 'mural', 'sandstorm', 'sahara', 'poignantly', 'interweave', 'minghella', 'similarly', 'myeh', 'pedantic', 'glorify', 'euthanasia', 'wich', 'insularity', 'gabriele', 'salvatores', 'palsy', 'christy', 'brown', 'orgasm', 'videotape', 'soap', 'swamp', 'broad', 'championship', 'paso', 'doble', 'revelation', 'rhumba', 'luhrman', 'sunshine', 'strictly', 'miscarriage', 'morris', 'fiercely', 'inferiority', 'disturbed', 'rejoin', 'tour', 'bernhard', 'tokyo', 'vogue', 'voguing', 'jennie', 'livingston', 'lgbtq', 'electroshock', 'lobotomy', 'commit', 'lunatic', 'oregon', 'treatment', 'statutory', 'insubordination', 'opression', 'kesey', 'surprisingly', 'depressing', 'randle', 'mcmurphy', 'category', 'unhappy', 'metaphor', 'ecstasy', 'pipe', 'chong', 'purile', 'dee', 'asteroid', 'droid', 'wookie', 'vliet', 'cliffhanger', 'kershner', 'bulloch', 'bespin', 'carbonite', 'hoth', 'factor', 'sd', 'continue', 'carry', 'spoilin', 'boba', 'fett', 'victory', 'andre', 'mandy', 'patinkin', 'shawn', 'inigo', 'montoya', 'rodent', 'size', 'falk', 'unlikable', 'chearful', 'minor', 'fencing', 'toobleh', 'adorable', 'fighting', 'archaeologist', 'archeology', 'ark', 'covenant', 'excavation', 'medallion', 'mediterranean', 'moses', 'nepal', 'swastika', 'commandment', 'denholm', 'hootkins', 'kkkk', 'lll', 'lacey', 'kahler', 'determine', 'aventure', 'collectible', 'alden', 'boot', 'bureaucracy', 'mon', 'oncle', 'entre', 'fantasia', 'massa', 'rara', 'burocracy', 'beaurocracy', 'pryce', 'encrypt', 'kafkaesque', 'broadbent', 'downer', 'duct', 'avante', 'garde', 'femal', 'xenomorph', 'vacuum', 'reiser', 'quadrilogy', 'craft', 'greedy', 'terraforming', 'ripley', 'alins', 'newt', 'impression', 'predator', 'sassy', 'colonial', 'disobey', 'eli', 'wallach', 'sergio', 'leone', 'gallows', 'dollar', 'agenore', 'incrocci', 'furio', 'scarpelli', 'luciano', 'vincenzoni', 'prime', 'tarantesque', 'aldo', 'giuffre', 'luigi', 'pistilli', 'epically', 'almería', 'burgos', 'darkness', 'farmer', 'strangulation', 'boys', 'behave', 'badly', 'englishness', 'quoteable', 'heat', 'sultriness', 'stageplay', 'open', 'characterisation', 'lumet', 'critical', 'everyday', 'reasoning', 'oldies', 'rationality', 'relatable', 'resonable', 'doubt', 'knives', 'littleton', 'klugman', 'begley', 'binns', 'voskovec', 'fiedler', 'savoca', 'sweeney', 'webber', 'rudy', 'stocker', 'watchmaker', 'negotiation', 'quayle', 'lean', 'omar', 'sharif', 'camel', 'damascus', 'jerusalem', 'ottoman', 'bedouins', 'masculinity', 'imply', 'gripping', 'arabic', 'bedouin', 'billiards', 'hawkins', 'snooker', 'wadi', 'rum', 'societal', 'brainwash', 'together', 'malcom', 'tits', 'behavior', 'modification', 'pretentios', 'mnm', 'fisheye', 'dehumanization', 'invented', 'evolve', 'intricate', 'dubious', 'scantily', 'clad', 'brainwashing', 'psychiatry', 'delarge', 'ludwig', 'requisites', 'nadsat', 'antisocial', 'topquality', 'criticker', 'arbitrary', 'defence', 'intolerance', 'accusal', 'harper', 'compassion', 'actresses', 'mulligan', 'brock', 'disobedience', 'cambodia', 'beret', 'guerrilla', 'napalm', 'vietcong', 'cruelty', 'philippine', 'ubermensch', 'audiovisual', 'storaro', 'carmine', 'frederic', 'cambo', 'italo', 'harmonica', 'bronson', 'claudia', 'cardinale', 'underdeveloped', 'bah', 'ewoks', 'emperor', 'jabba', 'hutt', 'matter', 'mcdiarmid', 'hammill', 'slave', 'marquand', 'dopey', 'anakin', 'palpatine', 'seed', 'berlin', 'wim', 'wenders', 'deutsch', 'poemlike', 'wnders', 'alida', 'valli', 'bitter', 'evasion', 'forge', 'passport', 'penicillin', 'prater', 'stag', 'carol', 'cemetary', 'disorientate', 'disorientation', 'cotton', 'ambivalent', 'manhole', 'tampa', 'leota', 'casting', 'amoral', 'ect', 'hendry', 'debi', 'mazar', 'pileggi', 'giger', 'parasite', 'outerspace', 'thrower', 'mori', 'geiger', 'closed', 'interface', 'evolutionary', 'veronica', 'cartwright', 'yaphet', 'kotto', 'sk', 'chestburster', 'chainsaw', 'shrunken', 'incantation', 'necronomicon', 'pit', 'possession', 'awesomeness', 'boomstick', 'cheek', 'steel', 'deadites', 'oxygen', 'rosanna', 'comedic', 'competitive', 'serra', 'legacy', 'crown', 'descent', 'feudal', 'throne', 'hopelessness', 'lear', 'sobreactuacions', 'tatsuya', 'nakadai', 'soporific', 'dissapointing', 'chow', 'yun', 'bloodshed', 'domineer', 'janet', 'stefano', 'bloch', 'gavin', 'taxidermy', 'temptation', 'mile', 'instrument', 'sunglasses', 'rhythm', 'belushi', 'ackroyd', 'tossing', 'lighter', 'musicians', 'aretha', 'franklin', 'illinois', 'thinking', 'cab', 'calloway', 'flamethrower', 'punch', 'tahoe', 'corleone', 'connie', 'gabriella', 'belloni', 'marianna', 'morgana', 'sofia', 'talia', 'shire', 'harbor', 'bold', 'drill', 'indoctrination', 'blanket', 'genocide', 'peace', 'correspondent', 'ermey', 'modine', 'briljant', 'charmless', 'patronise', 'astronomy', 'agincourt', 'mozart', 'salieri', 'btaegeshelf', 'pass', 'amadeus', 'accessible', 'fiery', 'redhead', 'mildred', 'natwick', 'mclaglen', 'paddy', 'regret', 'lentisima', 'masa', 'una', 'vez', 'baroque', 'mug', 'yahoo', 'decadence', 'schoonmaker', 'jake', 'motta', 'cathy', 'moriarty', 'comedian', 'lobster', 'neurosis', 'liners', 'annie', 'misanthropic', 'sammenfald', 'mellem', 'måde', 'være', 'fortælling', 'kærligheden', 'tilfærdigt', 'tumlende', 'hen', 'ad', 'hvor', 'engang', 'sammen', 'slutnignen', 'cavett', 'noiva', 'nervosa', 'noivo', 'schlemiel', 'multidimensional', 'hershey', 'shepard', 'coral', 'kaufman', 'wolfe', 'andrei', 'tarkovsky', 'strugatsky', 'zone', 'handcar', 'intellectualness', 'mosfilm', 'arkadi', 'roadside', 'sightsound', 'contemplative', 'incomprehensible', 'boris', 'atlantic', 'comrade', 'convoy', 'destroyer', 'gibraltar', 'periscope', 'realisitc', 'comradery', 'soon', 'betting', 'ragtime', 'sting', 'walston', 'masterpice', 'thirilling', 'entertainer', 'joplin', 'leading', 'grifting', 'planning', 'banjo', 'ashby', 'bud', 'cort', 'braid', 'hearthbreaking', 'dysfunction', 'mackay', 'donovan', 'merritt', 'shelly', 'hartly', 'blacksmith', 'incarnate', 'personify', 'juggler', 'pest', 'ingmar', 'crusader', 'flagellation', 'plague', 'squire', 'certain', 'taste', 'sydow', 'existensialism', 'seek', 'swedish', 'bit', 'personified', 'gunnar', 'fischer', 'fulton', 'mckay', 'chancer', 'forsyth', 'viagem', 'hahaha', 'cheating', 'reanimation', 'sucked', 'miniserie', 'lackluster', 'miitary', 'stoppard', 'absurdist', 'yorkers', 'intellecutal', 'casa', 'historieudvikling', 'dishonor', 'among', 'avorridissima', 'damn', 'fink', 'caspar', 'boil', 'carpe', 'diem', 'preparatory', 'midsummer', 'prep', 'bittesweet', 'hilosophy', 'drain', 'rebelation', 'rite', 'passage', 'stablishment', 'explore', 'path', 'context', 'psychos', 'graduate', 'accusation', 'garfunkel', 'meandering', 'porridge', 'rumour', 'illicit', 'unauthorized', 'dynamite', 'charlton', 'heston', 'pharmacy', 'transcend', 'parillaud', 'kean', 'pows', 'masulinity', 'pow', 'civilization', 'anarchy', 'yank', 'whistle', 'fedelity', 'federico', 'fellini', 'block', 'cinecittà', 'existence', 'kurort', 'scapegoat', 'spectacle', 'marcello', 'mastroianni', 'brunello', 'rondi', 'flaiano', 'tullio', 'pinelli', 'rota', 'anita', 'ekberg', 'glamour', 'barrage', 'chinatown', 'nicolson', 'jakes', 'bluray', 'oedipus', 'mulwray', 'chic', 'mathematical', 'equation', 'pacifism', 'rennie', 'bandit', 'prospector', 'stinkin', 'steenkin', 'dobbs', 'trash', 'ambassador', 'dowager', 'geofiction', 'freedonia', 'chico', 'groucho', 'harpo', 'dumont', 'zeppo', 'humanly', 'possible', 'paperboy', 'savage', 'nightmares', 'caretaker', 'hotelier', 'maze', 'season', 'alcholism', 'transition', 'scatman', 'crothers', 'enclose', 'terrify', 'campfire', 'flip', 'feldman', 'bateman', 'wil', 'wheaton', 'sessao', 'tarde', 'phoneix', 'emetophobes', 'cu', 'wh', 'hike', 'fritz', 'oninous', 'pedofile', 'widmann', 'arno', 'wagner', 'wernicke', 'thea', 'harbou', 'expressionism', 'id', 'beckert', 'dismemberment', 'demonic', 'eyeball', 'meat', 'cleaver', 'recorder', 'tarmac', 'zombified', 'alps', 'barbed', 'claustrophobia', 'machinegun', 'confinement', 'mcqueen', 'barb', 'mccallum', 'viet', 'cong', 'aftermath', 'cimino', 'vilmos', 'zsigmond', 'libelous', 'vietnamese', 'chirstopher', 'chevotarevich', 'deerhunting', 'fourseasons', 'avant', 'baguette', 'cassette', 'citroen', 'traction', 'jigsaw', 'mobillette', 'skate', 'vinyl', 'beineix', 'metro', 'mindfulness', 'zen', 'arthouse', 'deja', 'vu', 'rubin', 'alarm', 'groundhog', 'telecaster', 'warp', 'forecast', 'weatherman', 'wacky', 'grumpy', 'sexualilty', 'sculpt', 'calm', 'metaphysics', 'ontoleptic', 'phil', 'paton', 'grime', 'pickleman', 'lucina', 'paquet', 'marita', 'geraghty', 'roeder', 'repeatable', 'punxsutawney', 'shannon', 'twee', 'englishman', 'mutilation', 'reputation', 'fucking', 'beverley', 'frederick', 'candidate', 'sinatra', 'sliva', 'communists', 'frankenheimer', 'auditorium', 'manchurian', 'vp', 'fully', 'awake', 'hypnotism', 'condon', 'axelrod', 'moyle', 'fcc', 'clownish', 'delorean', 'plutonium', 'lea', 'kinetic', 'incestual', 'inconsistency', 'innovation', 'energize', 'bee', 'tomboy', 'assertion', 'tandy', 'avnet', 'nursing', 'helmet', 'maldin', 'schaffner', 'edmund', 'loftin', 'paull', 'challanges', 'ww', 'bayou', 'pimp', 'roberto', 'benigni', 'lurie', 'megacity', 'stadium', 'superhuman', 'katsuhiro', 'ôtomo', 'disapointing', 'verry', 'dystopie', 'otomo', 'shounen', 'appallingly', 'tomo', 'nonconformity', 'resilience', 'rosenberg', 'communicate', 'assistant', 'cloris', 'leachman', 'madeline', 'marty', 'transylvania', 'incorrectly', 'chauvinist', 'whim', 'helsinki', 'metropolis', 'passenger', 'res', 'altre', 'concubine', 'polygamy', 'anticlimactic', 'inappropriate', 'cue', 'subtitle', 'chaplin', 'adolf', 'socialist', 'barber', 'battlefield', 'walpurgis', 'synesthesia', 'beebe', 'algar', 'handley', 'satterfield', 'hee', 'deem', 'julietta', 'novis', 'leopold', 'stokowski', 'walt', 'parable', 'tick', 'noon', 'wealthy', 'faulkner', 'bacall', 'reshoot', 'bogie', 'clique', 'franka', 'potente', 'amorality', 'conformity', 'chaotic', 'tip', 'croquet', 'didnt', 'sawyer', 'matheson', 'macinac', 'jeannot', 'szwarc', 'soudtrack', 'chariot', 'galley', 'nra', 'mgm', 'yes', 'amplifier', 'groupie', 'christoper', 'rockumentary', 'anjel', 'carvey', 'drescher', 'shaffer', 'pod', 'docventures', 'qatsi', 'lapse', 'reggio', 'essay', 'experimental', 'drummer', 'entrapment', 'templar', 'panzer', 'doody', 'pure', 'airships', 'zeppelin', 'nostalia', 'policy', 'organisation', 'importance', 'savvy', 'connectedness', 'subtle', 'gardener', 'biltmore', 'insurrection', 'apartheid', 'conference', 'demonstration', 'hindu', 'hunger', 'muslim', 'nonviolent', 'prayer', 'protest', 'insipiring', 'gandhi', 'nonviolence', 'mahatma', 'ghandi', 'kingsly', 'candice', 'cinamatic', 'pact', 'milan', 'kundera', 'spring', 'aimlessness', 'instant', 'forster', 'romace', 'judi', 'dench', 'graf', 'usaf', 'cal', 'insight', 'gravy', 'stain', 'underated', 'playground', 'traumatic', 'trippy', 'pol', 'pulitzer', 'khmer', 'indochina', 'watterston', 'joffé', 'extinct', 'invisible', 'enhancement', 'wilcox', 'pastiche', 'cornfield', 'pta', 'raj', 'coronation', 'ruler', 'afghanistan', 'caine', 'masonic', 'exploration', 'freemason', 'warlord', 'bolivia', 'posse', 'slice', 'wanderlust', 'nastassja', 'kinski', 'platonic', 'quintessential', 'weihnachtsfilm', 'frustrate', 'admit', 'friendzone', 'grunge', 'daydream', 'lipstick', 'mastercard', 'peony', 'rope', 'tightrope', 'streitfeld', 'vaudeville', 'landing', 'furnace', 'impregnation', 'penal', 'rottweiler', 'shave', 'suspend', 'potential', 'troubled', 'productiondesign', 'wasted', 'intensive', 'agutter', 'nightingale', 'stronger', 'naughton', 'amityville', 'arrivision', 'dollhouse', 'exorcism', 'brolin', 'exorcist', 'ground', 'article', 'dwelling', 'fireplace', 'tarantula', 'likeable', 'udo', 'kier', 'margheriti', 'morrissey', 'kuveiller', 'april', 'canuxploitation', 'elimination', 'derby', 'kemper', 'lovebird', 'schoolhouse', 'schoolteacher', 'seagull', 'seclusion', 'shopkeeper', 'unsolved', 'whatever', 'tippi', 'hedren', 'raven', 'pleshette', 'cartright', 'blob', 'eater', 'skeptical', 'unkillable', 'yeaworth', 'troma', 'fahey', 'delaney', 'snatch', 'profession', 'correspondence', 'vlad', 'fdsffsd', 'monica', 'bellucci', 'sadie', 'frost', 'relief', 'multifaceted', 'universal', 'karloff', 'elsa', 'lanchester', 'colin', 'thesiger', 'valerie', 'hobson', 'housing', 'project', 'inconsistent', 'grimy', 'haphazard', 'unintentional', 'grotty', 'burnt', 'delivers', 'seriously', 'mitchum', 'firestorm', 'felt', 'sissy', 'spacek', 'piper', 'climactic', 'menstruation', 'irving', 'buckley', 'dissection', 'lingerie', 'boiler', 'crueger', 'intersting', 'ghoul', 'locket', 'nosferatu', 'romania', 'seashore', 'download', 'expresionismo', 'aleman', 'murnau', 'schreck', 'klaus', 'antichrist', 'baboon', 'remick', 'mckern', 'columbia', 'barbra', 'streisand', 'watson', 'lars', 'trier', 'excommunication', 'platform', 'paraplegic', 'coercion', 'delusional', 'asmussen', 'mcneill', 'watchman', 'borg', 'federation', 'starfleet', 'several', 'emh', 'picardo', 'jumping', 'rachmaninoff', 'shine', 'jews', 'allowance', 'astrology', 'element', 'sardi', 'cognitive', 'thorton', 'dwight', 'yoakam', 'turboman', 'consumerism', 'michelangelo', 'antonioni', 'berlinger', 'satanism', 'vance', 'hines', 'jenifer', 'loretta', 'devine', 'whitney', 'petter', 'moland', 'drainage', 'powder', 'leconte', 'salem', 'gleason', 'puritanism', 'witchhunt', 'dalmatian', 'dalmations', 'glen', 'dr', 'joely', 'commando', 'involve', 'shooting', 'snowmobile', 'motherf', 'cker', 'cargo', 'handle', 'facility', 'klingon', 'us', 'vulcan', 'deforest', 'nimoy', 'spock', 'spinoff', 'rura', 'penthe', 'eidelman', 'tu', 'herr', 'doktor', 'heil', 'confront', 'fond', 'nimble', 'teamwork', 'cattrall', 'dorn', 'klingons', 'doohan', 'nichelle', 'koenig', 'romulans', 'deforrest', 'takei', 'intruder', 'goog', 'ceti', 'genesis', 'radiation', 'simulator', 'reliant', 'kaaaaaaaaaaaaaaahn', 'ricardo', 'montalban', 'khan', 'biologist', 'rosenman', 'cv', 'thrilled', 'montgomery', 'scotty', 'hicks', 'deform', 'catwoman', 'rehash', 'fusco', 'casey', 'siemaszko', 'semler', 'knepper', 'ruck', 'peterson', 'rally', 'dropout', 'predictabile', 'unrelated', 'sullivan', 'battleship', 'erika', 'eleniak', 'whaler', 'ferry', 'shark', 'dip', 'bigger', 'fischhorror', 'tierhorror', 'scariest', 'amity', 'bur', 'kramer', 'tourism', 'tourists', 'scream', 'agency', 'nsa', 'sable', 'cataclysm', 'domination', 'require', 'extremist', 'gooding', 'goal', 'achievement', 'athlets', 'ay', 'hello', 'rugby', 'infertility', 'redneck', 'vendetta', 'salesperson', 'hacking', 'strathairn', 'poitier', 'cryptography', 'phreaking', 'hemmingway', 'premarital', 'marrow', 'leukemia', 'caregiver', 'estrangement', 'cronyn', 'activist', 'woods', 'nypd', 'sun', 'mtv', 'idiotic', 'immature', 'mcgowan', 'tabloid', 'referential', 'ghostface', 'fennimore', 'hawkeye', 'colonialist', 'jodhi', 'transcendentialist', 'pastorelli', 'denmark', 'derek', 'jacobi', 'gravedigger', 'gillen', 'starting', 'tub', 'argentine', 'dancehall', 'hostess', 'deification', 'perónism', 'weber', 'buenos', 'che', 'guevara', 'guess', 'mucic', 'pairing', 'geologist', 'roeg', 'lerner', 'alda', 'ziman', 'retribution', 'turbulence', 'rymer', 'ub', 'recommend', 'persuasion', 'gainsbourg', 'mcewan', 'birkin', 'county', 'evacuation', 'lava', 'rowboat', 'seismograph', 'volcanic', 'ash', 'eruption', 'volcanologist', 'utter', 'jeremiah', 'chechik', 'lighthearted', 'jar', 'leto', 'grier', 'spicer', 'crematorium', 'czech', 'fictitious', 'instability', 'trabant', 'arranged', 'spin', 'violin', 'sverák', 'withdrawal', 'dairy', 'improvisation', 'licensing', 'whisper', 'willard', 'posey', 'sergey', 'bodrov', 'beautician', 'dalton', 'potus', 'kessler', 'ducsay', 'elisa', 'bloodthirstiness', 'housebreak', 'vicious', 'recursive', 'nine', 'inch', 'lynchianoir', 'informant', 'counselor', 'sure', 'mol', 'colombian', 'arrest', 'pervasive', 'slur', 'weightlift', 'pollack', 'retire', 'paternity', 'erection', 'arctic', 'copenhagen', 'inuit', 'greenland', 'antarctica', 'bille', 'august', 'barrytown', 'fetishism', 'simulation', 'koteas', 'cronenberg', 'distort', 'objectification', 'sadomasochistic', 'vapid', 'aimless', 'distorted', 'ramble', 'rooftop', 'snarky', 'mottola', 'lively', 'misadventures', 'blooper', 'reel', 'valehtelija', 'rather', 'exhaust', 'po', 'mildly', 'bustier', 'elopement', 'tejano', 'anthropomorphism', 'furry', 'showbiz', 'irreverence', 'text', 'tolstoy', 'hark', 'tsui', 'anaconda', 'mateo', 'safari', 'rekindle', 'arkin', 'armitage', 'pen', 'belivability', 'necrophilia', 'rigid', 'rigor', 'reminiscent', 'comeau', 'mangano', 'schulman', 'louiso', 'singapore', 'cate', 'blanchett', 'ehle', 'pauline', 'bangin', 'yer', 'sichel', 'leisha', 'hailey', 'blah', 'caucasus', 'gourmet', 'nana', 'dzhordzhadze', 'cafeteria', 'ruse', 'kudrow', 'mirkin', 'stalin', 'vodka', 'judo', 'penthouse', 'trapdoor', 'pun', 'supervillain', 'hurley', 'roach', 'cheezy', 'ferrell', 'spying', 'kohtuu', 'donut', 'extortion', 'trucker', 'mostow', 'thunderstorm', 'taplitz', 'colorful', 'least', 'month', 'rhythmic', 'liner', 'platitude', 'pathetic', 'grandstand', 'charactor', 'autowash', 'guyuy', 'br', 'inspired', 'interesing', 'genious', 'moebius', 'multipass', 'argumengt', 'retrofuture', 'sarcastic', 'subplot', 'erland', 'yesterday', 'cod', 'inter', 'araki', 'dardenne', 'agnès', 'varda', 'renoir', 'mantello', 'kôji', 'yakusho', 'masayuki', 'suo', 'obscura', 'preston', 'karyo', 'brass', 'herman', 'diego', 'velociraptor', 'unmemorable', 'arliss', 'bereavement', 'doillon', 'dentist', 'exterminator', 'shaman', 'steen', 'richards', 'dea', 'chapelle', 'bruckheimer', 'distructive', 'aeroplane', 'calligraphy', 'ewe', 'sausage', 'mchoody', 'typography', 'laetitia', 'masson', 'collision', 'takeover', 'nonsensical', 'misunderstand', 'elle', 'macpherson', 'batgirl', 'tacky', 'hades', 'hercules', 'olympus', 'bolton', 'misinformation', 'bosco', 'preparation', 'useless', 'comiskey', 'cédric', 'klapisch', 'capri', 'european', 'piccoli', 'wig', 'bootytastic', 'odyssey', 'arch', 'choreographed', 'choreograph', 'supermodel', 'elderly', 'rug', 'mohsen', 'makhmalbaf', 'gatlif', 'deportation', 'stay', 'permit', 'fuuny', 'whacky', 'northcutt', 'sagan', 'mechanical', 'aricebo', 'scorocco', 'nm', 'exist', 'overtly', 'ideological', 'superficial', 'jena', 'blunt', 'logically', 'reconnaissance', 'enpowering', 'barbarian', 'crom', 'sandahl', 'kuningas', 'weisman', 'center', 'mangold', 'movieplex', 'derelict', 'signal', 'hellgate', 'pychologically', 'pretensious', 'nasty', 'guide', 'pwned', 'dippé', 'horruible', 'retriever', 'cynicisim', 'eckhart', 'labute', 'newsletter', 'target', 'helgeland', 'smarter', 'enervate', 'freeway', 'propane', 'marcia', 'harden', 'klass', 'roundtree', 'superman', 'felner', 'curious', 'dutch', 'duke', 'nest', 'friendships', 'ratner', 'trunk', 'sorbo', 'planetary', 'configuration', 'ultimatum', 'actionpacked', 'jingoistic', 'murican', 'incredibly', 'arroyave', 'lobo', 'sebastian', 'defection', 'hungary', 'blueback', 'thr', 'pathos', 'stellan', 'skarsgard', 'technothriller', 'gu', 'sant', 'narcolepsy', 'portland', 'gus', 'vitale', 'grizzly', 'aleksandr', 'baluyev', 'werntz', 'haynie', 'iures', 'batinkoff', 'medvesek', 'mimi', 'leder', 'bandage', 'falsify', 'rollo', 'tomasie', 'tomasii', 'dishonesty', 'dalai', 'lama', 'lhasa', 'adventureous', 'eastern', 'annaud', 'climbing', 'fleder', 'unity', 'careful', 'beware', 'reassurance', 'granting', 'jawbreaker', 'literal', 'kurtzman', 'wishmaster', 'silvia', 'limit', 'payoff', 'savides', 'gamification', 'micheal', 'kara', 'unger', 'privacy', 'toxic', 'félix', 'enríquez', 'alcalá', 'hagerty', 'misadventure', 'boothe', 'overdone', 'beekeeper', 'orlando', 'connecticut', 'tobey', 'maguire', 'ambivalence', 'antireligious', 'joey', 'adams', 'repossession', 'cattaneo', 'working', 'addy', 'rrobert', 'madden', 'disraeli', 'victoria', 'pageant', 'overshown', 'gellar', 'gillespie', 'freddie', 'prinze', 'lucifer', 'homo', 'blaspheme', 'lemkin', 'ivey', 'gilroy', 'gillard', 'topiary', 'moles', 'shrubbery', 'heiress', 'spinster', 'tribute', 'selection', 'biotechnology', 'sample', 'eugenics', 'predictive', 'brave', 'fabian', 'niccol', 'thruman', 'survellience', 'voiceover', 'flawless', 'homages', 'uneventful', 'película', 'culto', 'ukraine', 'heaven', 'misguide', 'superstition', 'kasi', 'streampix', 'profanity', 'elite', 'artwork', 'damage', 'host', 'enlish', 'cleaner', 'tango', 'aire', 'bosnian', 'sarajevo', 'winterbottom', 'textile', 'proof', 'ha', 'millors', 'kay', 'rourke', 'teresa', 'typical', 'litigation', 'porno', 'unfocused', 'scattershot', 'biografia', 'dun', 'tipica', 'making', 'pt', 'raise', 'lukas', 'intercultural', 'rembrandt', 'hurry', 'denise', 'derivative', 'dooling', 'schwartz', 'matrilinial', 'flagranti', 'marketing', 'howitt', 'sheeva', 'leonetti', 'simulate', 'smalltown', 'constitution', 'individuality', 'phobias', 'philosphy', 'crapsaccharine', 'bastard', 'immoral', 'fatuous', 'tspdt', 'oversee', 'gnosticism', 'natascha', 'mcelhone', 'orginal', 'iain', 'softley', 'rampling', 'merchant', 'bradley', 'whitford', 'byron', 'ling', 'bai', 'assasin', 'mofia', 'tzar', 'rasputin', 'dreamworks', 'puka', 'milieu', 'farcical', 'amiel', 'breed', 'disembowelment', 'decompression', 'impalement', 'presence', 'matricide', 'motherhood', 'tall', 'seafaring', 'abolitionism', 'apostle', 'pentecostal', 'awsome', 'teatral', 'desperately', 'mathias', 'slime', 'mayfield', 'devoutness', 'parish', 'math', 'combinatorics', 'mit', 'deserve', 'conciousness', 'autodidact', 'dem', 'courageous', 'frienship', 'magnificent', 'romanc', 'technical', 'raja', 'gosnell', 'irma', 'auctioneer', 'string', 'verbinski', 'rifkin', 'phedon', 'papamichael', 'copycat', 'vehicular', 'polley', 'sosa', 'pied', 'hamelin', 'reptile', 'iceberg', 'salvage', 'steerage', 'titanic', 'atmospheirc', 'sink', 'americanise', 'inside', 'iceburg', 'muito', 'tolkien', 'lyon', 'friedenberg', 'brin', 'larenz', 'tate', 'whisperer', 'hagiography', 'bluff', 'romp', 'swearing', 'girls', 'unsympathetic', 'chandleresque', 'stormare', 'lebowski', 'sorrentino', 'huddleston', 'abide', 'bizzare', 'pornographer', 'urination', 'montreal', 'belgium', 'berliner', 'telecine', 'hilariously', 'hulk', 'loni', 'jamaican', 'darin', 'firefighter', 'howie', 'fireman', 'albania', 'adviser', 'conspiratory', 'frightfully', 'suzie', 'plakson', 'willie', 'henkin', 'beinhart', 'retrofuturism', 'speculative', 'rufus', 'sewell', 'sway', 'manipulate', 'sens', 'unsatisfying', 'metaphorical', 'rehearsal', 'cybersuit', 'meteor', 'manny', 'coto', 'dann', 'florek', 'mikael', 'salomon', 'rolston', 'goorjian', 'murnik', 'dysart', 'ricky', 'breuer', 'attention', 'autopsy', 'symbol', 'detach', 'accomplice', 'selective', 'mutism', 'brazilian', 'barreto', 'spice', 'embarassed', 'cumming', 'spiers', 'usage', 'sokurov', 'replacement', 'uzi', 'ferrer', 'posehn', 'stink', 'coraci', 'idol', 'floor', 'buildup', 'grood', 'fowl', 'aspirin', 'statue', 'abel', 'ferrara', 'kari', 'skogland', 'kwietniowski', 'jorfe', 'fons', 'nex', 'surfboard', 'surfer', 'everest', 'breashears', 'bastille', 'xiv', 'versailles', 'cheerleader', 'everglades', 'theresa', 'baskeball', 'yakuza', 'decease', 'bush', 'anonymous', 'klein', 'pharmacist', 'tourette', 'epilepsy', 'realization', 'shyamalan', 'infatuation', 'sclerosis', 'analingus', 'loft', 'bon', 'jovi', 'robyn', 'aj', 'langer', 'ashton', 'walker', 'wormer', 'dominatrix', 'ohio', 'explorer', 'leblanc', 'chabert', 'bangkok', 'speak', 'pidgeon', 'premise', 'wannabe', 'interspecies', 'chloe', 'mackenzie', 'keeslar', 'waltz', 'riehle', 'vin', 'diesel', 'begnadigung', 'sherlock', 'holmes', 'underclass', 'household', 'miniature', 'viking', 'tiresome', 'smithee', 'sketchy', 'anthropology', 'circumcision', 'hoax', 'lecture', 'guinea', 'papua', 'embryo', 'omfg', 'konspirisy', 'nirvana', 'sammo', 'iranian', 'nihilistic', 'abbas', 'kiarostami', 'intresting', 'drunkeness', 'reading', 'conception', 'lazard', 'jackpot', 'slot', 'gondola', 'paparazzi', 'kosher', 'coolness', 'tarzan', 'burroughs', 'translator', 'poledouris', 'rafael', 'yglesias', 'tsunami', 'leelee', 'sobieski', 'catastrophy', 'macisaac', 'fascination', 'lawnmower', 'duigan', 'twitch', 'godzilla', 'kaiju', 'lizard', 'zilla', 'liberal', 'exceptionally', 'corvette', 'stingray', 'gibberish', 'gonzo', 'grapefruit', 'chapel', 'roos', 'maul', 'pond', 'telegram', 'connick', 'nordic', 'clothe', 'occupational', 'erik', 'skjoldbjærg', 'abstract', 'suchet', 'potato', 'clarinet', 'conservatory', 'translation', 'link', 'overleven', 'flic', 'seth', 'kaplan', 'elfont', 'segel', 'ambrose', 'manilow', 'korsmo', 'melissa', 'selma', 'intern', 'lisbeen', 'cholodenko', 'lesbien', 'sheedy', 'radha', 'mitchell', 'duong', 'napoleon', 'iran', 'majid', 'majidi', 'siblings', 'substitute', 'standard', 'cricket', 'homeland', 'aguilera', 'performs', 'wen', 'salonga', 'donny', 'osmond', 'bd', 'hun', 'protestant', 'ovine', 'organization', 'locust', 'metaphyiscs', 'turd', 'purse', 'headmistress', 'lesbianism', 'schuler', 'morse', 'jacki', 'vallis', 'lovell', 'robson', 'kirsty', 'olga', 'dickie', 'vivean', 'opaque', 'eyre', 'manoel', 'oliveira', 'gallo', 'anxiety', 'prog', 'progressive', 'underestimate', 'aerosmith', 'pseudoscience', 'soundscore', 'meteorite', 'obliterated', 'lapd', 'kinder', 'judaism', 'numerology', 'helix', 'migraine', 'darren', 'aronofsky', 'pseudomathematics', 'pattern', 'sacred', 'geometry', 'snorricam', 'frisbee', 'taboo', 'troubadour', 'hella', 'brothers', 'dumbest', 'semen', 'tambor', 'manic', 'pixie', 'romcom', 'markie', 'tombstone', 'bela', 'minute', 'anymore', 'realy', 'wellman', 'clara', 'beaumont', 'disillusion', 'lucy', 'beryl', 'mercer', 'wray', 'lew', 'ayres', 'wolheim', 'summerville', 'heinz', 'roemheld', 'remarque', 'abbott', 'goulding', 'baron', 'dachshund', 'flirtation', 'stenographer', 'decor', 'spare', 'wronger', 'noel', 'coward', 'flog', 'tahiti', 'tyrant', 'voyage', 'laughton', 'ziegfeld', 'sandow', 'folly', 'dieterle', 'monopoly', 'rhondda', 'bombing', 'dunkirk', 'patrol', 'greer', 'garson', 'whitty', 'roses', 'bing', 'crosby', 'tremens', 'devote', 'esteem', 'weekend', 'doris', 'fredric', 'veterans', 'mackinlay', 'kantor', 'sherwood', 'gentile', 'liberalism', 'rossen', 'cecil', 'demille', 'dock', 'longshoreman', 'pigeon', 'henning', 'steiger', 'malloy', 'delbert', 'lift', 'sondheim', 'romeo', 'juliet', 'jerome', 'divide', 'late', 'overage', 'bernstein', 'bawdy', 'beheading', 'viii', 'oath', 'learning', 'eira', 'heath', 'urquhart', 'susannah', 'yootha', 'joyce', 'reformation', 'suspect', 'virgil', 'tibbs', 'pickpocket', 'secombe', 'lester', 'shani', 'wallis', 'incestuous', 'naivety', 'texan', 'beautie', 'vaccaro', 'sylvia', 'ratso', 'rizzo', 'herion', 'marseille', 'fernando', 'rey', 'farber', 'publicity', 'avildsen', 'letizia', 'silvester', 'bicentennial', 'pennsyvania', 'shyness', 'selfishness', 'hutton', 'il', 'hirsch', 'athletics', 'olympian', 'praline', 'apex', 'wring', 'mcmurtry', 'nebraska', 'danish', 'nairobi', 'syphilis', 'brandauer', 'malick', 'bowens', 'dynasty', 'manchuria', 'reeducation', 'qing', 'zhun', 'egocentrism', 'savant', 'molen', 'murdock', 'dustinhoffman', 'beresford', 'jinx', 'audio', 'perversity', 'bree', 'rocker', 'macguffin', 'redefine', 'repo', 'nomination', 'carolyn', 'farina', 'hundley', 'dialouge', 'se', 'hvad', 'gik', 'slasker', 'slutningen', 'add', 'rym', 'labyrinth', 'froud', 'henson', 'duendes', 'gnomos', 'laberinto', 'musica', 'ultra', 'tales', 'tardy', 'bratpack', 'kapelos', 'confusion', 'premonition', 'spontaneous', 'combustion', 'fishburn', 'psychotherapist', 'talented', 'hypnotherapy', 'orderly', 'longer', 'asthma', 'hassel', 'insects', 'fetus', 'womb', 'cartoonist', 'electronics', 'motorbike', 'overeat', 'rebirth', 'roseanne', 'barr', 'anaglyphic', 'vorhees', 'pov', 'betsy', 'palmer', 'brisbane', 'camping', 'thirteenth', 'voorhees', 'retconned', 'kane', 'hodder', 'sewerage', 'square', 'teleport', 'psychopathic', 'cypher', 'kyes', 'illi', 'sol', 'rosenthal', 'curfew', 'stonehenge', 'hallows', 'jingle', 'murderous', 'mislead', 'paganism', 'atkins', 'october', 'boogeyman', 'pitchfork', 'scythe', 'axe', 'ferreira', 'chucky', 'chuckie', 'faithlessness', 'lafia', 'osha', 'compliance', 'ghostbuster', 'frightening', 'tobe', 'hooper', 'jobeth', 'zelda', 'rubenstein', 'ouija', 'taut', 'unscary', 'effective', 'atomspheric', 'blatty', 'posession', 'examination', 'kitty', 'winn', 'karras', 'recklessness', 'verbal', 'byplay', 'clapton', 'kamen', 'goldblatt', 'turmoil', 'diplomatic', 'immunity', 'boam', 'marvin', 'patsy', 'kensit', 'gremlin', 'sunlight', 'ymca', 'gizmo', 'sake', 'rampage', 'amblin', 'puppen', 'phoebe', 'cates', 'cleverness', 'zach', 'galligan', 'foreclosure', 'henchman', 'plank', 'slide', 'truffle', 'shuffle', 'ugh', 'loud', 'stereotypical', 'mt', 'childern', 'cyndi', 'lauper', 'kerri', 'plimpton', 'julio', 'mechoso', 'chinlund', 'antinio', 'totalitarian', 'overpopulation', 'greenberg', 'reaganomics', 'charleton', 'cautionary', 'funky', 'malthusianism', 'depravity', 'downtrodden', 'prophet', 'saviour', 'babel', 'progress', 'marxist', 'brigitte', 'helm', 'elitist', 'luddite', 'almanac', 'hoverboard', 'simultaneously', 'stepfather', 'strongest', 'tolkan', 'seqeul', 'territory', 'celluloid', 'seaquake', 'neame', 'lynley', 'pamela', 'marti', 'mindedness', 'flubber', 'donohue', 'salten', 'wronged', 'loot', 'practice', 'shimura', 'triumph', 'kneel', 'courtly', 'cynic', 'liaison', 'maneuvering', 'underaged', 'impecable', 'choderlos', 'laclos', 'hampton', 'denunciation', 'guild', 'jihad', 'messiah', 'herbert', 'witt', 'francesca', 'annis', 'dino', 'delaurentis', 'sian', 'virgina', 'homophobic', 'mcmillan', 'rushed', 'magdalene', 'nikos', 'kazantzakis', 'última', 'tentação', 'cristo', 'vatican', 'armageddon', 'conversion', 'rapture', 'nymphette', 'zola', 'swain', 'twenty', 'twelve', 'nymphet', 'nutter', 'emigrant', 'glorification', 'omaha', 'waffen', 'enormously', 'americanizado', 'rodat', 'fellowship', 'coreagous', 'dra', 'jingoism', 'hdtv', 'fillion', 'hayes', 'taran', 'wanderer', 'recycle', 'technirama', 'cleavage', 'ripoff', 'maximilian', 'schell', 'envellit', 'serie', 'wainwright', 'cheetah', 'rhinoceros', 'globetrotting', 'carsten', 'norgaard', 'erbe', 'puck', 'leprechaun', 'escapist', 'upton', 'sinclair', 'overconfident', 'michener', 'ratigan', 'barrie', 'ingham', 'wit', 'unapologetically', 'grimoire', 'potion', 'spellcasting', 'najimy', 'ortega', 'funn', 'omri', 'katz', 'vinessa', 'infant', 'biene', 'shrink', 'oldskool', 'afternoon', 'shrinking', 'condor', 'markle', 'negotiator', 'demonaco', 'vinyeard', 'lohan', 'elaine', 'hendrix', 'meyers', 'seem', 'irrealistic', 'napa', 'valley', 'athlete', 'driveway', 'sportscaster', 'tequila', 'trey', 'dian', 'bachar', 'prop', 'kleptomania', 'marital', 'economics', 'critique', 'auto', 'layoffs', 'nenhum', 'suppress', 'tourneur', 'rhonda', 'mainwaring', 'bolshevik', 'christie', 'pasternak', 'ewa', 'fröling', 'malmsjö', 'jarl', 'kulle', 'nykvist', 'ismael', 'retzinsky', 'metaphysical', 'mini', 'senior', 'citizen', 'peice', 'baptist', 'sledge', 'spottiswoode', 'concerned', 'shilts', 'madman', 'dusty', 'skydive', 'liliana', 'cavani', 'istván', 'szabó', 'looooooooong', 'unintresting', 'rosselini', 'uningaging', 'attempted', 'freight', 'kagan', 'chldren', 'necessity', 'orangatang', 'drift', 'misunderstanding', 'bargain', 'mermaid', 'ursula', 'unfortunate', 'sportsmanship', 'migration', 'josef', 'sommer', 'ackland', 'mummy', 'belafsky', 'casella', 'oversimplification', 'gerson', 'bauer', 'turt', 'villainess', 'cruella', 'vil', 'mr', 'smeee', 'conried', 'driscoll', 'politically', 'incorrect', 'fairie', 'tinker', 'crocodile', 'spinach', 'dooley', 'libertini', 'eagle', 'ryen', 'newhart', 'gabor', 'tristan', 'jeanette', 'nolan', 'buttram', 'lounsbery', 'collaborator', 'elwood', 'dungeon', 'faries', 'autumn', 'sideshow', 'spider', 'bradbury', 'harve', 'yet', 'mermaids', 'darryl', 'cheerful', 'hinton', 'boxleitner', 'whaley', 'lindy', 'seventeen', 'josh', 'hartnett', 'meteorology', 'forecaster', 'neominstrelsy', 'sharecropper', 'bernadette', 'navin', 'kathleen', 'kindness', 'mugger', 'ponyboy', 'macchio', 'conveyor', 'tomb', 'amrish', 'ke', 'quan', 'capshaw', 'roshan', 'timey', 'intentionally', 'orientalist', 'hobbit', 'bakshi', 'tolkein', 'orwellian', 'authoritarianism', 'subversive', 'suzanna', 'bloodthirsty', 'assasination', 'deterioration', 'entropy', 'limp', 'brooke', 'colleen', 'dewhurst', 'lom', 'arcade', 'automation', 'gasoline', 'inanimate', 'lorry', 'sentient', 'yeardley', 'malice', 'meier', 'valri', 'bromfield', 'rabid', 'rabies', 'teague', 'kuenster', 'bluth', 'bermuda', 'conjoin', 'motif', 'macarbe', 'belong', 'throwaway', 'vinci', 'awww', 'previsible', 'genoa', 'monastery', 'stepsister', 'dougray', 'grimm', 'carla', 'gugino', 'rosh', 'hashanah', 'safecracker', 'flung', 'lemon', 'invalid', 'sincerity', 'campus', 'sandy', 'expressway', 'frat', 'stitch', 'suburbanite', 'mishap', 'biker', 'lebrock', 'adaptedinto', 'katie', 'snail', 'newley', 'lofting', 'parrish', 'towel', 'spiderweb', 'runt', 'pom', 'poko', 'raccoon', 'heisei', 'tanuki', 'gassen', 'pompoko', 'naturalistic', 'rosen', 'anthropomorphic', 'owl', 'mythical', 'balance', 'uncanny', 'hanukah', 'pogrom', 'fievel', 'nibbelink', 'unicorns', 'horn', 'tangerine', 'idealistic', 'mysoginistic', 'dorks', 'origin', 'slumber', 'potts', 'cryer', 'preppie', 'admirer', 'caveman', 'neanderthal', 'stavin', 'moll', 'katt', 'wiley', 'aztec', 'botswana', 'bushman', 'kalahari', 'uys', 'suggest', 'avenger', 'izzard', 'nomad', 'mcnaughton', 'rooker', 'satanic', 'lucky', 'komeda', 'cathol', 'blackmer', 'yamaha', 'fantazy', 'gnome', 'barret', 'empress', 'ende', 'hathaway', 'tami', 'stronach', 'sphinx', 'atreyu', 'synth', 'adulthood', 'limahl', 'turtle', 'aggression', 'vegetable', 'tomatoes', 'bello', 'mancina', 'marvel', 'headquarters', 'norrington', 'goyer', 'chosen', 'bromance', 'cohn', 'violinist', 'proft', 'cumbria', 'calypso', 'property', 'beetlejuice', 'wynona', 'ruby', 'jaglom', 'banquet', 'footlocker', 'strangle', 'seamless', 'laurents', 'refer', 'rhps', 'gimmicky', 'spiritualist', 'cathleen', 'nesbitt', 'atwater', 'helmond', 'marge', 'redmond', 'necktie', 'sack', 'whitelaw', 'stafford', 'fidel', 'castro', 'bunch', 'gabel', 'milton', 'selzer', 'presson', 'kleptomaniac', 'cymbal', 'frenchman', 'physician', 'banzie', 'civilian', 'hermann', 'marrakech', 'revolves', 'blackmailer', 'quebec', 'rectory', 'confessional', 'robart', 'highsmith', 'alastair', 'sim', 'crowd', 'doo', 'wop', 'warwick', 'forgotten', 'joanne', 'whalley', 'capone', 'tamper', 'untouchable', 'gansters', 'depalma', 'norm', 'saget', 'freighter', 'fundraiser', 'server', 'lifeboat', 'steward', 'inflated', 'gode', 'sceancer', 'strangler', 'survey', 'hobby', 'dread', 'cornish', 'magistrate', 'cutthroat', 'plunder', 'concussion', 'magician', 'charter', 'caldicott', 'lockwood', 'pilbeam', 'saboteur', 'clue', 'sharpshoot', 'worship', 'fullscreen', 'stolen', 'blackface', 'coastal', 'deemster', 'isle', 'disgrace', 'seafarer', 'headmaster', 'misfortune', 'pay', 'punish', 'ivor', 'novello', 'gain', 'holdem', 'absorb', 'psychologial', 'hewlett', 'vincenzo', 'natali', 'kammerspiel', 'induce', 'vomitting', 'bizar', 'grimaldi', 'towne', 'crudup', 'unfulfilled', 'naples', 'dilemnas', 'romnce', 'demolition', 'moderator', 'anchor', 'dialogs', 'feminisim', 'ingenue', 'aide', 'antiheroine', 'kickboxer', 'ione', 'skye', 'dobbler', 'seet', 'tacoma', 'programme', 'stereovision', 'bobcat', 'goldthwait', 'softball', 'verse', 'schultz', 'clifford', 'capsule', 'dzundza', 'corp', 'guantanamo', 'corps', 'jag', 'fdbdshgfhv', 'conspriacy', 'shortage', 'detox', 'absurdity', 'consul', 'rose', 'turbo', 'dweeb', 'focals', 'retarded', 'southwest', 'adopt', 'audi', 'cellular', 'trace', 'blank', 'enhances', 'gayheart', 'shekhar', 'kapur', 'prix', 'manchu', 'wilhelm', 'weldon', 'norwegian', 'shift', 'solipsism', 'intersubjectivity', 'changer', 'arktis', 'russel', 'antartica', 'mogul', 'kino', 'homogeneity', 'unwashed', 'scissorhands', 'conte', 'manipulative', 'darnell', 'weitz', 'kattan', 'hedaya', 'grieco', 'emiliooooo', 'mendes', 'paradise', 'braun', 'sdfsdfsdfsdfsdfsdf', 'julius', 'caesar', 'marisa', 'tormei', 'lynn', 'nashville', 'levin', 'guru', 'poliice', 'testament', 'stefan', 'ruzowitzky', 'defect', 'armor', 'successor', 'keir', 'dullea', 'bg', 'randa', 'haines', 'marlee', 'matlin', 'curiosity', 'dignity', 'abjection', 'merrick', 'route', 'ronny', 'yu', 'aiden', 'tonally', 'evan', 'dissociation', 'hedonist', 'normality', 'unsociable', 'repulsive', 'afterwards', 'dissonance', 'deviant', 'renfro', 'telefilm', 'vagrant', 'repairman', 'macguire', 'horribley', 'marvelous', 'consciousness', 'bookshop', 'charade', 'maintain', 'illusion', 'aktion', 'cerami', 'cutesy', 'mormon', 'gargoyle', 'relic', 'slayer', 'mentality', 'nazism', 'awsom', 'thuggery', 'skinheads', 'onesided', 'fuckoff', 'neonazis', 'pickup', 'bindler', 'dmx', 'hype', 'taral', 'tionne', 'watkins', 'mckellan', 'menno', 'meyjes', 'rendition', 'prescient', 'ridicule', 'wrinkler', 'empower', 'sequelto', 'doorstep', 'feather', 'glam', 'rhys', 'rococo', 'bahamas', 'mekhi', 'phifer', 'brandy', 'norwood', 'startling', 'forlani', 'chiropractor', 'naked', 'wrestling', 'konchalovsky', 'andrey', 'konchalovskiy', 'heffner', 'mornay', 'djordje', 'milicevic', 'bunker', 'hideo', 'oguni', 'zindel', 'ryûzô', 'kikushima', 'corr', 'housewives', 'bassist', 'ceiling', 'pistols', 'sid', 'bio', 'giulietta', 'masina', 'hypnotist', 'starshrine', 'ostia', 'railway', 'shrine', 'starve', 'cabria', 'neorealism', 'remembrance', 'drugdealers', 'hideout', 'wiretap', 'valtion', 'vihollinen', 'nopt', 'bullplop', 'touchstone', 'igor', 'kovalyov', 'nickelodeon', 'antz', 'exzentrik', 'fernanda', 'montenegro', 'literacy', 'salles', 'monotonous', 'atrocity', 'serbian', 'predrag', 'antonijevic', 'kosovo', 'legion', 'lenght', 'already', 'thomsen', 'dogme', 'methaphoric', 'unexcitig', 'unexciting', 'vinterberg', 'disfunctional', 'hyperrealistic', 'gutwrenching', 'voto', 'castidade', 'excrement', 'anus', 'oral', 'pubic', 'sleaze', 'coprophagia', 'divine', 'massey', 'filth', 'ishirô', 'honda', 'akihiko', 'hirata', 'takarada', 'toho', 'gojira', 'primitive', 'schoedsack', 'merian', 'onto', 'cabot', 'reicher', 'brody', 'wtc', 'grodin', 'hearts', 'rainforest', 'deforestation', 'jaguar', 'masculine', 'cabana', 'fletch', 'talisman', 'ownership', 'ascot', 'dope', 'engine', 'microchip', 'pipeline', 'racehorse', 'silicon', 'llewelyn', 'lois', 'airship', 'smythe', 'tanya', 'contagion', 'mathilda', 'vampiric', 'winslow', 'guttenberg', 'dormitory', 'gaynes', 'commandant', 'kinsey', 'metrano', 'easterbrook', 'ramsey', 'kazurinsky', 'myerson', 'piggy', 'piglet', 'babe', 'scirpt', 'lesnie', 'hamburger', 'berg', 'abhorrent', 'ferzan', 'ozpetek', 'psychosis', 'dolent', 'horrocks', 'badland', 'blethyn', 'transaction', 'becky', 'briscoe', 'chelcie', 'downward', 'spiral', 'donna', 'data', 'directive', 'levar', 'exodus', 'governance', 'hebrew', 'pharaoh', 'schwartzman', 'firth', 'stratford', 'gwenth', 'commercialism', 'skepticism', 'gwenn', 'seaton', 'dudley', 'cornwell', 'yule', 'yuletide', 'reindeer', 'submachine', 'firearm', 'tramp', 'caruso', 'crenna', 'ifc', 'hiding', 'mujahid', 'kurtwood', 'rambo', 'adventurer', 'nile', 'playful', 'passe', 'frenzied', 'defibrillation', 'mahjong', 'rejuvenate', 'trespass', 'sundae', 'coreography', 'stalone', 'balboa', 'challenger', 'comeback', 'defeat', 'rematch', 'sibiria', 'bankrupt', 'restart', 'sponsorship', 'heel', 'sage', 'wordplay', 'boardgame', 'madame', 'bribe', 'whirlpool', 'ny', 'metter', 'trivial', 'defenseless', 'dig', 'inaction', 'submission', 'cap', 'taskmaster', 'wax', 'bullying', 'okinawa', 'revanche', 'bonsai', 'sentiment', 'luta', 'horticulture', 'razzie', 'bonus', 'jello', 'jinxed', 'squirrel', 'online', 'restrain', 'boorman', 'neuron', 'terrence', 'adrien', 'awol', 'guadalcanal', 'pacific', 'philosophic', 'thruthful', 'appealing', 'caviezel', 'weep', 'meditation', 'groupthink', 'cardiff', 'assimilation', 'snatcher', 'dwindle', 'clea', 'dumbstupid', 'heterosexuality', 'saneism', 'rade', 'serbedzija', 'underwood', 'wrestler', 'harryhausen', 'stopmotion', 'laughter', 'komediodramat', 'gunton', 'medicien', 'insult', 'advancement', 'greatly', 'benito', 'mussolini', 'wilde', 'schrader', 'agonizing', 'flautist', 'anand', 'beek', 'laughable', 'hurricane', 'physicist', 'huyck', 'dorff', 'backyard', 'gouge', 'geode', 'mud', 'tibor', 'takács', 'autistic', 'neumann', 'beam', 'disgusting', 'walas', 'zuniga', 'getz', 'leatherface', 'polaroid', 'slaughterhouse', 'grindhouse', 'buck', 'unnerve', 'hammer', 'skin', 'simmons', 'ozzy', 'osbourne', 'circuit', 'paranoiac', 'cajun', 'umberto', 'eco', 'stake', 'franciscan', 'theological', 'debate', 'elya', 'baskin', 'helmut', 'qualtinger', 'lonsdale', 'prechtel', 'limousine', 'thats', 'faiman', 'cornell', 'howell', 'gaming', 'grenada', 'maverick', 'usmc', 'catfight', 'norris', 'wulff', 'ole', 'compadres', 'streetwise', 'seduce', 'hallucinogen', 'inferno', 'álex', 'iglesia', 'kristy', 'beatboxing', 'jeep', 'kieran', 'dule', 'excess', 'indulgence', 'iscove', 'karlheinz', 'boehm', 'moira', 'conley', 'kris', 'kristofferson', 'liu', 'boardman', 'devane', 'westlake', 'cigarettes', 'crab', 'irresistible', 'banana', 'buchenwald', 'menorah', 'subjugation', 'laloux', 'shelter', 'frasier', 'spark', 'pastelosa', 'martian', 'stein', 'benz', 'rocketry', 'sputnik', 'aeronautics', 'gyllenhal', 'push', 'liz', 'burnout', 'coworker', 'downsize', 'laziness', 'software', 'diedrich', 'bader', 'shenanigans', 'lumberg', 'ajay', 'naidu', 'stapler', 'cliches', 'slack', 'doe', 'printer', 'gangsta', 'tps', 'officehumor', 'fundamentalism', 'samira', 'lower', 'giovanni', 'ribisi', 'poppy', 'bitterness', 'ironie', 'misanthropy', 'scalper', 'gould', 'hokaido', 'shôhei', 'imamura', 'ogata', 'outten', 'ethnicity', 'preach', 'heimlich', 'maneuver', 'howarth', 'chandelier', 'ohmart', 'leona', 'blizzard', 'snowplow', 'heflin', 'salt', 'airliner', 'frogman', 'philanthropist', 'diver', 'rollercoaster', 'sensurround', 'tallest', 'guillermin', 'stirling', 'silliphant', 'scortia', 'blakely', 'eaten', 'dreadful', 'hetre', 'yul', 'brynner', 'karlin', 'chrichton', 'malfunction', 'wissenschaftliche', 'domed', 'population', 'farrah', 'fawcett', 'ustinov', 'serling', 'madhouse', 'boulle', 'architecture', 'storyboard', 'trundy', 'haber', 'tease', 'dehn', 'godwin', 'avalanche', 'billiard', 'drone', 'protestor', 'supersonic', 'triad', 'philippe', 'psychotherapy', 'kumble', 'dildo', 'statham', 'cardsharp', 'carjack', 'hatchet', 'machismo', 'flemyng', 'coordinate', 'vinnie', 'lenny', 'mclean', 'moran', 'brydon', 'igen', 'masser', 'karakterer', 'plottet', 'oftest', 'velkonstrueret', 'kringelede', 'sving', 'altid', 'skaber', 'tilfældigheder', 'ulu', 'grosbard', 'injure', 'telekenisis', 'unanswered', 'question', 'receptionist', 'weirdest', 'gynecology', 'strap', 'pendleton', 'balaban', 'youngster', 'rilla', 'toddler', 'overtone', 'extremism', 'gaspar', 'noé', 'siam', 'fort', 'outpost', 'wendigo', 'klavan', 'getaway', 'herskovitz', 'idealize', 'barge', 'chakri', 'chopstick', 'consort', 'dowry', 'malaria', 'pagoda', 'siamese', 'cla', 'moreno', 'brow', 'rupual', 'goldwyn', 'superpower', 'opener', 'moss', 'awakening', 'maquinas', 'realidad', 'stilted', 'unsupervised', 'gonne', 'ulhas', 'pantoliano', 'awareness', 'morpheus', 'trinity', 'theone', 'especial', 'appocalypse', 'bullettime', 'simulated', 'braininavat', 'bending', 'philosopical', 'discover', 'philosophycal', 'degree', 'arc', 'coo', 'lucid', 'glad', 'dodge', 'acion', 'mf', 'sufficiently', 'explodey', 'salvation', 'wachkowski', 'gamechanger', 'lobby', 'moive', 'programming', 'ledger', 'stile', 'cannabis', 'shrew', 'stiles', 'gil', 'junger', 'geeks', 'larisa', 'oleynik', 'saura', 'erick', 'zonca', 'compromise', 'linear', 'underwhelming', 'haw', 'theobald', 'atmospherically', 'inception', 'injuries', 'rave', 'olyphant', 'cashier', 'grocery', 'vartan', 'yucky', 'antarctic', 'scandinavia', 'circular', 'duality', 'filmifriikki', 'finn', 'medem', 'juxtaposition', 'multinational', 'polarity', 'vcr', 'clpgh', 'bootleg', 'filippi', 'extension', 'uncredited', 'alejandro', 'cruz', 'amenábar', 'amenabar', 'explicit', 'merendino', 'artie', 'whitfield', 'bruel', 'marceau', 'controller', 'trail', 'overachiever', 'alaxander', 'callum', 'biomorph', 'gala', 'kuala', 'lumpur', 'millennium', 'exaiting', 'guitarist', 'crawl', 'complaint', 'priestess', 'trowel', 'devin', 'sawa', 'rodman', 'flender', 'alba', 'gays', 'acrobat', 'apprenticeship', 'offspring', 'wu', 'ho', 'chi', 'minh', 'bui', 'told', 'ungrateful', 'mommy', 'dearest', 'lockdown', 'electrocution', 'terlesky', 'karrie', 'kelli', 'maroney', 'corman', 'eclipse', 'imhotep', 'vosloo', 'comical', 'orientalism', 'melbourne', 'goliath', 'sitch', 'bana', 'caton', 'mandarin', 'xiaolu', 'disneyland', 'eternity', 'hirokazu', 'koreeda', 'moreton', 'greenspan', 'woodhead', 'binks', 'rydstrom', 'goodson', 'tnt', 'merchandise', 'gift', 'vorfahren', 'scroll', 'bury', 'goddess', 'trance', 'freund', 'cajuns', 'reincarnate', 'adit', 'sarcophagus', 'killing', 'archaeological', 'chamber', 'rites', 'eqgyptian', 'diana', 'scarwid', 'hobel', 'rutanya', 'hanger', 'kryptonite', 'superheroes', 'superheros', 'dilema', 'margot', 'kidder', 'ned', 'niagara', 'pryor', 'disarmament', 'menahem', 'golan', 'count', 'sanitarium', 'pendant', 'trailblazing', 'tod', 'opossum', 'abrupt', 'helsing', 'frye', 'slowpaced', 'wolfman', 'villager', 'bole', 'rowland', 'grudge', 'lon', 'chaney', 'baroness', 'continuity', 'reanimate', 'allbritton', 'amulet', 'pentagram', 'bane', 'wolfbane', 'waggner', 'deformation', 'participation', 'stormy', 'lip', 'gltbq', 'friggen', 'transvetism', 'addictive', 'sharman', 'bog', 'bostwick', 'loaf', 'weddin', 'tranvestism', 'cornthwaite', 'nyby', 'reasonable', 'haskin', 'wynter', 'siegel', 'foo', 'site', 'sonic', 'anything', 'venus', 'glacier', 'mesopotamia', 'prologue', 'len', 'wein', 'paparazzo', 'ifans', 'mckee', 'bonneville', 'mcinnerny', 'section', 'belivable', 'virtualization', 'nested', 'decision', 'retrospection', 'theodoros', 'angelopoulos', 'schweigen', 'trifft', 'nebel', 'cubano', 'bong', 'bonfire', 'cone', 'soda', 'sixties', 'bacharach', 'costello', 'springer', 'tasteless', 'heh', 'consistent', 'muse', 'renovation', 'soulful', 'woodworking', 'corigliano', 'fondle', 'pianistin', 'composition', 'sylish', 'butterfly', 'stylistic', 'unintelligent', 'tykwer', 'lola', 'moritz', 'bleibtreu', 'quantum', 'leap', 'workout', 'hindi', 'immodest', 'nygard', 'immaturity', 'syracuse', 'wet', 'veber', 'thierry', 'lhermitte', 'kosma', 'shmuck', 'villeret', 'pakistani', 'udayan', 'prasad', 'arachnophobia', 'invasive', 'infestation', 'mutate', 'atheist', 'supremacy', 'sacrilegous', 'cartman', 'distasteful', 'mpaa', 'lapaglia', 'esposito', 'carax', 'lavant', 'assayas', 'alyson', 'hannigan', 'seann', 'milf', 'mena', 'suvari', 'biggs', 'γαμήσια', 'πίτας', 'stiffler', 'moronic', 'blueprint', 'classify', 'pellington', 'ehren', 'spionage', 'winegrower', 'prawn', 'muppet', 'mimic', 'handycam', 'myrick', 'orgy', 'socioeconomic', 'status', 'distract', 'sawiris', 'julienne', 'madison', 'eginton', 'mont', 'illuminati', 'motifs', 'amazingness', 'scense', 'toe', 'tooth', 'torso', 'formula', 'marshmallow', 'chauvinistic', 'puft', 'immaginative', 'proton', 'parapsychology', 'chrysler', 'macnicol', 'hicktown', 'mocumentary', 'cheerleading', 'cherub', 'insomniac', 'logbook', 'activity', 'researcher', 'spook', 'portyayal', 'alzheimer', 'rapaport', 'aida', 'erinn', 'geerinckx', 'tajsha', 'rajah', 'shovel', 'spleen', 'unheroic', 'ceremony', 'gown', 'laughably', 'uninteresting', 'blacklist', 'trumbo', 'vladimir', 'nabokov', 'flirt', 'provocation', 'prussia', 'soundrack', 'solemn', 'fingerprint', 'montmartre', 'mugshot', 'semi', 'strict', 'plus', 'beau', 'dlinquent', 'francois', 'truffaut', 'austrian', 'smuk', 'starten', 'enden', 'fickle', 'ganorabako', 'leisure', 'incan', 'psychokinesis', 'honduras', 'islands', 'theroux', 'oprah', 'winfrey', 'blier', 'asunción', 'guaraníes', 'iguazú', 'paraguay', 'reducciones', 'colonisation', 'jesuit', 'position', 'paisatges', 'brutals', 'oboe', 'carnivorous', 'flesh', 'eating', 'inept', 'skid', 'haze', 'quatermain', 'goldmine', 'chamberlain', 'vignette', 'coney', 'pee', 'wee', 'porkys', 'smooth', 'cleveland', 'diagnosis', 'substantiated', 'graeme', 'dostoyevsky', 'unknown', 'mccanlies', 'totally', 'overlooked', 'beatnik', 'sculptor', 'sobrenatural', 'newest', 'plotholes', 'monet', 'martinique', 'valuable', 'millionare', 'theif', 'wallstreet', 'bowler', 'nina', 'simone', 'sinnerman', 'troyan', 'prosperity', 'jemma', 'mccrindle', 'clunes', 'roeves', 'mccole', 'infiltration', 'stretch', 'granada', 'vancouver', 'tatò', 'henabery', 'pathologist', 'maiden', 'pendelum', 'torturer', 'vase', 'mesmerism', 'thunder', 'gilda', 'radner', 'troll', 'cujo', 'starr', 'quit', 'intentional', 'mistranslation', 'lumberjack', 'twit', 'sequitor', 'macnaughton', 'babyish', 'autopilot', 'saxophone', 'repetitious', 'sequitur', 'hay', 'reuse', 'finkleman', 'haggerty', 'lloydd', 'interrupted', 'expose', 'klane', 'contrast', 'bunk', 'duet', 'homesick', 'pinball', 'unplug', 'fulfillment', 'yankee', 'pflegesohn', 'tragically', 'supreme', 'bb', 'lifebuoy', 'shephard', 'gym', 'valedictorian', 'mic', 'revitalization', 'satoshi', 'kon', 'persona', 'mise', 'abyme', 'israel', 'skullduggery', 'gielgud', 'cure', 'deforrestation', 'morgen', 'nanette', 'burstein', 'bagdad', 'beowulf', 'burry', 'lin', 'priscilla', 'samantha', 'carpel', 'eggar', 'dampf', 'cella', 'mountie', 'masturbate', 'beirut', 'ziad', 'doueiri', 'similar', 'sheitan', 'clergyman', 'stigma', 'ramage', 'lazarus', 'portia', 'rossi', 'stigmata', 'clairvoyance', 'repress', 'seemingly', 'unimportant', 'liza', 'weil', 'lusia', 'strus', 'vivacious', 'afterwar', 'balcans', 'pitbull', 'gangters', 'masanori', 'hata', 'kawaii', 'andes', 'showgirl', 'bravo', 'monumental', 'handkerchief', 'jealous', 'mistrust', 'shield', 'blase', 'escapades', 'humanizes', 'toplist', 'humanize', 'intellegent', 'bentley', 'cinematographically', 'cultre', 'degrade', 'humo', 'jcl', 'energetic', 'oversize', 'syphillis', 'savoy', 'disc', 'jockey', 'ragsdale', 'bearse', 'saks', 'charismatic', 'newly', 'responsible', 'canoe', 'rednecks', 'backwoods', 'mist', 'lighting', 'nicol', 'revelry', 'malory', 'rospo', 'pallenberg', 'saxophonist', 'fosse', 'daltrey', 'initiation', 'tam', 'costar', 'tsang', 'probation', 'schutzstaffel', 'jurek', 'becke', 'zooey', 'deschanel', 'bohemian', 'elmo', 'sesame', 'kuwait', 'persian', 'illsley', 'walliams', 'fielding', 'cattleman', 'pseudonym', 'sparrow', 'gullah', 'beghe', 'pankow', 'patten', 'mcneil', 'primate', 'quadriplegic', 'mausoleum', 'sentinals', 'sphere', 'horrorr', 'myrow', 'seagrave', 'coscarelli', 'nightmarish', 'phantasm', 'pogue', 'deluge', 'reformer', 'tropic', 'shûgorô', 'yamamoto', 'jidaigeki', 'ratingzone', 'coyote', 'jenkins', 'mcculloch', 'sarsgaard', 'kimberly', 'peirce', 'bassed', 'narcotic', 'vengence', 'electra', 'brickman', 'porsche', 'sicken', 'mutants', 'heatwave', 'truancy', 'indonesia', 'jakarta', 'java', 'mime', 'pantomime', 'carné', 'pathe', 'sphaghetti', 'dramatics', 'dojo', 'drunken', 'yuen', 'integration', 'hairspray', 'schedule', 'secretiveness', 'enlightenment', 'stapleton', 'overwhelming', 'ambient', 'flamenco', 'soundstage', 'sharp', 'hobo', 'rail', 'mccrea', 'telekenesis', 'eliseo', 'subiela', 'adulteress', 'postcard', 'unconsciousness', 'patent', 'bali', 'hai', 'tropical', 'mitzi', 'gaynor', 'rossano', 'brazzi', 'locksmith', 'welder', 'pittsburgh', 'strippers', 'nouri', 'régis', 'wargnier', 'telly', 'savalas', 'aldrich', 'heller', 'nunnally', 'aston', 'knox', 'kentucky', 'gert', 'frobe', 'overblessed', 'pussy', 'galore', 'orient', 'express', 'zagreb', 'reactor', 'baccarat', 'epix', 'obejrzane', 'tradecraft', 'andress', 'maroon', 'castaway', 'adriano', 'bolzoni', 'duccio', 'tessari', 'jaime', 'tonino', 'valerii', 'víctor', 'andrés', 'catena', 'showoff', 'gunfighting', 'reimagining', 'westerm', 'homerus', 'macauly', 'mcnamara', 'beaudine', 'edw', 'subversion', 'palahniuk', 'radical', 'firefly', 'palahnuik', 'feminine', 'gettin', 'psychologicsl', 'civilisation', 'dissociative', 'escapism', 'manhood', 'wage', 'cleverer', 'bard', 'misogeny', 'consumism', 'ikea', 'uhls', 'marla', 'hyper', 'shirtless', 'heartache', 'arsenal', 'jog', 'hornby', 'classroom', 'spanking', 'marcarelli', 'wisconsin', 'obstinance', 'farnsworth', 'edify', 'nurture', 'mervyn', 'leroy', 'patty', 'mccormack', 'greece', 'minotaur', 'ogre', 'peru', 'dreamer', 'amphetamine', 'prescription', 'restroom', 'expressionistic', 'biggoted', 'banal', 'douchbag', 'kliche', 'stopper', 'midt', 'samtalen', 'siger', 'tilsin', 'diktafon', 'ellers', 'taye', 'diggs', 'overlook', 'nighttime', 'sherrif', 'santostefano', 'connell', 'flanery', 'furie', 'gentrification', 'superbly', 'corporatism', 'belinda', 'rep', 'rabit', 'yeah', 'sickness', 'metacinematic', 'toontown', 'cryptographic', 'bouquet', 'floatplane', 'lowell', 'talisa', 'soto', 'davi', 'speedboat', 'tarot', 'mccartney', 'thunderball', 'larter', 'marsters', 'leeves', 'jonze', 'trading', 'appropriation', 'externally', 'puppeteer', 'subconsciousness', 'malkovitch', 'sexually', 'leaky', 'womens', 'cunning', 'ghibli', 'alignment', 'visualy', 'apealing', 'boar', 'gaiman', 'relativism', 'drachen', 'zibri', 'gods', 'sinyor', 'asner', 'holbrook', 'jeffery', 'deaver', 'iacone', 'etaegepriority', 'whistleblower', 'el', 'wigand', 'dequenne', 'marathon', 'buster', 'boom', 'visible', 'corpses', 'selleck', 'intestines', 'surgical', 'drugstore', 'trainspotting', 'minus', 'lay', 'andrzej', 'bartkowiak', 'ebbe', 'roe', 'ticotin', 'funhouse', 'cycle', 'bruckman', 'pickford', 'piranha', 'tent', 'steele', 'environmentalism', 'menzies', 'malmuth', 'edo', 'ronin', 'wo', 'sanjuro', 'kuwabatake', 'masaru', 'sato', 'possesion', 'survivalist', 'creatures', 'sagal', 'altar', 'magnet', 'password', 'metaflim', 'barf', 'anthropomorphize', 'cagney', 'cheyenne', 'custer', 'populism', 'beggar', 'commodity', 'investor', 'anticapitalist', 'ameche', 'juice', 'pork', 'belly', 'share', 'holder', 'burp', 'swimwear', 'ketchup', 'panty', 'toothpick', 'flagpole', 'introvert', 'duffell', 'bolotin', 'alanis', 'morissette', 'morisette', 'skill', 'smug', 'carlin', 'vii', 'orléans', 'europa', 'heresy', 'pokemon', 'kunihiko', 'yuyama', 'haigney', 'masochist', 'microphone', 'ostracise', 'ostracizion', 'simian', 'inn', 'wicki', 'zanuck', 'marton', 'unerotic', 'imperial', 'ticonderoga', 'yorktown', 'kinji', 'fukasaku', 'toshio', 'masuda', 'diplomacy', 'radar', 'maura', 'malpractice', 'bovasso', 'roxanne', 'galvin', 'intellectually', 'barkin', 'interdimensional', 'ramón', 'menéndez', 'ewww', 'boheme', 'shanley', 'sur', 'isolationist', 'outdoors', 'rubinstein', 'mcintire', 'rayfiel', 'anhalt', 'vardis', 'clau', 'mclaine', 'archival', 'apted', 'miniseries', 'obsolete', 'inaccuracy', 'penniless', 'aleksandar', 'popovski', 'darko', 'mitrevski', 'headless', 'horseman', 'tarrytown', 'yagher', 'atmosp', 'bilbao', 'autograph', 'transplantation', 'charley', 'meins', 'laurel', 'scrabble', 'rabbi', 'frined', 'artfully', 'economic', 'unpretentious', 'cycling', 'ladri', 'biciclette', 'pacificism', 'scab', 'hiroshi', 'inagaki', 'madam', 'gambler', 'wilby', 'dust', 'grapewin', 'darwell', 'qualen', 'resolve', 'dorris', 'bowdon', 'joad', 'bakersfield', 'kerosene', 'softhearted', 'uneducated', 'budapest', 'prosky', 'malamud', 'pychodrama', 'stew', 'lyne', 'bail', 'southwestern', 'brest', 'depressive', 'comatose', 'parkinson', 'pyromaniac', 'firefighting', 'chivalrous', 'ruehl', 'lagravenese', 'pastelona', 'jeter', 'satanist', 'unremarkable', 'flea', 'sale', 'personification', 'unkrich', 'frailty', 'whacker', 'giallo', 'bava', 'bribery', 'ida', 'lupino', 'talman', 'neilan', 'dita', 'parlo', 'gabin', 'dalio', 'fresnay', 'perfetto', 'péclet', 'langsom', 'momenter', 'elementer', 'strick', 'duval', 'carlino', 'cline', 'ahem', 'joanou', 'paradigm', 'callboy', 'forsythe', 'poehler', 'arija', 'bareikis', 'loooooooooooooong', 'malca', 'longwinded', 'aru', 'reminisce', 'anesthetic', 'cider', 'incinerator', 'bettah', 'pastelon', 'farrell', 'magnifilm', 'bogdanovich', 'eileen', 'brennan', 'cyclops', 'threaten', 'juran', 'isaac', 'asimov', 'silverberg', 'childre', 'occupy', 'hahn', 'gaëtan', 'brizzi', 'hendel', 'butoy', 'pixote', 'misinterpretation', 'intersecting', 'insufrible', 'aimee', 'shorter', 'miriam', 'margolyes', 'exhibition', 'lyricist', 'pageantry', 'signoret', 'sorceress', 'ulysses', 'homer', 'wrestle', 'comedians', 'giamatti', 'parisot', 'yared', 'stressfull', 'carr', 'armyan', 'vicellous', 'chaiton', 'famine', 'mccourt', 'cinemax', 'shelton', 'taymor', 'anachronistic', 'denial', 'aviva', 'kempner', 'coryell', 'cody', 'linley', 'daylan', 'honeycutt', 'muniz', 'unconditional', 'supernova', 'expository', 'santosh', 'sivan', 'mccarthyism', 'robertson', 'barrack', 'henri', 'charrière', 'lorenzo', 'semple', 'bagne', 'cayenne', 'île', 'diable', 'maroni', 'baddass', 'buddusky', 'northwest', 'rebelliousness', 'kallianiotes', 'rafelson', 'doberman', 'mengele', 'ganz', 'lilli', 'uta', 'hagen', 'heywood', 'quintano', 'chestnut', 'romanus', 'campsite', 'dingo', 'radomski', 'conroy', 'biking', 'bike', 'jesús', 'vecino', 'boardwalk', 'southhampton', 'witshire', 'succulent', 'francesco', 'rosi', 'migenes', 'plácido', 'domingo', 'symmetrical', 'entomologist', 'dune', 'teshigahara', 'abe', 'kobo', 'relocation', 'isacsson', 'odessa', 'maximillion', 'hairstylist', 'khyentse', 'norbu', 'mikhail', 'kalatozov', 'infrared', 'koran', 'luther', 'mekka', 'pilgrimage', 'perl', 'lider', 'racista', 'moolt', 'lonette', 'superior', 'nuns', 'emile', 'ardolino', 'lauryn', 'gottschalk', 'discomfit', 'leszek', 'burzynski', 'june', 'squibb', 'surjik', 'myball', 'patrickbergin', 'unsuspenseful', 'snorefest', 'geat', 'ansemble', 'prawer', 'jhabvala', 'sheryl', 'cryptic', 'kierfer', 'madchen', 'amick', 'ashbrook', 'augustine', 'hustle', 'streetball', 'rubel', 'kuzui', 'lite', 'charisma', 'kwok', 'rémy', 'belvaux', 'benoit', 'poelvoorde', 'filmclub', 'belgian', 'estelle', 'getty', 'mam', 'dotrice', 'sherilyn', 'fenn', 'isham', 'blasphemic', 'prerecord', 'prerecorded', 'weakest', 'nom', 'dempsey', 'warburton', 'developer', 'pager', 'overblown', 'reedus', 'troy', 'duffy', 'mordern', 'irishman', 'gréta', 'olafsdóttir', 'muska', 'spence', 'backpacker', 'virginie', 'ledoyen', 'backpacking', 'gangrene', 'koch', 'donkey', 'chalk', 'cornel', 'holliman', 'communion', 'lulu', 'geeson', 'kendall', 'clavell', 'economy', 'nicky', 'callcenter', 'trader', 'flask', 'riddick', 'hauser', 'peet', 'okazaki', 'assembly', 'bureaucrat', 'felines', 'cherrill', 'luci', 'citta', 'marly', 'wallet', 'foundling', 'stardom', 'rancher', 'storekeeper', 'crapflix', 'chabon', 'kloves', 'gomez', 'flush', 'ecw', 'wwe', 'blaustein', 'funk', 'pidgeons', 'sling', 'cd', 'hagakure', 'haitian', 'rouge', 'swordfighting', 'rza', 'rashomon', 'inteference', 'intimidation', 'local', 'user', 'fab', 'reinert', 'korda', 'eno', 'tor', 'eskimo', 'familly', 'jerk', 'hixploitation', 'hardboil', 'neonoir', 'sen', 'artifact', 'biogenesis', 'cydonia', 'antiquary', 'rare', 'seigner', 'infierno', 'arturo', 'believer', 'emanuelle', 'bloomington', 'unsung', 'earle', 'yates', 'coaching', 'underdogs', 'sluts', 'attractive', 'attica', 'procession', 'pierson', 'waller', 'kluge', 'sonny', 'wortzik', 'cazale', 'diabetes', 'dictate', 'goldwater', 'hormonal', 'mop', 'thx', 'comanche', 'hoedown', 'guthrie', 'czechoslovakia', 'gestapo', 'sargent', 'clubmasters', 'garrison', 'marrs', 'zachary', 'sklar', 'nymphomanin', 'smell', 'bigfoot', 'cryptozoology', 'footprint', 'sasquatch', 'rosanne', 'seidelman', 'fault', 'kermit', 'exactly', 'fozzie', 'studebaker', 'berle', 'frawley', 'marretas', 'rudman', 'kroupa', 'birdhouse', 'dodo', 'excercise', 'haystack', 'jalopy', 'net', 'aloud', 'freudberg', 'adhd', 'quiet', 'negulesco', 'bushell', 'goodliffe', 'ambler', 'napoleanic', 'negligence', 'irrelevant', 'cheesiness', 'omen', 'shlocky', 'destination', 'andreef', 'kodiak', 'puma', 'trapper', 'hunting', 'lubin', 'collage', 'siodmak', 'strasberg', 'curtin', 'genere', 'freshman', 'te', 'kijken', 'toga', 'slackers', 'brisk', 'hbcu', 'pizzeria', 'nuanced', 'giancarlo', 'garfield', 'engelbach', 'beating', 'hickman', 'goldstein', 'shamata', 'rankin', 'colleary', 'sandoval', 'saul', 'rubinek', 'substantial', 'anklet', 'phyllis', 'dietrichson', 'fatherly', 'chemotherapy', 'leukaemia', 'brings', 'zeichnungen', 'übergang', 'animatronic', 'th', 'kasey', 'vanilla', 'pressman', 'guerilla', 'sensei', 'auberjonois', 'precognition', 'gustav', 'machatý', 'gi', 'extra', 'matheau', 'geriatric', 'miscegenation', 'spenser', 'starring', 'oakland', 'piznarski', 'congressman', 'rifftrax', 'asthmatic', 'degeneration', 'swine', 'pardon', 'characteristic', 'industrialization', 'conklin', 'tiny', 'sandford', 'sociology', 'ritt', 'felson', 'zealotry', 'rhetoric', 'logical', 'argumentation', 'drummond', 'antichristian', 'siberia', 'stadt', 'sovscope', 'lightshow', 'doorbell', 'transcendence', 'coven', 'tanner', 'clift', 'tragecy', 'coverup', 'figment', 'oneiric', 'peña', 'cupcake', 'gameboy', 'sidewalk', 'copy', 'insulting', 'gwar', 'explain', 'valdez', 'twilight', 'seltzer', 'haim', 'discussion', 'springsteen', 'iben', 'hjejle', 'mixtape', 'frustrating', 'bibo', 'bergeron', 'din', 'ivy', 'hoodoo', 'ruffio', 'swashbuckling', 'hokey', 'crate', 'fossil', 'pair', 'stocking', 'humanoid', 'sheik', 'fitzmaurice', 'censor', 'rudolph', 'valentino', 'darby', 'harley', 'paolo', 'bonacelli', 'hoffer', 'giorgio', 'moroder', 'roomates', 'obsess', 'hobble', 'legs', 'horribly', 'yorker', 'helplessness', 'eligible', 'hypnotic', 'stanislav', 'lem', 'stanislaw', 'fridrikh', 'gorenshteyn', 'network', 'profit', 'rant', 'chayefsky', 'cleanliness', 'neat', 'mattau', 'iris', 'sondra', 'locke', 'toback', 'aurora', 'borealis', 'toby', 'fo', 'sho', 'pull', 'quine', 'partisan', 'task', 'partisans', 'chetnik', 'strummer', 'moose', 'schwartzenegger', 'bravado', 'resnais', 'kabuki', 'katana', 'ichikawa', 'sociopathy', 'imitation', 'easton', 'bret', 'transgressive', 'insincerity', 'lulz', 'harron', 'bloodlust', 'jenna', 'numerous', 'damien', 'filmfour', 'retrospective', 'julien', 'guttenburg', 'barflies', 'kinny', 'binky', 'creepiest', 'gramophone', 'minelli', 'griem', 'kander', 'former', 'buono', 'grande', 'biddy', 'dacosta', 'four', 'carnation', 'bauhaus', 'gopher', 'toliet', 'rumor', 'alfre', 'woodard', 'unresolved', 'consensual', 'mivk', 'jagger', 'unwillingly', 'lubricant', 'swanbeck', 'commune', 'lifestyle', 'sholder', 'mcnichol', 'arena', 'horde', 'fictionalize', 'philosopher', 'romans', 'unhistorical', 'djimon', 'hounsou', 'gerrard', 'franzoni', 'noble', 'ru', 'kerrigan', 'simm', 'pilkington', 'nicola', 'quickie', 'dario', 'argento', 'betrayed', 'burgundy', 'rhine', 'dragoti', 'scientology', 'scientologist', 'unbearable', 'entrance', 'almereyda', 'presley', 'rubens', 'prenzlauer', 'nr', 'sonneborn', 'forbes', 'lemur', 'dorm', 'sorority', 'across', 'keks', 'wuhl', 'danza', 'tentacle', 'hysteric', 'tentacles', 'organic', 'discord', 'isabelle', 'adjani', 'roxburgh', 'undressing', 'dey', 'harem', 'truthy', 'herk', 'evocative', 'klondike', '淘金记', '莫声版', 'rigg', 'ferzetti', 'ilse', 'steppat', 'lazenby', 'skiing', 'blofeld', 'moneypenny', 'q', 'staff', 'knebel', 'sardinien', 'warhead', 'lotus', 'esprits', 'kiel', 'sardinia', 'marcus', 'weightlessness', 'amphibious', 'britt', 'ekland', 'herve', 'villechaize', 'maud', 'sacramento', 'corinne', 'yeti', 'bastedo', 'maribel', 'andreu', 'lucio', 'fulci', 'untrustworthy', 'ferreri', 'column', 'bullfighter', 'dutchman', 'lewin', 'lovers', 'televison', 'coot', 'interrupt', 'nietzsche', 'cleavon', 'korman', 'obscenely', 'berkley', 'shtupp', 'dom', 'deluise', 'ricard', 'ar', 'benji', 'cougar', 'lodge', 'rosemary', 'eraser', 'pencil', 'prententiously', 'obscure', 'nanar', 'nance', 'pagan', 'profane', 'worldly', 'fricke', 'mesmerize', 'megadeth', 'binge', 'thrash', 'beard', 'mustache', 'sombrero', 'infanticide', 'lalo', 'schifrin', 'predecible', 'motown', 'confetti', 'atonement', 'rudoy', 'filardi', 'hijinks', 'disproportionate', 'teaching', 'horny', 'disfigure', 'andree', 'maranda', 'parasites', 'twentieth', 'dweezil', 'zappa', 'conchita', 'alonso', 'fleetwood', 'cherry', 'hispanoamerican', 'speechless', 'benzine', 'ozploitation', 'fifi', 'peculiar', 'boomerang', 'refinery', 'dystopi', 'oasis', 'challenged', 'kohtuullisen', 'meni', 'kuitenkin', 'maailma', 'hahmot', 'mielenkiintoisia', 'undiscovered', 'bonet', 'erotica', 'pyrokinesis', 'organanized', 'santo', 'garris', 'megalomaniac', 'jeph', 'loeb', 'blacklight', 'mustang', 'mcelhon', 'constant', 'oedipal', 'volunteer', 'generational', 'rotoscope', 'stoker', 'characterization', 'caul', 'passer', 'levitation', 'telepathie', 'snodgress', 'paper', 'houseman', 'univ', 'wexler', 'maas', 'waldo', 'longest', 'gris', 'teal', 'benedict', 'lesser', 'desny', 'rubberneck', 'felon', 'latham', 'approach', 'aline', 'macmahon', 'aubrey', 'blondell', 'aladar', 'laszlo', 'grover', 'samson', 'raphaelson', 'odown', 'maggot', 'grigori', 'aleksandrov', 'sergei', 'eisenstein', 'overt', 'josé', 'cuerda', 'psychedelics', 'maclean', 'brilliantly', 'related', 'humorism', 'jerod', 'mixon', 'mongo', 'brownlee', 'beh', 'britisher', 'familylove', 'historica', 'slanderous', 'muzzleloader', 'coat', 'rommates', 'isaacs', 'camaraderie', 'marina', 'meteorologist', 'flemish', 'waaaanteeddd', 'amicus', 'omnibus', 'whitley', 'strieber', 'pivotal', 'broncowitz', 'barrio', 'lowrider', 'mexians', 'ethiopia', 'croupier', 'hodges', 'counting', 'keenen', 'erasure', 'cissexism', 'lyonne', 'rupaul', 'modernity', 'jiang', 'yang', 'darkroom', 'municipal', 'muitas', 'core', 'pawnbroker', 'faggot', 'selznick', 'sternberg', 'brower', 'jackman', 'legislation', 'tolerance', 'fanfare', 'vfx', 'davison', 'marsden', 'keiji', 'yamaguchi', 'sjogren', 'martinez', 'myles', 'palleiko', 'ashmore', 'boeddeker', 'busch', 'mane', 'fameke', 'jasson', 'lamer', 'wolverine', 'sc', 'podeswa', 'misdirection', 'subtil', 'horr', 'seductress', 'gazzara', 'nominate', 'troup', 'savini', 'troglodyte', 'walrus', 'wasp', 'moroccan', 'birthplace', 'scholar', 'nnothing', 'boer', 'aphrodisiac', 'jester', 'sexology', 'sodomy', 'vaguely', 'embarrass', 'napolean', 'wheat', 'puenzo', 'ramen', 'noodle', 'foodie', 'juzo', 'itami', 'watanabe', 'glucksspiel', 'seine', 'perabo', 'girlish', 'perbo', 'malibu', 'brendon', 'pollywog', 'whisky', 'township', 'portabello', 'dt', 'disembody', 'hubris', 'rickles', 'portal', 'angus', 'scrimm', 'gros', 'mortuary', 'retcon', 'rhyme', 'laos', 'paedophile', 'tranny', 'dolly', 'parton', 'tropez', 'vadim', 'bardot', 'cho', 'jenniphr', 'fe', 'donal', 'logue', 'juliane', 'färberböck', 'affect', 'gynocentric', 'official', 'souvenirs', 'frédéric', 'fonteyne', 'smits', 'holliston', 'supernatual', 'abilites', 'cineaste', 'fenton', 'customer', 'tarsem', 'singh', 'mindbender', 'takao', 'okawara', 'sunset', 'fart', 'continuosly', 'throughout', 'gunfighter', 'homestead', 'healthcare', 'psychoanalyst', 'supergirl', 'duguay', 'aiyana', 'eyecandy', 'peyton', 'breiman', 'scalpel', 'z', 'seville', 'thinness', 'womanhood', 'zambrano', 'charbanic', 'endless', 'ammo', 'plausible', 'fugit', 'nostaligic', 'zoeey', 'rnr', 'antoine', 'fuqua', 'brighton', 'laptop', 'keena', 'bordeaux', 'duchess', 'shear', 'middlebrow', 'incorporation', 'feedback', 'interplay', 'secondary', 'flavor', 'costa', 'rica', 'bjork', 'anoying', 'kimono', 'improvised', 'overboard', 'vitro', 'fertilisation', 'braff', 'kusama', 'coaction', 'suplee', 'strugle', 'hurst', 'titan', 'cenobites', 'sadomasochist', 'mattress', 'cenobyten', 'desertion', 'minefield', 'eden', 'clot', 'microscopic', 'radioactive', 'bixby', 'immune', 'raquel', 'welch', 'wissenschaftler', 'novelization', 'lagoon', 'spear', 'aquatic', 'merfolk', 'denning', 'gila', 'chemist', 'festus', 'gunsmoke', 'cowardly', 'weasle', 'absorption', 'impervious', 'farrar', 'eddy', 'susanna', 'digimon', 'representation', 'digimons', 'newcastle', 'upon', 'tyne', 'osborne', 'spirited', 'epistaxis', 'baggage', 'pavilion', 'urn', 'blythe', 'danner', 'dehuff', 'easy', 'unrelentingly', 'diet', 'vivid', 'shite', 'mansel', 'impend', 'hubert', 'ass', 'jared', 'unredeemed', 'nauseate', 'exploitative', 'snort', 'exhaustion', 'leavenworth', 'polk', 'discharge', 'stockade', 'felitta', 'melt', 'warlock', 'inscribe', 'lizabeth', 'ulmer', 'daldry', 'unsentimental', 'preictable', 'gey', 'teuflisch', 'deed', 'dire', 'entrails', 'lau', 'mui', 'parental', 'format', 'krige', 'lipnicki', 'uli', 'edel', 'mcg', 'caddy', 'bulldogg', 'besteirol', 'metalhead', 'tillman', 'antony', 'catskills', 'ruffalo', 'lonergan', 'moviepig', 'buggy', 'paratrooper', 'ss', 'ahnuld', 'grinch', 'baranski', 'momsen', 'munich', 'palestine', 'pelz', 'prevention', 'sexuaity', 'belucci', 'parochialism', 'distinctive', 'liberty', 'marquis', 'sade', 'method', 'харизма', 'invulnerability', 'ascend', 'fanboy', 'shymalan', 'samual', 'coool', 'westernization', 'abcence', 'ziyi', 'aventura', 'kamala', 'yeoh', 'wirework', 'disipline', 'picturesque', 'zang', 'zi', 'yi', 'burnett', 'dwarves', 'imps', 'equality', 'karakoram', 'pakistan', 'siddig', 'fiji', 'chatter', 'chew', 'sears', 'slob', 'trooper', 'wichita', 'mcgovern', 'windom', 'bratislava', 'schloss', 'schönbrunn', 'tangier', 'kava', 'kovic', 'accounting', 'interior', 'decorator', 'mayoral', 'spending', 'diamonds', 'pikey', 'receiving', 'så', 'mange', 'atheism', 'johny', 'delicious', 'funfunfun', 'kutcher', 'leiner', 'berater', 'llama', 'eartha', 'kitt', 'dindal', 'chock', 'ageism', 'psyche', 'naughty', 'gifted', 'manuscript', 'plagiarism', 'ytmnd', 'skills', 'fedex', 'busom', 'enjoyed', 'noland', 'ingenuity', 'reprioritizing', 'gee', 'bluegrass', 'sinner', 'crossroad', 'odysseus', 'oddesy', 'appalachia', 'appalachian', 'musicologist', 'musicology', 'pioneer', 'taj', 'mahal', 'greenwald', 'cautery', 'lasso', 'cormac', 'toupee', 'kubakrise', 'hisotrical', 'overemphasis', 'smitrovich', 'krutonog', 'culp', 'zelikow', 'interconnection', 'merhige', 'disappointingly', 'feeble', 'flimsy', 'tightly', 'focus', 'uncomplicated', 'crouse', 'rockettes', 'finney', 'aileen', 'reinking', 'washing', 'blount', 'gossett', 'alamo', 'gries', 'alistair', 'gettysburge', 'disbelief', 'required', 'bromell', 'tracey', 'ullman', 'pledge', 'porcupine', 'clarkson', 'ingredient', 'strickland', 'waterston', 'storke', 'annabeth', 'gish', 'conchata', 'quarterback', 'planner', 'ullmann', 'dominik', 'lyndall', 'hobbs', 'barbet', 'schroeder', 'bukowsky', 'drunkard', 'cement', 'bullshitting', 'pinchot', 'eilbacher', 'axel', 'mcbride', 'whas', 'toaster', 'commerce', 'tracker', 'mercilessness', 'payphone', 'yearbook', 'nationalist', 'moller', 'ballarat', 'richmond', 'warning', 'cibrian', 'townsend', 'delirious', 'surrender', 'ox', 'wreath', 'zzz', 'spieldberg', 'worrell', 'varney', 'accused', 'log', 'profoundly', 'delaware', 'homefront', 'hypochondriac', 'impossibly', 'hedonism', 'decadance', 'lost', 'conti', 'skeletor', 'coattail', 'wishful', 'jadite', 'willd', 'angkor', 'wat', 'tiff', 'firendship', 'mmm', 'jaoui', 'bacri', 'classmates', 'recess', 'dogsitter', 'horniness', 'demian', 'lichtenstein', 'correctional', 'expiation', 'cache', 'miquelon', 'unstereotypical', 'minahan', 'report', 'sagemiller', 'nighy', 'klum', 'magus', 'panis', 'angelicus', 'mitvah', 'synagogue', 'entrepreneurs', 'lifespan', 'translate', 'impair', 'vagabond', 'hector', 'babenco', 'sybil', 'danning', 'cookie', 'provide', 'andersen', 'revivalism', 'charlatan', 'swindler', 'bachelorhood', 'emeric', 'pressburger', 'livesy', 'phibes', 'fuest', 'freda', 'suzan', 'collective', 'deran', 'sarafian', 'sheldon', 'lettich', 'gynecological', 'polka', 'dot', 'schoeffling', 'pfarrer', 'detectives', 'soliliquy', 'cinematograhy', 'hercule', 'poirot', 'shipboard', 'agatha', 'defenestration', 'defector', 'colleciton', 'exagerated', 'kommunism', 'russians', 'insulin', 'reverse', 'backwards', 'crimen', 'memoria', 'teaser', 'psichological', 'semiotic', 'shitty', 'whore', 'μου', 'την', 'έσπασε', 'η', 'αρχή', 'ο', 'πρωταγωνιστής', 'μοιάζει', 'με', 'κουράδα', 'πούστης', 'πουτάνα', 'σκατά', 'τους', 'γαμάω', 'τη', 'μάνα', 'στα', 'ψωφόκωλος', 'anterograde', 'unclear', 'homocide', 'originality', 'scoundrel', 'pressly', 'panama', 'carre', 'gonzalez', 'inarritu', 'gonzález', 'iñárritu', 'rodrigo', 'prieto', 'gael', 'garcía', 'bernal', 'threats', 'penã', 'ã', 'flatulence', 'pikachu', 'pokémon', 'unorganized', 'darcy', 'dennie', 'adequate', 'pawn', 'subliminal', 'homoeroticism', 'greyson', 'truise', 'ultraviolence', 'coccaine', 'eighty', 'mobb', 'sucking', 'canister', 'headline', 'violation', 'oded', 'fehr', 'dwayne', 'shinji', 'aoyama', 'ozon', 'cleopatra', 'changeling', 'lysette', 'carthy', 'hoover', 'winnebago', 'allosaurus', 'conan', 'leni', 'riefenstahl', 'familial', 'exeter', 'nero', 'convince', 'correct', 'parten', 'lily', 'tomlin', 'plumber', 'macgraw', 'bornholm', 'feudalism', 'karlsson', 'safe', 'silhouette', 'dassin', 'bettany', 'shannyn', 'sossamon', 'knoll', 'combination', 'tudyk', 'shlock', 'innuendo', 'chaucer', 'namibia', 'mandoki', 'supressed', 'shrek', 'enchantment', 'lordship', 'mke', 'dilute', 'layer', 'cleanse', 'oneself', 'cummings', 'meme', 'adamson', 'sat', 'comedia', 'utterly', 'ogres', 'absinthe', 'cancan', 'traviata', 'moulin', 'orpheus', 'eurydice', 'sountrack', 'bohemia', 'appal', 'doolittle', 'token', 'warhawk', 'yak', 'stetson', 'rasicm', 'hey', 'gringo', 'burden', 'horst', 'buchholz', 'lousy', 'cripple', 'stagecoach', 'furthman', 'brackett', 'angie', 'dickinson', 'precinct', 'dorado', 'taipei', 'enlighten', 'resonant', 'taiwan', 'partial', 'scavenger', 'bornedal', 'gunboat', 'intermission', 'coolie', 'kuomintang', 'pidgin', 'raffaella', 'carrà', 'virility', 'greenfield', 'cozy', 'bezucha', 'arye', 'nan', 'underneath', 'daivd', 'douchebag', 'ducovnie', 'lax', 'unreaslistic', 'generous', 'hrebejk', 'siskova', 'bolek', 'polivka', 'jaroslav', 'dusek', 'millenial', 'pianosa', 'armenian', 'botes', 'relentless', 'lao', 'revuegirls', 'grable', 'ewell', 'revue', 'serenade', 'dorsey', 'croft', 'disappointment', 'ação', 'tune', 'jordana', 'brewster', 'furious', 'manly', 'aldiss', 'inverted', 'dystop', 'bootlegger', 'fatherhood', 'passive', 'ruthless', 'nobody', 'glazer', 'mcshane', 'winstone', 'kündigung', 'grange', 'nahon', 'faris', 'pare', 'banned', 'hanoi', 'sensuous', 'monicelli', 'needham', 'elam', 'farr', 'hui', 'buckman', 'bradshaw', 'lamborghini', 'cannonball', 'illegality', 'chambermaid', 'clinic', 'polynesia', 'cesar', 'premature', 'faust', 'johann', 'goethe', 'renunciation', 'noisy', 'intertitles', 'nihilist', 'knew', 'fearful', 'magick', 'strother', 'bigot', 'vlis', 'xray', 'endo', 'ganja', 'muggle', 'newsroom', 'laundromat', 'peyote', 'sirk', 'harriet', 'andersson', 'josephson', 'marsupial', 'tasmanian', 'thylacine', 'lycanthropy', 'convertable', 'decker', 'meeker', 'aquitaine', 'melville', 'baseheart', 'mackendrick', 'donnell', 'milner', 'elmer', 'howe', 'hunsecker', 'sheckley', 'restoration', 'hexen', 'daria', 'nicolodi', 'nunchaku', 'wei', 'jiaxiang', 'brucesploitation', 'clouse', 'megasound', 'distance', 'gaia', 'equilibrium', 'hironobu', 'sakaguchi', 'moto', 'sakakibara', 'chihuahua', 'prove', 'superficiality', 'whitherspoon', 'femininity', 'luketic', 'universitate', 'entitlement', 'ditzy', 'reesewitherspoon', 'scepter', 'schutze', 'bijou', 'stahl', 'fitzpatrick', 'prearrange', 'bliss', 'vimeo', 'nwave', 'iwerks', 'vejez', 'bodyswitch', 'galati', 'violencized', 'tobias', 'aikido', 'proletariat', 'finnish', 'aki', 'kaurismäki', 'cardiomyopathy', 'biloxi', 'mathew', 'bebop', 'electroconvulsive', 'freezer', 'liquefaction', 'arkush', 'fuzzy', 'nuytten', 'attitude', 'amos', 'barbershop', 'pickle', 'micklin', 'roches', 'culprit', 'durk', 'pearson', 'bedtime', 'ruprecht', 'crumbling', 'coroner', 'suffolk', 'elvira', 'backpack', 'stroller', 'extinction', 'rwanda', 'howl', 'yoko', 'ono', 'solt', 'derbyshire', 'charmer', 'worm', 'donohoe', 'wyrm', 'capaldi', 'bram', 'vulkan', 'teem', 'license', 'rosenheim', 'percy', 'adlon', 'marianne', 'louisville', 'paramedic', 'clu', 'gulager', 'calfa', 'mathews', 'cremation', 'brumbies', 'brumby', 'overflow', 'colt', 'stockman', 'bayly', 'sigrid', 'burlinson', 'austrialian', 'paterson', 'ballad', 'protestors', 'certificate', 'haiti', 'zombification', 'wade', 'childlike', 'devastate', 'sluizer', 'bervoets', 'newscaster', 'thick', 'myme', 'shinya', 'tsukamoto', 'grainy', 'rowdy', 'thumb', 'geniuses', 'habit', 'stray', 'musuem', 'mancini', 'eberhardt', 'curie', 'nobel', 'tasmania', 'gaijin', 'dudikoff', 'firstenberg', 'dudikof', 'radler', 'tae', 'kwon', 'bonaparte', 'presentation', 'sigmund', 'freud', 'socrates', 'excrutiating', 'zatoichi', 'shô', 'kosugi', 'dye', 'rabe', 'heilmittel', 'apocaypse', 'euzhan', 'palcy', 'discotheque', 'nosy', 'nontypical', 'cancel', 'borneo', 'impress', 'righteousness', 'lahti', 'mentorship', 'zakes', 'mokae', 'paulina', 'porizkova', 'advertise', 'ellenn', 'reconstruction', 'perfume', 'denys', 'arcand', 'portrays', 'meister', 'phuket', 'disalle', 'obedience', 'alteration', 'maximum', 'vigoda', 'mollie', 'milwaukee', 'sole', 'acopocalypse', 'jarnatt', 'lister', 'jilette', 'prankster', 'spetsnaz', 'uprising', 'helpful', 'zito', 'spinosaurus', 'mo', 'japon', 'plaster', 'scarlett', 'johansson', 'disaffect', 'funke', 'molestation', 'schoolmasterly', 'accordion', 'pescara', 'plumb', 'supplier', 'silvio', 'soldini', 'kiyoshi', 'netflixbacklist', 'hershman', 'wain', 'truglio', 'marino', 'herrington', 'jodorowsky', 'severe', 'parliament', 'bored', 'electricity', 'astral', 'projection', 'bulldozer', 'electrokenesis', 'mitch', 'raye', 'hollitt', 'mail', 'stepdad', 'magnoli', 'sammy', 'kanew', 'drool', 'bulldog', 'yankovic', 'backfire', 'outlandish', 'candelabrum', 'gymnastics', 'fairfield', 'leeson', 'powerglove', 'druid', 'cringe', 'paula', 'conga', 'ambrosia', 'algonquin', 'spaak', 'karel', 'reisz', 'basket', 'grower', 'elizondo', 'jakie', 'piven', 'outtake', 'roselyn', 'sanchez', 'phobia', 'weirdtopia', 'cameroon', 'uptight', 'edouard', 'molinaro', 'seberg', 'reward', 'deprivation', 'sensory', 'ambitious', 'friggin', 'orangutang', 'superglue', 'tantra', 'flu', 'applies', 'photosensitivity', 'completely', 'othello', 'historicaly', 'trumpet', 'mcgehee', 'cillian', 'carney', 'asbestos', 'hazmat', 'sexton', 'iii', 'nyctophobia', 'guilfoyle', 'gevedon', 'para', 'kauhu', 'leffa', 'ikuna', 'mullan', 'mandolin', 'fails', 'preisgeld', 'breckin', 'vieluf', 'letterbox', 'lizzy', 'borden', 'palmdale', 'larceny', 'gigantic', 'bluntman', 'chronic', 'scooby', 'batter', 'cavern', 'ram', 'dumbass', 'éva', 'gárdos', 'maturity', 'moodysson', 'tender', 'scandinavian', 'maría', 'ripoll', 'roadtrip', 'creep', 'reveal', 'columbine', 'lustig', 'vixen', 'sacrificial', 'proper', 'wicker', 'treu', 'heigl', 'discontentedness', 'displeasedness', 'afghan', 'dano', 'cuesta', 'inflation', 'forebode', 'hellish', 'underling', 'weimar', 'goetzke', 'rudolf', 'kindertransport', 'evacuees', 'evacuee', 'sackheim', 'giraldi', 'processing', 'procrastination', 'gadfly', 'gator', 'mariah', 'snoop', 'dogg', 'ayer', 'dre', 'clearplay', 'mendez', 'edet', 'belzberg', 'bucharest', 'romanian', 'carlson', 'enigma', 'coldness', 'desolateness', 'corbucci', 'trintignant', 'wide', 'angle', 'menshov', 'faustian', 'flintlock', 'dusan', 'makavejev', 'watcher', 'caron', 'greyhound', 'financier', 'bacherol', 'cash', 'queasy', 'duryea', 'sinkendes', 'schiff', 'merrill', 'goat', 'cinnamon', 'slovakia', 'elmar', 'klos', 'ján', 'kadár', 'disconcert', 'silkwood', 'franc', 'roddam', 'shuttle', 'rubbery', 'bronko', 'nagurski', 'clairvoyant', 'culvert', 'float', 'tube', 'slip', 'chime', 'yelchin', 'mindless', 'ridiculously', 'goodlooking', 'rivette', 'hinson', 'cb', 'poky', 'zena', 'epictetus', 'grisman', 'lucrecia', 'martel', 'fuller', 'lecturer', 'recital', 'opry', 'honkytonk', 'rassengesetzte', 'gerad', 'galifianakis', 'pritts', 'yen', 'breillat', 'reboux', 'greatsoundtrack', 'davidlynch', 'angelobadalamenti', 'harring', 'inconclusive', 'badalamenti', 'fartsy', 'phantasmagoric', 'appeling', 'identites', 'harrington', 'religon', 'expositive', 'magnum', 'elephone', 'riesner', 'heims', 'callahan', 'kobart', 'burtt', 'dolby', 'ch', 'constable', 'milkman', 'orthodox', 'mir', 'persia', 'amputation', 'cha', 'trampoline', 'ripper', 'robbie', 'coltrane', 'trebuchet', 'hanif', 'kureishi', 'predestination', 'lucidity', 'neuroscience', 'wordy', 'everrrrrrr', 'conclusion', 'gearworks', 'mear', 'watership', 'realisation', 'wyle', 'emo', 'agnosticism', 'christiensen', 'condescend', 'alot', 'momentum', 'sandi', 'simcha', 'dubowski', 'hasid', 'chameleon', 'conspirator', 'coworkers', 'gibbs', 'docter', 'disruptive', 'bạn', 'bè', 'multiverse', 'rudeness', 'attractiveness', 'viterelli', 'anyway', 'fatphobic', 'caller', 'disgruntle', 'rider', 'eminem', 'ludacris', 'centaurs', 'exuberant', 'rowling', 'grint', 'meddle', 'basilisk', 'fixed', 'mindset', 'murky', 'overcast', 'radcliffe', 'hogwarts', 'jk', 'fantacy', 'imposture', 'protege', 'dillane', 'neither', 'purely', 'casper', 'backbone', 'beyond', 'credibility', 'conductor', 'weltverbesserer', 'belmondo', 'midway', 'smight', 'fdr', 'roosevelt', 'trivializes', 'olive', 'higgins', 'prouty', 'manslaughter', 'bucket', 'lausanne', 'trophy', 'hitchiking', 'exhibitionism', 'demonization', 'hardboiled', 'lynchian', 'collinson', 'perform', 'cara', 'nolstalga', 'gribende', 'solidt', 'lol', 'bless', 'ornella', 'muti', 'quicksand', 'hollow', 'fargo', 'schurr', 'jocelyn', 'doane', 'extradition', 'gauntlet', 'survive', 'atheistic', 'biplane', 'pterodactyl', 'stegosaurus', 'lawford', 'sicilian', 'otoole', 'bosnia', 'herzegovina', 'peacekeeping', 'vinscon', 'bosnianwar', 'genocideinbosnia', 'mashkov', 'antoinette', 'explosives', 'pacey', 'shaobo', 'qin', 'radioactivity', 'danis', 'tanovic', 'scathing', 'duplicity', 'clair', 'cleavent', 'derricks', 'smarmy', 'filmed', 'tautou', 'matchmaker', 'beneficence', 'tiersen', 'yann', 'innoncence', 'tatou', 'jamel', 'debbouze', 'whimsy', 'weired', 'unable', 'audrrey', 'serge', 'gallen', 'fatastic', 'tomcruise', 'comprehensive', 'purple', 'thinker', 'pflegen', 'photographic', 'murdoch', 'taliban', 'flix', 'hw', 'comeedy', 'reeeeeeaaaally', 'fade', 'glory', 'narrration', 'diabolical', 'pünktlichkeit', 'valiant', 'hobgoblin', 'hymn', 'bunyan', 'norwich', 'pilgrim', 'mindreading', 'fancy', 'hemmings', 'taekwondo', 'waif', 'mcnabb', 'bleckner', 'canon', 'dove', 'pillbox', 'redman', 'wimp', 'facile', 'lieve', 'psuedo', 'collide', 'endlessly', 'zzzzzzzzzzzzzz', 'orcs', 'gandalf', 'gollum', 'philippa', 'boyens', 'hobbits', 'arwen', 'frodo', 'mithology', 'comraderie', 'huac', 'sloane', 'demunn', 'committee', 'theorem', 'princeton', 'brilliance', 'nash', 'dimentia', 'matemathic', 'childless', 'chatterton', 'apart', 'fling', 'kindred', 'haskell', 'zoltan', 'stoned', 'birdie', 'num', 'nums', 'sadly', 'leitmotif', 'dagger', 'alibi', 'kurnitz', 'wilfrid', 'robarts', 'muhammed', 'delta', 'somalia', 'militia', 'bowden', 'instead', 'genderbending', 'shtetl', 'yeshiva', 'yiddish', 'fellowes', 'locked', 'hut', 'bono', 'parenting', 'heartwrenching', 'newfoundland', 'proulx', 'syndicate', 'cadaver', 'marple', 'dirk', 'bogarde', 'pinter', 'losey', 'manservant', 'gullibility', 'gaslight', 'jimenez', 'gévaudan', 'unforgattable', 'christophe', 'gans', 'exotica', 'sequelitis', 'tsai', 'thames', 'tyrone', 'fumihiko', 'takayama', 'katsuhisa', 'yamada', 'brood', 'landslide', 'caitlin', 'ilm', 'trickery', 'wilt', 'animed', 'hardly', 'currie', 'kandice', 'stroh', 'kellerman', 'baio', 'forcefield', 'shelf', 'fome', 'tragicomic', 'scherfig', 'binder', 'hath', 'wrought', 'watching', 'altmann', 'painless', 'salome', 'jens', 'frain', 'père', 'wolpert', 'semejantes', 'posen', 'guzman', 'adapation', 'rad', 'malta', 'mothman', 'chilling', 'wirginia', 'shankman', 'comitment', 'heartrending', 'weepy', 'xiaoshuai', 'berlinale', 'mecha', 'villeneuve', 'synthetic', 'tezuka', 'rintaro', 'ozuka', 'tauchen', 'bloodhound', 'nosebleed', 'dilaogue', 'stricken', 'bisset', 'bynes', 'plagerism', 'columbian', 'rollerskating', 'rollerderby', 'macbeth', 'overwrought', 'aviator', 'godfather', 'seiter', 'alpine', 'grinder', 'wicked', 'dwan', 'obscene', 'basque', 'britney', 'tarryn', 'tribunal', 'kearns', 'stolhanske', 'chandrasekhar', 'soter', 'syrup', 'chug', 'disbelieve', 'uncover', 'opportunity', 'escapee', 'driving', 'sportswriter', 'punchy', 'malaga', 'interstate', 'mantis', 'dragonfly', 'humanitarian', 'qotd', 'squeeze', 'lestat', 'aaliyah', 'embarassing', 'skolnick', 'arranger', 'lillete', 'dubey', 'naseeruddin', 'shah', 'shefali', 'shetty', 'tillotama', 'shome', 'vijay', 'raaz', 'nair', 'magnolia', 'turntablism', 'abdul', 'czechoslovak', 'abilene', 'reservation', 'selander', 'yoshiaki', 'kawajiri', 'bibi', 'thulin', 'comming', 'grab', 'reagan', 'abstinance', 'ganska', 'krigsrulle', 'vampirism', 'creek', 'logger', 'kroyer', 'davidovich', 'crotch', 'storem', 'epps', 'bray', 'badelt', 'pearse', 'mumba', 'mankind', 'farmland', 'fleck', 'tarkington', 'rko', 'holt', 'rafal', 'zielinski', 'cockfight', 'cost', 'ventriloquist', 'bottin', 'weiblicher', 'regisseurin', 'slobodan', 'sijan', 'rollin', 'libya', 'arabs', 'moustapha', 'akkad', 'papa', 'clemence', 'keach', 'seer', 'fatigue', 'lluvia', 'dorada', 'rot', 'mammoth', 'romano', 'excelente', 'saldanha', 'wedge', 'mamut', 'limitation', 'resident', 'balkan', 'painfully', 'israeli', 'palestinian', 'bolado', 'barrington', 'luna', 'verdãº', 'hectic', 'verdu', 'limada', 'lifelike', 'cuaron', 'gayness', 'hottie', 'lanuage', 'barabbas', 'mcleod', 'schertzinger', 'zanzibar', 'eaton', 'stockbridge', 'endte', 'ind', 'medrivende', 'startede', 'kedeligt', 'intetsigende', 'hostile', 'gather', 'shogun', 'transportation', 'coca', 'cola', 'transparent', 'wheeler', 'trucking', 'gran', 'canaria', 'kanarieöarna', 'åberg', 'delano', 'teheran', 'lasersight', 'subjective', 'improve', 'albeit', 'roofie', 'greenlight', 'duplicate', 'dany', 'kristen', 'espy', 'submissive', 'huppert', 'haneke', 'domineering', 'cantet', 'organizer', 'organiser', 'fetisch', 'chopin', 'kernochan', 'bickley', 'finder', 'zeltser', 'doggystyle', 'exposé', 'unfunniest', 'jayne', 'loader', 'hyer', 'scientifically', 'ludicrous', 'woodcutter', 'boléro', 'dishonour', 'eyebrows', 'remorse', 'moraly', 'applegate', 'gondry', 'ethologist', 'sapient', 'nia', 'vardalos', 'gia', 'caryatid', 'corbett', 'mandylor', 'modify', 'fornication', 'drought', 'delmer', 'daves', 'construct', 'luggage', 'ukulele', 'salvo', 'cub', 'loryn', 'locklin', 'solteros', 'windeln', 'gosling', 'bruckner', 'hu', 'cipher', 'bletchley', 'bletchly', 'swindle', 'forgery', 'bielinsky', 'fabián', 'gastón', 'darín', 'leticia', 'bredice', 'peralta', 'gunn', 'gunrunner', 'eller', 'rytme', 'ved', 'ro', 'kørte', 'derudaf', 'fantastisk', 'karaktererne', 'miljøet', 'overvejer', 'bedste', 'oppe', 'tror', 'contempt', 'scatological', 'lesbians', 'erotism', 'otis', 'ditko', 'wilhem', 'spiderman', 'dualism', 'discshop', 'lovelorn', 'germ', 'haid', 'yukon', 'qualls', 'decter', 'else', 'arousal', 'multiculturalism', 'chukhrai', 'keel', 'loveless', 'dillinger', 'hoult', 'tired', 'screenwroter', 'kendo', 'spaceport', 'alens', 'droids', 'jango', 'mace', 'windu', 'equestrian', 'hussar', 'lancer', 'bić', 'się', 'bohater', 'klub', 'nocny', 'muzyka', 'policja', 'tatuaż', 'ramieniu', 'twarda', 'dziewczyna', 'walka', 'pięści', 'uliczna', 'walki', 'wręcz', 'mavis', 'staple', 'peninsular', 'spousal', 'hillary', 'nikolaj', 'frobenius', 'consequence', 'demale', 'eyebrow', 'suitable', 'jill', 'sprecher', 'corcoran', 'widmark', 'taradash', 'cooler', 'rommel', 'trumbull', 'botany', 'ecosystem', 'glue', 'langley', 'alike', 'conciliation', 'outré', 'phair', 'zacharias', 'kunuk', 'moodwishlist', 'amsnesia', 'consipracy', 'deposit', 'ludlum', 'coldwar', 'bourne', 'kali', 'fist', 'cardellini', 'pyrotechnic', 'encryption', 'nicholar', 'linguistics', 'machete', 'sledgehammer', 'mcguigan', 'raf', 'draft', 'dodger', 'horatio', 'alger', 'cementery', 'netherlands', 'pederasty', 'mcgill', 'connect', 'anatole', 'litvak', 'pellet', 'phrenology', 'trillogy', 'vaughan', 'deblois', 'ohana', 'minority', 'vulnerability', 'blury', 'climatic', 'aboriginal', 'perth', 'deternination', 'particlarly', 'aboregines', 'sharpton', 'liposuction', 'filipino', 'workshop', 'relay', 'stepford', 'indecisive', 'monolog', 'ropelewski', 'yonkers', 'ruhl', 'knoxville', 'underestimated', 'lowest', 'common', 'denominator', 'trio', 'relatonship', 'codependence', 'dragonslayer', 'repellent', 'iodine', 'northumberland', 'bowman', 'skydiving', 'homework', 'limey', 'rayner', 'hoechlin', 'shunji', 'iwai', 'ayumi', 'ito', 'hayato', 'ichihara', 'izumi', 'inamori', 'miwako', 'shã', 'oshinari', 'osawa', 'yvan', 'attal', 'goofball', 'etiquette', 'tutin', 'aerobics', 'fitness', 'silva', 'deutsche', 'humbug', 'rainer', 'fassbinder', 'fouke', 'semprãºn', 'katee', 'sackhoff', 'tyra', 'busta', 'formentera', 'contamination', 'forklift', 'ellory', 'elkayem', 'newclear', 'политрук', 'sumo', 'ringer', 'beyonce', 'winick', 'legionaire', 'resignation', 'kinsky', 'flint', 'luchino', 'visconti', 'holding', 'selflessness', 'autoradio', 'gutteridge', 'andelin', 'cuteness', 'unstupid', 'plebian', 'conventionality', 'temperamental', 'tragicomedy', 'anniston', 'arteta', 'houseboat', 'seeker', 'csokas', 'fitter', 'rammstein', 'villan', 'division', 'pegg', 'broomfield', 'peretz', 'minimalism', 'babak', 'payami', 'kwan', 'trivialism', 'audiard', 'devos', 'bosworth', 'cameraderie', 'martina', 'gedeck', 'nettelbeck', 'sexier', 'foible', 'punctuality', 'spontaneousness', 'mourn', 'piquant', 'philology', 'tendency', 'psychopaths', 'romanek', 'cheeky', 'studi', 'kraken', 'medusa', 'pegasus', 'perseus', 'poseidon', 'mytholog', 'bowker', 'bollock', 'popycock', 'gland', 'disparate', 'familiar', 'blitz', 'wadleigh', 'homepage', 'industrialisation', 'taylorism', 'swimmer', 'hale', 'marilu', 'henner', 'dimitri', 'chickens', 'snuff', 'thesis', 'cedric', 'qi', 'shu', 'schulze', 'precision', 'patenonkel', 'steer', 'addition', 'sailing', 'briarville', 'camper', 'inbreeding', 'rattlesnakes', 'rv', 'ontario', 'thirty', 'amurri', 'bloke', 'bora', 'fawn', 'rattlesnake', 'clarence', 'bumbling', 'interruption', 'octogenarian', 'quintet', 'ealing', 'wilberforce', 'canal', 'lynne', 'ramsay', 'fisting', 'distinction', 'campanella', 'aleandro', 'blackbox', 'subordination', 'stanford', 'hirschbiegel', 'hossein', 'amini', 'schiffer', 'gosford', 'kink', 'pantyhose', 'healing', 'shainberg', 'paralegal', 'incidental', 'bsdm', 'perverse', 'mousetrap', 'youkai', 'deity', 'recognition', 'pelicula', 'childrens', 'myazaki', 'plucky', 'others', 'yokai', 'subtitiled', 'susuwatari', 'daveigh', 'jarecki', 'hitchens', 'idiom', 'amc', 'idioms', 'evangelicalism', 'anderegg', 'ryoko', 'hirosue', 'krawczyk', 'reba', 'prequelto', 'serialkiller', 'realize', 'greengrass', 'julianna', 'margulies', 'mosura', 'mothra', 'shobijin', 'deceptive', 'minilla', 'hull', 'pointer', 'dickey', 'stossel', 'gehrig', 'sweetheart', 'milos', 'brewery', 'sctv', 'django', 'pelissier', 'steinberg', 'sussman', 'koppelman', 'levien', 'somerhalder', 'biel', 'alexis', 'bledel', 'inmortality', 'lohman', 'kosminsky', 'faulty', 'agenda', 'broca', 'celebi', 'harmonium', 'pudding', 'goretastic', 'ringu', 'japanesse', 'rund', 'rennaisance', 'crane', 'sandman', 'cardoso', 'palacio', 'rusia', 'patronize', 'birmingham', 'maintaining', 'neglected', 'chidren', 'isao', 'takahata', 'ridgeway', 'manero', 'copperfield', 'rustler', 'vet', 'welding', 'prosecutor', 'yell', 'philidelphia', 'masturation', 'steadicam', 'wakeman', 'chaim', 'potok', 'wajda', 'shusett', 'mortician', 'necromancy', 'walking', 'incubus', 'tractor', 'allied', 'mondo', 'gallipoli', 'assumption', 'tactic', 'lino', 'gota', 'kanal', 'racoon', 'impotent', 'zurich', 'adenauer', 'coburg', 'brd', 'advertisment', 'friz', 'freleng', 'chiniquy', 'bareja', 'bronislaw', 'pawlik', 'jerzy', 'turek', 'tym', 'wast', 'genetically', 'modified', 'protester', 'protector', 'lautner', 'ziering', 'lewd', 'counterpoint', 'poststructuralism', 'cultured', 'lolz', 'summary', 'tremaine', 'frida', 'kahlo', 'patron', 'kidd', 'lothario', 'zealot', 'pabulum', 'djibouti', 'haworth', 'admiration', 'tippy', 'mur', 'grenier', 'hennessy', 'murphey', 'broomstick', 'dobby', 'clap', 'celibacy', 'justman', 'selfish', 'harmon', 'walbrook', 'livesey', 'raver', 'curling', 'curl', 'ammonite', 'escaped', 'cy', 'endfield', 'molotov', 'politcs', 'houdini', 'less', 'autosuggestion', 'embellished', 'administration', 'tart', 'suppe', 'wetland', 'egyptologist', 'deadbeat', 'lurker', 'korea', 'svcd', 'bednob', 'raboy', 'crenshaw', 'torera', 'lonelyness', 'leonor', 'watling', 'grandinetti', 'javier', 'flores', 'hanukkah', 'develop', 'solyaris', 'spiteful', 'aural', 'unrevealed', 'kreuzberg', 'squatter', 'mythomania', 'pathological', 'aleksey', 'balabanov', 'eldar', 'ryazanov', 'subject', 'cooperation', 'diffidence', 'ludo', 'oslo', 'outpatient', 'routine', 'næss', 'camille', 'genital', 'glorifies', 'hater', 'dirigible', 'dirigibles', 'debüt', 'knee', 'groin', 'triple', 'zulu', 'phsycology', 'orchid', 'laroche', 'wimmer', 'frag', 'choreographic', 'phase', 'dion', 'epiphany', 'revelatory', 'equador', 'dedicate', 'medea', 'pasolini', 'euripides', 'protgonist', 'miike', 'coverging', 'ska', 'juliusz', 'machulski', 'jönsson', 'mailman', 'attila', 'busty', 'corset', 'insurmountable', 'cannery', 'tad', 'turkish', 'bartel', 'mcadams', 'romulus', 'romulan', 'mullet', 'empathise', 'hardware', 'espanol', 'achero', 'fresnadillo', 'orc', 'serkis', 'boyd', 'wenham', 'monaghan', 'load', 'pepper', 'managment', 'sunk', 'cheeseball', 'dependence', 'trump', 'volume', 'carnahan', 'policewoman', 'libel', 'shir', 'strasbourg', 'waterloo', 'dreiser', 'thirst', 'willeford', 'chlumsky', 'ebersole', 'masur', 'tuba', 'parlor', 'hisaishi', 'shintoism', 'totoro', 'berger', 'whelan', 'sabu', 'wyndham', 'bwahaha', 'bodysnatchers', 'subjection', 'aestethic', 'reue', 'donnelly', 'messenger', 'mislay', 'caprio', 'counterfeiter', 'joie', 'vivre', 'matron', 'dislikeable', 'fifteen', 'ask', 'stodgy', 'dalloway', 'harwood', 'wladyslaw', 'szpilman', 'emilia', 'finlay', 'lipman', 'kretschmann', 'worl', 'encyclopedia', 'whorf', 'devolve', 'gatling', 'huff', 'ps', 'microfilm', 'wurman', 'sigel', 'barris', 'engvall', 'gum', 'innacurate', 'mcnally', 'safety', 'colm', 'feore', 'robinne', 'busfield', 'choppy', 'seu', 'braga', 'favela', 'favelas', 'meirelles', 'matheus', 'nachtergaele', 'kátia', 'lund', 'bráulio', 'mantovani', 'paulo', 'lins', 'slam', 'cidade', 'invigorate', 'scum', 'frightning', 'decade', 'suleiman', 'louvre', 'overall', 'dolores', 'acapulco', 'sigh', 'wacks', 'algiers', 'duvivier', 'quennessen', 'caulfield', 'liebesman', 'ion', 'caramitru', 'armand', 'amar', 'mühe', 'tukur', 'grumberg', 'subjectivity', 'othmar', 'schmiderer', 'refection', 'henzell', 'rudies', 'lawes', 'bartley', 'lucia', 'redwood', 'crete', 'emerald', 'coline', 'serreau', 'moynahan', 'lipinski', 'macht', 'daisy', 'scherler', 'quixote', 'pepe', 'bettis', 'sisto', 'ocular', 'avoidant', 'nudist', 'boulting', 'gangland', 'dearden', 'syms', 'alfredson', 'dismiss', 'kampfjet', 'gendarmerie', 'gendarme', 'borsos', 'whorehouse', 'tammy', 'electro', 'neon', 'hamlin', 'makler', 'mayron', 'skit', 'skolimowski', 'taviani', 'ettore', 'scola', 'operetta', 'malaya', 'functionary', 'lodz', 'stimulate', 'stalinism', 'genet', 'layton', 'neglect', 'moro', 'observant', 'erice', 'garci', 'pessimistic', 'canine', 'serif', 'gören', 'yilmaz', 'güney', 'hamlisch', 'heteronormative', 'pander', 'dumber', 'dobkin', 'hazardous', 'elektra', 'mango', 'shake', 'vulture', 'erotomania', 'colombani', 'luessenhop', 'stallion', 'zoetrope', 'rutherford', 'tenement', 'secession', 'condena', 'pacifistas', 'lacan', 'phantasy', 'winslett', 'mouth', 'resuscitation', 'streak', 'cuthbert', 'pompeo', 'mads', 'mikkelsen', 'susanne', 'bier', 'moskowitz', 'lentissima', 'kumma', 'dover', 'koshashvili', 'fielder', 'jacksonville', 'nigeria', 'eamonn', 'messner', 'americanada', 'constantly', 'rotate', 'strobe', 'simplement', 'morbo', 'stobe', 'cambridge', 'dissertation', 'lp', 'spinning', 'barlow', 'merab', 'ninidze', 'kenia', 'multicultural', 'sikh', 'parminder', 'nagra', 'gurinder', 'chadha', 'multiethnic', 'torro', 'degradation', 'cctv', 'crank', 'needlepoint', 'veterinary', 'bulldyke', 'rakhshan', 'etemad', 'calumny', 'collusion', 'chevrolet', 'hellman', 'lioness', 'warthog', 'kanin', 'sox', 'immigrants', 'nakata', 'hiroyuki', 'sanada', 'rikiya', 'otaka', 'sadako', 'yamamura', 'vengeful', 'bombay', 'mumbai', 'akward', 'hemorrhage', 'robb', 'damian', 'dreamcatcher', 'keenleyside', 'dreamdontcatch', 'stojka', 'kath', 'soucie', 'fresco', 'vilgot', 'sjöman', 'olaf', 'bresson', 'lager', 'chubby', 'checker', 'magnetic', 'sollett', 'molestor', 'bafta', 'disenchantment', 'insecure', 'possessive', 'reckless', 'volatility', 'grahame', 'richert', 'revange', 'item', 'collin', 'farrel', 'nicely', 'minimalistic', 'stuck', 'shinichirô', 'bazaar', 'marketplace', 'solomon', 'heilsarmee', 'execute', 'finnland', 'jolies', 'lips', 'oceanic', 'estonia', 'sniff', 'italianetz', 'oksana', 'akinshina', 'estonian', 'wiebke', 'carolsfeld', 'chopra', 'superpowered', 'timer', 'shia', 'leboeuf', 'sachar', 'walden', 'ornithology', 'pelican', 'stork', 'cluzaud', 'perrin', 'jensen', 'primal', 'dweebs', 'chauvinism', 'frequency', 'bruin', 'oskar', 'wilco', 'gorham', 'folau', 'miriama', 'lds', 'ration', 'bakula', 'healthy', 'quincy', 'trini', 'alvarado', 'isolated', 'cooney', 'dryer', 'melamed', 'exploitive', 'likable', 'spelling', 'fl', 'lamberg', 'hallie', 'duff', 'display', 'moncrieff', 'bahman', 'ghobadi', 'daycare', 'kindergarten', 'buracracy', 'baltasar', 'kormákur', 'reykjavik', 'moralize', 'hastily', 'laputa', 'dieselpunk', 'roadie', 'metrovision', 'essie', 'ready', 'cinephilia', 'buff', 'christlieb', 'kijak', 'erasmus', 'latios', 'carell', 'almighty', 'tipical', 'schnack', 'emanuele', 'crialese', 'clownfish', 'spongebob', 'squarepants', 'degeneres', 'dishonest', 'myfav', 'bubblegum', 'straightforward', 'chriqui', 'schmidt', 'zegers', 'ka', 'pretto', 'mend', 'aoki', 'niki', 'keisha', 'rawiri', 'paratene', 'vicky', 'haughton', 'cheesecake', 'propoganda', 'motorsport', 'katzin', 'elga', 'kleiner', 'lestrade', 'landgard', 'janice', 'kinderfilm', 'sloppy', 'lawman', 'brand', 'courtenay', 'woodward', 'payroll', 'sob', 'nesbit', 'winchester', 'dziga', 'vertov', 'hog', 'mosquito', 'baffling', 'luftwaffe', 'trueba', 'zarzuela', 'loeffler', 'grandeur', 'intermarriage', 'companionship', 'mostel', 'flaherty', 'granger', 'nave', 'bismark', 'ace', 'kafka', 'survivalism', 'bürgerkrieg', 'meriweather', 'marian', 'mccargo', 'yeager', 'kenan', 'kel', 'jarman', 'idi', 'amin', 'interacial', 'uganda', 'clouzot', 'garrett', 'primo', 'levi', 'housesitting', 'impersonate', 'neely', 'scacchi', 'ava', 'fact', 'guarini', 'goon', 'danièle', 'sergi', 'eason', 'webcam', 'okkupation', 'schildkraut', 'bioweapon', 'lorrimer', 'gleeson', 'naomie', 'huntley', 'harnett', 'pandemic', 'zombiefest', 'chad', 'gril', 'jaclyn', 'motocross', 'migrant', 'loincloth', 'transcendental', 'krish', 'sykes', 'nativity', 'tres', 'bien', 'faite', 'neighbour', 'dictionary', 'striesand', 'daddy', 'overambitious', 'regina', 'sequal', 'eris', 'efects', 'nanotechnology', 'expletive', 'kristanna', 'loken', 'messy', 'ludivine', 'sagnier', 'innkeeper', 'capuchin', 'tortuga', 'weaponsmith', 'knightly', 'davenport', 'arenberg', 'runtime', 'modernism', 'kiera', 'malandragem', 'peta', 'quartermain', 'dorian', 'harker', 'lapland', 'sami', 'understanding', 'joyeux', 'noël', 'rogozhkin', 'dodie', 'frywell', 'romola', 'garai', 'guantánamo', 'undeveloped', 'imbruglia', 'closely', 'chiwetel', 'ejiofor', 'kidney', 'matteo', 'garrone', 'grenoble', 'kei', 'kumai', 'closing', 'plötzlicher', 'reichtum', 'pandora', 'riding', 'ultimate', 'rodriguiz', 'premiere', 'outside', 'postpone', 'due', 'millor', 'veure', 'reyes', 'gregor', 'kendrick', 'peseta', 'shipyard', 'león', 'aranda', 'felicia', 'loch', 'ness', 'mobile', 'genevieve', 'handl', 'tamara', 'toumanova', 'delroy', 'lindo', 'previous', 'january', 'cuz', 'insipid', 'unromantic', 'compulsory', 'stressful', 'switcheroo', 'renner', 'communal', 'euphoria', 'hookup', 'phallic', 'wurstsalat', 'volkman', 'kastle', 'cason', 'dortha', 'duckworth', 'higby', 'sinofsky', 'kirzinger', 'alberta', 'kongese', 'shaolin', 'dragonball', 'cantonese', 'file', 'greet', 'jellybean', 'pulcini', 'shari', 'crumb', 'slight', 'emmy', 'rossum', 'downhill', 'toth', 'hayloft', 'pre', 'dazzle', 'plimsouls', 'dazzling', 'tagawa', 'yasujiro', 'ozu', 'noriko', 'chishu', 'ryu', 'modest', 'yasujirô', 'onomichi', 'futon', 'tomorrow', 'tatami', 'clinical', 'genderlessness', 'indifference', 'utilitarianism', 'hamer', 'foreseeable', 'deli', 'uninspired', 'gotengo', 'mu', 'manda', 'undersea', 'dollmaker', 'kidnaping', 'graboids', 'seismologist', 'ariana', 'mcentire', 'bassermann', 'massine', 'marius', 'helpmann', 'bumble', '独闯龙潭', '魔鬼司令', 'actio', 'atf', 'branch', 'davidian', 'gazecki', 'obsequies', 'funereal', 'posthumous', 'purposefulness', 'virtuous', 'shinobu', 'hashimoto', 'frei', 'nsk', 'theocracy', 'gnu', 'linux', 'foundation', 'linus', 'torvalds', 'stallman', 'cc', 'eng', 'carve', 'ladybug', 'pajamas', 'lahore', 'partition', 'hinduism', 'deepa', 'mehta', 'cholera', 'tormenting', 'interpol', 'vladimír', 'michálek', 'strategy', 'labeouf', 'stickler', 'nightlife', 'meadow', 'paz', 'repentance', 'homicidal', 'cerina', 'pancake', 'horro', 'debello', 'kern', 'reinas', 'vertriloquism', 'pritikin', 'lag', 'yeung', 'nin', 'wa', 'dismissive', 'johnansson', 'comma', 'hamfisted', 'insensitive', 'inevitability', 'johannson', 'meiji', 'sengoku', 'shouwa', 'susumu', 'hirasawa', 'positioning', 'fangoria', 'dörrie', 'paintball', 'tatum', 'billboard', 'frampton', 'postmodernism', 'precipitous', 'endling', 'borzoi', 'drygoods', 'millinery', 'babra', 'janis', 'metaphorically', 'maternity', 'mauch', 'stephenson', 'ayr', 'descendant', 'lycans', 'fangs', 'vampre', 'lichen', 'grevioux', 'unthrilling', 'ossie', 'lansdale', 'pilferage', 'reiki', 'koreans', 'hentai', 'peosay', 'eytan', 'aesthetically', 'pleasing', 'recreation', 'toscana', 'ital', 'sarkissian', 'kart', 'rothhaar', 'scripture', 'lutheran', 'coixet', 'excursion', 'philibert', 'astonish', 'sylvain', 'chomet', 'bicycling', 'latvian', 'animator', 'cronnenberg', 'futurology', 'stephanie', 'arrogance', 'supposedly', 'ashutosh', 'gowariker', 'aamir', 'abby', 'astrophysics', 'anecdotic', 'beyer', 'outfit', 'mila', 'parély', 'odette', 'talazac', 'dubost', 'massot', 'zepellin', 'newmar', 'tamblyn', 'raúl', 'juliá', 'presidency', 'republicans', 'complication', 'gilles', 'mimouni', 'level', 'eucharist', 'blixen', 'compton', 'bugsy', 'siegal', 'sanitorium', 'swarm', 'electronica', 'motorhead', 'ju', 'bergin', 'fund', 'raiser', 'correctness', 'wesleyan', 'joanon', 'schoolyard', 'byelorussia', 'wehrmacht', 'aleksei', 'kravchenko', 'elem', 'klimov', 'mironova', 'adamovich', 'barbarossa', 'lemche', 'oswald', 'follansbhee', 'swerdlow', 'thoroughly', 'contrivance', 'madeira', 'shawl', 'malpratice', 'mahoney', 'cohan', 'quint', 'tang', 'karbelnikoff', 'boca', 'leland', 'stash', 'felipe', 'lacerda', 'padilha', 'briliantly', 'lehane', 'uwe', 'boll', 'horrendous', 'ona', 'grauer', 'bollocks', 'piss', 'adelstein', 'kaboom', 'cereal', 'patch', 'grym', 'chiaki', 'kuriyama', 'vivica', 'zoe', 'assa', 'blender', 'vasilas', 'flail', 'lobbyist', 'leftist', 'nispel', 'suzuki', 'plath', 'jeffs', 'ryans', 'screw', 'slut', 'chechnya', 'riley', 'tollin', 'mismatch', 'bjørne', 'brødre', 'stevie', 'rue', 'turin', 'airborne', 'truthfull', 'lanzmann', 'caravan', 'gauteng', 'zimbabwe', 'gale', 'hutterer', 'scorpion', 'cornea', 'lewinsky', 'pneumonia', 'varanasi', 'bricklayer', 'polen', 'stockholder', 'shouty', 'wentworth', 'garbus', 'boss', 'stale', 'daaamn', 'lige', 'troede', 'ying', 'dissapointment', 'pensive', 'venezuela', 'venezuelan', 'donnacha', 'chavez', 'venezula', 'neoliberalism', 'ferrel', 'schübel', 'fatfobia', 'idealistically', 'santoro', 'sleazy', 'moniz', 'martine', 'mccutcheon', 'shyer', 'looney', 'frigate', 'galapagos', 'weevil', 'tallships', 'expansive', 'lazin', 'disconnect', 'tangled', 'insignificant', 'hsnu', 'hundred', 'friel', 'interference', 'mcdonough', 'unsexy', 'hare', 'rumspringa', 'lubarsky', 'pelosi', 'conflagration', 'darkman', 'movei', 'recur', 'alberto', 'cavalcanti', 'portmanteau', 'savagery', 'information', 'retrieval', 'errand', 'importer', 'menu', 'lothar', 'pap', 'struktur', 'projekt', 'hele', 'tiden', 'forbi', 'dropper', 'potentiale', 'norad', 'inteface', 'corbin', 'modem', 'houseguest', 'fundamentalist', 'theodor', 'dreyer', 'bitt', 'bloodletting', 'martyr', 'falconetti', 'restore', 'contortionist', 'enslavement', 'leper', 'brabin', 'cabanne', 'niblo', 'ingram', 'histrionic', 'megalomania', 'somnambulism', 'somnambulist', 'tint', 'wiene', 'sonambulism', 'spoiled', 'unbelief', 'strongbox', 'langham', 'fungerer', 'kolage', 'deles', 'tekststykker', 'scenerne', 'selvom', 'samlende', 'narrativ', 'gennem', 'alle', 'passager', 'tangerende', 'firre', 'halve', 'visse', 'tidspunkter', 'teamster', 'unionization', 'lying', 'lelia', 'goldoni', 'bernt', 'clandestine', 'parisian', 'matador', 'bullfighting', 'ifs', 'varden', 'canoga', 'hanging', 'mama', 'unengaging', 'winfield', 'moorhouse', 'nadia', 'ta', 'unluckiness', 'sourcelight', 'wishing', 'yeogo', 'goedam', 'yeowoo', 'gyedan', 'authoritarian', 'spectator', 'unbereable', 'positively', 'abused', 'coprophilia', 'libertine', 'scat', 'inhumane', 'stud', 'bumbler', 'amour', 'fou', 'samling', 'scener', 'selv', 'frem', 'ét', 'sammensat', 'svinger', 'mindre', 'interessante', 'jf', 'vurdering', 'hovedpersonen', 'simpelthen', 'sød', 'langsomme', 'udforskning', 'hende', 'uden', 'sker', 'purposeful', 'lula', 'grandma', 'updike', 'carjacker', 'suv', 'prentiss', 'romy', 'scot', 'concord', 'shall', 'harlow', 'reinhardt', 'revere', 'crisp', 'juda', 'avoid', 'conquistador', 'conquest', 'cocteau', 'marais', 'apologetic', 'zhuangzhuang', 'tian', 'coincidentia', 'oppositorum', 'anamnesis', 'mircea', 'eliade', 'elsie', 'maisie', 'macfarquhar', 'noelle', 'rimmington', 'coleen', 'dru', 'rosson', 'gena', 'rowlands', 'labyorteaux', 'mabel', 'longhetti', 'calvary', 'ostracism', 'widely', 'unskillfulness', 'melvin', 'charger', 'laconic', 'ankle', 'chorine', 'crutch', 'eviction', 'backer', 'keeler', 'virginal', 'elocution', 'vendor', 'phonetics', 'learner', 'granted', 'mosque', 'carnaval', 'samba', 'camus', 'malena', 'patriot', 'greater', 'unification', 'speakeasy', 'steeplechase', 'settle', 'mathis', 'installation', 'wool', 'riedelsheimer', 'fungus', 'spores', 'wwf', 'primera', 'fluixa', 'tankjacking', 'sum', 'commissioner', 'impediment', 'yugo', 'squitur', 'uninvited', 'firbank', 'delphine', 'seyrig', 'sassard', 'calamai', 'lavia', 'nicoletta', 'elmi', 'philanderer', 'kleeblatt', 'kobold', 'gainax', 'yamaga', 'taoism', 'ornithologist', 'bujold', 'marihuana', 'welcher', 'burrowes', 'futurist', 'retrofuturistic', 'regression', 'technocracy', 'hypnose', 'dubois', 'balzac', 'sterotype', 'karsh', 'agreement', 'gettysburg', 'tomfoolery', 'saigo', 'takamori', 'honour', 'sender', 'coexist', 'conjoined', 'cuentos', 'intertwined', 'macgregor', 'cotillard', 'ecclecticly', 'teary', 'milian', 'unzertrennlich', 'delft', 'mordor', 'fatasy', 'progression', 'faculty', 'institute', 'cabinet', 'domino', 'lyndon', 'immolation', 'nyt', 'whitewash', 'shade', 'perelman', 'shohreh', 'aghdashloo', 'dubus', 'dental', 'hunnam', 'bleed', 'predict', 'simplified', 'erase', 'sumpter', 'neverland', 'softporn', 'goode', 'especially', 'berline', 'prauge', 'churchill', 'nuri', 'bilge', 'ceylan', 'bagpipes', 'risk', 'azita', 'rayeji', 'hossain', 'emadeddin', 'kamyar', 'sheisi', 'pourang', 'nakhael', 'saddiq', 'barmak', 'roar', 'tuesday', 'weld', 'capoeira', 'bretaigne', 'windust', 'odenkirk', 'bloodbath', 'angels', 'jana', 'scharf', 'theodore', 'tati', 'antidote', 'barmaid', 'fiend', 'flirtatious', 'corral', 'vichy', 'fetched', 'fetch', 'bigamy', 'maté', 'britton', 'bodybuilding', 'benecio', 'coyle', 'dockworker', 'ramon', 'menendez', 'musca', 'drivel', 'piercing', 'extravagant', 'tadanobu', 'asano', 'boredoms', 'ooioo', 'pawlikowski', 'krzyzewska', 'waclaw', 'zastrzezynski', 'zbigniew', 'cybulski', 'costigan', 'oldtimer', 'stooge', 'badger', 'causality', 'bress', 'mackye', 'gruber', 'suby', 'ramification', 'flawed', 'duhamel', 'topher', 'cordillera', 'huayhuash', 'dumbfound', 'reenactment', 'nam', 'rebekah', 'placid', 'mccann', 'cineastic', 'vasquez', 'blacksploitation', 'riveter', 'flunk', 'promiscuous', 'piercings', 'hardwicke', 'hudgens', 'pontiac', 'anthropomorphized', 'dolphins', 'beobachtung', 'hochsitz', 'bent', 'inauthentic', 'viewpoint', 'dupeyron', 'boulanger', 'fairbanks', 'sr', 'millie', 'satyr', 'bozzetto', 'estrada', 'alcazar', 'gangrape', 'plauge', 'mandrake', 'hilton', 'scoutmaster', 'spotlight', 'pygmallion', 'nudism', 'hooligan', 'lawless', 'schade', 'kreuk', 'mechlowicz', 'supper', 'suffering', 'multiphobic', 'portraying', 'spawn', 'despicable', 'gerini', 'cabras', 'hristo', 'jivkov', 'shopov', 'maia', 'morgenstern', 'rosalinda', 'celentano', 'eunduring', 'unrelenting', 'ow', 'indeed', 'amerikaner', 'tel', 'aviv', 'contra', 'comunismo', 'lenin', 'spectrum', 'ddr', 'ostalgie', 'katrin', 'saãÿ', 'hotties', 'idiots', 'submerge', 'brechtian', 'beautifual', 'elisabet', 'zeitgeist', 'aryan', 'hyser', 'hatred', 'informer', 'spearritt', 'dubai', 'improbable', 'haifa', 'sensitive', 'nir', 'moan', 'myrtle', 'habor', 'munition', 'zack', 'snyder', 'ty', 'burrell', 'stroy', 'kaufmann', 'bismuth', 'foregiveness', 'montauk', 'happpiness', 'vergiss', 'mein', 'nicht', 'melancholia', 'olvidate', 'mi', 'celmentine', 'druczynski', 'recent', 'overcomes', 'capability', 'детектив', 'crowley', 'fjord', 'monotony', 'kaurismaki', 'truant', 'dagur', 'kári', 'icelandic', 'montages', 'clamdigger', 'sweeper', 'sweeny', 'diverse', 'shaggy', 'velma', 'labour', 'recession', 'ascetic', 'shakycam', 'lawlessness', 'daemon', 'hellboy', 'eldritch', 'abomination', 'mably', 'finest', 'buford', 'pusser', 'hoge', 'bacgrounds', 'dancy', 'nieman', 'tbilisi', 'bertucelli', 'originator', 'helicopters', 'gig', 'drea', 'hangman', 'marseillaise', 'cognac', 'forty', 'poultry', 'wasps', 'residence', 'ludlam', 'jazzy', 'circumstance', 'soho', 'vortex', 'lembeck', 'drat', 'sociopathic', 'weinstein', 'hensleigh', 'elliot', 'extent', 'principle', 'bother', 'hooded', 'create', 'fanning', 'quinnell', 'operative', 'milliionaire', 'levinsoon', 'seyfried', 'fey', 'franzese', 'ana', 'gasteyer', 'innocencne', 'thann', 'meadows', 'caplan', 'olsen', 'padalecki', 'agresti', 'saccharine', 'selling', 'bronze', 'iliad', 'pyre', 'sparta', 'sb', 'carandiru', 'sao', 'smalltalk', 'descas', 'isaach', 'rigano', 'mead', 'gza', 'vinny', 'vella', 'stagey', 'lehtinen', 'spalding', 'mohr', 'shumlin', 'nicaragua', 'pepsi', 'reptilian', 'ahna', 'mao', 'chung', 'chun', 'maysles', 'zwerin', 'piazzolla', 'butchery', 'rhytms', 'quarrelsome', 'wretched', 'receive', 'kitchell', 'kurys', 'antelope', 'amplas', 'syringe', 'stig', 'morten', 'arnfred', 'ayn', 'rand', 'kicker', 'rational', 'hagman', 'burdick', 'provoking', 'gemma', 'amsterdam', 'masaki', 'kobayashi', 'cml', 'spectre', 'lair', 'kabir', 'bedi', 'kristina', 'wayborn', 'jourdan', 'ovarian', 'audra', 'donne', 'carrera', 'subpar', 'dept', 'makiko', 'esumi', 'ein', 'zauberfilm', 'einem', 'zauberer', 'closeup', 'flute', 'unrequitted', 'leisen', 'edna', 'boland', 'avenue', 'libertarian', 'disharmony', 'shivaree', 'smokehouse', 'statehood', 'unspoken', 'macrae', 'deitch', 'gweneth', 'paltro', 'prine', 'inga', 'swenson', 'jory', 'keller', 'fortitude', 'daniela', 'longinotto', 'ziba', 'baxley', 'chanbara', 'ryûhei', 'kitamura', 'langton', 'taurog', 'monarch', 'falsification', 'picket', 'turbine', 'incomes', 'nitroglycerin', 'twink', 'heerman', 'interrelate', 'unconsummated', 'lewton', 'deathwish', 'suggestive', 'jeffries', 'enviromental', 'trudell', 'tay', 'garnett', 'lush', 'contentment', 'beaultiful', 'nevsky', 'nevski', 'dmitri', 'vasilyev', 'vlies', 'chaffey', 'fleece', 'lisbon', 'reims', 'isuzu', 'giordana', 'denby', 'ayutthaya', 'hereafter', 'superiority', 'braveheart', 'talvisota', 'burmese', 'mihalis', 'kakogiannis', 'ferland', 'marksman', 'leyland', 'beckner', 'technophobia', 'kurdish', 'throatsinging', 'tuva', 'tuvan', 'roko', 'belic', 'hibbs', 'audie', 'borowitz', 'metcalf', 'forristal', 'fatalistic', 'gangsters', 'xenophon', 'continuation', 'puolanka', 'auxiliary', 'lotta', 'bondarchuk', 'frankel', 'swiftmobile', 'afrika', 'korps', 'sims', 'plod', 'suddenly', 'thorpe', 'buzzell', 'thuggee', 'wushu', 'flaming', 'shriekers', 'vodoo', 'vidal', 'transfusion', 'mortal', 'steak', 'salkow', 'ubaldo', 'ragona', 'danieli', 'chiba', 'shigehiro', 'ozawa', 'romolo', 'zapata', 'shipment', 'cthulhu', 'ruttmann', 'wanttosee', 'nakano', 'morttensen', 'ballistics', 'million', 'emaciation', 'kenjiro', 'ishiyama', 'yokohama', 'mcbain', 'gear', 'robie', 'newsreel', 'mimicry', 'secularization', 'archipelago', 'bw', 'justify', 'cabal', 'varsi', 'stroud', 'linsky', 'dunlap', 'hingle', 'maeve', 'quinlan', 'monterey', 'burdon', 'masekela', 'jefferson', 'jimi', 'redding', 'ravi', 'shankar', 'pennebaker', 'machael', 'mak', 'siu', 'fai', 'keung', 'mifan', 'turnabout', 'scenography', 'pineal', 'candlestick', 'traci', 'ramones', 'cock', 'beatnick', 'catalepsy', 'icky', 'photograpy', 'mortification', 'monks', 'cyclical', 'rooster', 'levitow', 'struthers', 'mirei', 'oguchi', 'kanno', 'graceland', 'pavel', 'chukhray', 'directionless', 'tradesman', 'glenda', 'vinson', 'gibney', 'nva', 'religous', 'bourguignon', 'udssr', 'ctx', 'bread', 'spang', 'pouliot', 'putch', 'per', 'cosmetic', 'enzyme', 'frend', 'sodom', 'gomorrah', 'viertel', 'algernon', 'charly', 'rapey', 'everyman', 'korty', 'gogh', 'anouk', 'aimée', 'eckberg', 'anou', 'nico', 'okiura', 'fini', 'buccaneer', 'piracy', 'todeskampf', 'banishment', 'decree', 'kenji', 'mizoguchi', 'bonanza', 'boleyn', 'jarrott', 'hiroshima', 'mabuse', 'commedia', 'mchugh', 'gaulle', 'racketeer', 'tallman', 'digges', 'merkel', 'newmeyer', 'cinemaquorum', 'lupin', 'trope', 'dastardly', 'whiplash', 'halibut', 'whitmore', 'hodiak', 'sinti', 'romany', 'bouvier', 'hovde', 'muffie', 'gecko', 'iguana', 'fitzsimmons', 'klotz', 'bigas', 'bardem', 'horne', 'isolate', 'pollock', 'dostoevsky', 'nobleman', 'pichel', 'bunraku', 'sociologist', 'potsmoking', 'bessie', 'schoolboy', 'septuagenarian', 'beulah', 'bondi', 'risdon', 'bainter', 'beaver', 'viña', 'delmar', 'kearsarge', 'brownface', 'baff', 'perody', 'catnip', 'asbury', 'pus', 'gulfstream', 'hail', 'basic', 'oldschoolish', 'upbringing', 'abigail', 'breslin', 'panettiere', 'felicity', 'huffman', 'vergara', 'dannelly', 'ignores', 'establish', 'plothunters', 'swordaction', 'swordsman', 'michiyo', 'ookusu', 'swipe', 'vvin', 'chillout', 'thomason', 'nickolas', 'hess', 'vote', 'funnnnnnnnny', 'heder', 'gosh', 'droopy', 'majorino', 'hebrides', 'otter', 'forward', 'macartney', 'irrepressible', 'chinchilla', 'lanfield', 'electrician', 'bernhardt', 'korngold', 'sweethearts', 'nagel', 'gynoid', 'robotics', 'meatloaf', 'telethon', 'iwo', 'jima', 'laureate', 'resettlement', 'bakhtyar', 'khudojnazarov', 'elio', 'petri', 'kresel', 'embroidery', 'augustus', 'goetz', 'chagrin', 'nineteenth', 'novella', 'mcdonalds', 'spurlock', 'informative', 'prick', 'solution', 'fabricate', 'macdonalds', 'racetrack', 'orly', 'radioaktivity', 'argos', 'ore', 'nalin', 'extrrrra', 'infiltrate', 'wycherly', 'cochran', 'schatzberg', 'mechagodzilla', 'paddlewheel', 'showboat', 'ivanhoe', 'refn', 'armless', 'bareback', 'legless', 'microcephalics', 'poisoned', 'stutterer', 'trapeze', 'earles', 'leila', 'baclanova', 'deloise', 'neurology', 'expire', 'copyright', 'bickford', 'navigator', 'forte', 'gymnasium', 'pleite', 'zoolander', 'rawson', 'thuber', 'dodgeball', 'thurber', 'bonkers', 'zeta', 'craftsman', 'krakozhia', 'shona', 'auerbach', 'whiteface', 'shout', 'dementia', 'mailbox', 'differences', 'wahlquist', 'leven', 'notch', 'foursome', 'christoffer', 'boe', 'vinton', 'firode', 'hauska', 'mika', 'spierig', 'microsoft', 'martyn', 'timor', 'coverage', 'chomsky', 'achbar', 'wintonick', 'pekka', 'parikka', 'usn', 'rollerskates', 'vigo', 'farcy', 'wiklund', 'diefenthal', 'samy', 'naceri', 'kerouac', 'shôgo', 'furuya', 'retelling', 'blystone', 'collie', 'genghis', 'mink', 'meckler', 'wity', 'pretension', 'ide', 'sine', 'pasager', 'taber', 'pusten', 'kedelig', 'fumler', 'ideen', 'gulvet', 'saudi', 'thruth', 'disinfo', 'disinformation', 'sensationalistic', 'goverment', 'misrepresentation', 'parsi', 'sturla', 'gunnarsson', 'prizefight', 'streetfighting', 'blye', 'bbw', 'kuter', 'cringey', 'gough', 'alvin', 'millar', 'ock', 'verbose', 'northumbria', 'skarsgård', 'acurate', 'telling', 'iouan', 'gruffudd', 'carrell', 'teleprompter', 'apatow', 'hahahahahahahhaha', 'rogen', 'hardwood', 'fairytail', 'stepmom', 'untalented', 'artifical', 'maquiladora', 'drogas', 'amaguana', 'bogota', 'cocaina', 'mulas', 'narcotrafico', 'marston', 'seminole', 'outhouse', 'sancho', 'panza', 'decalogue', 'wander', 'sienkiewicz', 'cinerama', 'greensleeves', 'britpop', 'blur', 'boundary', 'greengras', 'superheroine', 'portugal', 'curd', 'jurgens', 'lung', 'spoon', 'miracles', 'optometrist', 'tralfamadore', 'incurable', 'shrapnel', 'cause', 'biogrophy', 'mixup', 'enoch', 'arden', 'freckle', 'inherently', 'nome', 'slumlord', 'bourbon', 'opportunist', 'phlip', 'bushido', 'siecle', 'stomach', 'manz', 'patricide', 'prospos', 'dramaet', 'eksperimentet', 'interessant', 'fragmenter', 'smukke', 'syntes', 'stak', 'tider', 'morsomt', 'kom', 'noget', 'substantielt', 'senere', 'bunke', 'maxim', 'gorky', 'nouveau', 'riche', 'taxidermist', 'cummins', 'sekler', 'volley', 'israelson', 'tuttle', 'gall', 'yvonne', 'summon', 'rummy', 'filing', 'ledge', 'pyne', 'georgaris', 'hs', 'rig', 'soak', 'clothes', 'thunderbird', 'aura', 'bryce', 'vw', 'emotions', 'lethargy', 'quirkiness', 'apathetic', 'medicate', 'lithium', 'sidecar', 'bulge', 'astrid', 'heeren', 'caterina', 'boratto', 'dubbed', 'gilford', 'soundtracck', 'foxx', 'except', 'multi', 'spurt', 'munchies', 'nph', 'potty', 'pine', 'balsmeyer', 'darwin', 'dolentissima', 'sanaa', 'lathan', 'transposition', 'curran', 'krause', 'chautauqua', 'trainee', 'padre', 'hijo', 'cosby', 'winwood', 'arsenic', 'otra', 'thackeray', 'pariah', 'stuhr', 'hmmm', 'stupidly', 'amelia', 'kinkade', 'podewell', 'terashita', 'ericson', 'linnea', 'quigley', 'denn', 'wilhoite', 'nickerson', 'tawny', 'kitaen', 'sienna', 'guillory', 'usual', 'stylise', 'styalized', 'kerry', 'conran', 'omid', 'djalili', 'mechanize', 'wimbledon', 'ejaculation', 'menstrual', 'nathanson', 'biochemist', 'guajira', 'peninsula', 'serna', 'plethora', 'surrey', 'ashfield', 'worry', 'overknown', 'cornetto', 'triolgy', 'initial', 'cobra', 'duplication', 'talbott', 'flour', 'crusoe', 'pumpkins', 'filmteam', 'ruggero', 'deodato', 'jenson', 'enviroment', 'jonah', 'psuedointellectual', 'enkheim', 'fallon', 'uncomprehensive', 'carruth', 'pc', 'asanine', 'sent', 'send', 'blix', 'fright', 'historian', 'nastassia', 'jørgen', 'leth', 'små', 'laver', 'samspillet', 'skal', 'udfordre', 'aldrig', 'hvornår', 'irritationen', 'benspændende', 'samspil', 'fit', 'homosexulity', 'naim', 'catatonia', 'remotely', 'contortion', 'behr', 'lad', 'womanize', 'pinot', 'seedy', 'unsafisfying', 'gavmild', 'haden', 'pickett', 'machinist', 'memento', 'result', 'roque', 'baños', 'kosar', 'xavi', 'giménez', 'thinnes', 'lynchinoir', 'goodwill', 'imelda', 'staunton', 'bludgeon', 'whannell', 'claustrophic', 'digusting', 'indianapolis', 'shahrukh', 'giacchino', 'dibujos', 'bonita', 'hus', 'incredibles', 'eventyragtig', 'megamind', 'parr', 'violet', 'trestle', 'deezen', 'harter', 'mendonca', 'nona', 'gaye', 'scolari', 'elfs', 'blame', 'sexologist', 'highmore', 'kashmir', 'yash', 'dayan', 'bartha', 'reassignment', 'hasselhoff', 'aristotle', 'caucasian', 'cockney', 'greeks', 'ruined', 'perverted', 'alexandria', 'babylon', 'bloat', 'botox', 'conformist', 'sexchat', 'marber', 'feig', 'tibber', 'bulgaria', 'plowright', 'cinemtography', 'saturated', 'eastindian', 'fabergé', 'hoolywood', 'thievery', 'bellhop', 'entourage', 'mealey', 'shoob', 'rove', 'mailroom', 'friedgen', 'furlough', 'guillaume', 'canet', 'unconfessed', 'samuell', 'ethel', 'barrymoore', 'jehane', 'noujaim', 'qatar', 'consumption', 'folktale', 'lagerlöf', 'sjöström', 'melford', 'worsley', 'peel', 'railyard', 'pocket', 'havez', 'mcteauge', 'philbin', 'laemmle', 'shostakovich', 'browning', 'pabst', 'georg', 'luise', 'icon', 'supremely', 'cameraman', 'streetcar', 'reisner', 'steamboats', 'teetotaler', 'zeh', 'concern', 'malnutrition', 'starvation', 'victimize', 'hygiene', 'remoteness', 'centenarian', 'refuge', 'cleric', 'hemophilia', 'romanov', 'tsar', 'tsarina', 'anemia', 'anubis', 'avery', 'hopwood', 'markson', 'erwin', 'gelsey', 'inhuman', 'vivisection', 'erle', 'panhandle', 'mack', 'freighthopping', 'dweller', 'preserved', 'scarlet', 'pimpernel', 'beehives', 'enlistment', 'lodging', 'goodbye', 'lander', 'moonlight', 'dumbrille', 'stander', 'recitation', 'kenyon', 'daniell', 'schooner', 'doorman', 'urchin', 'milquetoast', 'christmastime', 'stubbornness', 'thorold', 'wildcatter', 'runyonesque', 'watermelon', 'zinnia', 'stanywick', 'punny', 'espere', 'ceu', 'benefactor', 'gunther', 'fritsch', 'schoolmaster', 'alf', 'sjöberg', 'marjorie', 'bracken', 'tatars', 'zar', 'picker', 'farmworker', 'carrol', 'naish', 'kilbride', 'slesinger', 'accompanist', 'fannie', 'convert', 'gascon', 'conscious', 'casares', 'seabiscuit', 'oakley', 'sharpshooter', 'ostranenie', 'gunsmith', 'sweatshop', 'tashlin', 'teinosuke', 'kinugasa', 'bankruptcy', 'kyoto', 'desi', 'arnaz', 'biberman', 'esther', 'blodgett', 'aka', 'vicki', 'swatch', 'zaharoff', 'goya', 'oblique', 'segovia', 'edvin', 'laine', 'perkele', 'tuntematon', 'sotilas', 'harp', 'myanmar', 'fairground', 'rodan', 'crabtree', 'kynaston', 'sibonetics', 'pevney', 'transatlantic', 'foxhole', 'kanibalismus', 'prediction', 'hormone', 'mikio', 'naruse', 'incognito', 'newsboy', 'wishlist', 'confirmation', 'empathetic', 'shogunate', 'trombone', 'hermoine', 'gingold', 'import', 'anstrengend', 'risi', 'stockbroker', 'beatnicks', 'archbishop', 'glenville', 'martita', 'francoist', 'oliva', 'bamboo', 'schilf', 'kaneto', 'shindô', 'tage', 'danielsson', 'algeria', 'algerian', 'gillo', 'pontecorvo', 'melendez', 'bannen', 'succubus', 'senta', 'coe', 'flon', 'reconcile', 'repelent', 'gorshin', 'sudan', 'eliot', 'elisofon', 'flashlight', 'jirí', 'menzel', 'seijun', 'chieko', 'matsubara', 'asterix', 'galier', 'gallien', 'peerce', 'superpanorama', 'wiseman', 'leonid', 'gaidai', 'yuriy', 'nikulin', 'mironov', 'gayday', 'albertson', 'nonnarative', 'shavelson', 'vorstrafe', 'arlo', 'friedl', 'loring', 'devout', 'pickaxe', 'jaromil', 'jires', 'astrodome', 'bordello', 'gamera', 'tid', 'siden', 'husker', 'ufokuseret', 'stemning', 'gens', 'inden', 'cammell', 'motyl', 'fulfil', 'counter', 'xiii', 'eighteen', 'bumper', 'overheat', 'hinterland', 'benson', 'norfolk', 'pasifistic', 'enzo', 'barboni', 'jutra', 'surrealist', 'totem', 'mysogynistic', 'existencialism', 'troell', 'axberg', 'zetterlund', 'nordgren', 'bengt', 'vilhelm', 'moberg', 'beacham', 'rochefort', 'misumi', 'messe', 'oury', 'dixon', 'hickox', 'browne', 'dors', 'hickson', 'asherson', 'jeong', 'polution', 'ultrasound', 'softcore', 'argan', 'spacevision', 'dalila', 'lazzaro', 'fiorella', 'masselli', 'monique', 'vooren', 'militarism', 'alchemist', 'goscinny', 'barbados', 'adele', 'leningrad', 'harlan', 'mohammed', 'semiautomatic', 'chloris', 'carnegie', 'launchpad', 'oj', 'simpson', 'cheh', 'chang', 'venom', 'running', 'wohl', 'finnegan', 'zohra', 'lampert', 'rastafarian', 'ing', 'nucl', 'gowers', 'ryuichi', 'sakamoto', 'leach', 'opretta', 'dsytopia', 'invocation', 'centerfold', 'hefner', 'capitol', 'desconectats', 'disorient', 'loom', 'looming', 'punks', 'kanievska', 'atypisk', 'allerede', 'etableret', 'ulykkeligt', 'parforhold', 'forholdene', 'plejer', 'oftere', 'etablere', 'octave', 'figuren', 'genial', 'dierkop', 'sellier', 'lilyan', 'chauvin', 'caimi', 'mariel', 'spano', 'jiangshi', 'harakiri', 'yukio', 'mishima', 'goo', 'sensation', 'spokane', 'invincibles', 'obelix', 'pino', 'lamsweerde', 'tow', 'schnaps', 'suburbian', 'idyll', 'mcelwee', 'triade', 'amphibie', 'codpiece', 'gwong', 'saami', 'spur', 'elope', 'ching', 'abashidze', 'parajanov', 'avocado', 'dahomey', 'dicky', 'subconscious', 'wonderland', 'thanassis', 'valtinos', 'étienne', 'johannesburg', 'bake', 'neko', 'locane', 'henenlotter', 'blackly', 'fengliang', 'rennard', 'drek', 'peekaboo', 'stato', 'grazia', 'tatie', 'desolation', 'tranksgiving', 'imitates', 'typhoon', 'makingof', 'fax', 'bahr', 'ngai', 'synchronization', 'requisite', 'raffill', 'painterly', 'trent', 'viola', 'corneau', 'shakhnazarov', 'jing', 'rockabilly', 'stu', 'yuan', 'bin', 'josip', 'broz', 'tito', 'glassman', 'eunuchs', 'hou', 'thanatos', 'definitely', 'weisheit', 'revier', 'antropomorphic', 'schaack', 'gordan', 'polio', 'ishii', 'yoshifumi', 'kondo', 'energiestrahlenwaffe', 'punksploitation', 'lassgård', 'kjell', 'sundvall', 'bodnia', 'zlatko', 'buric', 'unscripted', 'gonz', 'andalusia', 'monahan', 'structural', 'rotterdam', 'ferre', 'taunus', 'mallorca', 'ruhrpott', 'neldel', 'diether', 'krebs', 'heinrich', 'giskes', 'hilmi', 'markus', 'semmelrogge', 'korittke', 'thorwarth', 'ralf', 'willi', 'tomczyk', 'ruhrgebiet', 'nobuo', 'nakagawa', 'demise', 'meiko', 'kaji', 'toshiya', 'fujita', 'nuda', 'pohjanmaa', 'aleksi', 'mäkelä', 'alchemy', 'perttu', 'leppä', 'hideaki', 'anno', 'asuka', 'soryu', 'kazuya', 'tsurumaki', 'ovum', 'overacting', 'christiane', 'fatih', 'akin', 'ocelot', 'aesop', 'koizumi', 'essex', 'rover', 'yorke', 'edmondson', 'rik', 'mayall', 'shinzengumi', 'trapero', 'johnnie', 'inmates', 'overdub', 'ratanaruang', 'sanjay', 'leela', 'bhansali', 'aishwarya', 'rai', 'anticlimatic', 'aronson', 'bulimia', 'ikuhara', 'karan', 'johar', 'amitabh', 'bachcan', 'reltionships', 'regressive', 'béla', 'tarr', 'werckmeister', 'krasznahorkai', 'adventurus', 'gaul', 'baer', 'briliant', 'uderzo', 'disher', 'metzstein', 'heike', 'makatsch', 'gaire', 'gent', 'suso', 'moisés', 'dmz', 'dprk', 'competent', 'innsmouth', 'brasilian', 'selton', 'mello', 'guel', 'arraes', 'squander', 'jaume', 'balagueró', 'hannes', 'stöhr', 'reunification', 'jörg', 'schüttauf', 'reintegration', 'ayahuasca', 'ghidorah', 'shûsuke', 'kaneko', 'baragon', 'shusuke', 'techno', 'sacha', 'mylod', 'advance', 'sekula', 'geraint', 'wyn', 'matchett', 'crone', 'györgy', 'pálfi', 'sensous', 'seidl', 'dressmaker', 'sijie', 'dai', 'kwak', 'asif', 'kapadia', 'leere', 'abnormal', 'synchronize', 'weltbevölkerung', 'aikawa', 'proselytization', 'ratliff', 'dowse', 'streaming', 'fabrice', 'canepa', 'andrea', 'bae', 'zhao', 'henrique', 'fonseca', 'website', 'cnn', 'cappella', 'anorexia', 'biopsy', 'estopa', 'hospitalization', 'newborn', 'operating', 'portable', 'prosthesis', 'proverb', 'radiograph', 'radiography', 'shadowgraphy', 'leander', 'haußmann', 'slumming', 'jasper', 'pääkkönen', 'loiri', 'cumberbatch', 'sax', 'alexei', 'sayle', 'interwar', 'waugh', 'morimoto', 'mahiro', 'maeda', 'koike', 'episodenfilm', 'osiris', 'matriculate', 'cheryl', 'tiegs', 'shag', 'härö', 'marcks', 'sakaki', 'cheering', 'pancho', 'rodríguez', 'despotic', 'hierarchy', 'nonresistance', 'suppression', 'håfström', 'cliques', 'weakness', 'propose', 'equivalent', 'canibalism', 'horrific', 'verdun', 'gaspard', 'ulliel', 'persistence', 'sympathetic', 'sibel', 'kekilli', 'fragmented', 'siouxsie', 'plotline', 'romedy', 'rukh', 'sttrange', 'toledo', 'tomek', 'baginski', 'yôji', 'yoji', 'ekin', 'cheng', 'cosmonaut', 'liars', 'sauna', 'telemarketing', 'psyc', 'tatiana', 'maslany', 'yôjirô', 'takita', 'yukihiko', 'tsutsumi', 'luchini', 'rehab', 'granik', 'egomania', 'shimizu', 'poession', 'sushi', 'squeamish', 'choi', 'kang', 'yoo', 'imperfect', 'robinsonade', 'seoul', 'bestie', 'daywalker', 'burman', 'inuyasha', 'enust', 'maybury', 'dinero', 'ebert', 'currency', 'lazaro', 'ramos', 'leandra', 'leal', 'furtado', 'daft', 'kazuhisa', 'takenôchi', 'poop', 'jaa', 'prachya', 'pinkaew', 'boxen', 'biomedical', 'galicia', 'diving', 'scaphandre', 'papillon', 'unnuanced', 'tyldum', 'smeaton', 'barratier', 'orpan', 'jugnot', 'ardennen', 'pastel', 'polinsky', 'allred', 'heyborne', 'bagby', 'gobi', 'mongolia', 'yurt', 'byambasuren', 'davaa', 'falorni', 'looy', 'exquisite', 'plotting', 'meaney', 'whishaw', 'speedo', 'zvyagintsev', 'invite', 'estes', 'underemployment', 'saville', 'dictadura', 'noam', 'useful', 'democracy', 'sez', 'sooner', 'purgatory', 'kasparov', 'tariff', 'globalization', 'speaker', 'globalisation', 'egomaniac', 'ollman', 'blag', 'tampere', 'slavic', 'bmw', 'roadmovie', 'bumer', 'choirmaster', 'shinobi', 'mcgann', 'moy', 'barclay', 'keen', 'macfadyen', 'missing', 'def', 'caswell', 'cardiology', 'cardiac', 'metallica', 'zydeco', 'kauffman', 'zana', 'briski', 'ondi', 'timoner', 'chaikin', 'petrillo', 'tyson', 'theology', 'bogus', 'chasse', 'vicente', 'arntz', 'proven', 'psudoscience', 'shimerman', 'pretention', 'misinformative', 'vector', 'porking', 'ridin', 'vertical', 'rotoscoped', 'necessary', 'unappealing', 'inpenetrable', 'neverending', 'handcuffed', 'neocon', 'callner', 'iv', 'virtue', 'knockout', 'swamk', 'baruchel', 'colter', 'daek', 'disciple', 'eutanasia', 'ew', 'nauseating', 'sociolagy', 'okonedo', 'arjuna', 'misbehavior', 'misbegotten', 'umpa', 'lumpa', 'degented', 'ennui', 'acoustic', 'diorama', 'oceanography', 'estil', 'cinemotography', 'sigur', 'decaprio', 'farther', 'kassell', 'eventually', 'sexua', 'johnasson', 'layoff', 'yarbrough', 'dervative', 'deceased', 'shainee', 'archaic', 'pachinko', 'tetsuya', 'nakashima', 'bedridden', 'waterfront', 'evp', 'fallout', 'deiner', 'schulter', 'grateful', 'sudance', 'krohn', 'myron', 'meisel', 'littman', 'casualty', 'kamacuras', 'afrikaans', 'emigre', 'pacificsm', 'famer', 'pacifist', 'bab', 'koterski', 'spread', 'lamont', 'detector', 'stilt', 'ticker', 'aramaki', 'luddy', 'pippi', 'longstocking', 'kunterbunt', 'ihan', 'dogshit', 'prout', 'zebra', 'foxworthy', 'autoritian', 'songwriting', 'beastmaster', 'mezzogiorno', 'borzage', 'slogan', 'winning', 'hayward', 'kindly', 'declaration', 'healer', 'ousmane', 'sembene', 'moralizing', 'kreuzpaintner', 'stadlober', 'capitulation', 'hj', 'irrationality', 'richet', 'naw', 'polson', 'mcavoy', 'motivating', 'motivate', 'childen', 'ayu', 'kitaura', 'yuya', 'yagira', 'egoism', 'sapphire', 'donlevy', 'douche', 'hourglass', 'corridor', 'yukich', 'booger', 'interfaith', 'reggiani', 'marguerite', 'naveen', 'peñíscola', 'ardennes', 'clipper', 'aestheticism', 'degenerate', 'entartete', 'kunst', 'starlight', 'kugel', 'antiwar', 'kok', 'amber', 'valletta', 'dialgoue', 'bkd', 'trout', 'cullen', 'sansom', 'pornalicious', 'bachchan', 'sema', 'humanlike', 'guterman', 'annasophia', 'kurdistan', 'ekachai', 'uekrongtham', 'jami', 'gertz', 'aku', 'louhimies', 'todfeind', 'timur', 'bekmambetov', 'valeri', 'zolotukhin', 'khabensky', 'zhou', 'xingchi', 'oriental', 'added', 'sony', 'ondrej', 'deduction', 'consumer', 'mercero', 'nimród', 'antal', 'sandor', 'csanyi', 'mucsi', 'asghar', 'farhadi', 'exgattin', 'deloin', 'concrete', 'slab', 'ventimiglia', 'eisenberg', 'offerman', 'bodybuilder', 'thieriot', 'pawnshop', 'manifold', 'toyota', 'uday', 'kibbutz', 'mossad', 'dsfd', 'ebirah', 'container', 'hedgehog', 'ecuador', 'kulik', 'shoxploitation', 'lindberg', 'barbarash', 'satu', 'silvo', 'tuula', 'nyman', 'jang', 'brecht', 'enrique', 'murciano', 'synching', 'metrosexual', 'plaid', 'jimmi', 'jitterbug', 'iceman', 'sbaraglia', 'caballos', 'salvajes', 'feisty', 'enlarged', 'monetary', 'perjury', 'polygraph', 'browbeatingly', 'petula', 'kihachi', 'okamoto', 'ripstein', 'almeria', 'constantino', 'pogues', 'redundant', 'ishiro', 'kumi', 'mizuno', 'haiku', 'nonoko', 'whose', 'carpediem', 'jahn', 'avro', 'mcbrearty', 'gramaglia', 'hartnell', 'lancashire', 'desejos', 'proibidos', 'ghidora', 'magnetism', 'thalidomide', 'deadhead', 'diabetic', 'sortof', 'flanagan', 'baja', 'ensenada', 'offroad', 'ironclad', 'amature', 'cussler', 'penélope', 'rainn', 'fenway', 'tailoring', 'misrepresent', 'giono', 'reforestation', 'ecological', 'priority', 'presidental', 'spiritualism', 'breathing', 'nymphe', 'depot', 'hillcoat', 'hamster', 'seesaw', 'wildman', 'morter', 'beacj', 'onryo', 'norio', 'tsuruta', 'avós', 'capodanno', 'ceia', 'natal', 'natale', 'sulmona', 'velhice', 'pascal', 'vitti', 'criogenes', 'crafty', 'monochromatic', 'chaste', 'hairdo', 'legally', 'distortion', 'flare', 'méliès', 'shepitko', 'repressed', 'masahiro', 'shinoda', 'hyperspace', 'islington', 'americanize', 'zaphod', 'unfilmable', 'americanized', 'garth', 'jennings', 'climber', 'biographer', 'franchot', 'gansel', 'decovny', 'invest', 'insurgent', 'speedman', 'saladin', 'arn', 'ost', 'oneness', 'passable', 'juame', 'haggis', 'installer', 'muro', 'moresco', 'maudlin', 'subtlety', 'stereotyping', 'rasist', 'thematically', 'jiminy', 'glick', 'lore', 'dir', 'isadora', 'nob', 'displacement', 'remodernist', 'troublemaker', 'bucquet', 'katsuhito', 'stantley', 'florey', 'beesley', 'uruguay', 'collier', 'oberhausen', 'barnaby', 'metschurat', 'toshiaki', 'toyoda', 'leterrier', 'lauzon', 'wonderlamp', 'punter', 'chancel', 'forgone', 'noo', 'behaviour', 'ditka', 'wyll', 'aint', 'wanda', 'stritch', 'fona', 'hiner', 'saleem', 'eskimoes', 'piugattuk', 'pietro', 'germi', 'terstall', 'bataan', 'madagascar', 'lemurs', 'hippo', 'zebras', 'asperger', 'dpd', 'shortland', 'leaf', 'allyssa', 'elsamelys', 'ulerio', 'castillo', 'yomaira', 'reynoso', 'agrelo', 'supervisor', 'lonesome', 'polecat', 'nelly', 'spiel', 'ohne', 'regeln', 'villainizes', 'renée', 'boksdrama', 'peak', 'anticlimax', 'bound', 'farmhouse', 'aja', 'comença', 'acaba', 'extremity', 'uninspiring', 'ibiza', 'recording', 'biollante', 'lyre', 'kimmins', 'dou', 'unfulfillment', 'gigan', 'catfishing', 'kressley', 'noth', 'locklear', 'rosman', 'sooo', 'irresistable', 'pavlikovsky', 'collapse', 'identification', 'interaction', 'bewitch', 'imploded', 'lachapelle', 'session', 'multiracial', 'pooping', 'macaroni', 'kira', 'miró', 'malevolence', 'dumpling', 'evict', 'weingartner', 'stipe', 'erceg', 'lindstedt', 'bullfrog', 'bobo', 'interconnectedness', 'montparnasse', 'tripod', 'deathray', 'resemblance', 'grubb', 'witcombe', 'hedorah', 'supercomputer', 'francoise', 'dorleac', 'berling', 'sitruk', 'documenatary', 'jacquet', 'flemming', 'dawkins', 'englightening', 'ariel', 'gade', 'elasticity', 'butt', 'paralympics', 'subculuture', 'paraolympics', 'owenwilson', 'vincevaugh', 'isla', 'faber', 'ribald', 'espagnole', 'chyra', 'arkadiusz', 'detmer', 'borys', 'szyc', 'janusz', 'konrad', 'niewolski', 'michal', 'lorenc', 'pursue', 'crunk', 'brewer', 'taraji', 'taryn', 'rust', 'mumblecore', 'bujalski', 'improvisational', 'overkill', 'videoclip', 'jablonsky', 'degrading', 'roadkill', 'talentless', 'freebird', 'cobain', 'winstead', 'bloomer', 'angarano', 'cvn', 'awesomely', 'frau', 'hund', 'sucht', 'herz', 'depend', 'raunch', 'ells', 'narizzano', 'hipersexualidad', 'shapeshifter', 'shiny', 'glau', 'rpg', 'filion', 'unexplained', 'bombadil', 'morena', 'baccarin', 'aningen', 'bra', 'whedonesque', 'ruppert', 'masala', 'ramesh', 'sippy', 'murrey', 'obejr', 'chloë', 'jessican', 'stuntwork', 'friedrich', 'golddigger', 'heisler', 'kent', 'rattigan', 'moonshine', 'kommt', 'selten', 'allein', 'relevance', 'explicitly', 'snorkel', 'fest', 'tyrese', 'philipines', 'satisfaction', 'katmai', 'discuss', 'lombardy', 'ermanno', 'olmi', 'meatpacking', 'sunflower', 'combine', 'harvester', 'publishing', 'cinemategoraphy', 'hiccup', 'benghazi', 'shipping', 'halas', 'batchelor', 'testimony', 'virgen', 'improv', 'malco', 'salespeople', 'increadibly', 'aquarius', 'contraband', 'bazooka', 'aditya', 'anupam', 'kher', 'typically', 'tug', 'lexicon', 'koo', 'georgi', 'daneliya', 'gervais', 'foriegn', 'geologists', 'headey', 'turkana', 'octane', 'nauta', 'audacious', 'alessandro', 'gassman', 'berléand', 'mugging', 'solange', 'bist', 'smuggling', 'plomo', 'wapendrama', 'swampf', 'regular', 'wadlow', 'hutz', 'genealogical', 'laryssa', 'lauret', 'untrue', 'deficit', 'hyperactivity', 'hutu', 'warmongering', 'noose', 'swallow', 'bartowiak', 'monsters', 'rosamund', 'pike', 'somewhere', 'speaking', 'koechner', 'presumptuousness', 'les', 'sekiguchi', 'ryunosuke', 'kamiki', 'yoshiyuki', 'morishita', 'leipzig', 'antiquate', 'agnostic', 'archdiocese', 'negligent', 'moron', 'requiem', 'loppu', 'oli', 'liian', 'nopea', 'burtonesk', 'hochzeit', 'einer', 'leiche', 'hooligans', 'lexi', 'bubble', 'soporifera', 'barney', 'leanne', 'rowe', 'fotografia', 'demais', 'lebeouf', 'escritor', 'egotism', 'harpe', 'nozue', 'nomura', 'bruni', 'tedeschi', 'juilliard', 'wrack', 'cayman', 'juliana', 'circo', 'carneys', 'equivocal', 'lucile', 'hadzihalilovic', 'pygmy', 'báky', 'auf', 'jagd', 'nach', 'riesenkaninchen', 'buddies', 'funney', 'twisty', 'fore', 'giselle', 'handlanger', 'masseuse', 'sauper', 'mythological', 'phantasmagoria', 'mesmerizing', 'sachs', 'sharzer', 'butte', 'banking', 'collete', 'anson', 'dyslexia', 'weiner', 'tryst', 'squirm', 'daniels', 'excitement', 'ye', 'em', 'calgary', 'flabby', 'pokin', 'thar', 'snog', 'landmark', 'finale', 'cada', 'dariush', 'mehrjui', 'cbs', 'blackandwhite', 'fifty', 'particia', 'blacklisting', 'witchhunts', 'murrow', 'mcarthyism', 'gatins', 'bushranger', 'famu', 'unatoned', 'scrap', 'silverlake', 'massive', 'benioff', 'jetboy', 'bowery', 'whiteley', 'dystunctional', 'print', 'bousman', 'whalberg', 'shawnee', 'blond', 'visitor', 'resolution', 'miyasako', 'ryã', 'nosuke', 'isa', 'supp', 'oriskany', 'sermonize', 'doinel', 'hiff', 'rakkautta', 'anarkiaa', 'foretell', 'pinstripe', 'reload', 'waterboarding', 'sorter', 'alt', 'forsøger', 'egoet', 'teoretisk', 'indsigt', 'vurdere', 'bruger', 'forskellige', 'filmiske', 'knep', 'løbende', 'også', 'superstylistiske', 'refens', 'opbygget', 'fortalt', 'spændende', 'konstrueret', 'seneste', 'sening', 'gavmildt', 'tænkte', 'halv', 'stjerne', 'krasinski', 'gylenhaal', 'swofford', 'giddi', 'dar', 'sukkot', 'acorn', 'generate', 'gustavo', 'loza', 'considine', 'baix', 'presupost', 'carion', 'fraternization', 'pertwee', 'karmic', 'cloak', 'gorgon', 'petrification', 'marjo', 'leinonen', 'silu', 'seppälä', 'gosha', 'lebanon', 'gaghan', 'addage', 'fingernail', 'pognant', 'abruptly', 'commuter', 'predictability', 'georgian', 'aristrocacy', 'sas', 'marianelli', 'flow', 'spelunk', 'splatterpunk', 'voldemort', 'pattinson', 'reece', 'goldenglobe', 'tosee', 'biz', 'troupe', 'bellocchio', 'amirite', 'jumanji', 'vallée', 'isreal', 'kabbalah', 'panabaker', 'pantelis', 'voulgaris', 'kommissar', 'noiret', 'leftover', 'londo', 'moray', 'eel', 'exoneration', 'incarceration', 'intifada', 'ashraf', 'barhom', 'hany', 'martyrdom', 'narnia', 'faun', 'melee', 'apologism', 'plagarised', 'smack', 'arrows', 'graphical', 'needlessly', 'expand', 'uuuuuuuh', 'degredation', 'mizuage', 'keymaster', 'koji', 'youki', 'kudoh', 'besutiful', 'stool', 'giggle', 'carles', 'bosch', 'josep', 'domènech', 'princesses', 'yasuhiko', 'takiguchi', 'aridity', 'nargis', 'decapitate', 'incident', 'midland', 'trainwreck', 'retail', 'walmart', 'mcnair', 'sheree', 'paratroops', 'tabet', 'jullian', 'haveweseen', 'meaninglessness', 'restitution', 'patagonia', 'ailul', 'aswad', 'constructor', 'plo', 'ciaran', 'hanns', 'zischler', 'banna', 'athens', 'cyprus', 'dysphoria', 'shaiman', 'pasadena', 'liebe', 'bearer', 'comeuppance', 'acidly', 'catastrofe', 'desperate', 'enron', 'venetian', 'nacktrevue', 'vi', 'vaudville', 'widowhood', 'developmental', 'beehive', 'torrent', 'haroun', 'margolis', 'kachyna', 'niall', 'tamsin', 'egerton', 'vijayadan', 'detha', 'aranoa', 'elena', 'anaya', 'parkour', 'americans', 'contagious', 'schellenberg', 'kilcher', 'yorick', 'wageningen', 'zweverig', 'sz', 'sakall', 'lansing', 'gahagan', 'steiner', 'haggard', 'unexploded', 'enclave', 'neighbourhood', 'pimlico', 'jacobite', 'sejlede', 'stramme', 'fuldt', 'indblik', 'kral', 'complement', 'morel', 'fang', 'hostel', 'promote', 'graphically', 'nedeljakova', 'blackmarket', 'kaderabkova', 'tester', 'swardson', 'sic', 'nicholaus', 'goossen', 'loughran', 'nealon', 'tromeo', 'thank', 'gawd', 'shaker', 'isolde', 'betray', 'honourable', 'marke', 'saptastic', 'gartner', 'caperucita', 'roja', 'cory', 'fold', 'refrigerator', 'aversion', 'hutcherson', 'haller', 'quatermass', 'gyaos', 'osaka', 'postsoviet', 'peretti', 'damián', 'szifrón', 'szifron', 'luque', 'caste', 'turmeric', 'flyer', 'rothemund', 'jentsch', 'mortgage', 'invercargill', 'kiwi', 'transexual', 'cousins', 'sterne', 'boooooooooooring', 'nil', 'asther', 'minutter', 'fantastiske', 'forholdet', 'kedsommeligt', 'substansen', 'fordi', 'kun', 'taler', 'logistikken', 'deres', 'hvorvidt', 'tillade', 'osv', 'schickel', 'manson', 'helter', 'skelter', 'orifice', 'refried', 'imrie', 'sangster', 'christianna', 'nannying', 'stuntperson', 'stuntwoman', 'blieden', 'gardening', 'torrance', 'incessant', 'megaphone', 'sorbonne', 'blasco', 'ibáñez', 'ruba', 'nadda', 'grayscale', 'leman', 'describe', 'anyone', 'predjudice', 'buechler', 'fondacaro', 'firewall', 'goodd', 'perilous', 'outburst', 'enormous', 'jun', 'ryman', 'madigan', 'allyson', 'heap', 'revoltingly', 'holster', 'blown', 'farmiga', 'roundabout', 'antigen', 'hemophagia', 'technician', 'stamen', 'latest', 'barracuda', 'manta', 'tenacious', 'cusick', 'isitt', 'westfront', 'cheque', 'identify', 'millard', 'mcteigue', 'grahic', 'facism', 'alliteration', 'ideologically', 'fawkes', 'comfortable', 'disacknowledged', 'disguised', 'twelfth', 'lobbyism', 'nicotine', 'frivilous', 'becuase', 'rhetorical', 'marlboro', 'cosa', 'guiliani', 'surpsing', 'oculto', 'definetly', 'deliver', 'chaiyya', 'enver', 'hoxha', 'unforgetable', 'soweto', 'limericks', 'assurance', 'exposure', 'stasi', 'muhe', 'deutschland', 'sus', 'ausgezeichnet', 'gdr', 'florian', 'henckel', 'donnersmarck', 'compex', 'subterfuge', 'standup', 'beleifs', 'courtain', 'miklós', 'jancsó', 'futility', 'husky', 'kayak', 'nonfiction', 'dulane', 'feuerzeig', 'berlusconi', 'caracter', 'indistinguishable', 'smokin', 'fxg', 'caso', 'slevin', 'rythm', 'venture', 'eomwn', 'specific', 'dramalama', 'mancha', 'atchison', 'keke', 'laís', 'bodanzky', 'bathory', 'jacuzzi', 'roast', 'reaction', 'rian', 'clemente', 'emilie', 'ravin', 'annoying', 'poseur', 'olle', 'hellbom', 'bigotism', 'arguement', 'sourcing', 'slug', 'sexualise', 'homerun', 'fickman', 'tola', 'samuli', 'vauramo', 'methadone', 'abbie', 'armfield', 'cellphone', 'september', 'maquis', 'vindictive', 'misandry', 'slade', 'wiazemsky', 'berto', 'preserve', 'keilor', 'obviously', 'castingshow', 'novarro', 'hannover', 'jobless', 'shoemaker', 'shoemaking', 'jarrold', 'tempel', 'heavily', 'decipherment', 'abrams', 'pannonian', 'margarete', 'schon', 'jojo', 'chenoweth', 'pinewood', 'emotive', 'mig', 'fraudulent', 'missy', 'peregrym', 'bendinger', 'lilac', 'ramin', 'bahrani', 'mubi', 'rivero', 'idians', 'jacobson', 'hasidic', 'unprotected', 'regal', 'shandling', 'clowes', 'undecided', 'cryptologist', 'curator', 'mona', 'opus', 'dei', 'symbologist', 'biblically', 'unbiblical', 'ignore', 'misuse', 'magneto', 'romijn', 'xavier', 'preview', 'overload', 'condominium', 'perceive', 'phylosophic', 'swaziland', 'tic', 'wrecker', 'instills', 'callifornia', 'incriminate', 'montiel', 'dellal', 'birthmark', 'omigawd', 'marsh', 'mexian', 'lucha', 'libre', 'oaxaca', 'plote', 'culver', 'unbalance', 'click', 'hump', 'kavner', 'worshiper', 'entrant', 'chickflick', 'compass', 'davey', 'hollander', 'definitley', 'sequels', 'schwalbach', 'deviance', 'smash', 'fehrman', 'aberrant', 'dentata', 'nixe', 'faerie', 'stoopid', 'narf', 'greeaat', 'dizaster', 'yikes', 'superheroin', 'bistrot', 'delinquets', 'applause', 'xvi', 'burbank', 'sustainability', 'ev', 'paine', 'bern', 'misleading', 'guggenheim', 'powerpoint', 'abnormally', 'zac', 'efron', 'rolling', 'dictaphone', 'swingin', 'huo', 'yuanjia', 'tianjin', 'drifiting', 'dio', 'ronnie', 'sabbath', 'mcfadyen', 'araya', 'lex', 'luthor', 'nite', 'routh', 'overpower', 'lennox', 'mat', 'whitecross', 'gitmo', 'nietzche', 'beaty', 'philisophical', 'dayton', 'cranston', 'anybody', 'proust', 'cheri', 'pugh', 'uxoricide', 'babling', 'distillery', 'nubile', 'prevarication', 'spoilt', 'zealous', 'hrithik', 'priyanka', 'sedaris', 'dinello', 'nuff', 'springfield', 'crossword', 'creadon', 'minstrel', 'enright', 'uptown', 'hanon', 'spoily', 'nebbercracker', 'pettler', 'schrab', 'petr', 'zelenka', 'booklet', 'tomás', 'matchpoint', 'vanxo', 'psychosomatic', 'bibb', 'sascha', 'farell', 'rubble', 'tallahassee', 'omniscient', 'cooky', 'cuddle', 'irs', 'shoulda', 'passiveness', 'samaritan', 'usherette', 'sloooooow', 'zionism', 'radu', 'mihaileanu', 'willpower', 'alameda', 'muccino', 'chessy', 'lowlife', 'jaden', 'cheater', 'usher', 'yodeler', 'cristi', 'puiu', 'monitor', 'matti', 'kassila', 'yokel', 'epinephrine', 'epifedrine', 'neveldine', 'dubrovnik', 'scarry', 'yugoslav', 'hammond', 'justine', 'waddell', 'giglio', 'noodity', 'rental', 'armistead', 'maupin', 'munchausen', 'cojote', 'teat', 'dillman', 'canterbury', 'anoyng', 'canuel', 'québécois', 'masaaki', 'yuasa', 'introspection', 'freebasing', 'boden', 'moustache', 'emmanuel', 'carrère', 'jodelle', 'sprinkler', 'straitjacket', 'got', 'outgo', 'vacuous', 'budd', 'boetticher', 'illusionism', 'appealling', 'burger', 'millhauser', 'buckingham', 'windsor', 'corgi', 'marchal', 'oktoberfest', 'nat', 'faxon', 'moeller', 'papale', 'fisticuffs', 'min', 'saratoga', 'eran', 'riklis', 'hiam', 'abbass', 'bathhouse', 'séance', 'parrott', 'lamorisse', 'riaboukine', 'gilliat', 'lego', 'tm', 'mauro', 'monti', 'glatzer', 'westmoreland', 'duplass', 'herring', 'uncooperative', 'camilla', 'deafmute', 'homesteader', 'dissappoint', 'photagraphy', 'coulter', 'ipswich', 'wisconson', 'hibernation', 'dysgenics', 'dax', 'puerile', 'fanaticism', 'creationism', 'homeschooling', 'islamophobia', 'militaristic', 'rightism', 'accuracte', 'ewing', 'grady', 'evangelism', 'unbiased', 'autorin', 'braschi', 'transience', 'mansell', 'mayan', 'nuls', 'snoopy', 'garcã', 'happyending', 'continent', 'tanzer', 'benoît', 'delépine', 'gustave', 'kervern', 'humberstone', 'madredeus', 'manipulativeness', 'disscusting', 'mani', 'ratnam', 'ewald', 'dupont', 'yucatec', 'frying', 'wallow', 'mohican', 'thunderdome', 'farhad', 'safinia', 'trujillo', 'youngblood', 'dalia', 'gerardo', 'taracena', 'birdyellowhead', 'ked', 'incredulous', 'bulle', 'bam', 'margera', 'pontias', 'mghehey', 'canosa', 'demeanor', 'kazakhstan', 'borat', 'religiously', 'kazajistan', 'meke', 'stomatch', 'malicious', 'manicheaist', 'ariadna', 'ivana', 'baquero', 'mongolian', 'tartar', 'cockner', 'asstin', 'goocher', 'fagner', 'westerberg', 'stacchi', 'culton', 'busker', 'realtor', 'reheat', 'infiltrados', 'gim', 'severed', 'amount', 'shitzu', 'needtobreathe', 'syria', 'poppe', 'sublime', 'radium', 'skylight', 'augusten', 'cena', 'ester', 'judism', 'xerxes', 'tiffany', 'beckenbauer', 'pele', 'dower', 'crowder', 'futbol', 'surveyor', 'virginian', 'roehler', 'ulmen', 'pecados', 'intimos', 'netwatch', 'dauphin', 'ancien', 'licence', 'fudge', 'inclusive', 'mided', 'miraculous', 'illusionist', 'nikola', 'tesla', 'coil', 'nikolai', 'puzzling', 'kiling', 'julyan', 'magier', 'prestige', 'magicans', 'jumpy', 'lataappa', 'seregant', 'fedor', 'dito', 'gafapasta', 'géla', 'babluani', 'sek', 'brigade', 'clichéd', 'scent', 'grasse', 'lavender', 'affectation', 'tomomi', 'mochizuki', 'adidge', 'strum', 'ranald', 'macdougall', 'dixie', 'cecilia', 'booker', 'sharpe', 'voter', 'finde', 'ameliorist', 'ruanda', 'inhumanity', 'kigali', 'tutsi', 'rwandan', 'horwitz', 'como', 'frikkin', 'solace', 'royale', 'missplaced', 'arnett', 'console', 'intergenerational', 'argentinian', 'bertuccelli', 'vinegar', 'systemic', 'tresor', 'rocn', 'grohl', 'hazanavicius', 'damiens', 'dujardin', 'palmen', 'sierra', 'bedford', 'maputo', 'hershkovitz', 'mozambique', 'diamantes', 'sangre', 'raincoat', 'speleers', 'sidedness', 'tarver', 'hypertrichosis', 'arbus', 'stuttering', 'gebroe', 'oyster', 'brush', 'garfein', 'makoto', 'shinkai', 'supremes', 'eyen', 'dercourt', 'alimentation', 'wagenhofer', 'problematic', 'fema', 'katrina', 'incompetence', 'response', 'evokative', 'barnett', 'cavendish', 'sussex', 'eastbourne', 'hampstead', 'haverstock', 'kaleidoscope', 'anya', 'ormsby', 'mamches', 'swimsuit', 'pomp', 'chou', 'lien', 'potsdam', 'citizenship', 'selim', 'yamashita', 'rumpelstiltskin', 'erin', 'reichardt', 'medellín', 'flora', 'martínez', 'katleman', 'timber', 'timberlake', 'povs', 'meal', 'gröning', 'dunkhase', 'nobuhiro', 'dumbwaiter', 'chytilová', 'structurally', 'defiant', 'clubhouse', 'pj', 'csupo', 'sebastiano', 'bakeneko', 'nobuhiko', 'obayashi', 'keri', 'unfair', 'baking', 'almond', 'jaeger', 'boulder', 'celestial', 'seasoning', 'suburus', 'pang', 'automavision', 'corben', 'cookbook', 'tinseltown', 'chefs', 'cusine', 'yoyoyo', 'kitcheeeeen', 'paddle', 'ratatouille', 'befragung', 'malkin', 'continuum', 'crucify', 'nakayama', 'martindale', 'vignettes', 'variation', 'spinner', 'yip', 'lattuada', 'institutional', 'rachid', 'bouchareb', 'xeonophobia', 'psycodelic', 'cosplay', 'clattenburg', 'rickyism', 'traitorous', 'mazer', 'rotko', 'definite', 'lyric', 'mentall', 'illnes', 'repetition', 'alazraqui', 'garant', 'bioterrorism', 'pixy', 'lovering', 'galkin', 'cantor', 'çagan', 'irmak', 'nazisploitation', 'michi', 'rosemarie', 'lindt', 'sperati', 'disintegration', 'bikies', 'triology', 'divertente', 'neutral', 'kammer', 'hendler', 'småland', 'gerolmo', 'prophesy', 'macintosh', 'mingella', 'stretcher', 'abolitionist', 'ioan', 'ramola', 'abolition', 'banda', 'magliana', 'placido', 'leitch', 'wearwolf', 'wearwolves', 'rdjr', 'expectation', 'mikko', 'niskanen', 'deren', 'hammid', 'awkwardness', 'dufus', 'eta', 'guin', 'sajbel', 'javelin', 'minion', 'oracle', 'spartan', 'digniity', 'personofies', 'debauch', 'hideous', 'spartans', 'fassbender', 'thermopylae', 'fios', 'demand', 'fascistic', 'spartians', 'histrionics', 'constrain', 'persians', 'annuity', 'beneficiary', 'trivia', 'kuttner', 'mandala', 'salvadori', 'formaldehyde', 'cloverfield', 'resilient', 'comentary', 'eiga', 'südkorea', 'ko', 'doona', 'culturally', 'casal', 'tushingham', 'irrfan', 'sahira', 'meek', 'tabu', 'zuleikha', 'mcmahon', 'mennan', 'yapo', 'package', 'aframerican', 'detachment', 'vibration', 'shooter', 'gurgle', 'tmnt', 'aeromodelling', 'militsiya', 'kravchuk', 'dupontel', 'lemercier', 'philatelist', 'sklerose', 'diaconu', 'nae', 'caranfil', 'viewer', 'speck', 'improvement', 'failed', 'weaponize', 'darling', 'overhyped', 'castellari', 'christoph', 'remedy', 'showroom', 'irresponsible', 'orchids', 'postmaster', 'spendthrift', 'zeal', 'unmanned', 'aumont', 'géraldine', 'pailhas', 'mirage', 'koki', 'mitani', 'kyoka', 'karasawa', 'washam', 'cindy', 'pwnage', 'info', 'roemer', 'peart', 'maupassant', 'parolee', 'nomusic', 'anthem', 'piaf', 'dahan', 'remarries', 'heds', 'hotshot', 'tunesia', 'bendelack', 'chatwin', 'limbo', 'wiper', 'narcism', 'maquire', 'sivwalkedout', 'inexplicable', 'tonal', 'carjacking', 'freudian', 'terramar', 'goro', 'tamiya', 'terashima', 'objectively', 'canadiens', 'deux', 'psychedellic', 'charaters', 'yasutaka', 'tsutsui', 'hallway', 'seishi', 'minakami', 'cyclist', 'apichatpong', 'weerasethakul', 'falklands', 'turgoose', 'yee', 'pinsent', 'marvellous', 'munro', 'rogan', 'charlyne', 'toxicity', 'hader', 'wiig', 'seacrest', 'watters', 'nikki', 'blonsky', 'beckham', 'mesmerise', 'zidane', 'mayham', 'perrineau', 'poots', 'mackintosh', 'muggleton', 'idris', 'elba', 'histroy', 'raman', 'tenderness', 'busk', 'grafton', 'sinking', 'fixer', 'sucker', 'guuuyyy', 'thread', 'paycheck', 'aa', 'sonya', 'walger', 'syborg', 'jermaine', 'clement', 'jemaine', 'taika', 'misfits', 'examiner', 'brenneman', 'loktev', 'biggerstaff', 'costco', 'stopping', 'grocerystore', 'palud', 'djigirr', 'neukölln', 'yukisada', 'bondsman', 'shoplifter', 'skateboarder', 'suspended', 'marjoe', 'gortner', 'brannon', 'sooper', 'nekkid', 'gellis', 'flitter', 'kelowna', 'clueless', 'conceited', 'tracie', 'thoms', 'deiter', 'mirar', 'cazador', 'skyraider', 'traeger', 'belleville', 'kraus', 'richie', 'holdridge', 'ng', 'yam', 'pompeii', 'liberity', 'sundberg', 'dubya', 'manage', 'lov', 'poo', 'declare', 'kungfu', 'jungla', 'cristal', 'minot', 'unrealised', 'creator', 'baustelle', 'transformer', 'defies', 'busy', 'voigt', 'orci', 'evanna', 'privileged', 'firsthand', 'guillou', 'nunnery', 'fergus', 'kuhlman', 'baichwal', 'sturgess', 'delbonnel', 'iisland', 'devastation', 'murakami', 'briggs', 'afterworld', 'tuner', 'mcgillion', 'samberg', 'schaffer', 'various', 'skankwalkers', 'ironc', 'simpsons', 'expected', 'dome', 'wacko', 'epa', 'crikey', 'aron', 'pleaze', 'kat', 'dennings', 'poll', 'salsa', 'moskow', 'leak', 'nolfi', 'disorientatiion', 'manufacturing', 'coben', 'tommi', 'korpela', 'corneliu', 'porumboiu', 'opal', 'cera', 'mclovin', 'gayish', 'mintz', 'plasse', 'superbad', 'buddie', 'lmao', 'sleeplesness', 'postpartum', 'es', 'girltalk', 'havre', 'scranton', 'eragon', 'pingpong', 'jen', 'accio', 'nw', 'sw', 'messaging', 'spore', 'grammy', 'cady', 'parmet', 'sheri', 'edi', 'gathegi', 'hedlund', 'clouser', 'lafferty', 'jeffers', 'bombero', 'torero', 'bullring', 'ciudad', 'encantada', 'glosserman', 'mocku', 'sendup', 'underexposed', 'cuidad', 'juarez', 'godlike', 'hackneyed', 'fracture', 'bertin', 'fondato', 'biochemical', 'osama', 'crushed', 'carrot', 'remark', 'sideways', 'aand', 'scan', 'parachutist', 'rubik', 'santis', 'sepsis', 'saoirse', 'ronan', 'seamus', 'mcgarvey', 'typewritter', 'winnipeg', 'pedagogics', 'schmid', 'cristian', 'mungiu', 'anamaria', 'marinca', 'ceausescu', 'upsetting', 'irak', 'kravitz', 'delhi', 'rakesh', 'omprakash', 'mehra', 'lotay', 'midwife', 'closure', 'corrente', 'nader', 'henriette', 'mantel', 'skrovan', 'yingyang', 'sureal', 'aria', 'sington', 'cabrera', 'refusal', 'partialy', 'lenghty', 'gallop', 'landfill', 'remo', 'thure', 'lindhardt', 'nudists', 'vedder', 'publicist', 'pettis', 'confident', 'naja', 'ecclestone', 'motto', 'malin', 'akerman', 'spirtitual', 'egoist', 'priviledge', 'whoole', 'jodhpur', 'raleigh', 'armour', 'swin', 'complicatet', 'rewrite', 'hug', 'dork', 'daze', 'haji', 'louder', 'cunt', 'bathos', 'klienten', 'afflec', 'cinematograpy', 'carville', 'morin', 'rouch', 'depart', 'cedar', 'oshri', 'garbarski', 'islamistic', 'islamic', 'marjane', 'satrapi', 'paronnaud', 'corbijn', 'swicord', 'hippies', 'fowler', 'breeder', 'nicaraguan', 'garlic', 'occultism', 'bygda', 'norsk', 'fessenden', 'silk', 'bremen', 'transit', 'karslake', 'borstal', 'larsen', 'eward', 'kreatur', 'varab', 'amir', 'bope', 'moura', 'demagogue', 'cao', 'cahill', 'nominated', 'facades', 'hickner', 'botch', 'ck', 'dolujace', 'brainstem', 'amalric', 'arty', 'arsed', 'confuins', 'fatalism', 'surival', 'intentioned', 'sweded', 'klores', 'cristero', 'kaki', 'afrofuturism', 'schenkman', 'inmortal', 'beliefe', 'empirical', 'hiamatti', 'twat', 'stereo', 'ludzik', 'dragged', 'karlson', 'pittman', 'darfur', 'sudetendeutsch', 'philoshphy', 'orthodoxy', 'intersexuality', 'lucía', 'intersex', 'gavras', 'fanatism', 'chipmunk', 'worried', 'offend', 'awfull', 'franck', 'khalfoun', 'pronunciation', 'pekkala', 'xd', 'apocalyse', 'ginsberg', 'androgyne', 'rimbaud', 'seeout', 'belen', 'rueda', 'bayona', 'inimitable', 'precocity', 'minnesotan', 'btvs', 'diablo', 'thirlby', 'mandela', 'norah', 'bokeh', 'deray', 'bataille', 'barbato', 'accompany', 'fictionalisation', 'beeper', 'delayed', 'nebbish', 'punching', 'noncommittal', 'font', 'hustwit', 'belabor', 'blatt', 'glide', 'khaled', 'hosseini', 'mateship', 'bwv', 'oblivion', 'otaku', 'leggi', 'assurde', 'onore', 'familiare', 'imgination', 'hynes', 'valencia', 'toast', 'shea', 'whigham', 'dukic', 'etgar', 'keret', 'gogol', 'croatian', 'fredi', 'murer', 'beadle', 'seaman', 'yay', 'freasier', 'oilmen', 'fuld', 'amerikansk', 'ideologi', 'crile', 'islamabad', 'predalien', 'avp', 'reiko', 'aylesworth', 'strause', 'soro', 'alwara', 'vogel', 'tschirner', 'heitor', 'dhalia', 'innere', 'mongolei', 'suet', 'kina', 'luiz', 'carvalho', 'amole', 'gupte', 'kveta', 'fialova', 'oldrich', 'lipský', 'kolirin', 'ronit', 'elkabetz', 'sasson', 'gabai', 'found', 'manuela', 'velasco', 'paco', 'plaza', 'lotr', 'gaggero', 'startle', 'yustman', 'superfun', 'eff', 'rothenberg', 'crespo', 'schaefer', 'condescending', 'cappello', 'brenon', 'intercontintental', 'tatsuo', 'hosoda', 'sm', 'valette', 'talbert', 'brinker', 'fyvolent', 'mctavish', 'monterastelli', 'morrell', 'moretz', 'phychic', 'warmonger', 'bruges', 'gruuthuse', 'mcdonagh', 'klling', 'clémence', 'poésy', 'prentice', 'penitence', 'cardinal', 'doctrine', 'pialat', 'mali', 'comptuer', 'glamorization', 'nutcase', 'strafzettel', 'nadine', 'labaki', 'reeal', 'dziena', 'arrangement', 'pessimism', 'bård', 'breien', 'carlsen', 'bilson', 'egomaniacs', 'knowning', 'foundry', 'bodrio', 'magnicide', 'salamanca', 'ayelet', 'zurer', 'ramirez', 'eduardo', 'noriega', 'briana', 'evigan', 'mughal', 'rajput', 'zobel', 'redmayne', 'freisberg', 'jive', 'ramp', 'aba', 'alterman', 'chich', 'issey', 'takahashi', 'weijun', 'maim', 'sarkies', 'marcelo', 'piñeyro', 'historisch', 'steinzeit', 'treachery', 'alki', 'mays', 'rhona', 'mitra', 'martino', 'elephants', 'corbet', 'gearhart', 'sachsenhausen', 'devid', 'striesow', 'steppe', 'nix', 'ashram', 'chastity', 'beobachten', 'palansky', 'morelli', 'kresten', 'vestbjerg', 'fjeldmark', 'thorbjørn', 'christoffersen', 'mobbing', 'ros', 'clear', 'teammate', 'bharat', 'nalluri', 'bingham', 'sonja', 'henie', 'ilmar', 'raag', 'joonas', 'paas', 'kadi', 'metsla', 'sakrits', 'lauri', 'pedaja', 'maario', 'masing', 'mikk', 'jürjens', 'mägi', 'pärt', 'uusberg', 'solvak', 'riina', 'ries', 'triin', 'tenso', 'vallo', 'kirs', 'virgo', 'ernits', 'decison', 'glare', 'widespread', 'ladger', 'waatch', 'inscrutable', 'faithfull', 'carolla', 'juergensen', 'oswaldo', 'mma', 'gance', 'riggen', 'titanosaurus', 'wink', 'promoterism', 'blackjack', 'embellish', 'casinos', 'lapira', 'executioner', 'marsan', 'corden', 'rutter', 'frantisek', 'vlácil', 'gymnast', 'benchetrit', 'liana', 'simcoe', 'carman', 'cancún', 'myan', 'kunis', 'stoller', 'faste', 'strukturer', 'forventet', 'puller', 'nogen', 'billige', 'grin', 'positivt', 'overrasket', 'segels', 'stepbrother', 'mazin', 'ellroy', 'anges', 'cincinnati', 'haaz', 'sleiman', 'prisioners', 'unrated', 'schlossberg', 'hurwitz', 'corddry', 'consumarism', 'kounen', 'copywriting', 'sauerkraut', 'fxs', 'wachowskis', 'allam', 'overuse', 'texture', 'imagine', 'trampolin', 'darker', 'undertones', 'realist', 'skeptic', 'maher', 'intolerant', 'mahel', 'daring', 'arunas', 'matelis', 'marijuanna', 'succession', 'kama', 'sutra', 'outsource', 'jeffcoat', 'calculable', 'mccullers', 'surrogacy', 'surogate', 'sheppard', 'cullers', 'ukrainian', 'massai', 'exoskeleton', 'marcum', 'djawadi', 'mcu', 'rdj', 'cybernetics', 'robotic', 'charistmatic', 'terrorists', 'messina', 'kadeem', 'hardison', 'jujitsu', 'nightstick', 'collington', 'bator', 'barcellos', 'addiss', 'alfieri', 'trafficking', 'findandkillyou', 'bandanna', 'mk', 'catinca', 'untaru', 'mcfarland', 'monteverde', 'verastegui', 'amendment', 'caspian', 'chronology', 'joachiem', 'tetzlaff', 'markowitz', 'cohabitation', 'elegy', 'terrifying', 'predecessor', 'pathetically', 'libido', 'candace', 'bushnell', 'email', 'backseat', 'impossble', 'hr', 'wasnt', 'bertino', 'narrow', 'steroid', 'enhance', 'novo', 'canteen', 'carcass', 'tresorknacker', 'usurper', 'hacky', 'hairstyle', 'heartless', 'fecal', 'incontinence', 'espianage', 'rampant', 'marcos', 'siega', 'sapiano', 'bulger', 'converteixen', 'protegirse', 'requel', 'facepalm', 'ferigno', 'ferrigno', 'startup', 'dumbo', 'contemptful', 'mcvoy', 'derail', 'danberry', 'clemens', 'gero', 'cunnilingus', 'peg', 'carly', 'bangladesh', 'pillage', 'bonni', 'newnham', 'berge', 'klansman', 'expense', 'rotunda', 'wholseome', 'yung', 'ero', 'guro', 'sion', 'sono', 'annasofia', 'egomentary', 'nickname', 'ashambles', 'cubiness', 'nanites', 'mythos', 'facehugger', 'lap', 'zenovich', 'warpigs', 'phyllida', 'dissolute', 'dialect', 'speciality', 'boon', 'bienvenue', 'chez', 'baltic', 'karukoski', 'murnberger', 'tarrach', 'katyn', 'lithuania', 'briem', 'retell', 'intrigante', 'synchronized', 'céline', 'sciamma', 'adèle', 'haenel', 'voyeuristic', 'doesnt', 'hillbillys', 'jesper', 'snowball', 'malfeasance', 'transform', 'sawalich', 'régime', 'manhatten', 'defcon', 'warcraft', 'ric', 'wishaw', 'graceful', 'finally', 'towards', 'xzibit', 'takeya', 'nakamura', 'bingbing', 'compound', 'himalaja', 'stopped', 'encino', 'arianna', 'huffington', 'mare', 'winningham', 'subways', 'upstate', 'winzer', 'aspect', 'brigate', 'rosse', 'monot', 'giering', 'hummer', 'bromantic', 'lollipop', 'toenail', 'mennonite', 'reygadas', 'furman', 'possessiveness', 'shackle', 'southeast', 'ableist', 'buffallo', 'separatist', 'ahsoka', 'tano', 'unserious', 'incongruous', 'accept', 'apathy', 'roleplay', 'ari', 'folman', 'confusingly', 'ajvide', 'lindqvist', 'sweat', 'az', 'tuscon', 'mcphee', 'headbanging', 'ne', 'libertarians', 'boyce', 'kaori', 'momoi', 'nachmanoff', 'verité', 'lessin', 'lauria', 'paulson', 'arriaga', 'appear', 'smoker', 'kummeli', 'sánchez', 'arévalo', 'eastbound', 'conditioner', 'didja', 'ociffer', 'cardiopulmonery', 'airconditioner', 'remarry', 'maradona', 'boreanaz', 'blanca', 'prosperi', 'gualtiero', 'jacopetti', 'humboldt', 'bogatyryov', 'cyberterrorism', 'exceptionalism', 'malevolent', 'starlet', 'hardest', 'gorno', 'mes', 'guio', 'laugier', 'alessandra', 'negrini', 'camorra', 'servillo', 'stamford', 'ct', 'neuroticism', 'naturalism', 'extroversion', 'cegep', 'secrecy', 'golshifteh', 'farahani', 'uav', 'pipeworks', 'implementation', 'kurylenko', 'monroeville', 'pornstars', 'sonder', 'npr', 'riemelt', 'autocracy', 'unnatached', 'experimenteducation', 'dowdle', 'zehetner', 'heisman', 'buichi', 'saito', 'sjov', 'detalje', 'kriminelle', 'kollektiv', 'relativ', 'tollerant', 'overfor', 'homoseksualitet', 'skarpt', 'optrukne', 'øvrigt', 'ene', 'samleje', 'lavet', 'sådan', 'hurtigklippet', 'fremstiller', 'forløb', 'trivielle', 'komiske', 'mest', 'vellykkede', 'fede', 'miljøer', 'buddism', 'highwayman', 'huckleberry', 'saramago', 'wanking', 'donoven', 'kodi', 'dev', 'patel', 'quesions', 'mala', 'nonlin', 'disengage', 'anil', 'kapoor', 'coincidences', 'inderbitzin', 'saurabh', 'shukla', 'gajiwala', 'ayush', 'mahesh', 'khedekar', 'azharuddin', 'ismail', 'madhur', 'mittal', 'rubina', 'tanay', 'chheda', 'tanvi', 'ganesh', 'lonkar', 'slumcock', 'vikas', 'swarup', 'beaufoy', 'realpolitik', 'uncharacteristic', 'mcclure', 'saver', 'anthea', 'mabrouk', 'mechri', 'fictionalized', 'hostages', 'badasses', 'everywhere', 'earn', 'regionalism', 'irrigation', 'frisians', 'lovato', 'farscape', 'scorpious', 'dunstan', 'melton', 'hackle', 'patterson', 'arnaud', 'desplechin', 'greczyn', 'zuckerman', 'lungin', 'existensial', 'gaucho', 'nato', 'macgillivray', 'juana', 'republicanism', 'embarrasment', 'horrer', 'wilkins', 'costanzo', 'stampede', 'trample', 'matilda', 'aborigines', 'walton', 'essman', 'miley', 'cyrus', 'germann', 'lipton', 'sparkle', 'stephenie', 'redeamable', 'facinelli', 'glitter', 'function', 'accelerate', 'megaton', 'berleand', 'naivity', 'unease', 'leondis', 'etta', 'muddy', 'missle', 'launher', 'balázs', 'aerobic', 'excorcism', 'galloway', 'fryar', 'nanobots', 'vagine', 'apocolyptic', 'abrubt', 'revolución', 'cubana', 'bolivian', 'toa', 'dunsany', 'episcopal', 'lineup', 'duress', 'turhan', 'bey', 'yesim', 'ustaoglu', 'implicit', 'seymore', 'association', 'sag', 'hmong', 'ahney', 'vang', 'cranky', 'peacefull', 'steady', 'traditionalism', 'curmudgeon', 'carley', 'doua', 'moua', 'dreama', 'feingold', 'kross', 'claudel', 'zylberstein', 'ventriloquism', 'vladan', 'nikolic', 'mal', 'interpretada', 'dingy', 'aronofski', 'shemp', 'veld', 'aging', 'observational', 'bradd', 'desplat', 'postivity', 'bamber', 'ginnifer', 'goodwin', 'clearwater', 'pollute', 'smother', 'seeger', 'yearn', 'makato', 'kanae', 'sumida', 'mockbuster', 'zdravko', 'sotra', 'bloodline', 'emptiness', 'cansina', 'substandard', 'vanden', 'broucke', 'filip', 'peeters', 'koen', 'bouw', 'graeve', 'matthias', 'schoenaerts', 'veerle', 'baetens', 'sterile', 'kuenne', 'lacrosse', 'mate', 'pettyfer', 'belorus', 'prioritize', 'labrador', 'stillbirth', 'östlund', 'ser', 'portræt', 'sverige', 'føj', 'velfærdsinstitutionerne', 'grimme', 'slog', 'framentarisk', 'viser', 'nok', 'hænger', 'historie', 'singulære', 'drawn', 'maynard', 'deadish', 'andrucha', 'waddington', 'tamer', 'selfless', 'sino', 'kongfu', 'ip', 'tsun', 'stevenhagen', 'boldo', 'niche', 'vancil', 'mesrine', 'ackles', 'strait', 'wto', 'bárbara', 'goenaga', 'eugenio', 'karra', 'elejalde', 'nacho', 'vigalondo', 'wend', 'outdoor', 'acker', 'docker', 'abdel', 'kechiche', 'hallmark', 'balkans', 'cornelia', 'albuquerque', 'warman', 'ineson', 'harlock', 'lejiverse', 'wednesday', 'piecemeal', 'malls', 'segway', 'streets', 'heterochromia', 'residency', 'annable', 'repossessed', 'alexa', 'terrance', 'zdunich', 'kit', 'unsent', 'reino', 'nordin', 'pettet', 'turkmenistan', 'recruitment', 'aussee', 'handprint', 'chavism', 'layered', 'chavs', 'worlds', 'gainman', 'laika', 'coulais', 'kozachik', 'hatcher', 'jeeja', 'yanin', 'prepper', 'elias', 'youtself', 'beagle', 'pound', 'moomins', 'saitô', 'maciej', 'slesicki', 'unpaid', 'windshield', 'yojiro', 'centric', 'avari', 'badreya', 'chainsaws', 'insular', 'friendnship', 'kalkbrenner', 'seaplane', 'simoneau', 'cortisone', 'feces', 'xiaogang', 'feng', 'zehlendorf', 'detlev', 'alexi', 'searching', 'illustrator', 'sonogram', 'unmarried', 'dialogues', 'airlift', 'romain', 'duris', 'karine', 'viard', 'vodkaster', 'kiev', 'neurosurgeon', 'kawase', 'slimehouse', 'alcholics', 'avoids', 'allégret', 'lydic', 'foreman', 'rashida', 'kroll', 'kavet', 'atwood', 'desecration', 'oncology', 'rosary', 'predictably', 'astrophysicist', 'lexington', 'westford', 'pseduscience', 'dramatical', 'thight', 'translucid', 'panna', 'rittikrai', 'nyqvist', 'noomi', 'rapace', 'dragontattoo', 'niels', 'oplev', 'stieg', 'larsson', 'butch', 'hackers', 'grisly', 'taube', 'cleaning', 'entrepreneurship', 'romatic', 'twinkle', 'sentience', 'paperbag', 'tru', 'nemescu', 'devoted', 'ramayana', 'paley', 'rama', 'sita', 'dvorak', 'schoolmate', 'dificil', 'situarse', 'si', 'entens', 'des', 'tema', 'dramatize', 'edgerton', 'ainsworth', 'fiasco', 'gervasi', 'kudlow', 'spinal', 'noã', 'carny', 'bordering', 'carnies', 'elissa', 'wakefield', 'yandere', 'yon', 'brix', 'götz', 'spielmann', 'whitewashed', 'kamamaha', 'stephani', 'crabbe', 'envelope', 'gps', 'brahm', 'transgression', 'fetichism', 'barbie', 'armando', 'iannucci', 'bye', 'magtundergravende', 'tørre', 'historien', 'begyndte', 'fylde', 'dishearten', 'emirates', 'cavalera', 'sturridge', 'talulah', 'debauchery', 'whittlesey', 'claustraphobic', 'melora', 'hardin', 'relive', 'ddd', 'polyglot', 'mélanie', 'brühl', 'au', 'revoir', 'shoshana', 'basterds', 'blog', 'paragon', 'privatization', 'sylvan', 'bogotá', 'dervish', 'sufism', 'leeds', 'meany', 'premier', 'footbal', 'taser', 'secessionist', 'mcelligott', 'parris', 'shreiber', 'joyless', 'salvatrucha', 'dialecte', 'entendre', 'necessitaria', 'subtituls', 'fukunaga', 'spok', 'uhura', 'turbolift', 'quinto', 'jj', 'hemsworth', 'saldana', 'reset', 'lense', 'vibe', 'improved', 'joyride', 'malcovich', 'mcginly', 'butoh', 'tanz', 'hanami', 'bourgoin', 'tadeusz', 'chmielewski', 'shatter', 'harcourt', 'disneynature', 'fothergill', 'linfield', 'cern', 'deadline', 'palmenhaus', 'ubahn', 'wien', 'garrel', 'honoré', 'belber', 'madmax', 'bleakness', 'worthington', 'dialoges', 'bloodgood', 'earhart', 'smithsonian', 'bernthal', 'cookery', 'gustafson', 'leotard', 'deo', 'rinko', 'kikuchi', 'conmen', 'windy', 'sylwester', 'checinski', 'chantal', 'grows', 'rigtig', 'hvordan', 'dynamikken', 'forandrer', 'forhold', 'brud', 'iliadis', 'garberator', 'obituary', 'reggie', 'warped', 'ballooning', 'yasujirō', 'necessites', 'seiji', 'mizushima', 'kirstin', 'falseness', 'grandiose', 'lutz', 'galifinakis', 'metaphores', 'menta', 'chandra', 'barot', 'superstar', 'funès', 'haberman', 'passmore', 'manufacture', 'rube', 'skavlan', 'showtunes', 'sleestak', 'godey', 'mortar', 'riesen', 'riesenmonster', 'henshin', 'hitoshi', 'matsumoto', 'nowrasteh', 'hebrews', 'scatologic', 'sacreligious', 'philander', 'mackie', 'defusal', 'criticadisima', 'evangeline', 'disarm', 'backstory', 'berlanga', 'fipresci', 'penella', 'garrote', 'lópez', 'vázquez', 'isbert', 'unplanned', 'darrieux', 'fernand', 'gravey', 'philipe', 'barrault', 'zala', 'autobots', 'filler', 'ridiculus', 'carbon', 'offset', 'panorama', 'afraid', 'dvortsevoy', 'herder', 'barnz', 'pervo', 'hiself', 'soulless', 'scrat', 'trokey', 'kalinda', 'vazquez', 'santora', 'scheuring', 'estrin', 'purcell', 'thonton', 'vassilieva', 'genuine', 'kareena', 'sensibility', 'chiseler', 'gubler', 'jospeh', 'greeting', 'romanticism', 'farsi', 'flaubert', 'suprises', 'ol', 'dicks', 'stana', 'katic', 'testting', 'romanticisation', 'felton', 'gaunts', 'snape', 'saturation', 'klu', 'erman', 'pratt', 'malen', 'ninety', 'graft', 'troyer', 'herrenchiemsee', 'neuschwanstein', 'vanasse', 'gaudette', 'huberdeau', 'garbageman', 'fuhrman', 'cch', 'figher', 'reitz', 'flooding', 'dispute', 'thatcher', 'beforecreditsstinger', 'sharlto', 'copley', 'internment', 'mech', 'blomkamp', 'mkandawie', 'cope', 'boltt', 'sylvaine', 'underdevelop', 'wikus', 'upset', 'afrikaner', 'culinary', 'skew', 'provost', 'orelans', 'falardeau', 'kittelsen', 'espen', 'sandberg', 'rønning', 'aksel', 'hennie', 'shack', 'scone', 'saddle', 'megumi', 'mechs', 'turnier', 'takeaway', 'atmospherical', 'traveler', 'temporal', 'bukkake', 'tromaesque', 'shamim', 'sarif', 'cregger', 'highschooler', 'jasenovec', 'rooming', 'chace', 'dyr', 'dimensionalization', 'defecating', 'reggaeton', 'thalberg', 'boleslawski', 'weasel', 'emphasis', 'senegalese', 'souleymane', 'sy', 'savane', 'petruolo', 'viagra', 'curatorship', 'kristallnacht', 'demetri', 'overturn', 'slet', 'forrige', 'ringe', 'fangende', 'xerren', 'raro', 'argenti', 'soledad', 'villamil', 'souls', 'visaully', 'intelegent', 'fizzle', 'gareth', 'carrivick', 'elbia', 'cinematograp', 'phelps', 'hybernation', 'pelis', 'copiat', 'plagi', 'antje', 'traue', 'alvart', 'heslov', 'ronson', 'gorin', 'gallner', 'idiosyncratic', 'eichenwald', 'mchale', 'fixing', 'rely', 'sexualised', 'doppleganger', 'cherien', 'dabis', 'sexless', 'megnézni', 'extract', 'mindcontrol', 'cheesburger', 'phill', 'monsanto', 'sustainable', 'pollan', 'kenner', 'pearlstein', 'vegetarians', 'fda', 'usda', 'veganism', 'rack', 'giantess', 'lesion', 'laestadian', 'marjut', 'maristo', 'seminar', 'keats', 'protagoist', 'edie', 'mulhouse', 'revive', 'amnesiac', 'entity', 'dammit', 'prodigal', 'sher', 'pinoy', 'relationshiip', 'alexie', 'gilmore', 'glauber', 'rocha', 'subdue', 'publish', 'dutt', 'authorhasnoideahowcapitalismworks', 'aayesha', 'takia', 'manjrekar', 'prakash', 'cove', 'louie', 'psihoyos', 'stuhlbarg', 'oy', 'vey', 'wolff', 'mcmanus', 'sari', 'lennick', 'goy', 'torah', 'ezra', 'dreary', 'pisstake', 'dougherty', 'landon', 'pigg', 'orgiginal', 'dillema', 'neoluddism', 'disposing', 'twinkie', 'wintour', 'reply', 'stich', 'brontë', 'spoiler', 'anthrax', 'microbe', 'vaccine', 'østergaard', 'billingsley', 'sleezy', 'traill', 'horacio', 'camandule', 'imtiaz', 'bhangra', 'himachal', 'pradesh', 'shahid', 'segan', 'mcquaid', 'munson', 'sendak', 'cameras', 'confused', 'calagione', 'tonite', 'implauisble', 'malament', 'fridging', 'sarificed', 'moralism', 'groeningen', 'toyboy', 'fidelity', 'giza', 'vsevolod', 'pudovkin', 'constructivism', 'jelousy', 'videoconferencing', 'pedestrian', 'anticorporate', 'kirn', 'heddy', 'honigmann', 'inhaler', 'calvin', 'leonidas', 'tuppence', 'middleton', 'landreth', 'lauenstein', 'intention', 'porch', 'ostrich', 'rosenmüller', '吸血鬼的助手', '奇趣马戏团', 'stilson', 'jai', 'corrigan', 'verdone', 'plaigarism', 'civilized', 'dogpeople', 'herdsman', 'caleb', 'frahme', 'sheehy', 'nikolaus', 'geyrhalter', 'impartial', 'sohn', 'arvid', 'uibel', 'stenner', 'wittlinger', 'filming', 'goemon', 'yosuke', 'eguchi', 'pornographie', 'speciel', 'faux', 'iglesias', 'lluis', 'homar', 'anchorage', 'sumerian', 'disrespectul', 'fatty', 'gabourey', 'sidibe', 'oren', 'moverman', 'orchard', 'ninjutsu', 'oprhan', 'feyder', 'tnmt', 'bailee', 'schwizgebel', 'damasio', 'quinton', 'mcgraw', 'structuralist', 'pate', 'fluffy', 'ive', 'boorem', 'mourning', 'isherwood', 'bulgakov', 'periphery', 'mciver', 'schmaltz', 'staley', 'sarrandon', 'sandinistas', 'facilier', 'tiana', 'anika', 'bowdlerize', 'unchallenging', 'campos', 'peacful', 'brügger', 'pentathlon', 'paddleboat', 'curt', 'sharmila', 'tagore', 'soumitra', 'chatterjee', 'går', 'rundt', 'fattig', 'stort', 'ingenting', 'utrolig', 'tomgang', 'hvis', 'opleve', 'kedsomhed', 'stilleståenhed', 'missionen', 'vellykket', 'skulle', 'været', 'mindst', 'kortere', 'skåret', 'fra', 'fattigdomssekvensen', 'handler', 'desperat', 'økonomisk', 'nød', 'gamle', 'forstand', 'tæller', 'bogstaveligt', 'talt', 'mønterne', 'lomme', 'splittet', 'bedømmelsen', 'dens', 'perioder', 'måske', 'sågar', 'helhed', 'fokus', 'dårlige', 'nærmere', 'elsker', 'parisfilm', 'denne', 'æra', 'lever', 'dag', 'hoteller', 'spilder', 'olieplet', 'jakkesæt', 'stadig', 'typisk', 'fransk', 'narrativet', 'romantisk', 'karakter', 'æstetisk', 'første', 'kortfilm', 'moralske', 'fortællinger', 'gerne', 'medgive', 'beskidte', 'fattige', 'primært', 'tynd', 'får', 'vide', 'alligvel', 'arvet', 'lortet', 'kører', 'væk', 'venners', 'åbne', 'sportsvogn', 'kort', 'slutning', 'fattigdommen', 'punktum', 'judex', 'mauritz', 'jaak', 'kilmi', 'disko', 'tuumasõda', 'mclaren', 'rybczynski', 'chistmas', 'coelho', 'molester', 'beatutiful', 'informatics', 'animism', 'sigorney', 'jackboot', 'classicism', 'unobtainium', 'fern', 'gully', 'improvident', 'unwise', 'imbecile', 'bluepeople', 'natives', 'rehased', 'theeffects', 'coastline', 'sequin', 'buttock', 'fiancee', 'sembla', 'silliness', 'subgenere', 'overvejede', 'sluttede', 'række', 'værste', 'klicheer', 'havende', 'lort', 'biscuit', 'parini', 'abhishek', 'footstep', 'cantona', 'coconut', 'biohazard', 'vancamp', 'pucci', 'pickman', 'travelogue', 'unsatisfactory', 'georgina', 'houle', 'convenient', 'pharoah', 'harvesting', 'franny', 'hachiko', 'cardiologist', 'carnage', 'rebuild', 'cherish', 'solis', 'punker', 'annika', 'hallin', 'michalis', 'koutsogiannakis', 'beater', 'arestrup', 'tahar', 'rahim', 'corsican', 'squirmish', 'staten', 'zegist', 'catalonia', 'naxos', 'heathrow', 'macgyver', 'hecker', 'petzold', 'joão', 'césar', 'monteiro', 'birol', 'ãœnel', 'wotan', 'wilke', 'muyl', 'kunoichi', 'florentine', 'hijii', 'adkins', 'tsuyoshi', 'ihara', 'guitry', 'colosseum', 'clovis', 'cornillac', 'brutus', 'forestier', 'langmann', 'hessler', 'chisel', 'dole', 'kizo', 'nagashima', 'hodge', 'iit', 'rajkumar', 'hirani', 'sebastián', 'horatiu', 'malaele', 'donehue', 'carthage', 'sklavinnen', 'indecision', 'criminology', 'tinling', 'quince', 'sisyphean', 'sisyphus', 'recursion', 'glib', 'psych', 'ficarra', 'requa', 'hirohito', 'rémi', 'bezançon', 'gravestone', 'ti', 'eighties', 'handcam', 'statuory', 'cinematogr', 'özer', 'kiziltan', 'erkan', 'unmet', 'mentali', 'surrreal', 'intence', 'unnerving', 'dilemna', 'uncertainty', 'epithet', 'alicja', 'bachleda', 'aquecimento', 'shergold', 'uncertain', 'daddario', 'sexualtiy', 'locate', 'lerman', 'dunsworth', 'tremblay', 'pawel', 'edelman', 'twomey', 'tomm', 'toland', 'krieger', 'snark', 'hypatia', 'jaffar', 'mahmood', 'shinjuku', 'taiwanese', 'yakluza', 'alessandrin', 'bichlbaum', 'bonanno', 'containment', 'breck', 'eisner', 'precariat', 'lixin', 'macfarlane', 'seryj', 'evgeni', 'leonov', 'hallways', 'cyperpunk', 'wiseau', 'haldiman', 'doggie', 'hi', 'vogt', 'minnott', 'sestero', 'kajol', 'mushie', 'newport', 'levee', 'wasikowska', 'bellicose', 'jabberwocky', 'breakdances', 'stéphane', 'aubier', 'patar', 'baghdad', 'iraqi', 'khalid', 'abdalla', 'commodus', 'aurelius', 'scandar', 'copti', 'yaron', 'krysten', 'gauche', 'llewellyn', 'moxey', 'frostbite', 'janette', 'edwige', 'fenech', 'goslett', 'famuyiwa', 'noodling', 'prior', 'erskine', 'avril', 'philipp', 'stölzl', 'eiger', 'leitmotiv', 'diy', 'enforcer', 'clichã', 'privatize', 'mordecai', 'richler', 'fyodor', 'linnanheimo', 'teuvo', 'tulio', 'cityscape', 'bowlby', 'methamphetamine', 'overtones', 'lyndsy', 'mötley', 'crüe', 'failing', 'javor', 'gardev', 'acupuncture', 'toothless', 'vikings', 'shahab', 'taraneh', 'alidoosti', 'uncorrelated', 'jaimes', 'rondo', 'hatton', 'hommage', 'contemplation', 'guesthouse', 'harather', 'arterton', 'draco', 'solon', 'charcters', 'misotheistic', 'tibetan', 'remayne', 'damico', 'unintellectual', 'mora', 'leighton', 'meester', 'torquemada', 'severely', 'casket', 'berghäll', 'hotakainen', 'sennett', 'alia', 'shawkat', 'jett', 'razorback', 'vail', 'peplum', 'contessa', 'enticement', 'chieftain', 'primarily', 'description', 'looser', 'adiyaman', 'aesthic', 'idiolect', 'christos', 'stergioglou', 'giorgos', 'lanthimos', 'aggeliki', 'papoulia', 'kalaitzidou', 'hristos', 'passalis', 'tsoni', 'cicada', 'willa', 'chuan', 'lu', 'pesticide', 'dieter', 'akihiro', 'ashlynn', 'yennie', 'banksy', 'sellout', 'fairey', 'guetta', 'heidy', 'tobruk', 'brigand', 'brigands', 'purefoy', 'debney', 'jarvis', 'particle', 'accelerator', 'maoz', 'neuvonen', 'narc', 'belgrade', 'goalkeeper', 'kawai', 'kildren', 'abdellatif', 'hallyday', 'bitten', 'erica', 'madley', 'otoko', 'tsurai', 'yo', 'foolhardy', 'aprobada', 'jutstet', 'pressupost', 'mescla', 'schwabroh', 'steadily', 'deteriorate', 'humorless', 'kellan', 'muslims', 'riz', 'ahmed', 'döner', 'kebap', 'quietism', 'shoutout', 'anny', 'duperey', 'nymphomania', 'augusto', 'pinochet', 'crony', 'rumsfeld', 'metz', 'pedersen', 'kervorkian', 'blakeson', 'compston', 'judicial', 'butthurt', 'narrowly', 'melodic', 'magna', 'carta', 'engel', 'orkin', 'breadwinner', 'fluff', 'marathi', 'bonhoeffer', 'automotive', 'nonconformism', 'ltte', 'sri', 'lanka', 'imam', 'muezzin', 'cooke', 'doolan', 'hyperrealism', 'cianfrance', 'giftmord', 'buried', 'cortes', 'rustling', 'dupuis', 'regent', 'sinead', 'rakoff', 'choral', 'leddy', 'abu', 'dhabi', 'gujarat', 'diddy', 'trama', 'meu', 'interes', 'verona', 'nowhere', 'deprecation', 'goller', 'insemination', 'beastiality', 'når', 'endelig', 'møder', 'langsommelig', 'flad', 'brænder', 'igennem', 'courthouse', 'videos', 'scattered', 'sinaia', 'léa', 'seydoux', 'melikyan', 'goldin', 'narcissist', 'hazeldine', 'garrity', 'wakamatsu', 'michio', 'akiyama', 'kozakura', 'railwayman', 'lorca', 'tacones', 'lejanos', 'stave', 'valentina', 'cortese', 'tomahawk', 'goof', 'unlimited', 'nesson', 'arndt', 'aeronautical', 'neiva', 'ozark', 'ozarks', 'rosellini', 'woodrell', 'blockade', 'birgit', 'minichmayr', 'urlaub', 'larp', 'cubicle', 'rower', 'racer', 'edzard', 'cassar', 'fragasso', 'juvanile', 'chon', 'creepily', 'animagus', 'dmt', 'orphanhood', 'avatar', 'aasif', 'mandvi', 'manicurist', 'garotte', 'toulouse', 'tristán', 'ulloa', 'flasblack', 'cowen', 'goggins', 'tundra', 'woe', 'cattivissimo', 'renaud', 'tre', 'hyggelig', 'berettermodel', 'slaskede', 'feelgoodscener', 'endnu', 'forvente', 'dileep', 'rao', 'orriginal', 'menswear', 'socio', 'metaphisics', 'dimensional', 'dram', 'mtstery', 'intrigued', 'cough', 'apprendista', 'unsightly', 'charecters', 'explotation', 'suntan', 'sunscreen', 'ventilation', 'sheehan', 'cactus', 'cyclone', 'mccall', 'steinbauer', 'stomp', 'indiscretion', 'insolence', 'monta', 'misplace', 'snub', 'juno', 'technobabble', 'possibility', 'regbo', 'viterbi', 'algorithm', 'intellectualism', 'quarrel', 'punning', 'gregorio', 'loe', 'filmfare', 'sunken', 'beery', 'sempe', 'tirard', 'grandmaster', 'risto', 'jarva', 'bart', 'freundlich', 'ceo', 'zip', 'gaup', 'merman', 'ironically', 'ragnar', 'bragason', 'coture', 'vegan', 'hyperactive', 'nutshell', 'satya', 'bhabha', 'geekey', 'chiptunes', 'svengali', 'devgan', 'manoj', 'bajpai', 'patekar', 'jha', 'hadrian', 'hostorical', 'plenty', 'dolan', 'forgive', 'johanna', 'wokalek', 'balmes', 'moderna', 'giordano', 'urson', 'gianna', 'szohr', 'scheer', 'bollox', 'hoenig', 'whismical', 'aswan', 'larraín', 'borgia', 'hollingsworth', 'womaniser', 'chanson', 'uncomprehensible', 'torino', 'kartell', 'cervantes', 'narkolepsy', 'abalam', 'kawalerowicz', 'aviatrix', 'kozintsev', 'iosif', 'thekla', 'reuten', 'violante', 'flotte', 'skud', 'ske', 'fertilization', 'fracking', 'geology', 'marcellus', 'shale', 'petroleum', 'maniquis', 'boobies', 'linsey', 'skype', 'sudeikis', 'stroup', 'dohnanyi', 'somali', 'pansori', 'lachman', 'wive', 'eyeshadow', 'briony', 'behets', 'eggleston', 'hargreaves', 'aitkens', 'mcewen', 'soly', 'armie', 'deposition', 'reznor', 'programmer', 'alto', 'intensity', 'atticus', 'palette', 'nerds', 'zuckerberg', 'slutty', 'mezrich', 'hamm', 'badgley', 'gluck', 'vocabullary', 'ojai', 'protragonist', 'idealized', 'creole', 'callan', 'mcauliffe', 'owls', 'lennertz', 'kuroda', 'sponge', 'gilchrist', 'strenth', 'lamorte', 'paola', 'mendoza', 'grinde', 'weirder', 'hue', 'newpaper', 'français', 'synopsis', 'salman', 'vengance', 'mcgavin', 'silo', 'hanna', 'schygulla', 'embarressid', 'secretariat', 'horseracing', 'foodage', 'llife', 'godparent', 'timely', 'joost', 'networking', 'hairy', 'firestarter', 'egender', 'heuring', 'papier', 'mache', 'treusury', 'edwards', 'metaphoric', 'yosemite', 'sensor', 'achache', 'bookcase', 'distinguish', 'veiko', 'õunpuu', 'margit', 'carstensen', 'slovenia', 'chiatti', 'lameness', 'witold', 'leszczynski', 'drogen', 'latex', 'delgado', 'demographic', 'tyre', 'headsplosions', 'tyres', 'aware', 'pad', 'extraction', 'pemble', 'warefare', 'hetherington', 'urine', 'slit', 'lilith', 'accountability', 'schwentke', 'haredi', 'kz', 'chaumeil', 'paradis', 'beauvois', 'unexpectedly', 'fragrance', 'farmanara', 'noblewoman', 'necromancer', 'emum', 'vicodin', 'waffle', 'rediscovery', 'rejuvenation', 'hiker', 'poesy', 'criticadissima', 'passa', 'lorne', 'balfe', 'schoolcraft', 'villians', 'daf', 'preeettyyy', 'persoanlity', 'spellbind', 'andres', 'mclaughlin', 'heyman', 'barbary', 'lourdes', 'pyrenees', 'hausner', 'smoktunovsky', 'streng', 'cavayé', 'lemans', 'nighty', 'oppl', 'opec', 'cinematrophy', 'carpathian', 'szekely', 'transylvanian', 'weasley', 'infiltrator', 'stammer', 'disposable', 'stammering', 'horsey', 'rapunzel', 'maximus', 'greno', 'snarker', 'mannerism', 'argott', 'unbalanced', 'crackhead', 'poisionous', 'deville', 'workhouse', 'grown', 'discomforting', 'metalheads', 'pasquale', 'festa', 'campanile', 'balfour', 'insignificance', 'swagger', 'lankosz', 'poulter', 'poyser', 'cruze', 'export', 'instruction', 'jalmari', 'helander', 'heidelberg', 'loafer', 'semih', 'kaplanoglu', 'fuith', 'marzieh', 'liberia', 'gini', 'reticker', 'skandinavien', 'stasey', 'hailee', 'steinfeld', 'soliloquy', 'dd', 'mumble', 'simplicity', 'miscast', 'mumbly', 'portis', 'excels', 'autocrat', 'tron', 'overtomes', 'relaunch', 'overreach', 'manville', 'blucas', 'strife', 'hyeongsa', 'heian', 'knighthood', 'teutonic', 'breastfeed', 'serf', 'zanussi', 'shouting', 'sheng', 'ding', 'leehom', 'poltermann', 'ilisa', 'barbash', 'lucien', 'mikkel', 'nørgaard', 'raphael', 'valle', 'ehrlich', 'akshay', 'kumar', 'dhawan', 'kadar', 'rajpal', 'yadav', 'lászló', 'benedek', 'topper', 'xtina', 'hiromasa', 'yonebayashi', 'conceptually', 'fearless', 'labine', 'defy', 'subvert', 'allelopathy', 'yogi', 'crawlspace', 'hideaway', 'hackl', 'nadeshda', 'brennicke', 'paulus', 'manker', 'equal', 'sew', 'jardim', 'scheinfeld', 'gideon', 'raff', 'kato', 'fatima', 'gulag', 'sngmoo', 'suez', 'moocher', 'sponger', 'madhuri', 'dixit', 'badwriting', 'gavaldón', 'lisandro', 'psychadelic', 'suar', 'fontan', 'rimini', 'skirt', 'alaa', 'safi', 'moussa', 'maaskri', 'valverde', 'sinéad', 'yael', 'hersonski', 'mayflower', 'plymouth', 'malmberg', 'dishwasher', 'escalator', 'psychobabble', 'coleridge', 'wordsworth', 'livery', 'stable', 'wittgenstein', 'headwaiter', 'muntean', 'paralyzed', 'quo', 'hyperintelligence', 'glynn', 'resist', 'addium', 'lifeless', 'dmitry', 'vasyukov', 'arzner', 'emil', 'jannings', 'brizé', 'donatello', 'puddle', 'öhman', 'emmett', 'nugent', 'agnosticiscm', 'benefit', 'gerwig', 'arbor', 'formalin', 'scepticism', 'seminary', 'toad', 'pataky', 'dignam', 'mitsuo', 'yanagimachi', 'fregonese', 'fiesta', 'bournealike', 'shantytown', 'trafalger', 'roanoke', 'chalet', 'yeye', 'hospitality', 'tuareg', 'horrorfest', 'bigoted', 'staccato', 'removal', 'pregancy', 'appignanesi', 'mitzvah', 'islamism', 'armadillo', 'rango', 'collegeparty', 'fogler', 'slattery', 'emmony', 'drana', 'nicholls', 'wyngarde', 'vicar', 'hanafuda', 'lebowitz', 'haruki', 'infumable', 'snare', 'kunio', 'katô', 'reijsiger', 'paleolithic', 'warewolf', 'ridinghood', 'shiloh', 'fernandez', 'øvredal', 'intruiging', 'probability', 'natalism', 'objectify', 'upskirt', 'porterfield', 'westwick', 'prost', 'ayrton', 'senna', 'conventional', 'eisener', 'elder', 'unfit', 'cannavale', 'unrealism', 'genuinely', 'whilst', 'yarovenko', 'squadron', 'waititi', 'ertem', 'egilmez', 'kirill', 'serebrennikov', 'monument', 'nutcracker', 'miserable', 'goalpost', 'poca', 'giovinazzo', 'reformatory', 'lochhead', 'consignment', 'espinosa', 'ystad', 'humankind', 'resource', 'phantasmagorical', 'mckimson', 'millenials', 'fiets', 'carnivale', 'gainsburg', 'copywriter', 'limo', 'hiddleston', 'asgard', 'heimdall', 'odin', 'loki', 'thor', 'coulson', 'hartman', 'objectivism', 'campania', 'roschdy', 'zem', 'bouajila', 'gasnier', 'ñoña', 'staho', 'persbrandt', 'fierlinger', 'trieste', 'sung', 'frenzy', 'northerner', 'rothschild', 'heisenberg', 'ariane', 'labed', 'checkpoint', 'violance', 'confidant', 'mumolo', 'airfield', 'behemoth', 'havoc', 'anguirus', 'jaenada', 'cutsie', 'fucktarded', 'boriginal', 'bp', 'bacsi', 'mccracken', 'chastain', 'theism', 'dizzy', 'seclude', 'conor', 'horgan', 'mohamed', 'daradji', 'gorosaurus', 'stonewall', 'heilbroner', 'lyme', 'sadao', 'yamanaka', 'loden', 'palun', 'ludovic', 'berthillot', 'sylt', 'liefers', 'liberato', 'tendentious', 'torremolinos', 'taft', 'basejump', 'boyega', 'broke', 'tracel', 'docufiction', 'yuh', 'aibel', 'ineffectual', 'magne', 'ayoade', 'dsyfunction', 'handjob', 'hornung', 'santell', 'rumley', 'parallelism', 'firecracker', 'qaeda', 'yemen', 'poitras', 'reprisal', 'sergiu', 'nicolaescu', 'gorific', 'benacerraf', 'lisp', 'oblivious', 'ciccoritti', 'hatch', 'zookeeper', 'scatalogical', 'cisco', 'lenovo', 'turncoat', 'pál', 'fejős', 'chernobyl', 'philo', 'excessively', 'ploy', 'soechtig', 'pleaser', 'saladoff', 'károly', 'makk', 'fragmentarisk', 'masse', 'kretschmar', 'transistor', 'wad', 'imran', 'dissent', 'shoegaze', 'selena', 'intercom', 'kettle', 'clayne', 'tomnay', 'krishna', 'hendricks', 'typeset', 'intj', 'stolid', 'dormer', 'buchanan', 'bucky', 'tesseract', 'poisoning', 'analeigh', 'tipton', 'groban', 'coarse', 'dentistry', 'bombardier', 'lenka', 'dermody', 'kwanten', 'masohn', 'thermal', 'durston', 'metin', 'erksan', 'chiang', 'calabria', 'frammartino', 'smurf', 'gargamel', 'safy', 'nebbou', 'miliki', 'breach', 'nicolae', 'paperwork', 'yasiin', 'primatologist', 'superapes', 'epocalipse', 'tranquilizer', 'pijamas', 'wysocki', 'azazel', 'crociccia', 'rififi', 'sholom', 'aleichem', 'antisemitism', 'ressentiment', 'stockett', 'octavia', 'sagregation', 'paternalism', 'ba', 'kaniehtiio', 'trotsky', 'gastronomic', 'ferran', 'colorize', 'differently', 'abled', 'cosmology', 'marling', 'mapother', 'parall', 'grungy', 'susser', 'brochu', 'typecast', 'sylistic', 'moderate', 'analytic', 'lye', 'haute', 'couture', 'milliner', 'poncho', 'incentive', 'bowser', 'momoa', 'smirk', 'coathanger', 'unintentially', 'thinly', 'veiled', 'announcement', 'worricker', 'briton', 'fundamentalists', 'pirañera', 'wandering', 'cosette', 'cuento', 'chino', 'borensztein', 'bichir', 'jose', 'mum', 'munn', 'neorrealismo', 'leacock', 'stylist', 'sensationalist', 'cdc', 'macau', 'fernández', 'statistic', 'analytics', 'badapted', 'bsar', 'statistician', 'argentinia', 'invitation', 'shiner', 'brava', 'ronda', 'tomatina', 'linden', 'cottaging', 'prowler', 'bolognini', 'cavave', 'swill', 'rollick', 'mothership', 'cabbie', 'taxicab', 'instagram', 'sparingly', 'helvedes', 'sentimentality', 'veil', 'bflf', 'psychoanalaysis', 'micahel', 'stove', 'advertisement', 'muscleman', 'soundttrack', 'raluca', 'endorsement', 'willimon', 'porta', 'smiley', 'myanna', 'maskell', 'oman', 'strahovski', 'lenses', 'divergent', 'comicotragedy', 'megaweapon', 'durham', 'microcosm', 'ágnes', 'hranitzky', 'pelevin', 'hollywoodland', 'marquee', 'uggie', 'berenice', 'bejo', 'orig', 'veracity', 'bsas', 'pituitary', 'disturbic', 'overplay', 'rajnikanth', 'frantz', 'fanon', 'laing', 'yanomami', 'kohlberg', 'coronado', 'naturschutzgebiet', 'jargony', 'miyuki', 'kuwano', 'tetsuro', 'tanba', 'glawogger', 'goyo', 'soundtract', 'prizefighting', 'meehl', 'loznitsa', 'isi', 'dreg', 'durkin', 'ambigous', 'shriver', 'unfitting', 'vaudevillian', 'riseborough', 'escalate', 'tulip', 'gist', 'brokerage', 'oomph', 'chandor', 'kassen', 'maïwenn', 'besco', 'klutz', 'wank', 'vermin', 'benning', 'asaltantes', 'mariana', 'chenillo', 'untypical', 'geare', 'headhunter', 'nicolaj', 'pious', 'siebel', 'newsom', 'eyed', 'undermine', 'polemic', 'rafe', 'conyazo', 'napoli', 'ponzi', 'suppressed', 'mcloughlin', 'miniatures', 'hergé', 'ritualized', 'asa', 'plodding', 'chloãƒâ', 'dimly', 'segura', 'pervertion', 'courtesans', 'emancipation', 'brontã', 'kaya', 'scodelario', 'tactile', 'trustee', 'doughter', 'shailene', 'woodley', 'hawaiian', 'listless', 'kaui', 'doremus', 'impressionistic', 'bobin', 'happens', 'meyern', 'artillery', 'plow', 'trapped', 'brochure', 'alvarez', 'disa', 'bitterweet', 'haigh', 'solanas', 'tyrol', 'rohit', 'deepika', 'padukone', 'comiclike', 'kaiho', 'gackt', 'ivanir', 'shun', 'sugata', 'tambourine', 'detonate', 'uxb', 'rance', 'dogcatcher', 'antiquity', 'angsthase', 'seefahrt', 'rostock', 'krill', 'naranjo', 'modular', 'monterrey', 'lounge', 'verge', 'peeta', 'superfluous', 'amandla', 'stenberg', 'shakey', 'bandwagon', 'boycott', 'hathaw', 'wally', 'pfister', 'ababa', 'manila', 'often', 'codependency', 'natalia', 'andreadis', 'ortrait', 'lindon', 'truce', 'mojtaba', 'mirtahmasb', 'mitre', 'unfulfilling', 'adulting', 'blankness', 'caterer', 'pedicab', 'nemec', 'geller', 'appelbaum', 'kremlin', 'gijoe', 'cursing', 'lacklustre', 'spar', 'graig', 'spaihts', 'curgir', 'matress', 'westfeldt', 'truest', 'grosky', 'triton', 'altava', 'selwyn', 'dyje', 'guzikowski', 'arnaldur', 'indriðason', 'óskar', 'jónasson', 'minneapolis', 'mariscal', 'tono', 'errando', 'bolero', 'estrella', 'morente', 'puente', 'overseas', 'humanise', 'scatter', 'lifeguard', 'sarkozy', 'shamus', 'culhane', 'patricio', 'findlay', 'revenant', 'lech', 'majewski', 'perspectival', 'effeminate', 'riff', 'trax', 'fodder', 'duprat', 'mariano', 'corbusier', 'septic', 'génesis', 'unglamorized', 'carano', 'centipede', 'crowbar', 'diarrhea', 'funnel', 'onanism', 'paraphilia', 'sandpaper', 'scatology', 'vile', 'letdown', 'deprave', 'unstable', 'tilman', 'remme', 'thorough', 'dogen', 'ming', 'harun', 'farocki', 'jannicke', 'systad', 'jacobsen', 'helene', 'bergsholm', 'steenstrup', 'matias', 'myren', 'joyfull', 'descriptive', 'olden', 'nagato', 'espers', 'haruhi', 'suzumiya', 'yuki', 'ritwik', 'ghatak', 'nanking', 'landsman', 'faberge', 'rouille', 'cluzet', 'toledano', 'nakache', 'einaudi', 'francais', 'greenpeace', 'mammy', 'trank', 'dehaan', 'socjopat', 'jumpscares', 'imf', 'monika', 'rewanda', 'buckminster', 'fossey', 'lumumba', 'macmarray', 'consulate', 'sucsy', 'kohn', 'katims', 'silverstein', 'yoshitarô', 'blackboard', 'swami', 'ethnographic', 'billion', 'gri', 'mendelsohn', 'tartars', 'ritz', 'weissman', 'elusive', 'secretive', 'nettheim', 'realness', 'hively', 'häjy', 'härmä', 'puukkojunkkari', 'puukkojunkkarit', 'chazelle', 'kleptocracy', 'shady', 'harpsichord', 'renet', 'feret', 'chloroform', '惊悚', 'stripping', 'bevel', 'stalling', 'chrisitanity', 'bouncy', 'lime', 'definiton', 'commercialization', 'preservation', 'balda', 'birdwatching', 'birding', 'valor', 'pendulum', 'barsoom', 'mercury', 'badminton', 'yasuhiro', 'yoshiura', 'macaninch', 'hempstead', 'pemberton', 'finlandia', 'atsuya', 'uki', 'heilemann', 'halperin', 'strategist', 'faisal', 'metamovie', 'batshit', 'brie', 'larson', 'unravelling', 'unravel', 'witney', 'avenge', 'disintegrate', 'domestice', 'foy', 'speculation', 'gilbey', 'barbarism', 'aussie', 'yamazaki', 'sanjinés', 'piedmont', 'ginza', 'michelin', 'tsukiji', 'craftmanship', 'gelb', 'magnussen', 'maclemore', 'craze', 'domenico', 'megalyn', 'echikunwoke', 'hagner', 'blaemire', 'sambola', 'salmon', 'junge', 'sharmeen', 'maruyama', 'dietze', 'ufos', 'crowdfunded', 'laibach', 'allusive', 'underpass', 'duo', 'indonesian', 'silat', 'kranz', 'imbecilic', 'witless', 'unanticipated', 'helmsworth', 'triestobecleverbutitisnt', 'pez', 'dispenser', 'foenkinos', 'searle', 'dawley', 'chocolaterie', 'améris', 'gamma', 'riteish', 'deshmukh', 'sajid', 'academic', 'talmud', 'divorced', 'foam', 'padlock', 'daniella', 'gaskell', 'gentlemanly', 'percival', 'enchantress', 'spejl', 'væggen', 'eventyret', 'snehvide', 'armada', 'buoy', 'jds', 'myoko', 'permission', 'rihanna', 'loire', 'jaipur', 'rajasthan', 'predictalbe', 'bhattacharjee', 'retel', 'helmrich', 'yoav', 'potash', 'uncritical', 'roskam', 'blackie', 'subrealism', 'bennet', 'englishwoman', 'phd', 'dilation', 'jurácek', 'vica', 'kerekes', 'koreyoshi', 'kurahara', 'tania', 'raymonde', 'ealy', 'meagan', 'kennel', 'justified', 'anticapitalism', 'surprised', 'trachea', 'modernisation', 'loyality', 'heathcote', 'noncohesive', 'folkson', 'jaworski', 'ameko', 'eks', 'kinshasa', 'detour', 'annu', 'aladeen', 'madafaka', 'wadiya', 'mantzoukas', 'consolidation', 'lent', 'voss', 'shenk', 'raffaello', 'grémillon', 'medellin', 'motorize', 'monocycle', 'imprison', 'zal', 'batmanglij', 'gierasch', 'toleti', 'ammann', 'holographics', 'marta', 'etura', 'saab', 'pripyat', 'meloncholy', 'veracruz', 'newitt', 'archeological', 'stasis', 'lindelof', 'higher', 'unbeliveable', 'cryogenic', 'freelance', 'stagnation', 'athentic', 'metronome', 'johannes', 'stjärne', 'nilsson', 'simonsson', 'cobbler', 'inadequate', 'scouting', 'onirism', 'gilman', 'sujoy', 'ghosh', 'grunberg', 'schmitz', 'dadaist', 'carmelo', 'bene', 'turku', 'squat', 'treverrow', 'trevorrow', 'seting', 'offering', 'forcing', 'ladylike', 'michaela', 'deprince', 'kargman', 'ophelia', 'lovibond', 'moccia', 'edgier', 'lorene', 'scafaria', 'sweetland', 'jackalope', 'unionism', 'manganiello', 'teenmovie', 'dangle', 'deriva', 'glaciale', 'thurmeier', 'auroch', 'crawfish', 'defrost', 'benh', 'zeitlin', 'quvenzhane', 'stulized', 'terrebonnne', 'kô', 'nakahira', 'takumi', 'furukawa', 'midshipman', 'laguna', 'novick', 'dentures', 'eyeglasses', 'pinkava', 'lannoo', 'larner', 'hawley', 'letts', 'louse', 'snowglobes', 'finding', 'implanted', 'smog', 'purposely', 'aim', 'artic', 'toplessness', 'medianeras', 'taretto', 'baton', 'tortoise', 'dupieux', 'jarvier', 'purvis', 'outrage', 'kad', 'robins', 'comédie', 'merad', 'renew', 'rickshaw', 'unattainable', 'kobe', 'bryant', 'sixteen', 'sorry', 'peron', 'lafosse', 'backgammon', 'hepatitis', 'dania', 'brake', 'fejös', 'incredibile', 'machinery', 'atm', 'birbiglia', 'barrish', 'committment', 'drury', 'sixto', 'bendjelloul', 'osteopath', 'reprimand', 'texting', 'velibor', 'baye', 'bachelorette', 'plagiarize', 'aspiring', 'bestselling', 'reader', 'diferent', 'matthiesen', 'lope', 'siglo', 'oro', 'acapella', 'accompaniment', 'wordless', 'moonrise', 'skyline', 'baraka', 'androcentrism', 'blunderbuss', 'obey', 'dominance', 'likeness', 'similarity', 'heavyweight', 'nunhood', 'quarry', 'dômoto', 'schreier', 'hijab', 'dissident', 'sichuan', 'twitter', 'klayman', 'weiwei', 'mega', 'blurry', 'lorenz', 'assböck', 'tyrannical', 'plemons', 'ramus', 'malek', 'domnhall', 'thirldy', 'fecundation', 'woodruff', 'boasting', 'evald', 'schorm', 'shahjahan', 'zafar', 'chromeskull', 'principe', 'distraction', 'camaradarie', 'brutally', 'wingard', 'villella', 'swanberg', 'gillett', 'enganyosa', 'irreal', 'chbosky', 'outcasts', 'bodil', 'peaceful', 'avantgarde', 'rafi', 'soong', 'mentalism', 'randi', 'estambul', 'lovelace', 'bleach', 'noriyuki', 'arcel', 'vikander', 'struensee', 'wunschkind', 'rúnar', 'rúnarsson', 'herlin', 'brissart', 'australians', 'mauboy', 'quartet', 'parodylike', 'tollbooth', 'antibes', 'sordid', 'kazui', 'nihonmatsu', 'hajime', 'matsuno', 'arjun', 'parineeti', 'katy', 'kropachyov', 'yershov', 'czinner', 'brownlow', 'afanassieff', 'sprawl', 'heeley', 'bailiff', 'distraint', 'indoor', 'marley', 'peerless', 'farrands', 'moffitt', 'verneuil', 'arto', 'halonen', 'drowning', 'derrickson', 'cargill', 'overrevealling', 'overshowing', 'overreacher', 'nag', 'yardie', 'riume', 'genndy', 'tartakovsky', 'daleks', 'forde', 'malyukov', 'lavis', 'maciek', 'szczerbowski', 'bishe', 'inaccuarte', 'grfgt', 'garber', 'joshuah', 'bearman', 'terrio', 'shih', 'tzu', 'blatant', 'zhelyabuzhsky', 'looter', 'redistribution', 'radnor', 'tostado', 'jacquot', 'regulation', 'hideki', 'takeuchi', 'schleinzer', 'pastry', 'chaykin', 'inarticulate', 'ineptitude', 'inadequacy', 'victimization', 'seifert', 'leftism', 'glendyn', 'ivin', 'histography', 'oreet', 'avila', 'fatou', 'picard', 'maka', 'thauvette', 'pushover', 'convoluted', 'marten', 'persiel', 'adelaide', 'comparison', 'shopper', 'meng', 'atiq', 'rahimi', 'weston', 'craigslist', 'ufc', 'ungratified', 'scoot', 'mcnairy', 'curatola', 'gullible', 'markevicius', 'thrift', 'abrahamson', 'ponsoldt', 'mullally', 'ephebophilia', 'waterson', 'carefree', 'glitch', 'reject', 'gamer', 'understandable', 'beliveable', 'relapse', 'verisimilitude', 'contrition', 'gaza', 'emad', 'burnat', 'davidi', 'hyena', 'meerkat', 'existance', 'pondicherry', 'amimals', 'magee', 'unmoving', 'pi', 'charteris', 'crossbow', 'feudality', 'terrorize', 'hypnotize', 'zilberman', 'concice', 'jardin', 'junta', 'prostate', 'riva', 'shion', 'fukushima', 'dellamaggiore', 'shintaro', 'katsu', 'pensioner', 'endure', 'funded', 'swirsky', 'lisanne', 'pajot', 'mcgiver', 'oyelowo', 'scotch', 'umesh', 'paresh', 'rawal', 'bloodsucker', 'dhampir', 'fork', 'imprint', 'join', 'adrianne', 'palicki', 'grangier', 'dreifuss', 'putin', 'claw', 'inherit', 'archetype', 'pasikowski', 'kahrs', 'infantilism', 'lanvin', 'darroussin', 'elikann', 'reville', 'colette', 'moviemaking', 'inticated', 'handdrawn', 'stylised', 'kaleidoscopic', 'antti', 'jokinen', 'dori', 'berinstein', 'bilbo', 'radagast', 'drawves', 'wargs', 'magestic', 'fps', 'schöller', 'keysi', 'anurag', 'basu', 'sanjeev', 'dutta', 'tani', 'intel', 'spec', 'kleber', 'mendonça', 'filho', 'cryosphere', 'orlowski', 'landry', 'auguste', 'lumière', 'campan', 'didier', 'bourdon', 'plotted', 'criminally', 'arthaus', 'heidecker', 'thriler', 'inglourious', 'aerialist', 'cirque', 'soleil', 'tidal', 'jindachote', 'bark', 'tot', 'cantat', 'dec', 'boublil', 'schönberg', 'natel', 'tveit', 'colfer', 'václav', 'vorlícek', 'macfadden', 'quackery', 'chore', 'plottwist', 'giorgelli', 'gunfights', 'sham', 'kenshin', 'keishi', 'ohtomo', 'samuri', 'chanois', 'krasinksi', 'dewitt', 'yoshihiro', 'kengo', 'kora', 'anunation', 'swaffield', 'necrophile', 'gabriela', 'pichler', 'purification', 'entanglement', 'longis', 'morale', 'ethnocentrism', 'nonjudgmental', 'slaver', 'perlmutt', 'tcheng', 'immordino', 'vreeland', 'botet', 'muschietti', 'thoreau', 'hive', 'yorgos', 'javellas', 'decomposition', 'dupre', 'akers', 'cristián', 'jiménez', 'brunch', 'preteens', 'sabin', 'redmon', 'duvernay', 'warpath', 'munk', 'testicle', 'hanák', 'continental', 'wipe', 'repeatedly', 'documentários', 'žižek', 'artour', 'aristakisian', 'samadi', 'ahadi', 'lisecki', 'wheatley', 'shim', 'jefferies', 'heartland', 'lartigau', 'gustaf', 'molander', 'felony', 'saucy', 'butlins', 'haghighi', 'ömer', 'faruk', 'sorak', 'gomes', 'finkel', 'pantyless', 'hurrah', 'ferlito', 'haidle', 'reminiscence', 'andean', 'andino', 'inca', 'leyenda', 'vikramaditya', 'motwane', 'referendum', 'intollerance', 'sanction', 'fairfax', 'malika', 'breezy', 'alphabet', 'sevdah', 'pjer', 'zalica', 'photojournalism', 'shin', 'dror', 'moreh', 'smarzowski', 'bartlomiej', 'topa', 'marcin', 'dorocinski', 'dziedziel', 'caster', 'remenber', 'ehrenreich', 'kami', 'stohl', 'legionnaire', 'rif', 'skylar', 'norshteyn', 'forugh', 'farrokhzad', 'nguyen', 'nisha', 'pahuja', 'choy', 'hough', 'southport', 'farfetched', 'sti', 'conjurer', 'cynn', 'oppenheimer', 'procurement', 'manipulator', 'bretherton', 'dworsky', 'köhler', 'ascher', 'kubelka', 'cammisa', 'klose', 'schilling', 'gerster', 'étaix', 'weide', 'haifaa', 'hooah', 'customize', 'insubstantial', 'schizoid', 'feign', 'kapner', 'micco', 'jennilyn', 'merten', 'measom', 'pratfall', 'baran', 'odar', 'katya', 'bankowsky', 'verena', 'paravel', 'brenna', 'putnam', 'maja', 'psoting', 'pic', 'angad', 'bhalla', 'boyband', 'spartacus', 'hyland', 'scardino', 'carnivalesque', 'gucci', 'trill', 'timid', 'stillwater', 'thymaya', 'stabbings', 'chamonix', 'hosaini', 'philharmonic', 'loarre', 'moser', 'matthieu', 'lietaert', 'snobbery', 'esque', 'legacies', 'mendelson', 'ramaa', 'mosley', 'moseley', 'xiao', 'xue', 'philadelphis', 'basset', 'hound', 'conservationist', 'admission', 'koskinen', 'arnon', 'goldfinger', 'galleon', 'srdjan', 'karanovic', 'zivkovic', 'paskaljevic', 'chernick', 'manninen', 'advisor', 'duane', 'locations', 'leeman', 'treva', 'wurmfeld', 'kosinski', 'autocratia', 'dictature', 'kasia', 'smutniak', 'mullen', 'chadwick', 'boseman', 'veikko', 'aaltonen', 'wellness', 'baughman', 'pinku', 'grove', 'achtung', 'furries', 'kasch', 'heavyhanded', 'miraz', 'bezar', 'itch', 'paly', 'mcfeely', 'howlett', 'covino', 'moorhead', 'alchohol', 'horrorcomedy', 'tovey', 'foshan', 'guangdong', 'decrease', 'nontraditional', 'unsubstantial', 'extremis', 'berne', 'sadda', 'haq', 'mcfadden', 'contolled', 'rocketman', 'religiosity', 'fearmongering', 'ludditism', 'tye', 'devoid', 'deeper', 'millis', 'pär', 'virzì', 'manerred', 'succeed', 'perfectly', 'huillet', 'straub', 'marching', 'mindel', 'khaaaaaaaaaaaaaaaaaaaaaaaaaaaaaaaaaaaaan', 'kronos', 'tribble', 'transamerica', 'aegean', 'abdullah', 'oguz', 'guadeloupe', 'frenchwoman', 'schwarz', 'haile', 'gerima', 'neel', 'gamers', 'georgiy', 'vahtang', 'kikabidze', 'indepth', 'trafficker', 'roch', 'toretto', 'gal', 'gadot', 'lunch', 'cle', 'shaheed', 'mosaffa', 'objective', 'jasna', 'fritzi', 'liberace', 'mekas', 'dragojevic', 'osvart', 'frimmel', 'tizza', 'covi', 'creates', 'overcomplicated', 'freemanm', 'comparable', 'magia', 'fxm', 'embarrassingly', 'wilmshurst', 'alper', 'comradeship', 'soilders', 'recordist', 'garrido', 'belén', 'oriol', 'shuk', 'nausicaa', 'bonnín', 'moure', 'español', 'dissonant', 'denisof', 'riki', 'lindhome', 'purposefully', 'cavill', 'etc', 'dceu', 'collateral', 'poignancy', 'luv', 'ranjan', 'pingue', 'eichmann', 'banality', 'arendt', 'constitutional', 'legalize', 'purge', 'burkholder', 'blackberry', 'reuters', 'tetsuo', 'darlene', 'neville', 'jeepney', 'kidlat', 'tahimik', 'cachorros', 'freindship', 'inc', 'scanlon', 'keepsake', 'propeller', 'storybook', 'grégory', 'levasseur', 'spinell', 'bojana', 'novakovic', 'infertile', 'templeman', 'procreate', 'evangelion', 'djiwani', 'combot', 'larger', 'gorman', 'mana', 'ashida', 'monstrous', 'homeschool', 'perspectives', 'obamacare', 'coherence', 'fisted', 'mnemonic', 'cylinder', 'wikileaks', 'parasitic', 'bod', 'moderne', 'almindelighed', 'indhold', 'netdating', 'wifi', 'stykker', 'mm', 'mainframe', 'asap', 'agata', 'buzek', 'alumns', 'tonto', 'racially', 'ashamed', 'redface', 'harmless', 'knockabout', 'gorbachev', 'perestrojka', 'hessman', 'filmography', 'pozdorovkin', 'ghoulies', 'fywell', 'barrett', 'worldwide', 'dispose', 'lakefront', 'nutrition', 'pharmacology', 'ledesma', 'colquhoun', 'sorus', 'karimov', 'pogany', 'blumberg', 'patellière', 'delaporte', 'valérie', 'benguigui', 'lindholm', 'denicola', 'moshe', 'bouchitey', 'forever', 'megalomaniacal', 'actuation', 'coogler', 'streics', 'latvia', 'athelete', 'rakeysh', 'nikhil', 'advani', 'rishi', 'ducts', 'jumpsuit', 'mojave', 'destruct', 'merda', 'szostak', 'ripd', 'conjure', 'knockoff', 'viergever', 'renfroe', 'tench', 'bahram', 'beizai', 'bomback', 'canonic', 'krystyn', 'copeland', 'lithuanian', 'algimantas', 'puipa', 'eyeglass', 'optician', 'barbaro', 'pkk', 'levent', 'semerci', 'danfung', 'zheng', 'xu', 'xanax', 'flamingo', 'dremlike', 'mims', 'tippet', 'galinsky', 'suki', 'josee', 'demigod', 'hermes', 'overthrow', 'riordan', 'declan', 'lowney', 'yasmina', 'khadra', 'mlp', 'galsworthy', 'mew', 'katzman', 'hammock', 'wildfires', 'lold', 'bautista', 'bigtourism', 'pr', 'cowperthwaite', 'seaworld', 'woz', 'tiananmen', 'downworlder', 'shadowhunter', 'chanoch', 'zeevi', 'jess', 'rou', 'baba', 'yaga', 'biased', 'jem', 'lowery', 'domhnall', 'tatsumi', 'khoo', 'rameshwaram', 'tamil', 'tollywood', 'goa', 'levirate', 'burshtein', 'guédiguian', 'niney', 'warrant', 'sharni', 'buschel', 'clownphobia', 'palanker', 'heartbrake', 'tt', 'aragues', 'bhala', 'lough', 'newberger', 'improper', 'straten', 'hubble', 'lullaby', 'expat', 'conveyance', 'measured', 'measure', 'amb', 'pyschothriller', 'jackan', 'tarsus', 'debunk', 'leyburn', 'barros', 'erdogan', 'hartigan', 'fance', 'destin', 'cretton', 'anker', 'primary', 'overdramatization', 'salinger', 'volstead', 'waterpark', 'sallitt', 'mccrudden', 'donahue', 'jános', 'szász', 'zaborgor', 'pjs', 'salton', 'sweepstakes', 'deliberately', 'underplayed', 'sinterklaas', 'cuple', 'guidos', 'rittenmeyer', 'skundrick', 'manticore', 'toomas', 'vian', 'bernays', 'dibakar', 'banerjee', 'prehensile', 'siddharth', 'meticulous', 'neeraj', 'pandey', 'exarchopoulos', 'zimbalist', 'mochary', 'helma', 'jakimowski', 'kornbluth', 'jidai', 'geki', 'hideyuki', 'hirayama', 'caroll', 'lutwidge', 'dodgson', 'pearn', 'talty', 'barkhad', 'abdi', 'swartz', 'intoxicant', 'aquaphobia', 'menon', 'sanctum', 'unwarranted', 'ankers', 'colvard', 'sampaio', 'speach', 'assange', 'transparency', 'taint', 'intp', 'manor', 'turajlic', 'francine', 'rzeznik', 'teodoro', 'maniaci', 'dystpoia', 'autry', 'secularism', 'disneyworld', 'drc', 'hypocritical', 'renzo', 'megalon', 'desghidorah', 'truestory', 'northup', 'hemphill', 'calin', 'netzer', 'slay', 'manifesto', 'renan', 'homi', 'adajania', 'hana', 'aris', 'chatzistefanou', 'katerina', 'kitidi', 'dessaint', 'daikaiju', 'varan', 'torch', 'spoken', 'saschka', 'unseld', 'pareidolia', 'alexandru', 'maftei', 'borjesson', 'folie', 'bergère', 'verheyen', 'mytholigy', 'jaimie', 'transdimensional', 'chilton', 'lebovitz', 'lasardo', 'ejector', 'jurisdiction', 'choo', 'maron', 'giles', 'oxley', 'clio', 'barnard', 'zhangke', 'jia', 'rochant', 'conversative', 'benjamín', 'ávila', 'commodore', 'sommelier', 'brolove', 'btaegekids', 'embalm', 'strongman', 'thatre', 'allman', 'lynard', 'skynard', 'camalier', 'nanjing', 'papal', 'conclave', 'crayton', 'robey', 'pitch', 'darst', 'ruchti', 'nelisse', 'zusak', 'petroni', 'ratio', 'kulesza', 'trzebuchowska', 'bedre', 'slutter', 'munehisa', 'sakai', 'nagamine', 'propa', 'faked', 'hypodermic', 'sauron', 'rinsch', 'freethinking', 'fary', 'jari', 'regain', 'gonçalves', 'sisters', 'satsuo', 'honorless', 'oval', 'crotchshots', 'alber', 'srdan', 'golubovic', 'björn', 'måns', 'mårlind', 'nishimura', 'darkly', 'orgies', 'economically', 'illiterate', 'enfp', 'lousiana', 'rachelle', 'lefevre', 'cumbertbatch', 'icing', 'revulsive', 'pirjo', 'honkasalo', 'zima', 'brag', 'vermeer', 'entire', 'embarrasing', 'sciene', 'masterbation', 'mumbling', 'matalqa', 'amman', 'ak', 'hyman', 'feynmann', 'hawes', 'siili', 'grrl', 'steinway', 'lilian', 'cibis', 'celebrate', 'kimiyoshi', 'yasuda', 'gsa', 'angola', 'maldoror', 'dickhead', 'unrepentant', 'bloodstream', 'poppins', 'ikehiro', 'guareschi', 'baldness', 'berserk', 'shakespearan', 'klimt', 'lydon', 'thaddeus', 'imaishi', 'epical', 'fic', 'mulloy', 'tokuzô', 'tanaka', 'desicions', 'truism', 'christoforos', 'papakaliatis', 'bazzoni', 'perpetual', 'microcosmic', 'hegel', 'bykov', 'arsenov', 'krylatov', 'kir', 'bulychov', 'alisa', 'seleznyova', 'belarus', 'dagtekin', 'katja', 'riemann', 'feelbad', 'baillie', 'nez', 'perce', 'heffron', 'warmerdam', 'ruhemann', 'dagmar', 'lassander', 'piero', 'schivazappa', 'altin', 'nevern', 'rauni', 'mollberg', 'polyester', 'gertjan', 'zwanikken', 'soeters', 'highlander', 'ideologized', 'pitre', 'kimmo', 'koskela', 'wolfson', 'sathyu', 'gonzalo', 'suárez', 'schneer', 'dynamation', 'tiffin', 'epistolary', 'ritesh', 'batra', 'nimrat', 'kaur', 'unsaid', 'nawazuddin', 'siddiqui', 'boudewijn', 'koole', 'warmovie', 'tomalin', 'reshef', 'bingo', 'telenovela', 'dibujitos', 'bundschuh', 'adirondack', 'gallienne', 'vitascope', 'daiki', 'tomiyasu', 'hideya', 'itsurô', 'kawasaki', 'nigh', 'heinzerling', 'archainbaud', 'analyst', 'compute', 'handwaving', 'theo', 'unused', 'krulik', 'heyn', 'hegemony', 'tahrir', 'yoshikazu', 'hagsploitation', 'hijacker', 'headshot', 'dismal', 'shiftless', 'leroux', 'podalydã', 'arditi', 'normandie', 'announcer', 'suburbs', 'gayet', 'whitcomb', 'servando', 'nibelung', 'alekos', 'sakellarios', 'karezi', 'mimis', 'fotopoulos', 'vasilis', 'avlonitis', 'dosunmu', 'giurgiu', 'aro', 'ranveer', 'mehdi', 'attia', 'tunisia', 'queysanne', 'hobbes', 'mkultra', 'brandt', 'efira', 'daniele', 'anastasion', 'gargoyles', 'naration', 'fibonacci', 'analogue', 'gadon', 'aharon', 'keshales', 'navot', 'papushado', 'dipping', 'sunbathe', 'guiraudie', 'depressed', 'gattlin', 'homophobe', 'flanders', 'kiernan', 'shipka', 'prizefighter', 'pamplona', 'lelio', 'artfilm', 'sync', 'elie', 'wajeman', 'neumeier', 'zetumer', 'conglomerate', 'prowl', 'enrico', 'casarosa', 'childishness', 'bazin', 'frot', 'solstice', 'romani', 'valentin', 'vaala', 'subhash', 'ghai', 'argonaut', 'penso', 'roumain', 'gridhouse', 'arlen', 'tarlofsky', 'gisaburo', 'sugii', 'miyazawa', 'helprin', 'lafitte', 'gallon', 'hearse', 'tranvestite', 'boman', 'irani', 'harman', 'baweja', 'gad', 'elmaleh', 'boorish', 'laguionie', 'depict', 'breure', 'gerontophilia', 'grimault', 'formalism', 'revolori', 'beetween', 'rudin', 'polite', 'zweig', 'meltzer', 'malakul', 'baiz', 'iván', 'zulueta', 'bakri', 'bhatt', 'estibal', 'ocd', 'mercado', 'maneglia', 'tana', 'schembori', 'jordin', 'ideea', 'relativity', 'physisist', 'feelengs', 'looong', 'technocratic', 'timothée', 'chalamet', 'planets', 'profetic', 'warmhole', 'kip', 'thorne', 'despoil', 'tho', 'purchase', 'somehow', 'artistry', 'theresienstadt', 'donnald', 'ignacio', 'ferreras', 'minoru', 'kurobe', 'mohan', 'seinen', 'downplays', 'polynesian', 'käutner', 'mythologize', 'higgs', 'boson', 'supersymetry', 'collider', 'stem', 'sciencey', 'transmitted', 'std', 'gujrat', 'damiano', 'damiani', 'slate', 'voluntary', 'skudder', 'lalla', 'coffman', 'grostein', 'andrade', 'cláudio', 'identitiy', 'symbollic', 'mica', 'crowdfunding', 'daggs', 'yûya', 'özgür', 'yildirim', 'gracie', 'ahlberg', 'steegmuller', 'tengiz', 'abuladze', 'picky', 'diederik', 'rooijen', 'barbera', 'andalucia', 'zumaia', 'cine', 'lázaro', 'lago', 'scoop', 'torchy', 'blane', 'follies', 'scuffle', 'hã', 'connecticuit', 'langan', 'nicolo', 'donato', 'abuser', 'ibrahim', 'koma', 'fury', 'cobie', 'smulders', 'sruprises', 'gunplay', 'uchida', 'timelapse', 'habitat', 'oubrerie', 'abouet', 'borax', 'dakar', 'archambault', 'taihuttu', 'berninger', 'philipino', 'arnel', 'pineda', 'phillipines', 'celine', 'danhier', 'barroom', 'dussolier', 'gely', 'dussollier', 'burghart', 'klauã', 'ner', 'andrã', 'argo', 'parentage', 'appearences', 'chabat', 'cogip', 'rithy', 'panh', 'growingup', 'esports', 'gerowin', 'atv', 'bugle', 'turing', 'ethiopian', 'oligarch', 'laundering', 'seimetz', 'romm', 'outnumber', 'iko', 'uwais', 'yayan', 'ruhian', 'buirski', 'amphibian', 'hankin', 'proxy', 'priesthood', 'epigraph', 'schauder', 'gillan', 'protagonists', 'respectful', 'believability', 'apologetics', 'generalize', 'salesgirl', 'mickle', 'arsene', 'hedgerow', 'périer', 'sofía', 'uploading', 'luddism', 'technophobic', 'contrived', 'ella', 'birthistle', 'mccabe', 'bilingual', 'minaj', 'zubov', 'zoey', 'roadblock', 'byzantium', 'aksoy', 'mordaunt', 'realtime', 'micromanagement', 'raizo', 'tokarev', 'talkative', 'teasing', 'starman', 'fredrik', 'edfeldt', 'trela', 'karolina', 'gruszka', 'wieckiewicz', 'inexpressive', 'pavich', 'gugu', 'wilton', 'wnendt', 'alina', 'levshin', 'jella', 'haase', 'ahmad', 'tena', 'amat', 'escalante', 'vandervoort', 'utsui', 'matías', 'piñeiro', 'gómez', 'muriel', 'transhumanist', 'apotheosis', 'superficially', 'gradual', 'shouldd', 'hajrudin', 'krvavac', 'saulnier', 'maanouni', 'marlow', 'shintarô', 'birdwatch', 'tannery', 'channsin', 'bitterswee', 'brony', 'atvs', 'stromberg', 'extensive', 'ammunition', 'sober', 'mahurin', 'powersuit', 'gimicky', 'sakurazaka', 'jez', 'butterworth', 'tiem', 'repeating', 'exosuit', 'intorversion', 'shaul', 'yudin', 'dheeraj', 'akolkar', 'kirkwood', 'khaou', 'ansel', 'elgort', 'ergort', 'perserverance', 'reclusive', 'trammell', 'liane', 'critch', 'cloister', 'mononoke', 'celebs', 'cyberattack', 'pothead', 'preppers', 'rosenbaum', 'tyndt', 'overhovedet', 'kommer', 'bostic', 'crock', 'repetitiva', 'lysergic', 'lubezki', 'hopalong', 'tecumseh', 'esper', 'manchild', 'grignon', 'smirnov', 'caracas', 'rasquin', 'archvampire', 'quietly', 'lorelei', 'partricia', 'politicize', 'chores', 'ellar', 'shibboleth', 'verão', 'actvism', 'hacktivism', 'knappenberger', 'metoo', 'timesup', 'winnetou', 'bukom', 'marrakesh', 'siskel', 'maloof', 'ekvtimishvili', 'groß', 'defloration', 'poliakoff', 'deprecate', 'chiemi', 'muscular', 'dystrophy', 'attwood', 'ocarrol', 'lolfunny', 'osder', 'kundan', 'blain', 'keiichi', 'hara', 'miningham', 'kornél', 'mundruczó', 'perfectionism', 'greatness', 'jerkass', 'masochistic', 'drumer', 'inpirational', 'strive', 'thumping', 'benoist', 'ratajkowski', 'irrealist', 'firstworldproblems', 'coon', 'feminazi', 'unredeeming', 'sela', 'fortælle', 'egentlig', 'gjorde', 'sekvens', 'plottwistet', 'forklares', 'hinanden', 'kraft', 'fortællerforholdene', 'grund', 'dette', 'utroværdige', 'nemlig', 'blashemous', 'viriginia', 'afrobeat', 'slamdance', 'asexuality', 'peret', 'worthless', 'maclain', 'alexandros', 'avranas', 'teensploitation', 'wolochatiuk', 'gulpilil', 'maccormick', 'birdlife', 'molecular', 'biotech', 'espiritual', 'spørgsmålet', 'dybere', 'spirituelt', 'gemt', 'øjnene', 'blotte', 'materie', 'tør', 'svare', 'hvorfor', 'åben', 'uopklaret', 'konflikten', 'videnskab', 'tangere', 'trivialitet', 'gange', 'slemt', 'filmens', 'billede', 'visuelt', 'øje', 'centrum', 'øjne', 'briller', 'tematisk', 'visualiteten', 'analogier', 'såsom', 'lyset', 'vinduets', 'prisme', 'encarnation', 'antiscience', 'antiscientific', 'starlord', 'vasted', 'groot', 'bionics', 'flor', 'meeks', 'dissidence', 'diaspora', 'gralton', 'rousey', 'shraddha', 'sidharth', 'malhotra', 'sagen', 'carbone', 'counterespionage', 'svært', 'nærmest', 'driftede', 'meste', 'smartphone', 'untold', 'kops', 'malmros', 'jillian', 'cayatte', 'jusge', 'maserati', 'ramadan', 'keraudren', 'ded', 'anatolia', 'haluk', 'bilginer', 'dasilva', 'johnstone', 'restraunt', 'indi', 'aspergers', 'herbal', 'talya', 'lavie', 'idf', 'delightfully', 'determinism', 'oligarchy', 'creppy', 'blew', 'disapointment', 'undo', 'comstumes', 'cashing', 'utopian', 'fundraise', 'lour', 'alsace', 'cicely', 'durango', 'urologist', 'gigandet', 'divinity', 'jonestown', 'highlight', 'narative', 'chadd', 'harbold', 'mcinnes', 'soundtack', 'timeloop', 'hisao', 'shen', 'archivist', 'ela', 'thier', 'tolga', 'örnek', 'baldoni', 'glowstick', 'ketamine', 'lukewarm', 'universes', 'thirtysomethings', 'amo', 'excecution', 'confuses', 'catacomb', 'archeologist', 'raider', 'catacombs', 'perdita', 'senorita', 'besides', 'hashish', 'monzón', 'offboard', 'ervig', 'goffman', 'infantilization', 'socialization', 'reddick', 'maika', 'gimmik', 'collect', 'kunhardt', 'dictation', 'efficiency', 'talal', 'derki', 'warchus', 'alexithymia', 'hivemind', 'chechen', 'pollard', 'fraternal', 'ager', 'psycologic', 'dashner', 'detainee', 'gianfranco', 'junkerman', 'kilian', 'riedhof', 'märchen', 'goodtimes', 'dining', 'dissension', 'floreana', 'mcanuff', 'yuval', 'eben', 'riach', 'blondie', 'mceveety', 'krasny', 'gummer', 'beltrami', 'titular', 'ciircus', 'freemasonry', 'unassuming', 'anni', 'piombo', 'massoneria', 'asassin', 'bka', 'bnd', 'medias', 'elyas', 'darknet', 'deconstruct', 'spacy', 'watercolour', 'charcoal', 'expressive', 'wrathall', 'gabe', 'klinger', 'irizarry', 'arne', 'skouen', 'løchen', 'rasmus', 'breistein', 'aarón', 'lesur', 'bryne', 'assayer', 'relligion', 'ophthalmologist', 'roundup', 'kaare', 'snorer', 'collettte', 'miroslav', 'slaboshpitsky', 'conjuring', 'sasha', 'millennials', 'snowstorm', 'tepes', 'boiled', 'poull', 'brien', 'lazers', 'sitar', 'asimovian', 'heterosexual', 'bot', 'matej', 'minac', 'omnisexuality', 'durand', 'singlish', 'nott', 'snook', 'malzieu', 'berla', 'hemilä', 'abai', 'karpykov', 'amination', 'jérémy', 'clapin', 'desease', 'armistice', 'flatsharing', 'housemate', 'housemates', 'disroder', 'napier', 'abkhazia', 'ovashvili', 'mash', 'gaylor', 'occasionally', 'stahelski', 'alfie', 'regan', 'mach', 'inge', 'rademeyer', 'legalization', 'nanna', 'øland', 'fabricius', 'melfi', 'hubertus', 'siegert', 'penavega', 'meraz', 'honolulu', 'nadezhda', 'kosheverova', 'seiler', 'hadden', 'eskil', 'imamovic', 'podcast', 'buxton', 'pommy', 'binghamton', 'moomin', 'stringer', 'transformative', 'misogony', 'unetical', 'jenõ', 'koltai', 'hernádi', 'baymax', 'ballon', 'hiro', 'unrealisitic', 'gutierrez', 'afterdeath', 'nether', 'ditter', 'angelababy', 'nt', 'navigation', 'regatta', 'cordell', 'condie', 'slowburn', 'sonoya', 'millionaires', 'stopps', 'valkeapää', 'roosa', 'söderholm', 'runaways', 'reza', 'mirkarimi', 'exhibitionist', 'melancholie', 'fingerhut', 'espigares', 'witz', 'yershon', 'raso', 'wile', 'hastur', 'divergence', 'sivertsen', 'mauri', 'kunnas', 'bruch', 'vishal', 'bhardwaj', 'woodworth', 'brosens', 'tatge', 'zellner', 'ellwood', 'miéville', 'groupe', 'tights', 'strout', 'serebryakov', 'madyanov', 'uberto', 'crackle', 'shirô', 'prehistory', 'grimdark', 'warhammer', 'powerarmor', 'gannaway', 'lave', 'pyotr', 'mamonov', 'cochise', 'coky', 'giedroyc', 'truesdell', 'parachuting', 'santorini', 'fasano', 'resistence', 'fanny', 'beth', 'kôhei', 'oguri', 'nuthouse', 'neonazi', 'sammel', 'scale', 'krisztina', 'deák', 'zaza', 'urushadze', 'chechnyans', 'regional', 'kaidan', 'schatz', 'carnevale', 'gayle', 'aloni', 'alazraki', 'ftm', 'fuentes', 'dimitar', 'mitovski', 'whistler', 'trenker', 'karsten', 'dahlem', 'lacant', 'dama', 'halsey', 'feldhusen', 'giddens', 'mckiddy', 'chevigny', 'advocacy', 'hisorically', 'logician', 'informatic', 'cryptog', 'mathematicians', 'bumberbatch', 'obssesion', 'pynchon', 'countercultural', 'mozi', 'clotilde', 'courau', 'benamou', 'duquesne', 'tarek', 'boudali', 'desagnat', 'switcherland', 'precede', 'marcell', 'jankovics', 'jannik', 'hastrup', 'hutch', 'dargay', 'abkarian', 'hoje', 'eu', 'queiro', 'voltar', 'sozinho', 'fabio', 'guilherme', 'ribeiro', 'mooney', 'alves', 'genina', 'recollection', 'adolfi', 'ramses', 'stirrup', 'dumpster', 'coleccio', 'curtmetratges', 'reckart', 'sakasama', 'patema', 'kumiho', 'chaplain', 'regiment', 'korkoro', 'porajmos', 'burnham', 'storer', 'odell', 'nenow', 'alexanian', 'disinherit', 'evicted', 'triange', 'skyjacker', 'militainment', 'caland', 'multple', 'simien', 'stian', 'kristiansen', 'fesser', 'proshot', 'dart', 'kambuzia', 'partovi', 'maxine', 'geetu', 'mohandas', 'quinone', 'putschoegl', 'degenerative', 'extraordiary', 'mullin', 'bind', 'brigham', 'bustillo', 'mohit', 'mdma', 'psilocybin', 'hockenhull', 'stv', 'pieter', 'kuijpers', 'anaïs', 'demoustier', 'gábor', 'herendi', 'einsiedel', 'grosso', 'bianco', 'tied', 'balmès', 'corney', 'uso', 'wigon', 'trichotillomania', 'kickstarter', 'essoe', 'backstabbing', 'fionnula', 'kamiya', 'mechanism', 'stp', 'anaglyph', 'windsurf', 'squalo', 'nantucket', 'moby', 'adrift', 'arbuckle', 'nagraj', 'manjule', 'yutkevich', 'beavan', 'sharply', 'hatley', 'mosasaur', 'nublar', 'snowden', 'untechnical', 'astier', 'wanuri', 'kahiu', 'matar', 'quiero', 'crosland', 'typhoid', 'stalljunge', 'lefler', 'goodhartz', 'klamath', 'congregation', 'mitta', 'shayne', 'tout', 'vibrator', 'pawan', 'eleonore', 'pourriat', 'shaff', 'granddaughter', 'coster', 'demange', 'perkin', 'georgiades', 'hirschfelder', 'anastasios', 'beatufilull', 'anzac', 'delesvaux', 'joann', 'sfar', 'cinical', 'rotheroe', 'destructive', 'tyron', 'bal', 'kajaki', 'katis', 'erez', 'tadmor', 'maymon', 'cardona', 'farse', 'illnesschild', 'renolds', 'peasantry', 'eurowestern', 'caputo', 'transmit', 'manuel', 'stürler', 'perestroika', 'anastasija', 'nemoljajeva', 'fjodor', 'dunajevski', 'анастасия', 'немоляева', 'фёдор', 'дунаевский', 'intend', 'nadav', 'schirman', 'keegan', 'husbandry', 'pacquiao', 'luxurious', 'yoon', 'wernquist', 'vtol', 'recapitation', 'posta', 'postapocalyptic', 'kozakov', 'odorama', 'piranesi', 'stratman', 'lurks', 'cybthia', 'bain', 'ethnographical', 'geography', 'khwaja', 'vasili', 'pronin', 'ephraim', 'kishon', 'clausen', 'artisan', 'mami', 'sunada', 'manfredi', 'salerno', 'faceless', 'cajoons', 'prolonged', 'freewill', 'trainstation', 'tortured', 'bonelli', 'tripping', 'hopscotch', 'eurospy', 'sudanese', 'avallone', 'bridgeport', 'nollywood', 'nigerian', 'tecno', 'brego', 'johnsen', 'jasmine', 'romane', 'nunsploitation', 'bârladeanu', 'jinks', 'farino', 'stoke', 'fc', 'khumba', 'amirpour', 'skater', 'trogi', 'fillmore', 'cervone', 'behavioral', 'solemnity', 'absurda', 'hiking', 'keating', 'wickes', 'tablet', 'unspeakable', 'karas', 'seydor', 'beanstalk', 'stenstrum', 'choises', 'manish', 'acharya', 'mairzee', 'almas', 'copus', 'gorey', 'hateuscuztheyaintus', 'treaty', 'choreografy', 'boutella', 'taron', 'decide', 'whether', 'absourd', 'youthful', 'tryout', 'janssens', 'kiddish', 'binkow', 'apulia', 'mamma', 'hyperbole', 'commencement', 'swordfight', 'photojournalist', 'prestia', 'shankland', 'hardcase', 'prussian', 'inspection', 'pupils', 'kümel', 'mongol', 'fishbone', 'metzler', 'lev', 'sickle', 'disfigured', 'magowan', 'storey', 'antwerp', 'understudy', 'fishmen', 'etruscan', 'expecially', 'clegg', 'arna', 'trauberg', 'ebola', 'vial', 'toymaker', 'pampa', 'cheel', 'takahiro', 'ômori', 'awarness', 'shiva', 'anushka', 'sharma', 'chey', 'siegfried', 'sexualization', 'pinkertons', 'tonacci', 'signe', 'baumane', 'miklos', 'kanchiku', 'pascale', 'hittman', 'hwang', 'malayalam', 'kerala', 'jeethu', 'mohanlal', 'matsuo', 'hydraulic', 'roby', 'competitiveness', 'yolandi', 'antwoord', 'terri', 'tatchell', 'siguorney', 'anticipation', 'zef', 'petitgand', 'juliano', 'salgado', 'poweful', 'laya', 'raki', 'transvaal', 'crooner', 'angio', 'burglars', 'artyom', 'bystrov', 'nevzorov', 'poluhin', 'natalya', 'surkova', 'galaganova', 'threequel', 'vist', 'primeres', 'cybercrime', 'plc', 'rhgb', 'nsanet', 'spitfire', 'florio', 'ostern', 'kuleshov', 'hoen', 'heikki', 'pesonen', 'vantaa', 'konwicki', 'adrià', 'maldonado', 'doublecross', 'szymanski', 'polito', 'mulaney', 'amiable', 'woliner', 'silber', 'demotion', 'yauch', 'pe', 'bouzereau', 'oiwa', 'promotional', 'bellow', 'bieber', 'blanchard', 'reinhard', 'klooss', 'postigo', 'goreporn', 'futurama', 'juhi', 'chawla', 'jacqui', 'dessert', 'tiburón', 'submissiveness', 'extravaganza', 'lingery', 'sensible', 'polsky', 'parolini', 'rumble', 'falana', 'disasterpiece', 'hearn', 'irland', 'samoa', 'grossman', 'bernsen', 'partying', 'cucumber', 'ayako', 'yoshida', 'comte', 'matsutani', 'brüggemann', 'kojima', 'ryôsuke', 'gräwert', 'macmullan', 'gidget', 'farah', 'buzkashi', 'petridis', 'dramatization', 'lizzie', 'hendrik', 'hölzemann', 'liszt', 'sartana', 'sabata', 'carlye', 'kief', 'rin', 'mccowan', 'blaine', 'posh', 'florenz', 'hatfield', 'mccoys', 'ravier', 'ifa', 'isfansyah', 'rokuro', 'sugarcane', 'idenity', 'willat', 'barson', 'braggart', 'mille', 'sholem', 'airman', 'ruthlessness', 'kildare', 'berke', 'faizon', 'qunshu', 'gao', 'biopunk', 'hofsiss', 'spaulding', 'constantinople', 'zamm', 'zazove', 'halfbreed', 'tet', 'aselton', 'shatterhand', 'exhumation', 'bumpkin', 'ordination', 'spite', 'vesuvius', 'coquettishness', 'antinque', 'smoky', 'skatebording', 'hocus', 'pocus', 'wiggle', 'unforgiven', 'saleswoman', 'crianças', 'rascal', 'ayanna', 'dang', 'aniamtion', 'carlsbad', 'builder', 'torrente', 'valhalla', 'warboys', 'satisfying', 'breeding', 'livestock', 'glorious', 'apocalips', 'insidious', 'exploit', 'lucasfilm', 'skellig', 'vernel', 'burk', 'cailey', 'gwendoline', 'mcgatlin', 'lupita', 'nyong', 'markey', 'maryann', 'newbies', 'kylo', 'ren', 'snoke', 'stormtroopers', 'nazanin', 'boniadi', 'kebbell', 'unbelieveable', 'understimated', 'ooc', 'quicksilver', 'ultron', 'trident', 'fired', 'zapper', 'tj', 'deadpool', 'wernick', 'rhett', 'colossus', 'skrein', 'spunky', 'atmoshere', 'letitia', 'wakanda', 'iranium', 'kree', 'accuser', 'skrulls', 'pinar', 'toprak', 'akbar', 'algenis', 'chuku', 'modu', 'lashana', 'mckenna', 'ploszek', 'zeringue', 'rune', 'temte', 'blynn', 'vik', 'sahay', 'thanos', 'infinity', 'penultimate', 'fallible', 'literally', 'shattered', 'klementieff', 'dupa', 'inhumans', 'antman', 'loophole', 'valkyrie', 'eternals', 'cade', 'mulvey', 'danai', 'gurira', 'fuhrmann', 'grillo', 'maximiliano', 'hernandez', 'ganderton', 'clementieff', 'notary', 'tessa', 'simpkins', 'yvette', 'funtime', 'hartog', 'visuall', 'comico', 'drame', 'md', 'zendaya', 'emmigration', 'signle', 'bootcamp', 'maternal', 'bagg', 'alche', 'seigmann', 'seligmann', 'maurette', 'norbert', 'weisser', 'jayhawker', 'doughboy', 'seaweed', 'dopamine', 'unethical', 'agronomist', 'mesquiteers', 'tuxedo', 'markinson', 'pheasant', 'circumscision', 'fogel', 'famliy', 'winfree', 'motle', 'concealment', 'mau', 'postulant', 'automat', 'diphteria', 'lineman', 'gogo', 'bookmaker', 'bourvil', 'comedienne', 'anisten', 'agony', 'overpass', 'suicice', 'gruzsniczki', 'anke', 'engelke', 'tenor', 'southie', 'surplus', 'cruiser', 'minx', 'limelight', 'thuggish', 'mckinley', 'palisade', 'pretenses', 'abridge', 'tugboat', 'latter', 'mohave', 'chambara', 'lanzarote', 'nautilus', 'taker', 'ordinance', 'patrolman', 'wedlock', 'textbook', 'manure', 'yuma', 'debunker', 'shor', 'acrobatics', 'assistance', 'storyville', 'juggle', 'yachting', 'horsemanship', 'desguise', 'kensington', 'spacechip', 'printing', 'burgeon', 'illuminate', 'tweel', 'alfredo', 'soderguit', 'hiden', 'cree', 'embezzler', 'xv', 'adoptee', 'impropriety', 'dadt', 'tokar', 'disi', 'aiken', 'unreallistic', 'fanstasy', 'otherworldly', 'pluto', 'merrie', 'hazel', 'oniric', 'istambul', 'ignácio', 'porto', 'jeeves', 'yigal', 'yitzhak', 'rabin', 'pitiot', 'peleliu', 'amell', 'zodiac', 'adriatic', 'maritime', 'izlenecek', 'experimentation', 'delay', 'cn', 'hemophobia', 'lordi', 'eurovision', 'urzeitmonster', 'urzeitwesen', 'adrenal', 'dreamworld', 'gunpowder', 'peacefulness', 'deserted', 'fixie', 'zenga', 'plesiosaur', 'gakuryû', 'nords', 'aigars', 'grauba', 'hunebelle', 'winsor', 'mccay', 'noe', 'glantz', 'riga', 'komasa', 'chatroom', 'harm', 'horcom', 'juris', 'poskus', 'skaky', 'emory', 'condords', 'conversational', 'anesthesia', 'lipsky', 'debrief', 'unethics', 'jounralism', 'besser', 'tirola', 'rockstar', 'reinforces', 'rapeculture', 'sjw', 'leitman', 'naderi', 'bahareh', 'azimi', 'phang', 'telecommunication', 'marielle', 'blackness', 'brice', 'strouse', 'expansion', 'lehericey', 'cardot', 'hinant', 'calcio', 'italia', 'filippo', 'macelloni', 'garzella', 'vernay', 'dewi', 'humphreys', 'attrition', 'popkin', 'thoroughbred', 'polcino', 'pacho', 'velez', 'moynihan', 'korzeniowski', 'sandomierz', 'baluev', 'legnica', 'tatyana', 'arntgolts', 'waldemar', 'krzystek', 'verde', 'blight', 'anatomist', 'ilinca', 'calugareanu', 'colla', 'macchia', 'duilio', 'coletti', 'nonfunny', 'burhan', 'qurbani', 'scapegoating', 'goldgewinnung', 'eska', 'tintin', 'arcady', 'hazard', 'bodysnatcher', 'conglomeration', 'hardi', 'volmer', 'kinem', 'peretic', 'connacher', 'downtown', 'trickster', 'jeckyll', 'zanelli', 'vondie', 'corsica', 'bazongas', 'timlett', 'harkema', 'thacker', 'slowly', 'postbellum', 'spghetti', 'stelvio', 'cipriani', 'cyanide', 'millionair', 'samsara', 'delevingne', 'idealization', 'halston', 'beekeeping', 'bianca', 'bradey', 'viral', 'scheming', 'melodifestivalen', 'protrans', 'pseudoexistentialism', 'gajos', 'justyna', 'suwala', 'ostaszewska', 'szumowska', 'continuous', 'sharia', 'yihad', 'jakubik', 'czeslaw', 'mozil', 'grzegorz', 'halama', 'skiba', 'mozdzer', 'deriglasoff', 'brylewski', 'sonia', 'bohosiewicz', 'tymon', 'tymanski', 'hicksploitation', 'tamzin', 'dandy', 'sadyk', 'andonov', 'sundar', 'stere', 'gulea', 'barefoot', 'fiddler', 'sukumar', 'babu', 'jain', 'cundey', 'thessaloniki', 'percussion', 'kyungmin', 'krueckeberg', 'anastasia', 'pappa', 'bakhtiari', 'insert', 'kerylos', 'ondine', 'cinnamontography', 'fancifal', 'francophone', 'japanophile', 'chump', 'benamraoui', 'nour', 'eddine', 'lakhmari', 'ambientation', 'paralyze', 'dietl', 'lav', 'seale', 'roleplaying', 'croze', 'seanse', 'dallamano', 'figueroa', 'knutson', 'shûji', 'terayama', 'kashyap', 'muir', 'tomu', 'ancestral', 'palestinians', 'awesone', 'viktor', 'tsoy', 'lukasz', 'palkowski', 'tomasz', 'kot', 'confederacy', 'abhay', 'deol', 'dhanush', 'zeeshan', 'ayyub', 'sonam', 'swara', 'bhaskar', 'flatboring', 'poetess', 'featurette', 'samara', 'segue', 'philippines', 'espionaje', 'willow', 'yagi', 'kuei', 'extras', 'pardee', 'turist', 'montecristo', 'adsit', 'treating', 'infect', 'tedesco', 'bussey', 'bristol', 'sixth', 'grader', 'ectoplasma', 'kennedi', 'restless', 'bandy', 'refugeees', 'godon', 'dimitriades', 'mcconville', 'ayushmann', 'khurana', 'marraige', 'jackosn', 'resposibility', 'smekday', 'tramway', 'synthwave', 'jaeden', 'lieberher', 'newscast', 'peen', 'wobbly', 'maple', 'grippy', 'kreis', 'anterior', 'levan', 'gabriadze', 'macbook', 'ufotable', 'lynching', 'handyman', 'comedt', 'puffin', 'revamp', 'vandamme', 'elgstrand', 'bandana', 'enviromentalism', 'nikolay', 'lebedev', 'bluebell', 'etan', 'symbiote', 'barbarians', 'yoshitomo', 'nara', 'pegleg', 'opel', 'dackel', 'ruhr', 'tussi', 'bonnevie', 'kaas', 'corse', 'bundeswehr', 'ischgl', 'hotchpotch', 'gaffigan', 'rambin', 'sparling', 'feihong', 'subverts', 'olly', 'blackburn', 'passages', 'confirm', 'kowalchuk', 'borchardt', 'spors', 'starzak', 'nell', 'schofield', 'jakub', 'anatomy', 'onverwacht', 'barack', 'obama', 'westboro', 'talon', 'serenity', 'buxom', 'defiance', 'foosball', 'raffey', 'ineffective', 'marimekko', 'adiction', 'beastie', 'airforce', 'splatstick', 'desaturated', 'orser', 'psycological', 'pmmp', 'potrykus', 'beavis', 'butthead', 'segwat', 'erased', 'labatory', 'doubtful', 'scarf', 'gialli', 'magimel', 'bénichou', 'desegregation', 'espacio', 'perros', 'myeongryang', 'atari', 'dysfunctinal', 'unsurprising', 'jasni', 'imboden', 'arshad', 'warsi', 'voiceovers', 'unoffensive', 'mindbending', 'thoughtprovoking', 'imanol', 'simón', 'bolívar', 'psychoses', 'kanopy', 'mediumship', 'feline', 'pacer', 'knicks', 'espn', 'rotisserie', 'piston', 'flatmate', 'squatting', 'briatore', 'flavio', 'loftus', 'qpr', 'tinkerbell', 'japanes', 'tosho', 'rustam', 'branaman', 'bombardment', 'encoder', 'bondesque', 'anzio', 'masuria', 'dupree', 'kriya', 'kriyayoga', 'yogananda', 'desiree', 'akhavan', 'yap', 'fumetti', 'motos', 'extinguisher', 'lenzi', 'mariposa', 'priness', 'dirch', 'louane', 'emera', 'soo', 'rivetting', 'snap', 'northeast', 'picher', 'tar', 'treece', 'antibiotic', 'bacteria', 'bacterial', 'tiller', 'provaking', 'casel', 'ftl', 'bachan', 'shoojit', 'sircar', 'cirus', 'capella', 'slovenian', 'scarcity', 'rondón', 'heismith', 'cinncinnati', 'homofobia', 'anagram', 'soliders', 'usain', 'rajat', 'mishra', 'knapp', 'priyadarshan', 'anticonformism', 'altenate', 'conformism', 'sparce', 'hugger', 'brtish', 'harington', 'trator', 'eesti', 'greatful', 'numb', 'plumbing', 'dicke', 'overhead', 'inna', 'churikova', 'actros', 'miscommunication', 'pupil', 'planting', 'competency', 'kimmel', 'potatoes', 'rugged', 'sushant', 'mukherjee', 'sriram', 'raghavan', 'murugadoss', 'microscope', 'vulnerable', 'pianista', 'radiator', 'fermeris', 'užsispyrelis', 'chelentano', 'balaton', 'landwhale', 'bulgarian', 'subtitled', 'subtly', 'schumer', 'unattractive', 'lebron', 'bmx', 'bycicle', 'genitals', 'veljko', 'bulajić', 'harrasment', 'tennage', 'huntington', 'unmade', 'kloster', 'luts', 'dubstep', 'garter', 'workman', 'oldenburg', 'kaif', 'punjab', 'ellin', 'hayabusa', 'khyber', 'solaris', 'lebanese', 'govinda', 'saif', 'bump', 'daffy', 'cooley', 'lefauve', 'krsna', 'restriction', 'aanand', 'kangana', 'ranaut', 'madhavan', 'shergil', 'mahavan', 'reneactment', 'heck', 'pohlad', 'ia', 'virtuoso', 'dramady', 'pietrangeli', 'salce', 'schiller', 'iphigenia', 'diaster', 'prevails', 'pixel', 'lowbrow', 'spam', 'colonist', 'wilbert', 'rideau', 'dumbledore', 'wizardry', 'sitter', 'mongrel', 'pierfrancesco', 'favino', 'duffel', 'bruise', 'scald', 'vending', 'shruti', 'hassan', 'cadelago', 'henrie', 'jakob', 'salvati', 'portillo', 'nu', 'drei', 'nüsse', 'aschenbrödel', 'predicable', 'krampus', 'delavingne', 'dose', 'prelude', 'jl', 'deadshot', 'chliche', 'vilains', 'physically', 'chliché', 'millitary', 'annoyingly', 'scien', 'bezos', 'blockage', 'rumi', 'aditi', 'hyadri', 'fakhri', 'ranbir', 'vissually', 'stemp', 'fustigation', 'independance', 'tchaikovsky', 'karelia', 'jaideep', 'ahlawat', 'kamal', 'rahul', 'bose', 'lieh', 'beefcake', 'redline', 'kamurocho', 'fudd', 'faminism', 'striper', 'fehling', 'dropbox', 'foodspotting', 'founder', 'soundcloud', 'panopticism', 'bechtel', 'dia', 'muertos', 'feed', 'compostela', 'fremantle', 'sororoty', 'frantasy', 'quintuplet', 'vidya', 'balan', 'devdas', 'overdramatize', 'imac', 'kurzel', 'plano', 'daley', 'joseon', 'hander', 'raptor', 'prety', 'vietnanam', 'zoran', 'lisinac', 'wonderwoman', 'mukta', 'barve', 'atul', 'kulkarni', 'lucchini', 'rowin', 'mclellan', 'naruto', 'shippuuden', 'onsen', 'narusaku', 'nruto', 'uzumaki', 'sakura', 'haruno', 'skimpy', 'emraan', 'hashmi', 'luthria', 'alanna', 'ubach', 'navarra', 'ngozi', 'onwurah', 'dehydration', 'rambler', 'yellowstone', 'junkies', 'meter', 'winehouse', 'cybersex', 'sepremacist', 'gill', 'dawber', 'voy', 'flim', 'ызусшфд', 'фпутеы', 'eggman', 'scalping', 'riedrich', 'karlovy', 'vary', 'vitoria', 'sculpter', 'advertised', 'sethi', 'anastasiya', 'zavorotnyuk', 'infilitration', 'foldes', 'törhönen', 'debicki', 'illya', 'kuryakin', 'британский', 'про', 'шпионов', 'skipper', 'carver', 'moab', 'ochoa', 'multikill', 'lybia', 'chișinău', 'moldova', 'youtuber', 'niccolo', 'paganini', 'stuttercam', 'lofing', 'cluff', 'kyrgyzstan', 'voting', 'gian', 'volontè', 'nod', 'schnepp', 'corregidor', 'stupidest', 'krauze', 'unlawful', 'triptych', 'biographic', 'molest', 'nfl', 'usfl', 'eson', 'mlb', 'urushihara', 'surya', 'uzbekistan', 'dicarpio', 'minimum', 'punke', 'mouling', 'formalist', 'persecute', 'ballyhoo', 'nearby', 'shamelessness', 'additive', 'jamil', 'dehlavi', 'nauczyciel', 'niewidomy', 'nihon', 'wiccan', 'mesmerizingly', 'grid', 'rajamouli', 'murad', 'pittsburg', 'villneuve', 'mex', 'kaluuya', 'johannsson', 'deins', 'governmental', 'isaaz', 'lann', 'fossile', 'brokenheart', 'lamattina', 'falconer', 'marmel', 'ducati', 'cali', 'improbability', 'kathakali', 'messi', 'athina', 'tsangari', 'allende', 'colonia', 'dignidad', 'lufthansa', 'punjabi', 'carabinieri', 'iography', 'brancaleone', 'landa', 'blankziehen', 'homily', 'notscary', 'lispector', 'flq', 'hearwarning', 'nightwing', 'adoor', 'gopalakrishnan', 'olen', 'agathe', 'bonitzer', 'belaga', 'declaw', 'shed', 'capti', 'boyhood', 'relateable', 'egger', 'vocabulary', 'einstürzende', 'neubauten', 'blixer', 'bargeld', 'wahre', 'heino', 'ärzte', 'toten', 'hosen', 'reeder', 'terminally', 'jeni', 'mongoose', 'mision', 'hayd', 'hecate', 'diaper', 'uinnecessary', 'idyllic', 'pierrot', 'lumiére', 'cloth', 'reefer', 'hazzard', 'beluga', 'bering', 'organism', 'rote', 'tardigrade', 'portrayed', 'mywatchlist', 'rappers', 'schoolmates', 'mya', 'surealism', 'ratchet', 'renter', 'laudable', 'filmemaker', 'qvc', 'bortko', 'spilberg', 'videogames', 'audiobook', 'avatars', 'vr', 'omg', 'exiting', 'spielbergo', 'wonker', 'creationisim', 'baglama', 'bouzouki', 'uncommon', 'bihari', 'ghaywan', 'richa', 'chadda', 'kaushal', 'handy', 'speirs', 'wicka', '徐克', 'shapechanging', 'hyderabad', 'nri', 'alaskan', 'malamute', 'preganancy', 'hernán', 'jabes', 'crooked', 'fro', 'rojas', 'responder', 'reinterpretation', 'suffragettes', 'jaquemet', 'monoculture', 'pollination', 'bestialism', 'huckabee', 'griff', 'furst', 'fyke', 'bonner', 'zosia', 'commin', 'poems', 'suicides', 'haasan', 'allnighter', 'wigan', 'corsini', 'prevert', 'joris', 'ivens', 'schiffli', 'fresno', 'mtf', 'lyudmila', 'gurchenko', 'evgeniy', 'evstigneev', 'cooperative', 'sctrong', 'ostap', 'beutler', 'colby', 'dicken', 'attah', 'solipsistic', 'aiport', 'layover', 'bussiness', 'mountaineering', 'chai', 'vasarhelyi', 'agoraphobic', 'hydra', 'zzzax', 'supermacissts', 'nephilim', 'exsanguination', 'consultancy', 'kahlil', 'gibran', 'oceans', 'sukeban', 'deka', 'vend', 'stevan', 'kowalski', 'shapechanger', 'gilgamesh', 'mesopotamian', 'euro', 'payola', 'interceptor', 'forage', 'irriverent', 'bruxelles', 'schanzenviertel', 'breathnach', 'sonderkommando', 'nemes', 'riesgraf', 'gopro', 'winemaking', 'arcilla', 'michalka', 'aly', 'trevino', 'sheila', 'lyriq', 'sonakshi', 'sinha', 'holomodor', 'gymnsastics', 'bangalore', 'anjali', 'dulquer', 'salmaan', 'fahadh', 'faasil', 'nazriya', 'nazim', 'nivin', 'parvathy', 'mastan', 'shabana', 'azmi', 'madras', 'suriya', 'sivakumar', 'thule', 'korfu', 'jelly', 'kanada', 'becomes', 'graz', 'puntigam', 'hervé', 'loachian', 'overview', 'perfomer', 'heuriger', 'wachau', 'soundtracks', 'whittaker', 'quinqui', 'dunwich', 'naivete', 'vril', 'pseudointellectual', 'socia', 'apostasy', 'rylance', 'kahled', 'inuendos', 'berlei', 'rayography', 'guadagnino', 'holdup', 'infotainment', 'breivik', 'huma', 'multiscreen', 'grosse', 'sangaile', 'vasara', 'beatiful', 'scenary', 'karimloo', 'boggess', 'stilgoe', 'polunin', 'remand', 'inessa', 'huisman', 'clearly', 'replay', 'execrable', 'comingout', 'dalí', 'camelia', 'consumation', 'mademoiselle', 'johah', 'hur', '斯巴达克斯', '竞技场之神', 'ction', 'tramatic', 'dearbhla', 'diarmuid', 'connasse', 'chukotka', 'boyland', 'madellaine', 'paxson', 'cawthorne', 'tennet', 'retread', 'netscape', 'dotcom', 'mozilla', 'yarovesky', 'cenk', 'uygur', 'turk', '카운트다운', 'maczko', 'minorities', 'soar', 'pyschic', 'deathtrap', 'schoolchildren', 'mumbo', 'jumbo', 'unsubstantiated', 'monson', 'copla', 'cantina', 'wallachia', 'dionysus', 'aviary', 'beg', 'kästner', 'bisection', 'zahler', 'stravinsky', 'glow', 'michèle', 'hozer', 'rosalie', 'clarabelle', 'bruceploitation', 'mardi', 'gras', 'dehnhardt', 'rascism', 'psychedelia', 'saudade', 'brazillian', 'eletronic', 'openess', 'elke', 'sylva', 'koscina', 'pinko', 'garko', 'giannoli', 'croc', 'grope', 'religino', 'jailbait', 'warship', 'compulsion', 'discredit', 'monosyllabic', 'roomate', 'vasiliy', 'livanov', 'sonu', 'nigam', 'pankaj', 'satish', 'kaushik', 'sattire', 'cinepanettone', 'internalize', 'referências', 'abdulov', 'bulghakov', 'balmedie', 'fainting', 'parnell', 'ideologic', 'celenation', 'meera', 'denali', 'purnell', 'creed', 'phylicia', 'rashad', 'draghi', 'gespenst', 'twirl', 'simha', 'kartik', 'subbaraj', 'mobilização', 'protesto', 'amirani', 'staubsauger', 'nejat', 'warmy', 'bhai', 'ki', 'rajshree', 'cangaço', 'philanthropy', 'carré', 'wakayama', 'rumyantseva', 'dipinti', 'commantary', 'fabrigar', 'everette', 'wallin', 'atay', 'panzehir', 'benner', 'rality', 'scorsone', 'lifeform', 'tidwell', 'waterman', 'heuck', 'borrow', 'bűnös', 'utakon', 'grímur', 'hákonarson', 'electrode', 'jeselnik', 'skating', 'seqel', 'sachin', 'pilgaonkar', 'mahadevan', 'tormentor', 'mafioso', 'ukranian', 'chronophotography', 'varg', 'indirect', 'alphonse', 'putharen', 'sai', 'pallavi', 'equestria', 'shimmer', 'exclavitud', 'sendai', 'poliziotteschi', 'animaniacs', 'cesc', 'cámara', 'playhouse', 'guionista', 'frans', 'kåre', 'raake', 'uthaug', 'antikriegsfilm', 'pussyblock', 'breen', 'caio', 'madre', 'marillion', 'unpopular', 'adjustable', 'collateralized', 'obligation', 'bourdain', 'facts', 'subprime', 'conscription', 'clough', 'fedorchenko', 'waverly', 'edm', 'plur', 'peckham', 'phsycedelic', 'gimlet', 'mankell', 'wallander', '臥底', 'cart', 'accented', 'mallhi', 'indycar', 'scca', 'nate', 'ironman', 'allusion', 'stoic', 'prügel', 'frazer', 'hannon', 'karedas', 'carloni', 'gundam', 'hooliganism', 'alik', 'sakharov', 'cinemagraphy', 'iram', 'parveen', 'bilal', 'eyewitness', 'seige', 'boruto', 'mangá', 'responsbility', 'piccole', 'labbra', 'kiowa', 'carland', 'december', 'writting', 'hongseong', 'mashup', 'bushwhacker', 'rossini', 'telescopic', 'signature', 'wac', 'blyth', 'pickton', 'konflikt', 'checco', 'zalone', 'civic', 'cyberbullying', 'omelet', 'verdi', 'bejoy', 'nambiar', 'farhan', 'akhtar', 'wellington', 'laborer', 'makovetsky', 'hoeks', 'handcrafter', 'kirtan', 'psilocybe', 'atrociously', 'lekarz', 'pacjentki', 'pracownica', 'korporacji', 'przystojny', 'serce', 'bohatera', 'wysportowany', 'areces', 'brookner', 'golem', 'muet', 'volvo', 'backman', 'passageway', 'comany', 'ellery', 'spex', 'mummify', 'grrrl', 'érotique', 'superntural', 'forensics', 'funding', 'futurism', 'blouse', 'dung', 'naturopath', 'fictionalization', 'talvivaara', 'jehoshua', 'tardi', 'desmares', 'ekinci', 'doorway', 'creran', 'subservience', 'auvergne', 'deutscher', 'herbst', 'friedlander', 'hargrove', 'claflin', 'jarheads', 'phenomenology', 'pragmatism', 'cogitore', 'infected', 'bolivar', 'ciro', 'bijvoet', 'nilbio', 'schultes', 'toulemonde', 'amazonia', 'madhvani', 'owens', 'stuecken', 'badman', 'gameplay', 'fennec', 'tolerence', 'fogelman', 'reardon', 'josie', 'shakira', 'naturist', 'embed', 'kabul', 'reinvent', 'matera', 'centurion', 'gallant', 'barth', 'videoclips', 'carraway', 'hsing', 'antonietta', 'lillo', 'vigas', 'lender', 'secondhand', 'judie', 'lacoste', 'neglectful', 'dominate', 'smallpox', 'angler', 'venomous', 'sliver', 'crave', 'sanke', 'sankes', 'frothy', 'boxcar', 'unenployment', 'spaguetti', 'mockbusters', 'oakes', 'gytis', 'lukšas', 'bihar', 'rilke', 'episodical', 'grabowski', 'boguslaw', 'patryk', 'piotr', 'stramowski', 'stroinski', 'dorociński', 'ryszard', 'filipski', 'destape', 'españolada', 'esteso', 'ozores', 'pajares', 'crump', 'dennison', 'rima', 'wiata', 'vipul', 'amrutlal', 'armenia', 'unwachable', 'dizziness', 'hatching', 'homecare', 'vocation', 'dominant', 'whipping', 'graziella', 'moretto', 'surender', 'makkhi', 'foerign', 'suffragette', 'airflight', 'engrave', 'boog', 'tiere', 'hansal', 'pinkerson', 'iltis', 'vaginal', 'brandenburg', 'berta', 'porche', 'toneel', 'vreemdgaan', 'beograd', 'srbija', 'simbolism', 'anjela', 'nedyalkova', 'slicker', 'eckardt', 'tex', 'jousting', 'corriganville', 'agoura', 'gan', 'bi', 'petrov', 'maoist', 'viveiros', 'tinto', 'petersburgh', 'trepanation', 'soulwax', 'adorkable', 'vissuals', 'gnanamuthu', 'fiat', 'cinquecento', 'ministry', 'pauli', 'shabab', 'mungor', 'knautz', 'darg', 'cayouette', 'lucius', 'baston', 'iverson', 'kanab', 'prision', 'macon', 'koto', 'ozerov', 'bea', 'santos', 'cossen', 'krista', 'hex', 'showcase', 'zara', 'cully', 'marki', 'anvari', 'phony', 'winocour', 'sigarev', 'yana', 'troyanova', 'sudha', 'kongara', 'mascaro', 'buress', 'hirshfield', 'barista', 'espresso', 'sorgenfri', 'peele', 'sirens', 'smoczynska', 'mazurek', 'michalina', 'olszanska', 'menuez', 'saylor', 'cocksuck', 'zinn', 'patrician', 'intoxicate', 'cystic', 'fibrosis', 'haphazardly', 'marah', 'strauch', 'rüdiger', 'suchsland', 'giese', 'guttentag', 'pea', 'normand', 'triads', 'ceder', 'igloo', 'born', 'preventable', 'superintendant', 'boynton', 'ferdia', 'reynor', 'wycherley', 'prizefigher', 'bernds', 'sartre', 'beauvoir', 'request', 'cortometraje', 'busdriver', 'vidocq', 'gymnastic', 'tapeworm', 'iphone', 'stabbing', 'engaged', 'dadaism', 'sherpa', 'spreitler', 'blahova', 'meager', 'gabbert', 'switchboard', 'sheepdog', 'homogeneous', 'dior', 'commissar', 'lynda', 'schenck', 'maneesh', 'histrorical', 'millennial', 'friesland', 'neurotische', 'katze', 'tierpsychater', 'dalmatia', 'prometheus', 'macro', 'scraper', 'masterclass', 'mcarthy', 'genovese', 'corrputed', 'par', 'ugu', 'massil', 'ticling', 'farrier', 'tickling', 'governer', 'kary', 'antholis', 'aircorps', 'tenchi', 'takada', 'yamazake', 'ecchi', 'backcountry', 'seasonal', 'pampas', 'chronos', 'cleanup', 'remix', 'tranquil', 'conqueror', 'angourie', 'angourice', 'alladin', 'starkid', 'jarrett', 'selfie', 'bodhidarma', 'kalaripayattu', 'mlk', 'caboblanco', 'karibik', 'conceptual', 'goodkind', 'laywer', 'app', 'stepsibling', 'lucero', 'engraver', 'caterpillar', 'bobbito', 'fued', 'determinator', 'vyrypaev', 'patriach', 'irritating', 'exyu', 'croatia', 'terapia', 'joanes', 'anthroposophy', 'landgrabbing', 'wellbeing', 'conman', 'wook', 'impredictable', 'handmaiden', 'pretender', 'merit', 'prostration', 'bfg', 'giants', 'ignorant', 'stigmatise', 'trivialise', 'paedophila', 'appellative', 'tiernan', 'kristoffer', 'tabori', 'snowing', 'sentry', 'harding', 'agostini', 'pesce', 'kika', 'magalhaes', 'nazak', 'somers', 'swerer', 'denture', 'maren', 'enviromentalist', 'sanctuary', 'genealogy', 'guam', 'divination', 'chu', 'semiology', 'semiotics', 'signifier', 'matthesen', 'dansk', 'hartmann', 'bioscientist', 'aligator', 'characterless', 'formulate', 'amalia', 'uppsala', 'transboy', 'transman', 'wolcher', 'kasper', 'juhl', 'faroe', 'rampo', 'euphoric', 'disguasting', 'documentation', 'linemen', 'demofilo', 'fidani', 'hanglider', 'peacetime', 'shakun', 'argentino', 'kemp', 'casson', 'psychdelic', 'falange', 'cringy', 'brexit', 'relish', 'valak', 'issos', 'ogens', 'sexting', 'elyse', 'kriegman', 'yoshikawa', 'nansensu', 'mckinnon', 'shameless', 'lochary', 'srt', 'abbess', 'valour', 'crayon', 'adreon', 'christanity', 'affirmative', 'petrify', 'chaubey', 'mccormick', 'roswell', 'regicide', 'raam', 'ribhu', 'dasgupta', 'espion', 'moneygrabber', 'roadster', 'serpent', 'askwith', 'alon', 'aboutboul', 'sofer', 'weg', 'declutter', 'simpler', 'galen', 'degrasse', 'darkspore', 'ppl', 'ncaa', 'simbabwe', 'schamus', 'newark', 'hazing', 'selfharm', 'trucolor', 'keng', 'guan', 'ligy', 'pullappally', 'harish', 'saluja', 'saperston', 'appleseed', 'henn', 'implied', 'sombre', 'fernán', 'crossfit', 'toughness', 'fundos', 'errant', 'manzanares', 'predictictable', 'germaine', 'dulac', 'laguardia', 'sofa', 'incommunicability', 'lambada', 'munnar', 'thrissur', 'pooram', 'prakkat', 'roommates', 'coloring', 'bitcoin', 'fallujah', 'preaching', 'naupaka', 'qixi', 'tosar', 'uruguayan', 'tuchner', 'quantrill', 'sportsman', 'publication', 'symphonic', 'northen', 'divisive', 'jt', 'biller', 'supervillian', 'juggalo', 'juggalos', 'caliph', 'kowloon', 'superintendent', 'pratchett', 'discworld', 'rabal', 'windscreen', 'comanchería', 'adaptaiton', 'crowdsourced', 'held', 'zovatto', 'rodo', 'sayagues', 'minnette', 'tourettes', 'kiyoko', 'dipillo', 'interlock', 'cocoliche', 'influenza', 'veggietales', 'larryboy', 'turshen', 'gattling', 'muzhi', 'sharknado', 'lightweight', 'szeto', 'jenner', 'ngo', 'bannon', 'pātea', 'bandits', 'poligamy', 'anthropoid', 'thirsty', 'alphabetic', 'busan', 'yeon', 'seahorse', 'hieronymus', 'prado', 'rushdie', 'effigy', 'lethargically', 'varna', 'rami', 'hachache', 'dornan', 'woodpecker', 'janelle', 'monae', 'jharrel', 'trevante', 'assylum', 'pcp', 'clamp', 'shoujo', 'cardcaptor', 'tetris', 'galifanakis', 'sonora', 'tisdale', 'bria', 'mollen', 'prostitu', 'godiva', 'misogynism', 'voyeruism', 'handmade', 'origami', 'shamisen', 'fustrating', 'spill', 'offshore', 'radhika', 'vinay', 'sapru', 'plá', 'dinata', 'riri', 'riza', 'longmond', 'luk', 'mohana', 'indraganti', 'ranjith', 'vetriselvan', 'putrama', 'tuta', 'incheon', 'trudy', 'met', 'metropolitan', 'multiplane', 'itoh', 'keanue', 'boeuf', 'asmr', 'laneuville', 'marauder', 'astrologer', 'wcw', 'juanita', 'akiyuki', 'shinbou', 'oishi', 'nisio', 'isin', 'steins', 'ajin', 'toyko', 'higuchi', 'catastrophic', 'atencio', 'octavian', 'shinto', 'binyon', 'timbucktu', 'ecentric', 'linder', 'neptune', 'rabits', 'toothpaste', 'pasha', 'zrinko', 'ogresta', 'indra', 'carlomusto', 'blarney', 'mammootty', 'sandel', 'wrona', 'sangeeth', 'monotone', 'sônia', 'ghosthunters', 'mormonism', 'spainsh', 'bucari', 'caffeine', 'hanh', 'solanki', 'erebus', 'purdy', 'breastfeeding', 'jap', 'syndey', 'adventist', 'plemmons', 'loudspeaker', 'chilean', 'npo', 'williamsburg', 'apulanta', 'broadcaster', 'deppression', 'compaq', 'ibm', 'dysphoric', 'ouroboros', 'nootropics', 'segundo', 'chomon', 'flipside', 'altamira', 'facing', 'deepest', 'fatalist', 'prolife', 'arrogant', 'jóhann', 'jóhannsson', 'brainfuck', 'pori', 'uranus', 'hybid', 'stingy', 'arné', 'pincher', 'torre', 'urrutia', 'eliopoulos', 'adriaan', 'ditvoorst', 'fee', 'varma', 'traver', 'sneaker', 'liège', 'interrogator', 'fedorov', 'leninist', 'lettrisme', 'sébastien', 'laudenbach', 'nibbler', 'mania', 'disorganize', 'riverside', 'singin', 'cherbourg', 'gridlock', 'compliment', 'katanga', 'khabenskiy', 'dacia', 'palmas', 'wyandottes', 'zany', 'atmosphereric', 'symbology', 'doomed', 'savile', 'peadophila', 'clerical', 'veritas', 'skousen', 'bystander', 'kew', 'nefertiti', 'pío', 'baroja', 'nechrofil', 'temporary', 'intersectionality', 'drukpa', 'rasone', 'taissa', 'youssef', 'chahine', 'orville', 'recolation', 'restrict', 'ukrain', 'cyberpnuk', 'languid', 'anywhere', 'cassey', 'boating', 'hasteless', 'bertelmann', 'pawar', 'digging', 'mekong', 'nursemaid', 'tropes', 'aptitude', 'meritocracy', 'verita', 'nhl', 'active', 'vanuatu', 'wawa', 'mungau', 'dain', 'islander', 'rebound', 'suiter', 'windfall', 'eldridge', 'communicating', 'dissatisfy', 'formalness', 'offence', 'treacherousness', 'watari', 'penance', 'muammar', 'gaddafi', 'blackrock', 'reductionism', 'geopolitics', 'assad', 'fud', 'hezbollah', 'destabilization', 'stability', 'palmashow', 'elm', 'defa', 'drogodependencia', 'nederlandstalig', 'coalburners', 'coalburning', 'muh', 'poz', 'nuance', 'bl', 'fissure', 'magma', 'repentant', 'amends', 'dani', 'martín', 'triathlon', 'disinheritance', 'atlas', 'alk', 'brecher', 'lewkowicz', 'thelonious', 'fierman', 'dawid', 'ogrodnik', 'bochniak', 'whitta', 'jennette', 'mccurdy', 'ksenia', 'implacable', 'henke', 'thordson', 'wannabee', 'antipodist', 'cubism', 'videophone', 'zenithal', 'panfilov', 'crowdsourcing', 'baptists', 'chauffer', 'tattooing', 'zumba', 'kochi', 'stairs', 'herbicide', 'ultraviolet', 'repopulation', 'eough', 'colonization', 'opposition', 'simplify', 'fortran', 'stagebound', 'snowbound', 'wharf', 'irrintzi', 'navarre', 'txalaparta', 'volev', 'roza', 'mileva', 'reichert', 'tac', 'handbag', 'yismach', 'hatani', 'אמיל', 'בן', 'שמעון', 'ישמח', 'חתני', 'polarization', 'fanasy', 'fanfiction', 'startups', 'jano', 'jealosy', 'legrá', 'sprinter', 'lourdelet', 'asset', 'yolo', 'corfu', 'petanque', 'kenworthy', 'bushrangers', 'esporte', 'ceyda', 'torun', 'philippi', 'garri', 'bardin', 'critter', 'firer', 'jordy', 'mehrotra', 'nitesh', 'tiwari', 'piyush', 'gupta', 'shreyas', 'revisit', 'zamindar', 'provincetown', 'microwave', 'baena', 'nde', 'deacon', 'chirstmas', 'incertitude', 'photgraphy', 'flirting', 'marisol', 'unlucky', 'bragger', 'wiseass', 'disel', 'bullwhip', 'runway', 'farrington', 'digest', 'petry', 'drillot', 'bribing', 'chiklis', 'hechos', 'reales', 'brüder', 'violetta', 'sinkhole', 'vegetarianism', 'fratboy', 'hijinx', 'garance', 'marillier', 'kalki', 'koechlin', 'atika', 'chohan', 'nilesh', 'maniyar', 'shonali', 'loko', 'dispensable', 'panzu', 'luxembourg', 'pieprzyca', 'miroslaw', 'haniszewski', 'kolstad', 'asl', 'biter', 'victimism', 'margin', 'dafne', 'gmo', 'uncharted', 'liscensed', 'piraeus', 'aidy', 'kumail', 'nanjiani', 'showalter', 'nanjiana', 'hashtag', 'burglarize', 'possessed', 'hydroponics', 'vocoder', 'inland', 'swinging', 'slender', 'banshee', 'roxy', 'courtland', 'oscars', 'peach', 'predatory', 'eats', 'metamodernism', 'animatronics', 'pilou', 'asbæk', 'maalik', 'transoceanic', 'jeroen', 'jaspaert', 'kayako', 'vargas', 'unhealthy', 'beatriz', 'batarda', 'gage', 'hawx', 'ohad', 'ōtake', 'bongo', 'viner', 'migratory', 'ganga', 'kumbh', 'mela', 'catman', 'euthanized', 'scructure', 'performace', 'coffey', 'sentual', 'elmosnino', 'karla', 'hirwaun', 'federale', 'complementary', 'borges', 'trenchcoat', 'waco', 'impressionist', 'kampf', 'häät', 'itsemurha', 'pako', 'perustuu', 'näytelmään', 'tositapahtumiin', 'poliisi', 'ryöstö', 'vankila', 'cryptocurrency', 'undercooked', 'blasphmeous', 'servitude', 'gongfu', 'youtubers', 'cpr', 'multnomah', 'guyver', 'massoud', 'panjshir', 'peshawar', 'jonbenet', 'pauper', 'bmovie', 'gastronomy', 'chateau', 'vanish', 'apealling', 'anomaly', 'loughlin', 'intriga', 'policiaco', 'kirke', 'gingerbread', 'mattsson', 'census', 'pleasance', 'insectarium', 'berryman', 'robnson', 'assemble', 'reflexive', 'dulcimer', 'mitt', 'rcmp', 'excentric', 'holodomor', 'esteros', 'novatadas', 'escalation', 'machi', 'epidemy', 'casas', 'distopic', 'downton', 'jawaharlal', 'nehru', 'mountbatten', 'jinnah', 'satiric', 'teruel', 'loving', 'tropy', 'izlenecekler', 'subplots', 'heroes', 'naturaleza', 'retired', 'spacewalk', 'comically', 'sgi', 'rohrbach', 'nélisse', 'invastigation', 'billackman', 'billionairesclash', 'carlicahn', 'hedgefund', 'herbalife', 'huis', 'clos', 'vauxhall', 'rift', 'fantozzi', 'shults', 'masterpeice', 'panel', 'redfield', 'ontsnapping', 'wiz', 'mihura', 'antonishing', 'costumbrism', 'shurka', 'shootfighter', 'teengers', 'flatland', 'mathy', 'schurawlow', 'surzhyk', 'invation', 'commedian', 'snowboarding', 'vasectomy', 'aphex', 'portishead', 'squarepusher', 'espacial', 'falco', 'henryk', 'summoning', 'invocaton', 'milicent', 'melies', 'conceit', 'carsploitation', 'cupid', 'locarno', 'mahabharata', 'ampitheatre', 'yulin', 'chulpan', 'khamatova', 'bosque', 'musicality', 'tinnitus', 'eiza', 'os', 'doi', 'viram', 'zoologist', 'yugoslavian', 'gyser', 'mvm', 'mitochondrion', 'ilana', 'hunk', 'brammer', 'noblezada', 'briones', 'hypertext', 'plainfield', 'upa', 'vaping', 'ciggarettes', 'nonscientific', 'medici', 'linson', 'contestant', 'dragster', 'departure', 'idleness', 'wingman', 'chesterton', 'aum', 'shinrikyo', 'vased', 'legerdemain', 'oleg', 'menshikov', 'kondrat', 'zapasiewicz', 'peacekeeper', 'beksinski', 'seweryn', 'matuszynski', 'stronghold', 'bartłomiej', 'lichota', 'mastiff', 'psyhodelic', 'hohum', 'wraith', 'soren', 'scammer', 'whinsical', 'filicide', 'andreychenko', 'belaïdi', 'defraud', 'madoff', 'nivola', 'kathrine', 'narducci', 'kostroff', 'darrow', 'colossal', 'annihilate', 'animatrix', 'triffids', 'osamu', 'primates', 'tsutomu', 'nihei', 'polygon', 'thebe', 'acromegaly', 'morbidity', 'stump', 'housework', 'walnut', 'waterhouse', 'bornig', 'minivan', 'cartton', 'sou', 'lollobrigida', 'kachin', 'veneer', 'civility', 'premiado', 'croydon', 'manual', 'stimulation', 'xx', 'immorality', 'insurgency', 'epidemia', 'cosmopolis', 'raser', 'heretic', 'nomadic', 'catroon', 'gatto', 'screening', 'yakovleva', 'renata', 'litvinova', 'chronicle', 'sattelite', 'crimea', 'stepdaughter', 'catalan', 'goldenrecord', 'voyager', 'lgtb', 'enemies', 'tuna', 'conditioning', 'misdiagnosis', 'mediocrity', 'telekinetic', 'woth', 'sagada', 'losing', 'septuplets', 'tdft', 'synthpop', 'moderately', 'femalle', 'loquillo', 'stuka', 'rajastan', 'watercolor', 'acab', 'domesticity', 'stonemason', 'oat', 'pharao', 'kutsenko', 'mutafukaz', 'recesion', 'shek', 'mandroid', 'neaderthal', 'overshadow', 'darkest', 'abyss', 'clubber', 'akana', 'safdie', 'disablity', 'sicario', 'väzenie', 'nukie', 'commonwealth', 'baphomet', 'rescored', 'schoolmarm', 'occupied', 'collaborationist', 'solvay', 'morisco', 'backbite', 'undergraduate', 'amnesty', 'popeye', 'grassroots', 'umbrealla', 'xi', 'jinping', 'cf', 'fibromyalgia', 'detached', 'elemental', 'mai', 'fais', 'ce', 'plait', 'mek', 'spillane', 'vip', 'recycled', 'pothole', 'wolfhard', 'certify', 'obituaries', 'emoji', 'lakeith', 'stanfield', 'qualley', 'rifleman', 'icebreaker', 'hk', 'bffs', 'haddish', 'terryfing', 'testify', 'highbrow', 'rajinikanth', 'cotillion', 'malificent', 'vore', 'státní', 'bezpečnost', 'stb', 'yasmin', 'kassim', 'inescapable', 'provincial', 'karenina', 'colon', 'podaydès', 'robespierre', 'equipment', 'eqaulity', 'megachurch', 'artful', 'statesman', 'maske', 'surprisignly', 'dobrev', 'origina', 'unnessacary', 'emt', 'rigadin', 'musicial', 'gaygenda', 'buffy', 'britannia', 'sinai', 'perfil', 'harki', 'modernization', 'armas', 'gendered', 'holographic', 'implan', 'pinnochio', 'megacorporation', 'bombastic', 'doping', 'blowing', 'klassiker', 'vitsin', 'interconnected', 'fetich', 'pyryev', 'yakovlev', 'limehouse', 'symbiotic', 'metadata', 'nesbo', 'wrestlemania', 'skateboarding', 'bozo', 'cangaceiro', 'pernambuco', 'sertão', 'aswang', 'neightbours', 'arabistan', 'khuzestan', 'overpopulate', 'villainous', 'tunley', 'flashbcks', 'diphtheria', 'micucci', 'howey', 'eskişehir', 'plush', 'elements', 'thurgood', 'mmorpg', 'arrowverse', 'ruslanova', 'lyubshin', 'humorist', 'magi', 'assisi', 'ponderous', 'andorra', 'stepsiblings', 'robe', 'argue', 'application', 'arguing', 'polícia', 'roubo', 'brooklynn', 'malediction', 'polarize', 'stuning', 'archetypes', 'spanglish', 'ancestry', 'sortie', 'prevue', 'suriname', 'eyepatch', 'reproductive', 'bundy', 'irreconcilability', 'gilmour', 'vacancy', 'lunarians', 'rayguns', 'españa', 'tonya', 'battery', 'davidotunga', 'thelie', 'filemd', 'angelis', 'kabardian', 'nalchik', 'מלך', 'הסלים', 'bloodier', 'gorier', 'dialysis', 'neustadter', 'puzzel', 'daoism', 'hobart', 'cimrman', 'ouji', 'shockumentary', 'gilad', 'baram', 'koudelka', 'tinder', 'haggle', 'immobilization', 'pott', 'stoicism', 'tn', 'himmler', 'veep', 'khrushchev', 'kremlinology', 'pending', 'impressionism', 'transcendant', 'cryptozoologist', 'puppetoon', 'gemstone', 'cartonish', 'folter', 'inmigrants', 'gujarati', 'gujrati', 'karachentsov', 'kratt', 'dahmer', 'salyout', 'hacienda', 'lauter', 'eisenhower', 'wildfire', 'hagiographic', 'escacena', 'schrödinger', 'bohl', 'afacerea', 'est', 'engeneering', 'vishnu', 'apps', 'midas', 'yeun', 'quadruplet', 'gwendolyn', 'braille', 'dressage', 'equestrienne', 'injured', 'knackery', 'xix', 'contradiction', 'engels', 'westphalen', 'bakunin', 'proudhon', 'trilingual', 'rafting', 'bandera', 'pinnocchio', 'venereal', 'scorn', 'crimean', 'gwangju', 'dionne', 'hannity', 'sgt', 'lbj', 'slant', 'timepiece', 'hux', 'maz', 'kanata', 'mathilde', 'kschessinska', 'klattenhoff', 'shortwave', 'procedure', 'gulliver', 'ellipsis', 'wanderhure', 'hussite', 'overtake', 'cater', 'unpleasant', 'zamora', 'pansullo', 'jonet', 'wojtek', 'fishman', 'muteness', 'desplats', 'inversion', 'eroticized', 'wird', 'smrz', 'greenscreen', 'quevedo', 'treacher', 'comingofage', 'peerpressure', 'syrupy', 'jdrama', 'bungalow', 'thich', 'nhat', 'devotional', 'juventud', 'frustada', 'gondolier', 'disembodied', 'luchador', 'quinceanera', 'swept', 'somnambulant', 'falangism', 'dramaticized', 'dullish', 'jwatch', 'jour', 'bigby', 'georgianna', 'burner', 'gombe', 'geo', 'interclass', 'auntie', 'mame', 'traumatize', 'bügeleisen', 'lichtspruch', 'romeon', 'brodsky', 'baiser', 'neues', 'agrarian', 'showman', 'magnificently', 'psa', 'moazzam', 'begg', 'unmature', 'santpere', 'playback', 'strawberry', 'shortcake', 'dacoits', 'honnold', 'caldwell', 'lusitania', 'charleston', 'exaggeration', 'cuñadismo', 'supermoon', 'staithes', 'upsidedown', 'krieps', 'lavey', 'mansfield', 'justicier', 'masqué', 'bashful', 'inebriation', 'kilpisjärvi', 'fapbate', 'iwan', 'rheon', 'telepathic', 'corupt', 'lechery', 'bootle', 'dinah', 'dacshund', 'korhonen', 'tauno', 'horace', 'horsecollar', 'cleo', 'prokofiev', 'brahms', 'appel', 'buzzer', 'hikki', 'sensationalism', 'camiño', 'compaña', 'ponoc', 'cathryn', 'michon', 'shalem', 'malabar', 'kalari', 'qiurky', 'nitrate', 'multietinic', 'statement', 'binary', 'boum', 'trenet', 'gavira', 'mortadelo', 'filemón', 'rompetechos', 'strabism', 'krazy', 'fauna', 'jeez', 'novotny', 'vandermeer', 'dhavernas', 'libanese', 'universalism', 'heartlessness', 'habibie', 'donetsk', 'battalion', 'chennai', 'pandyas', 'cholan', 'thugs', 'russe', 'desintegration', 'genderqueer', 'debby', 'ori', 'sctipt', 'matemáticas', 'jihadist', 'scotsman', 'submersible', 'counterspy', 'phobic', 'adana', 'engin', 'günaydın', 'gülse', 'birsel', 'rohm', 'unrealistix', 'jelous', 'wickd', 'abductor', 'grieving', 'afganistan', 'animarion', 'circumstantial', 'ambiuous', 'seizures', 'demonology', 'aster', 'dures', 'keane', 'spuff', 'infomercial', 'chafarinas', 'melilla', 'nourteen', 'dewulf', 'hennig', 'agfacolor', 'closas', 'sevilla', 'maslona', 'realisim', 'brialy', 'melancholically', 'giannis', 'blowout', 'kriti', 'kharbanda', 'beatrix', 'daisey', 'carlist', 'interdimension', 'bruhl', 'shoehorn', 'junked', 'unfold', 'yachtsman', 'waterhole', 'wiretapping', 'embarrassment', 'loveable', 'vouyerism', 'realisticish', 'overprocessed', 'redubbed', 'bloemfontein', 'argetinian', 'quebecois', 'riebeeck', 'bbq', 'chemo', 'drammi', 'romantici', 'disruption', 'revealing', 'dileesh', 'pothan', 'suraj', 'venjaramoodu', 'ponnani', 'owlish', 'kadhar', 'countryfolk', 'werecat', 'gnomeo', 'nonbeliever', 'brude', 'camila', 'morrone', 'athelte', 'slowmoving', 'frien', 'ilusion', 'shumer', 'embarassment', 'whalen', 'beacon', 'paltz', 'pawling', 'normie', 'unforgiving', 'sequelesque', 'smothery', 'kinship', 'geyser', 'sawmill', 'bildungsoman', 'mosanto', 'gallaudet', 'лёд', 'wresting', 'zandvliet', 'frugal', 'cabbage', 'teenaged', 'analog', 'abbi', 'adderall', 'productivity', 'ritalin', 'betacam', 'ike', 'barinholtz', 'sexpact', 'supervivencia', 'camen', 'manolo', 'mercyme', 'income', 'brainiac', 'relatinship', 'masseur', 'kirkland', 'grierson', 'nfb', 'dimitris', 'docuseries', 'yucatan', 'recycling', 'truthordare', 'abysmal', 'bff', 'database', 'wargames', 'psychotropic', 'czechploitation', 'cascanueces', 'interactive', 'nokia', 'cccp', 'karavaychuk', 'intertaining', 'environtmental', 'bauchredner', 'mayakovsky', 'remount', 'grenze', 'ostzone', 'salad', 'wienerwald', 'sighting', 'hapa', 'elon', 'musk', 'agi', 'reprogram', 'crispr', 'gorillas', 'diverges', 'christians', 'isef', 'demonetisation', 'dosa', 'ias', 'uncompleated', 'dybbuk', 'junction', 'ventilator', 'worldbuilding', 'naxalites', 'bertold', 'fei', 'chauvinisim', 'hearfelt', 'seperated', 'triplets', 'emocional', 'mazinga', 'hehir', 'maniacal', 'rockies', 'favar', 'mounty', 'traffik', 'avrich', 'hirst', 'surburb', 'mummified', 'succint', 'babadook', 'creampie', 'brute', 'expositional', 'egor', 'letov', 'yegor', 'misbehave', 'douro', 'screenslaver', 'vizma', 'belševica', 'hundephobie', 'nonconforming', 'strengh', 'nowaday', 'hyperbolic', 'oparnica', 'sebal', 'zazie', 'beetz', 'notmyhan', 'undpredictable', 'augmented', 'stuckmann', 'layperson', 'austrailian', 'humble', 'salutary', 'cambodian', 'soyuzmultfilm', 'zinoviy', 'gerdt', 'kalyagin', 'vyacheslav', 'nevinnyy', 'liebknecht', 'syonage', 'armen', 'dzhigarkhanyan', 'theseus', 'kononov', 'сlaymation', 'tinderbox', 'infamous', 'telemarketer', 'idiocracy', 'zver', 'socha', 'devore', 'lapp', 'blindeness', 'grahics', 'feblowitz', 'fortson', 'dastmalchian', 'miniaturize', 'alco', 'joa', 'lil', 'rel', 'howery', 'ketogenic', 'lankan', 'isolationism', 'laurentides', 'québec', 'gst', 'merzlikin', 'irina', 'kupchenko', 'ferrandis', 'winton', 'vagueness', 'glastonbury', 'sisterly', 'heartful', 'sequeal', 'schwarzer', 'greif', 'oshima', 'nuberu', 'bagu', 'issei', 'sagawa', 'vache', 'illegals', 'redone', 'underbelly', 'popculture', 'furyo', 'yankii', 'prequell', 'tig', 'notaro', 'jagveld', 'sollima', 'adolfo', 'marsillach', 'retaliation', 'unnatural', 'autonomous', 'cybernetic', 'yaoi', 'membership', 'oldboy', 'redempton', 'café', 'inclán', 'rubén', 'darío', 'cnc', 'mauvais', 'goût', 'ivanna', 'sakhno', 'ticking', 'copter', 'allegiance', 'labyrinthine', 'awkwafina', 'mindy', 'kaling', 'jewellery', 'abducted', 'mumbelcore', 'homofobic', 'seventh', 'zeitreise', 'mabe', 'hysterectomy', 'bulliyng', 'comupter', 'observance', 'modernistic', 'belafonte', 'prefictable', 'acre', 'portagonist', 'domee', 'shi', 'jehovah', 'möller', 'cedergren', 'theatri', 'everlasting', 'pyrokinetic', 'telepath', 'débilifiant', 'requins', 'zèbres', 'ont', 'aileron', 'ladyboy', 'pyongyang', 'daveed', 'jurnalism', 'constructed', 'desktop', 'aneesh', 'chaganty', 'sponsor', 'yyz', 'aek', 'ovnis', 'indepedent', 'spaceopera', 'gazda', 'ivica', 'todorić', 'privatisation', 'sorround', 'smutty', 'golding', 'anaotomy', 'catfish', 'kristine', 'froseth', 'purser', 'bureaucratic', 'eurepean', 'kronental', 'slimeo', 'letigation', 'relationsip', 'nafta', 'involved', 'unofficial', 'antitraditional', 'fermat', 'happines', 'iliza', 'progressively', 'gentelman', 'perugorría', 'gracia', 'overnight', 'wireless', 'neightbour', 'imbroglio', 'mandrill', 'skiffle', 'brume', 'франция', 'metafictional', 'yarn', 'chavela', 'visibility', 'wayuu', 'survives', 'ooh', 'poach', 'boda', 'jessen', 'gemini', 'ultrarealistic', 'timothee', 'gaga', 'tradegic', 'uninvolving', 'alcoh', 'uncanonical', 'topical', 'standout', 'moselle', 'dislexic', 'vitamin', 'kindess', 'bellairs', 'hallowen', 'lesploitation', 'sully', 'shangela', 'energizing', 'gwilym', 'sanitize', 'colorfull', 'sacristán', 'seychelle', 'méxico', 'yalitza', 'aparicio', 'latent', 'sofie', 'gråbøl', 'amaia', 'catchphrase', 'dolera', 'mouglalis', 'kazhakstan', 'venicefilmfestival', 'breitbart', 'rohingya', 'keery', 'prositution', 'suljic', 'scottland', 'frindship', 'gintama', 'remaster', 'discimination', 'velázquez', 'anticonception', 'coll', 'landismo', 'angolan', 'confusao', 'portunhol', 'portuñol', 'kapuściński', 'telex', 'knifefight', 'ultraviolent', 'isabela', 'moner', 'orator', 'zasania', 'jacek', 'braciak', 'kulig', 'więckiewicz', 'shabby', 'homsexuality', 'punta', 'este', 'arles', 'gaugin', 'telikinetic', 'danila', 'kozlovsky', 'ivf', 'memorabilia', 'ensamble', 'turning', 'evander', 'holyfield', 'mahershala', 'individuation', 'mahersala', 'banish', 'rebeck', 'digitally', 'anytime', 'vat', 'ilk', 'televise', 'skopje', 'gengis', 'fabrizio', 'andrè', 'koko', 'latinoamérica', 'camgirl', 'rosa', 'nubian', 'anavitória', 'majorem', 'amdg', 'castile', 'formation', 'ignatius', 'loyola', 'renounce', 'gwen', 'ears', 'siquences', 'libfem', 'hajdi', 'astou', 'vedel', 'brana', 'naccache', 'epaud', 'idir', 'chender', 'mougeolle', 'erhardy', 'smet', 'youn', 'winograd', 'catalifo', 'sciortino', 'jacinda', 'tope', 'ollie', 'katerine', 'thrilless', 'castaways', 'chimeras', 'yayoi', 'mitterrand', 'sanctimonious', 'cheney', 'fanfic', 'quants', 'laila', 'wilkas', 'antariksa', 'aritificial', 'trisha', 'krishnan', 'sethupathi', 'rashmika', 'mandanna', 'vennela', 'kishore', 'devarakonda', 'jouranlism', 'hera', 'hilmar', 'friandship', 'illogocal', 'athiest', 'missesota', 'pretense', 'crossdresser', 'mutable', 'deseo', 'natxo', 'oreka', 'redpilled', 'weta', 'walz', 'romcon', 'acrobatic', 'westmore', 'woll', 'survivour', 'absurdly', 'bizarrchitecture', 'darwinist', 'fill', 'snoozefest', 'salgueiro', 'kartheiser', 'malaemde', 'analytica', 'zawe', 'limited', 'lumpen', 'supervillians', 'ecologic', 'womanchild', 'sensationalised', 'fnny', 'sprouse', 'vlog', 'rotation', 'spoonerism', 'telugu', 'jemima', 'wwwii', 'corbero', 'coxless', 'rede', 'incarnation', 'ingravity', 'periodo', 'directionc', 'scavenge', 'convulsion', 'asphixiantig', 'aaryan', 'sanon', 'tripathi', 'admirable', 'impermanence', 'tajikistan', 'mauthausen', 'xmen', 'phlebotomy', 'theranos', 'impantatiion', 'interpretive', 'acedmic', 'beanie', 'feldstein', 'humility', 'obejrzenia', 'vod', 'pimenova', 'magdalena', 'cielecka', 'wałbrzych', 'hilbillies', 'krav', 'maga', 'sleeping', 'lan', 'antichristianity', 'wick', 'actionized', 'bioluminescence', 'destryoed', 'zomvies', 'arbitrarily', 'disme', 'rewind', 'hunstville', 'huntsville', 'volition', 'orthochromatic', 'stuyvesant', 'bnb', 'brawn', 'cris', 'denman', 'waist', 'rakshasa', 'buggin', 'unuusal', 'psychodelic', 'pl', 'mj', 'technolgy', 'guilting', 'waldheim', 'honk', 'rugaard', 'biomass', 'chiquito', 'calzada', 'florentino', 'josema', 'yuste', 'masami', 'nagasawa', 'janeausten', 'directed', 'gerardi', 'corrado', 'invernizzi', 'dajana', 'roncione', 'mariani', 'camerini', 'edoardo', 'coniglio', 'turrini', 'gioia', 'spaziani', 'mascino', 'maurizio', 'lastrico', 'torresi', 'serena', 'coproration', 'sardá', 'honky', 'tonk', 'inxs', 'hutchence', 'firstnations', 'photorealistic', 'liveaction', 'marem', 'hassler', 'mcclain', 'brandoni', 'nobunaga', 'nabha', 'natesh', 'spiritualistic', 'analitica', 'seti', 'negga', 'edita', 'brychta', 'squel', 'orsini', 'cataplexy', 'lega', 'nord', 'saltarello', 'concha', 'mazurka', 'steubenville', 'westward', 'logo', 'stinger', 'chickasaw', 'decolonization', 'khurrana', 'gilligan', 'camino', 'moloch', 'proud', 'abraha', 'benrubi', 'acher', 'potala', 'thumbelina', 'vizier', 'hgh', 'yelp', 'keogh', 'comin', 'loathe', 'nagaski', 'mexicano', 'política', 'alcázar', 'unamuno', 'cinetrain', 'weirdness', 'vaporwave', 'recast', 'shinging', 'alemania', 'altenrate', 'enhanced', 'ac', 'puff', 'cowell']\n"
     ]
    }
   ],
   "source": [
    "print(tags_list)"
   ]
  },
  {
   "cell_type": "markdown",
   "id": "72eac9f7",
   "metadata": {},
   "source": [
    "#### \"tags_list\" são as nossas colunas e \"moviesId_list\" as linhas"
   ]
  },
  {
   "cell_type": "code",
   "execution_count": 64,
   "id": "dad5ef67",
   "metadata": {
    "ExecuteTime": {
     "end_time": "2021-07-12T16:32:14.693688Z",
     "start_time": "2021-07-12T16:32:14.688689Z"
    }
   },
   "outputs": [],
   "source": [
    "# pegando lista de moviesID\n",
    "moviesId_list = tags_list_df[\"movieId\"].tolist()\n",
    "\n",
    "# recuperando dimensoes da matriz\n",
    "number_of_movies_with_tags = len(moviesId_list) # num linhas\n",
    "number_of_tags = len(tags_list) # num colunas"
   ]
  },
  {
   "cell_type": "code",
   "execution_count": 65,
   "id": "81f42ff6",
   "metadata": {
    "ExecuteTime": {
     "end_time": "2021-07-12T16:32:15.865405Z",
     "start_time": "2021-07-12T16:32:15.640352Z"
    }
   },
   "outputs": [],
   "source": [
    "# criando uma matriz temporaria preenchida nos locais corretos\n",
    "temp = np.zeros((number_of_movies_with_tags, number_of_tags))"
   ]
  },
  {
   "cell_type": "markdown",
   "id": "13224492",
   "metadata": {},
   "source": [
    "#### AVISO: Não executar as duas células abaixo, apenas carregar o arquivo na posterior"
   ]
  },
  {
   "cell_type": "code",
   "execution_count": 66,
   "id": "e8b8caad",
   "metadata": {
    "ExecuteTime": {
     "end_time": "2021-07-12T16:34:09.913205Z",
     "start_time": "2021-07-12T16:32:16.264568Z"
    }
   },
   "outputs": [
    {
     "ename": "KeyboardInterrupt",
     "evalue": "",
     "output_type": "error",
     "traceback": [
      "\u001b[1;31m---------------------------------------------------------------------------\u001b[0m",
      "\u001b[1;31mKeyboardInterrupt\u001b[0m                         Traceback (most recent call last)",
      "\u001b[1;32m<ipython-input-66-d3220e58b6c6>\u001b[0m in \u001b[0;36m<module>\u001b[1;34m\u001b[0m\n\u001b[0;32m      3\u001b[0m \u001b[1;32mfor\u001b[0m \u001b[0mindex\u001b[0m\u001b[1;33m,\u001b[0m \u001b[0mrow\u001b[0m \u001b[1;32min\u001b[0m \u001b[0mtags_list_df\u001b[0m\u001b[1;33m.\u001b[0m\u001b[0miterrows\u001b[0m\u001b[1;33m(\u001b[0m\u001b[1;33m)\u001b[0m\u001b[1;33m:\u001b[0m\u001b[1;33m\u001b[0m\u001b[1;33m\u001b[0m\u001b[0m\n\u001b[0;32m      4\u001b[0m     \u001b[1;32mfor\u001b[0m \u001b[0mtag\u001b[0m \u001b[1;32min\u001b[0m \u001b[0mrow\u001b[0m\u001b[1;33m[\u001b[0m\u001b[1;34m'tags_processed'\u001b[0m\u001b[1;33m]\u001b[0m\u001b[1;33m:\u001b[0m\u001b[1;33m\u001b[0m\u001b[1;33m\u001b[0m\u001b[0m\n\u001b[1;32m----> 5\u001b[1;33m         \u001b[0mcoordinates_to_fill\u001b[0m\u001b[1;33m.\u001b[0m\u001b[0mappend\u001b[0m\u001b[1;33m(\u001b[0m\u001b[1;33m[\u001b[0m\u001b[0mmoviesId_list\u001b[0m\u001b[1;33m.\u001b[0m\u001b[0mindex\u001b[0m\u001b[1;33m(\u001b[0m\u001b[0mrow\u001b[0m\u001b[1;33m[\u001b[0m\u001b[1;34m'movieId'\u001b[0m\u001b[1;33m]\u001b[0m\u001b[1;33m)\u001b[0m\u001b[1;33m,\u001b[0m \u001b[0mtags_list\u001b[0m\u001b[1;33m.\u001b[0m\u001b[0mindex\u001b[0m\u001b[1;33m(\u001b[0m\u001b[0mtag\u001b[0m\u001b[1;33m)\u001b[0m\u001b[1;33m]\u001b[0m\u001b[1;33m)\u001b[0m\u001b[1;33m\u001b[0m\u001b[1;33m\u001b[0m\u001b[0m\n\u001b[0m",
      "\u001b[1;31mKeyboardInterrupt\u001b[0m: "
     ]
    }
   ],
   "source": [
    "coordinates_to_fill = []\n",
    "# recuperando os lugares a serem preenchidos na matriz\n",
    "for index, row in tags_list_df.iterrows():\n",
    "    for tag in row['tags_processed']:\n",
    "        coordinates_to_fill.append([moviesId_list.index(row['movieId']), tags_list.index(tag)])\n"
   ]
  },
  {
   "cell_type": "code",
   "execution_count": null,
   "id": "4403ba33",
   "metadata": {
    "ExecuteTime": {
     "end_time": "2021-07-12T16:34:09.914207Z",
     "start_time": "2021-07-12T16:32:35.775Z"
    }
   },
   "outputs": [],
   "source": [
    "# salvando as coordenadas a serem preenchidas num arquivo pickle\n",
    "import pickle\n",
    "with open('preprocessed-data/CB/movies_tags_matrix/coordinates_to_fill.pkl', 'w+b') as f:\n",
    "     pickle.dump(coordinates_to_fill, f)"
   ]
  },
  {
   "cell_type": "code",
   "execution_count": 67,
   "id": "a6271af5",
   "metadata": {
    "ExecuteTime": {
     "end_time": "2021-07-12T16:34:15.673878Z",
     "start_time": "2021-07-12T16:34:13.553513Z"
    }
   },
   "outputs": [],
   "source": [
    "coordinates_to_fill = pd.read_pickle('preprocessed-data/CB/movies_tags_matrix/coordinates_to_fill.pkl')"
   ]
  },
  {
   "cell_type": "code",
   "execution_count": 68,
   "id": "bf437616",
   "metadata": {
    "ExecuteTime": {
     "end_time": "2021-07-12T16:34:18.456591Z",
     "start_time": "2021-07-12T16:34:17.565452Z"
    }
   },
   "outputs": [],
   "source": [
    "# preenchendo essa matriz nos locais corretos\n",
    "for coordinate in coordinates_to_fill:\n",
    "    temp[coordinate[0]][coordinate[1]] = 1"
   ]
  },
  {
   "cell_type": "code",
   "execution_count": 69,
   "id": "7dec3892",
   "metadata": {
    "ExecuteTime": {
     "end_time": "2021-07-12T16:34:33.099563Z",
     "start_time": "2021-07-12T16:34:19.565589Z"
    }
   },
   "outputs": [
    {
     "data": {
      "text/plain": [
       "<45251x32443 sparse matrix of type '<class 'numpy.intc'>'\n",
       "\twith 608415 stored elements in Compressed Sparse Row format>"
      ]
     },
     "execution_count": 69,
     "metadata": {},
     "output_type": "execute_result"
    }
   ],
   "source": [
    "# criando a matriz final\n",
    "movies_tags_matrix = sparse.csr_matrix(temp, dtype=int)\n",
    "\n",
    "movies_tags_matrix"
   ]
  },
  {
   "cell_type": "code",
   "execution_count": 70,
   "id": "4f047dc0",
   "metadata": {
    "ExecuteTime": {
     "end_time": "2021-07-12T16:34:41.624567Z",
     "start_time": "2021-07-12T16:34:41.601560Z"
    }
   },
   "outputs": [
    {
     "data": {
      "text/plain": [
       "NearestNeighbors(metric='cosine', n_neighbors=10)"
      ]
     },
     "execution_count": 70,
     "metadata": {},
     "output_type": "execute_result"
    }
   ],
   "source": [
    "# Criando o modelo knn utilizando as tags\n",
    "knn_tags_processed_cb = NearestNeighbors(n_neighbors=N_NEIGHBORS, algorithm='auto', metric='cosine') # temos que mexer nos parâmetros posteriormente\n",
    "\n",
    "knn_tags_processed_cb.fit(movies_tags_matrix)"
   ]
  },
  {
   "cell_type": "code",
   "execution_count": 73,
   "id": "8c79a2e8",
   "metadata": {
    "ExecuteTime": {
     "end_time": "2021-07-12T16:40:36.738683Z",
     "start_time": "2021-07-12T16:40:36.722680Z"
    }
   },
   "outputs": [],
   "source": [
    "# criando função que gera recomendações basedo em um filme - utilizando um modelo KNN - baseando-se nas tags processadas\n",
    "def get_recommendations_tags_processed_cb(movie_name, model): #nome do filme, modelo\n",
    "    # Pegando o Id do filme que tenha o nome passado\n",
    "    movieId = movies_cb.loc[movies_cb[\"title\"] == movie_name][\"movieId\"].values[0]\n",
    "    \n",
    "    index = moviesId_list.index(movieId)\n",
    "    \n",
    "    distances, suggestions = model.kneighbors(movies_tags_matrix.getrow(index).todense().tolist(), n_neighbors=N_NEIGHBORS)\n",
    "    \n",
    "    suggestionsIds_list = [moviesId_list[index] for index in suggestions.flatten()]\n",
    "    \n",
    "    for i in range(0, len(distances.flatten())):\n",
    "        if(i == 0):\n",
    "            print('Recomendações para {0}: \\n'.format(movie_name))\n",
    "        else:\n",
    "            print('{0}: {1}, com distância de: {2}'.format(i, movies_cb.loc[movies_cb[\"movieId\"] == suggestionsIds_list[i]][\"title\"].values[0], distances.flatten()[i]))\n",
    "    \n",
    "    return distances, suggestions"
   ]
  },
  {
   "cell_type": "code",
   "execution_count": 74,
   "id": "8fdf3415",
   "metadata": {
    "ExecuteTime": {
     "end_time": "2021-07-12T16:40:36.976757Z",
     "start_time": "2021-07-12T16:40:36.934749Z"
    }
   },
   "outputs": [
    {
     "name": "stdout",
     "output_type": "stream",
     "text": [
      "Recomendações para Spider-Man 2: \n",
      "\n",
      "1: Spider-Man, com distância de: 0.47533317688720234\n",
      "2: Spider-Man 3, com distância de: 0.5851433159120089\n",
      "3: Batman Begins, com distância de: 0.6811919836281075\n",
      "4: Batman Returns, com distância de: 0.7031840172183927\n",
      "5: Superman III, com distância de: 0.734730957399361\n",
      "6: Batman, com distância de: 0.741303137003815\n",
      "7: Superman Returns, com distância de: 0.7444917564055193\n",
      "8: Superman IV: The Quest for Peace, com distância de: 0.7522839326113557\n",
      "9: X-Men: The Last Stand, com distância de: 0.753803711212755\n"
     ]
    }
   ],
   "source": [
    "a, b = get_recommendations_tags_processed_cb(\"Spider-Man 2\", knn_tags_processed_cb)"
   ]
  },
  {
   "cell_type": "markdown",
   "id": "a402b4df",
   "metadata": {},
   "source": [
    "# AS RECOMENDACOES KNN CONTENT BASED NAO ESTAO TAO BOAS.\n",
    "# TODO - PESQUISAR OUTRAS FORMAS DE RECOMENDAR\n",
    "\n",
    "# TODO2 - VER UMA FORMA DE MEDIR A ACURACIA DO KNN"
   ]
  },
  {
   "cell_type": "markdown",
   "id": "28eef954",
   "metadata": {},
   "source": [
    "# IDEIA: UTILIZAR PARA COMPARAÇÃO DE ACURÁCIA: CALCULAR O AVERAGE RATING DOS FILMES RECOMENDADOS E COMPARAR COM O AVERAGE RATING DO FILME INPUT.  \n",
    "# SOURCE: https://hendra-herviawan.github.io/Movie-Recommendation-based-on-KNN-K-Nearest-Neighbors.html"
   ]
  },
  {
   "cell_type": "code",
   "execution_count": null,
   "id": "1ba7b050",
   "metadata": {},
   "outputs": [],
   "source": []
  }
 ],
 "metadata": {
  "kernelspec": {
   "display_name": "Python 3 (ipykernel)",
   "language": "python",
   "name": "python3"
  },
  "language_info": {
   "codemirror_mode": {
    "name": "ipython",
    "version": 3
   },
   "file_extension": ".py",
   "mimetype": "text/x-python",
   "name": "python",
   "nbconvert_exporter": "python",
   "pygments_lexer": "ipython3",
   "version": "3.8.12"
  }
 },
 "nbformat": 4,
 "nbformat_minor": 5
}
